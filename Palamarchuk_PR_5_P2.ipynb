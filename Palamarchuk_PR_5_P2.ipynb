{
 "cells": [
  {
   "cell_type": "markdown",
   "source": [
    "## Для датасету px.data.iris() побудувати наступні графіки."
   ],
   "metadata": {
    "collapsed": false
   }
  },
  {
   "cell_type": "markdown",
   "source": [
    "1. Побудуйте 3D-графік розподілу даних для датасету Iris з використанням властивостей \"sepal_length,\" \"sepal_width,\" та \"petal_length.\" Кожна точка має бути розфарбована відповідно до класу квітки (setosa, versicolor, virginica).\n"
   ],
   "metadata": {
    "collapsed": false
   }
  },
  {
   "cell_type": "code",
   "execution_count": 3,
   "outputs": [],
   "source": [
    "import plotly.express as px\n",
    "df = px.data.iris()"
   ],
   "metadata": {
    "collapsed": false
   }
  },
  {
   "cell_type": "code",
   "execution_count": 4,
   "metadata": {
    "collapsed": true
   },
   "outputs": [
    {
     "data": {
      "application/vnd.plotly.v1+json": {
       "data": [
        {
         "hovertemplate": "species=setosa<br>sepal_length=%{x}<br>sepal_width=%{y}<br>petal_width=%{z}<extra></extra>",
         "legendgroup": "setosa",
         "marker": {
          "color": "#636efa",
          "symbol": "circle"
         },
         "mode": "markers",
         "name": "setosa",
         "scene": "scene",
         "showlegend": true,
         "x": [
          5.1,
          4.9,
          4.7,
          4.6,
          5.0,
          5.4,
          4.6,
          5.0,
          4.4,
          4.9,
          5.4,
          4.8,
          4.8,
          4.3,
          5.8,
          5.7,
          5.4,
          5.1,
          5.7,
          5.1,
          5.4,
          5.1,
          4.6,
          5.1,
          4.8,
          5.0,
          5.0,
          5.2,
          5.2,
          4.7,
          4.8,
          5.4,
          5.2,
          5.5,
          4.9,
          5.0,
          5.5,
          4.9,
          4.4,
          5.1,
          5.0,
          4.5,
          4.4,
          5.0,
          5.1,
          4.8,
          5.1,
          4.6,
          5.3,
          5.0
         ],
         "y": [
          3.5,
          3.0,
          3.2,
          3.1,
          3.6,
          3.9,
          3.4,
          3.4,
          2.9,
          3.1,
          3.7,
          3.4,
          3.0,
          3.0,
          4.0,
          4.4,
          3.9,
          3.5,
          3.8,
          3.8,
          3.4,
          3.7,
          3.6,
          3.3,
          3.4,
          3.0,
          3.4,
          3.5,
          3.4,
          3.2,
          3.1,
          3.4,
          4.1,
          4.2,
          3.1,
          3.2,
          3.5,
          3.1,
          3.0,
          3.4,
          3.5,
          2.3,
          3.2,
          3.5,
          3.8,
          3.0,
          3.8,
          3.2,
          3.7,
          3.3
         ],
         "z": [
          0.2,
          0.2,
          0.2,
          0.2,
          0.2,
          0.4,
          0.3,
          0.2,
          0.2,
          0.1,
          0.2,
          0.2,
          0.1,
          0.1,
          0.2,
          0.4,
          0.4,
          0.3,
          0.3,
          0.3,
          0.2,
          0.4,
          0.2,
          0.5,
          0.2,
          0.2,
          0.4,
          0.2,
          0.2,
          0.2,
          0.2,
          0.4,
          0.1,
          0.2,
          0.1,
          0.2,
          0.2,
          0.1,
          0.2,
          0.2,
          0.3,
          0.3,
          0.2,
          0.6,
          0.4,
          0.3,
          0.2,
          0.2,
          0.2,
          0.2
         ],
         "type": "scatter3d"
        },
        {
         "hovertemplate": "species=versicolor<br>sepal_length=%{x}<br>sepal_width=%{y}<br>petal_width=%{z}<extra></extra>",
         "legendgroup": "versicolor",
         "marker": {
          "color": "#EF553B",
          "symbol": "circle"
         },
         "mode": "markers",
         "name": "versicolor",
         "scene": "scene",
         "showlegend": true,
         "x": [
          7.0,
          6.4,
          6.9,
          5.5,
          6.5,
          5.7,
          6.3,
          4.9,
          6.6,
          5.2,
          5.0,
          5.9,
          6.0,
          6.1,
          5.6,
          6.7,
          5.6,
          5.8,
          6.2,
          5.6,
          5.9,
          6.1,
          6.3,
          6.1,
          6.4,
          6.6,
          6.8,
          6.7,
          6.0,
          5.7,
          5.5,
          5.5,
          5.8,
          6.0,
          5.4,
          6.0,
          6.7,
          6.3,
          5.6,
          5.5,
          5.5,
          6.1,
          5.8,
          5.0,
          5.6,
          5.7,
          5.7,
          6.2,
          5.1,
          5.7
         ],
         "y": [
          3.2,
          3.2,
          3.1,
          2.3,
          2.8,
          2.8,
          3.3,
          2.4,
          2.9,
          2.7,
          2.0,
          3.0,
          2.2,
          2.9,
          2.9,
          3.1,
          3.0,
          2.7,
          2.2,
          2.5,
          3.2,
          2.8,
          2.5,
          2.8,
          2.9,
          3.0,
          2.8,
          3.0,
          2.9,
          2.6,
          2.4,
          2.4,
          2.7,
          2.7,
          3.0,
          3.4,
          3.1,
          2.3,
          3.0,
          2.5,
          2.6,
          3.0,
          2.6,
          2.3,
          2.7,
          3.0,
          2.9,
          2.9,
          2.5,
          2.8
         ],
         "z": [
          1.4,
          1.5,
          1.5,
          1.3,
          1.5,
          1.3,
          1.6,
          1.0,
          1.3,
          1.4,
          1.0,
          1.5,
          1.0,
          1.4,
          1.3,
          1.4,
          1.5,
          1.0,
          1.5,
          1.1,
          1.8,
          1.3,
          1.5,
          1.2,
          1.3,
          1.4,
          1.4,
          1.7,
          1.5,
          1.0,
          1.1,
          1.0,
          1.2,
          1.6,
          1.5,
          1.6,
          1.5,
          1.3,
          1.3,
          1.3,
          1.2,
          1.4,
          1.2,
          1.0,
          1.3,
          1.2,
          1.3,
          1.3,
          1.1,
          1.3
         ],
         "type": "scatter3d"
        },
        {
         "hovertemplate": "species=virginica<br>sepal_length=%{x}<br>sepal_width=%{y}<br>petal_width=%{z}<extra></extra>",
         "legendgroup": "virginica",
         "marker": {
          "color": "#00cc96",
          "symbol": "circle"
         },
         "mode": "markers",
         "name": "virginica",
         "scene": "scene",
         "showlegend": true,
         "x": [
          6.3,
          5.8,
          7.1,
          6.3,
          6.5,
          7.6,
          4.9,
          7.3,
          6.7,
          7.2,
          6.5,
          6.4,
          6.8,
          5.7,
          5.8,
          6.4,
          6.5,
          7.7,
          7.7,
          6.0,
          6.9,
          5.6,
          7.7,
          6.3,
          6.7,
          7.2,
          6.2,
          6.1,
          6.4,
          7.2,
          7.4,
          7.9,
          6.4,
          6.3,
          6.1,
          7.7,
          6.3,
          6.4,
          6.0,
          6.9,
          6.7,
          6.9,
          5.8,
          6.8,
          6.7,
          6.7,
          6.3,
          6.5,
          6.2,
          5.9
         ],
         "y": [
          3.3,
          2.7,
          3.0,
          2.9,
          3.0,
          3.0,
          2.5,
          2.9,
          2.5,
          3.6,
          3.2,
          2.7,
          3.0,
          2.5,
          2.8,
          3.2,
          3.0,
          3.8,
          2.6,
          2.2,
          3.2,
          2.8,
          2.8,
          2.7,
          3.3,
          3.2,
          2.8,
          3.0,
          2.8,
          3.0,
          2.8,
          3.8,
          2.8,
          2.8,
          2.6,
          3.0,
          3.4,
          3.1,
          3.0,
          3.1,
          3.1,
          3.1,
          2.7,
          3.2,
          3.3,
          3.0,
          2.5,
          3.0,
          3.4,
          3.0
         ],
         "z": [
          2.5,
          1.9,
          2.1,
          1.8,
          2.2,
          2.1,
          1.7,
          1.8,
          1.8,
          2.5,
          2.0,
          1.9,
          2.1,
          2.0,
          2.4,
          2.3,
          1.8,
          2.2,
          2.3,
          1.5,
          2.3,
          2.0,
          2.0,
          1.8,
          2.1,
          1.8,
          1.8,
          1.8,
          2.1,
          1.6,
          1.9,
          2.0,
          2.2,
          1.5,
          1.4,
          2.3,
          2.4,
          1.8,
          1.8,
          2.1,
          2.4,
          2.3,
          1.9,
          2.3,
          2.5,
          2.3,
          1.9,
          2.0,
          2.3,
          1.8
         ],
         "type": "scatter3d"
        }
       ],
       "layout": {
        "template": {
         "data": {
          "histogram2dcontour": [
           {
            "type": "histogram2dcontour",
            "colorbar": {
             "outlinewidth": 0,
             "ticks": ""
            },
            "colorscale": [
             [
              0.0,
              "#0d0887"
             ],
             [
              0.1111111111111111,
              "#46039f"
             ],
             [
              0.2222222222222222,
              "#7201a8"
             ],
             [
              0.3333333333333333,
              "#9c179e"
             ],
             [
              0.4444444444444444,
              "#bd3786"
             ],
             [
              0.5555555555555556,
              "#d8576b"
             ],
             [
              0.6666666666666666,
              "#ed7953"
             ],
             [
              0.7777777777777778,
              "#fb9f3a"
             ],
             [
              0.8888888888888888,
              "#fdca26"
             ],
             [
              1.0,
              "#f0f921"
             ]
            ]
           }
          ],
          "choropleth": [
           {
            "type": "choropleth",
            "colorbar": {
             "outlinewidth": 0,
             "ticks": ""
            }
           }
          ],
          "histogram2d": [
           {
            "type": "histogram2d",
            "colorbar": {
             "outlinewidth": 0,
             "ticks": ""
            },
            "colorscale": [
             [
              0.0,
              "#0d0887"
             ],
             [
              0.1111111111111111,
              "#46039f"
             ],
             [
              0.2222222222222222,
              "#7201a8"
             ],
             [
              0.3333333333333333,
              "#9c179e"
             ],
             [
              0.4444444444444444,
              "#bd3786"
             ],
             [
              0.5555555555555556,
              "#d8576b"
             ],
             [
              0.6666666666666666,
              "#ed7953"
             ],
             [
              0.7777777777777778,
              "#fb9f3a"
             ],
             [
              0.8888888888888888,
              "#fdca26"
             ],
             [
              1.0,
              "#f0f921"
             ]
            ]
           }
          ],
          "heatmap": [
           {
            "type": "heatmap",
            "colorbar": {
             "outlinewidth": 0,
             "ticks": ""
            },
            "colorscale": [
             [
              0.0,
              "#0d0887"
             ],
             [
              0.1111111111111111,
              "#46039f"
             ],
             [
              0.2222222222222222,
              "#7201a8"
             ],
             [
              0.3333333333333333,
              "#9c179e"
             ],
             [
              0.4444444444444444,
              "#bd3786"
             ],
             [
              0.5555555555555556,
              "#d8576b"
             ],
             [
              0.6666666666666666,
              "#ed7953"
             ],
             [
              0.7777777777777778,
              "#fb9f3a"
             ],
             [
              0.8888888888888888,
              "#fdca26"
             ],
             [
              1.0,
              "#f0f921"
             ]
            ]
           }
          ],
          "heatmapgl": [
           {
            "type": "heatmapgl",
            "colorbar": {
             "outlinewidth": 0,
             "ticks": ""
            },
            "colorscale": [
             [
              0.0,
              "#0d0887"
             ],
             [
              0.1111111111111111,
              "#46039f"
             ],
             [
              0.2222222222222222,
              "#7201a8"
             ],
             [
              0.3333333333333333,
              "#9c179e"
             ],
             [
              0.4444444444444444,
              "#bd3786"
             ],
             [
              0.5555555555555556,
              "#d8576b"
             ],
             [
              0.6666666666666666,
              "#ed7953"
             ],
             [
              0.7777777777777778,
              "#fb9f3a"
             ],
             [
              0.8888888888888888,
              "#fdca26"
             ],
             [
              1.0,
              "#f0f921"
             ]
            ]
           }
          ],
          "contourcarpet": [
           {
            "type": "contourcarpet",
            "colorbar": {
             "outlinewidth": 0,
             "ticks": ""
            }
           }
          ],
          "contour": [
           {
            "type": "contour",
            "colorbar": {
             "outlinewidth": 0,
             "ticks": ""
            },
            "colorscale": [
             [
              0.0,
              "#0d0887"
             ],
             [
              0.1111111111111111,
              "#46039f"
             ],
             [
              0.2222222222222222,
              "#7201a8"
             ],
             [
              0.3333333333333333,
              "#9c179e"
             ],
             [
              0.4444444444444444,
              "#bd3786"
             ],
             [
              0.5555555555555556,
              "#d8576b"
             ],
             [
              0.6666666666666666,
              "#ed7953"
             ],
             [
              0.7777777777777778,
              "#fb9f3a"
             ],
             [
              0.8888888888888888,
              "#fdca26"
             ],
             [
              1.0,
              "#f0f921"
             ]
            ]
           }
          ],
          "surface": [
           {
            "type": "surface",
            "colorbar": {
             "outlinewidth": 0,
             "ticks": ""
            },
            "colorscale": [
             [
              0.0,
              "#0d0887"
             ],
             [
              0.1111111111111111,
              "#46039f"
             ],
             [
              0.2222222222222222,
              "#7201a8"
             ],
             [
              0.3333333333333333,
              "#9c179e"
             ],
             [
              0.4444444444444444,
              "#bd3786"
             ],
             [
              0.5555555555555556,
              "#d8576b"
             ],
             [
              0.6666666666666666,
              "#ed7953"
             ],
             [
              0.7777777777777778,
              "#fb9f3a"
             ],
             [
              0.8888888888888888,
              "#fdca26"
             ],
             [
              1.0,
              "#f0f921"
             ]
            ]
           }
          ],
          "mesh3d": [
           {
            "type": "mesh3d",
            "colorbar": {
             "outlinewidth": 0,
             "ticks": ""
            }
           }
          ],
          "scatter": [
           {
            "marker": {
             "line": {
              "color": "#283442"
             }
            },
            "type": "scatter"
           }
          ],
          "parcoords": [
           {
            "type": "parcoords",
            "line": {
             "colorbar": {
              "outlinewidth": 0,
              "ticks": ""
             }
            }
           }
          ],
          "scatterpolargl": [
           {
            "type": "scatterpolargl",
            "marker": {
             "colorbar": {
              "outlinewidth": 0,
              "ticks": ""
             }
            }
           }
          ],
          "bar": [
           {
            "error_x": {
             "color": "#f2f5fa"
            },
            "error_y": {
             "color": "#f2f5fa"
            },
            "marker": {
             "line": {
              "color": "rgb(17,17,17)",
              "width": 0.5
             },
             "pattern": {
              "fillmode": "overlay",
              "size": 10,
              "solidity": 0.2
             }
            },
            "type": "bar"
           }
          ],
          "scattergeo": [
           {
            "type": "scattergeo",
            "marker": {
             "colorbar": {
              "outlinewidth": 0,
              "ticks": ""
             }
            }
           }
          ],
          "scatterpolar": [
           {
            "type": "scatterpolar",
            "marker": {
             "colorbar": {
              "outlinewidth": 0,
              "ticks": ""
             }
            }
           }
          ],
          "histogram": [
           {
            "marker": {
             "pattern": {
              "fillmode": "overlay",
              "size": 10,
              "solidity": 0.2
             }
            },
            "type": "histogram"
           }
          ],
          "scattergl": [
           {
            "marker": {
             "line": {
              "color": "#283442"
             }
            },
            "type": "scattergl"
           }
          ],
          "scatter3d": [
           {
            "type": "scatter3d",
            "line": {
             "colorbar": {
              "outlinewidth": 0,
              "ticks": ""
             }
            },
            "marker": {
             "colorbar": {
              "outlinewidth": 0,
              "ticks": ""
             }
            }
           }
          ],
          "scattermapbox": [
           {
            "type": "scattermapbox",
            "marker": {
             "colorbar": {
              "outlinewidth": 0,
              "ticks": ""
             }
            }
           }
          ],
          "scatterternary": [
           {
            "type": "scatterternary",
            "marker": {
             "colorbar": {
              "outlinewidth": 0,
              "ticks": ""
             }
            }
           }
          ],
          "scattercarpet": [
           {
            "type": "scattercarpet",
            "marker": {
             "colorbar": {
              "outlinewidth": 0,
              "ticks": ""
             }
            }
           }
          ],
          "carpet": [
           {
            "aaxis": {
             "endlinecolor": "#A2B1C6",
             "gridcolor": "#506784",
             "linecolor": "#506784",
             "minorgridcolor": "#506784",
             "startlinecolor": "#A2B1C6"
            },
            "baxis": {
             "endlinecolor": "#A2B1C6",
             "gridcolor": "#506784",
             "linecolor": "#506784",
             "minorgridcolor": "#506784",
             "startlinecolor": "#A2B1C6"
            },
            "type": "carpet"
           }
          ],
          "table": [
           {
            "cells": {
             "fill": {
              "color": "#506784"
             },
             "line": {
              "color": "rgb(17,17,17)"
             }
            },
            "header": {
             "fill": {
              "color": "#2a3f5f"
             },
             "line": {
              "color": "rgb(17,17,17)"
             }
            },
            "type": "table"
           }
          ],
          "barpolar": [
           {
            "marker": {
             "line": {
              "color": "rgb(17,17,17)",
              "width": 0.5
             },
             "pattern": {
              "fillmode": "overlay",
              "size": 10,
              "solidity": 0.2
             }
            },
            "type": "barpolar"
           }
          ],
          "pie": [
           {
            "automargin": true,
            "type": "pie"
           }
          ]
         },
         "layout": {
          "autotypenumbers": "strict",
          "colorway": [
           "#636efa",
           "#EF553B",
           "#00cc96",
           "#ab63fa",
           "#FFA15A",
           "#19d3f3",
           "#FF6692",
           "#B6E880",
           "#FF97FF",
           "#FECB52"
          ],
          "font": {
           "color": "#f2f5fa"
          },
          "hovermode": "closest",
          "hoverlabel": {
           "align": "left"
          },
          "paper_bgcolor": "rgb(17,17,17)",
          "plot_bgcolor": "rgb(17,17,17)",
          "polar": {
           "bgcolor": "rgb(17,17,17)",
           "angularaxis": {
            "gridcolor": "#506784",
            "linecolor": "#506784",
            "ticks": ""
           },
           "radialaxis": {
            "gridcolor": "#506784",
            "linecolor": "#506784",
            "ticks": ""
           }
          },
          "ternary": {
           "bgcolor": "rgb(17,17,17)",
           "aaxis": {
            "gridcolor": "#506784",
            "linecolor": "#506784",
            "ticks": ""
           },
           "baxis": {
            "gridcolor": "#506784",
            "linecolor": "#506784",
            "ticks": ""
           },
           "caxis": {
            "gridcolor": "#506784",
            "linecolor": "#506784",
            "ticks": ""
           }
          },
          "coloraxis": {
           "colorbar": {
            "outlinewidth": 0,
            "ticks": ""
           }
          },
          "colorscale": {
           "sequential": [
            [
             0.0,
             "#0d0887"
            ],
            [
             0.1111111111111111,
             "#46039f"
            ],
            [
             0.2222222222222222,
             "#7201a8"
            ],
            [
             0.3333333333333333,
             "#9c179e"
            ],
            [
             0.4444444444444444,
             "#bd3786"
            ],
            [
             0.5555555555555556,
             "#d8576b"
            ],
            [
             0.6666666666666666,
             "#ed7953"
            ],
            [
             0.7777777777777778,
             "#fb9f3a"
            ],
            [
             0.8888888888888888,
             "#fdca26"
            ],
            [
             1.0,
             "#f0f921"
            ]
           ],
           "sequentialminus": [
            [
             0.0,
             "#0d0887"
            ],
            [
             0.1111111111111111,
             "#46039f"
            ],
            [
             0.2222222222222222,
             "#7201a8"
            ],
            [
             0.3333333333333333,
             "#9c179e"
            ],
            [
             0.4444444444444444,
             "#bd3786"
            ],
            [
             0.5555555555555556,
             "#d8576b"
            ],
            [
             0.6666666666666666,
             "#ed7953"
            ],
            [
             0.7777777777777778,
             "#fb9f3a"
            ],
            [
             0.8888888888888888,
             "#fdca26"
            ],
            [
             1.0,
             "#f0f921"
            ]
           ],
           "diverging": [
            [
             0,
             "#8e0152"
            ],
            [
             0.1,
             "#c51b7d"
            ],
            [
             0.2,
             "#de77ae"
            ],
            [
             0.3,
             "#f1b6da"
            ],
            [
             0.4,
             "#fde0ef"
            ],
            [
             0.5,
             "#f7f7f7"
            ],
            [
             0.6,
             "#e6f5d0"
            ],
            [
             0.7,
             "#b8e186"
            ],
            [
             0.8,
             "#7fbc41"
            ],
            [
             0.9,
             "#4d9221"
            ],
            [
             1,
             "#276419"
            ]
           ]
          },
          "xaxis": {
           "gridcolor": "#283442",
           "linecolor": "#506784",
           "ticks": "",
           "title": {
            "standoff": 15
           },
           "zerolinecolor": "#283442",
           "automargin": true,
           "zerolinewidth": 2
          },
          "yaxis": {
           "gridcolor": "#283442",
           "linecolor": "#506784",
           "ticks": "",
           "title": {
            "standoff": 15
           },
           "zerolinecolor": "#283442",
           "automargin": true,
           "zerolinewidth": 2
          },
          "scene": {
           "xaxis": {
            "backgroundcolor": "rgb(17,17,17)",
            "gridcolor": "#506784",
            "linecolor": "#506784",
            "showbackground": true,
            "ticks": "",
            "zerolinecolor": "#C8D4E3",
            "gridwidth": 2
           },
           "yaxis": {
            "backgroundcolor": "rgb(17,17,17)",
            "gridcolor": "#506784",
            "linecolor": "#506784",
            "showbackground": true,
            "ticks": "",
            "zerolinecolor": "#C8D4E3",
            "gridwidth": 2
           },
           "zaxis": {
            "backgroundcolor": "rgb(17,17,17)",
            "gridcolor": "#506784",
            "linecolor": "#506784",
            "showbackground": true,
            "ticks": "",
            "zerolinecolor": "#C8D4E3",
            "gridwidth": 2
           }
          },
          "shapedefaults": {
           "line": {
            "color": "#f2f5fa"
           }
          },
          "annotationdefaults": {
           "arrowcolor": "#f2f5fa",
           "arrowhead": 0,
           "arrowwidth": 1
          },
          "geo": {
           "bgcolor": "rgb(17,17,17)",
           "landcolor": "rgb(17,17,17)",
           "subunitcolor": "#506784",
           "showland": true,
           "showlakes": true,
           "lakecolor": "rgb(17,17,17)"
          },
          "title": {
           "x": 0.05
          },
          "updatemenudefaults": {
           "bgcolor": "#506784",
           "borderwidth": 0
          },
          "sliderdefaults": {
           "bgcolor": "#C8D4E3",
           "borderwidth": 1,
           "bordercolor": "rgb(17,17,17)",
           "tickwidth": 0
          },
          "mapbox": {
           "style": "dark"
          }
         }
        },
        "scene": {
         "domain": {
          "x": [
           0.0,
           1.0
          ],
          "y": [
           0.0,
           1.0
          ]
         },
         "xaxis": {
          "title": {
           "text": "sepal_length"
          }
         },
         "yaxis": {
          "title": {
           "text": "sepal_width"
          }
         },
         "zaxis": {
          "title": {
           "text": "petal_width"
          }
         }
        },
        "legend": {
         "title": {
          "text": "species"
         },
         "tracegroupgap": 0
        },
        "margin": {
         "t": 60
        }
       },
       "config": {
        "plotlyServerURL": "https://plot.ly"
       }
      },
      "text/html": "<div>                            <div id=\"200f0357-e131-4bc0-a868-267515b9dcba\" class=\"plotly-graph-div\" style=\"height:525px; width:100%;\"></div>            <script type=\"text/javascript\">                require([\"plotly\"], function(Plotly) {                    window.PLOTLYENV=window.PLOTLYENV || {};                                    if (document.getElementById(\"200f0357-e131-4bc0-a868-267515b9dcba\")) {                    Plotly.newPlot(                        \"200f0357-e131-4bc0-a868-267515b9dcba\",                        [{\"hovertemplate\":\"species=setosa<br>sepal_length=%{x}<br>sepal_width=%{y}<br>petal_width=%{z}<extra></extra>\",\"legendgroup\":\"setosa\",\"marker\":{\"color\":\"#636efa\",\"symbol\":\"circle\"},\"mode\":\"markers\",\"name\":\"setosa\",\"scene\":\"scene\",\"showlegend\":true,\"x\":[5.1,4.9,4.7,4.6,5.0,5.4,4.6,5.0,4.4,4.9,5.4,4.8,4.8,4.3,5.8,5.7,5.4,5.1,5.7,5.1,5.4,5.1,4.6,5.1,4.8,5.0,5.0,5.2,5.2,4.7,4.8,5.4,5.2,5.5,4.9,5.0,5.5,4.9,4.4,5.1,5.0,4.5,4.4,5.0,5.1,4.8,5.1,4.6,5.3,5.0],\"y\":[3.5,3.0,3.2,3.1,3.6,3.9,3.4,3.4,2.9,3.1,3.7,3.4,3.0,3.0,4.0,4.4,3.9,3.5,3.8,3.8,3.4,3.7,3.6,3.3,3.4,3.0,3.4,3.5,3.4,3.2,3.1,3.4,4.1,4.2,3.1,3.2,3.5,3.1,3.0,3.4,3.5,2.3,3.2,3.5,3.8,3.0,3.8,3.2,3.7,3.3],\"z\":[0.2,0.2,0.2,0.2,0.2,0.4,0.3,0.2,0.2,0.1,0.2,0.2,0.1,0.1,0.2,0.4,0.4,0.3,0.3,0.3,0.2,0.4,0.2,0.5,0.2,0.2,0.4,0.2,0.2,0.2,0.2,0.4,0.1,0.2,0.1,0.2,0.2,0.1,0.2,0.2,0.3,0.3,0.2,0.6,0.4,0.3,0.2,0.2,0.2,0.2],\"type\":\"scatter3d\"},{\"hovertemplate\":\"species=versicolor<br>sepal_length=%{x}<br>sepal_width=%{y}<br>petal_width=%{z}<extra></extra>\",\"legendgroup\":\"versicolor\",\"marker\":{\"color\":\"#EF553B\",\"symbol\":\"circle\"},\"mode\":\"markers\",\"name\":\"versicolor\",\"scene\":\"scene\",\"showlegend\":true,\"x\":[7.0,6.4,6.9,5.5,6.5,5.7,6.3,4.9,6.6,5.2,5.0,5.9,6.0,6.1,5.6,6.7,5.6,5.8,6.2,5.6,5.9,6.1,6.3,6.1,6.4,6.6,6.8,6.7,6.0,5.7,5.5,5.5,5.8,6.0,5.4,6.0,6.7,6.3,5.6,5.5,5.5,6.1,5.8,5.0,5.6,5.7,5.7,6.2,5.1,5.7],\"y\":[3.2,3.2,3.1,2.3,2.8,2.8,3.3,2.4,2.9,2.7,2.0,3.0,2.2,2.9,2.9,3.1,3.0,2.7,2.2,2.5,3.2,2.8,2.5,2.8,2.9,3.0,2.8,3.0,2.9,2.6,2.4,2.4,2.7,2.7,3.0,3.4,3.1,2.3,3.0,2.5,2.6,3.0,2.6,2.3,2.7,3.0,2.9,2.9,2.5,2.8],\"z\":[1.4,1.5,1.5,1.3,1.5,1.3,1.6,1.0,1.3,1.4,1.0,1.5,1.0,1.4,1.3,1.4,1.5,1.0,1.5,1.1,1.8,1.3,1.5,1.2,1.3,1.4,1.4,1.7,1.5,1.0,1.1,1.0,1.2,1.6,1.5,1.6,1.5,1.3,1.3,1.3,1.2,1.4,1.2,1.0,1.3,1.2,1.3,1.3,1.1,1.3],\"type\":\"scatter3d\"},{\"hovertemplate\":\"species=virginica<br>sepal_length=%{x}<br>sepal_width=%{y}<br>petal_width=%{z}<extra></extra>\",\"legendgroup\":\"virginica\",\"marker\":{\"color\":\"#00cc96\",\"symbol\":\"circle\"},\"mode\":\"markers\",\"name\":\"virginica\",\"scene\":\"scene\",\"showlegend\":true,\"x\":[6.3,5.8,7.1,6.3,6.5,7.6,4.9,7.3,6.7,7.2,6.5,6.4,6.8,5.7,5.8,6.4,6.5,7.7,7.7,6.0,6.9,5.6,7.7,6.3,6.7,7.2,6.2,6.1,6.4,7.2,7.4,7.9,6.4,6.3,6.1,7.7,6.3,6.4,6.0,6.9,6.7,6.9,5.8,6.8,6.7,6.7,6.3,6.5,6.2,5.9],\"y\":[3.3,2.7,3.0,2.9,3.0,3.0,2.5,2.9,2.5,3.6,3.2,2.7,3.0,2.5,2.8,3.2,3.0,3.8,2.6,2.2,3.2,2.8,2.8,2.7,3.3,3.2,2.8,3.0,2.8,3.0,2.8,3.8,2.8,2.8,2.6,3.0,3.4,3.1,3.0,3.1,3.1,3.1,2.7,3.2,3.3,3.0,2.5,3.0,3.4,3.0],\"z\":[2.5,1.9,2.1,1.8,2.2,2.1,1.7,1.8,1.8,2.5,2.0,1.9,2.1,2.0,2.4,2.3,1.8,2.2,2.3,1.5,2.3,2.0,2.0,1.8,2.1,1.8,1.8,1.8,2.1,1.6,1.9,2.0,2.2,1.5,1.4,2.3,2.4,1.8,1.8,2.1,2.4,2.3,1.9,2.3,2.5,2.3,1.9,2.0,2.3,1.8],\"type\":\"scatter3d\"}],                        {\"template\":{\"data\":{\"histogram2dcontour\":[{\"type\":\"histogram2dcontour\",\"colorbar\":{\"outlinewidth\":0,\"ticks\":\"\"},\"colorscale\":[[0.0,\"#0d0887\"],[0.1111111111111111,\"#46039f\"],[0.2222222222222222,\"#7201a8\"],[0.3333333333333333,\"#9c179e\"],[0.4444444444444444,\"#bd3786\"],[0.5555555555555556,\"#d8576b\"],[0.6666666666666666,\"#ed7953\"],[0.7777777777777778,\"#fb9f3a\"],[0.8888888888888888,\"#fdca26\"],[1.0,\"#f0f921\"]]}],\"choropleth\":[{\"type\":\"choropleth\",\"colorbar\":{\"outlinewidth\":0,\"ticks\":\"\"}}],\"histogram2d\":[{\"type\":\"histogram2d\",\"colorbar\":{\"outlinewidth\":0,\"ticks\":\"\"},\"colorscale\":[[0.0,\"#0d0887\"],[0.1111111111111111,\"#46039f\"],[0.2222222222222222,\"#7201a8\"],[0.3333333333333333,\"#9c179e\"],[0.4444444444444444,\"#bd3786\"],[0.5555555555555556,\"#d8576b\"],[0.6666666666666666,\"#ed7953\"],[0.7777777777777778,\"#fb9f3a\"],[0.8888888888888888,\"#fdca26\"],[1.0,\"#f0f921\"]]}],\"heatmap\":[{\"type\":\"heatmap\",\"colorbar\":{\"outlinewidth\":0,\"ticks\":\"\"},\"colorscale\":[[0.0,\"#0d0887\"],[0.1111111111111111,\"#46039f\"],[0.2222222222222222,\"#7201a8\"],[0.3333333333333333,\"#9c179e\"],[0.4444444444444444,\"#bd3786\"],[0.5555555555555556,\"#d8576b\"],[0.6666666666666666,\"#ed7953\"],[0.7777777777777778,\"#fb9f3a\"],[0.8888888888888888,\"#fdca26\"],[1.0,\"#f0f921\"]]}],\"heatmapgl\":[{\"type\":\"heatmapgl\",\"colorbar\":{\"outlinewidth\":0,\"ticks\":\"\"},\"colorscale\":[[0.0,\"#0d0887\"],[0.1111111111111111,\"#46039f\"],[0.2222222222222222,\"#7201a8\"],[0.3333333333333333,\"#9c179e\"],[0.4444444444444444,\"#bd3786\"],[0.5555555555555556,\"#d8576b\"],[0.6666666666666666,\"#ed7953\"],[0.7777777777777778,\"#fb9f3a\"],[0.8888888888888888,\"#fdca26\"],[1.0,\"#f0f921\"]]}],\"contourcarpet\":[{\"type\":\"contourcarpet\",\"colorbar\":{\"outlinewidth\":0,\"ticks\":\"\"}}],\"contour\":[{\"type\":\"contour\",\"colorbar\":{\"outlinewidth\":0,\"ticks\":\"\"},\"colorscale\":[[0.0,\"#0d0887\"],[0.1111111111111111,\"#46039f\"],[0.2222222222222222,\"#7201a8\"],[0.3333333333333333,\"#9c179e\"],[0.4444444444444444,\"#bd3786\"],[0.5555555555555556,\"#d8576b\"],[0.6666666666666666,\"#ed7953\"],[0.7777777777777778,\"#fb9f3a\"],[0.8888888888888888,\"#fdca26\"],[1.0,\"#f0f921\"]]}],\"surface\":[{\"type\":\"surface\",\"colorbar\":{\"outlinewidth\":0,\"ticks\":\"\"},\"colorscale\":[[0.0,\"#0d0887\"],[0.1111111111111111,\"#46039f\"],[0.2222222222222222,\"#7201a8\"],[0.3333333333333333,\"#9c179e\"],[0.4444444444444444,\"#bd3786\"],[0.5555555555555556,\"#d8576b\"],[0.6666666666666666,\"#ed7953\"],[0.7777777777777778,\"#fb9f3a\"],[0.8888888888888888,\"#fdca26\"],[1.0,\"#f0f921\"]]}],\"mesh3d\":[{\"type\":\"mesh3d\",\"colorbar\":{\"outlinewidth\":0,\"ticks\":\"\"}}],\"scatter\":[{\"marker\":{\"line\":{\"color\":\"#283442\"}},\"type\":\"scatter\"}],\"parcoords\":[{\"type\":\"parcoords\",\"line\":{\"colorbar\":{\"outlinewidth\":0,\"ticks\":\"\"}}}],\"scatterpolargl\":[{\"type\":\"scatterpolargl\",\"marker\":{\"colorbar\":{\"outlinewidth\":0,\"ticks\":\"\"}}}],\"bar\":[{\"error_x\":{\"color\":\"#f2f5fa\"},\"error_y\":{\"color\":\"#f2f5fa\"},\"marker\":{\"line\":{\"color\":\"rgb(17,17,17)\",\"width\":0.5},\"pattern\":{\"fillmode\":\"overlay\",\"size\":10,\"solidity\":0.2}},\"type\":\"bar\"}],\"scattergeo\":[{\"type\":\"scattergeo\",\"marker\":{\"colorbar\":{\"outlinewidth\":0,\"ticks\":\"\"}}}],\"scatterpolar\":[{\"type\":\"scatterpolar\",\"marker\":{\"colorbar\":{\"outlinewidth\":0,\"ticks\":\"\"}}}],\"histogram\":[{\"marker\":{\"pattern\":{\"fillmode\":\"overlay\",\"size\":10,\"solidity\":0.2}},\"type\":\"histogram\"}],\"scattergl\":[{\"marker\":{\"line\":{\"color\":\"#283442\"}},\"type\":\"scattergl\"}],\"scatter3d\":[{\"type\":\"scatter3d\",\"line\":{\"colorbar\":{\"outlinewidth\":0,\"ticks\":\"\"}},\"marker\":{\"colorbar\":{\"outlinewidth\":0,\"ticks\":\"\"}}}],\"scattermapbox\":[{\"type\":\"scattermapbox\",\"marker\":{\"colorbar\":{\"outlinewidth\":0,\"ticks\":\"\"}}}],\"scatterternary\":[{\"type\":\"scatterternary\",\"marker\":{\"colorbar\":{\"outlinewidth\":0,\"ticks\":\"\"}}}],\"scattercarpet\":[{\"type\":\"scattercarpet\",\"marker\":{\"colorbar\":{\"outlinewidth\":0,\"ticks\":\"\"}}}],\"carpet\":[{\"aaxis\":{\"endlinecolor\":\"#A2B1C6\",\"gridcolor\":\"#506784\",\"linecolor\":\"#506784\",\"minorgridcolor\":\"#506784\",\"startlinecolor\":\"#A2B1C6\"},\"baxis\":{\"endlinecolor\":\"#A2B1C6\",\"gridcolor\":\"#506784\",\"linecolor\":\"#506784\",\"minorgridcolor\":\"#506784\",\"startlinecolor\":\"#A2B1C6\"},\"type\":\"carpet\"}],\"table\":[{\"cells\":{\"fill\":{\"color\":\"#506784\"},\"line\":{\"color\":\"rgb(17,17,17)\"}},\"header\":{\"fill\":{\"color\":\"#2a3f5f\"},\"line\":{\"color\":\"rgb(17,17,17)\"}},\"type\":\"table\"}],\"barpolar\":[{\"marker\":{\"line\":{\"color\":\"rgb(17,17,17)\",\"width\":0.5},\"pattern\":{\"fillmode\":\"overlay\",\"size\":10,\"solidity\":0.2}},\"type\":\"barpolar\"}],\"pie\":[{\"automargin\":true,\"type\":\"pie\"}]},\"layout\":{\"autotypenumbers\":\"strict\",\"colorway\":[\"#636efa\",\"#EF553B\",\"#00cc96\",\"#ab63fa\",\"#FFA15A\",\"#19d3f3\",\"#FF6692\",\"#B6E880\",\"#FF97FF\",\"#FECB52\"],\"font\":{\"color\":\"#f2f5fa\"},\"hovermode\":\"closest\",\"hoverlabel\":{\"align\":\"left\"},\"paper_bgcolor\":\"rgb(17,17,17)\",\"plot_bgcolor\":\"rgb(17,17,17)\",\"polar\":{\"bgcolor\":\"rgb(17,17,17)\",\"angularaxis\":{\"gridcolor\":\"#506784\",\"linecolor\":\"#506784\",\"ticks\":\"\"},\"radialaxis\":{\"gridcolor\":\"#506784\",\"linecolor\":\"#506784\",\"ticks\":\"\"}},\"ternary\":{\"bgcolor\":\"rgb(17,17,17)\",\"aaxis\":{\"gridcolor\":\"#506784\",\"linecolor\":\"#506784\",\"ticks\":\"\"},\"baxis\":{\"gridcolor\":\"#506784\",\"linecolor\":\"#506784\",\"ticks\":\"\"},\"caxis\":{\"gridcolor\":\"#506784\",\"linecolor\":\"#506784\",\"ticks\":\"\"}},\"coloraxis\":{\"colorbar\":{\"outlinewidth\":0,\"ticks\":\"\"}},\"colorscale\":{\"sequential\":[[0.0,\"#0d0887\"],[0.1111111111111111,\"#46039f\"],[0.2222222222222222,\"#7201a8\"],[0.3333333333333333,\"#9c179e\"],[0.4444444444444444,\"#bd3786\"],[0.5555555555555556,\"#d8576b\"],[0.6666666666666666,\"#ed7953\"],[0.7777777777777778,\"#fb9f3a\"],[0.8888888888888888,\"#fdca26\"],[1.0,\"#f0f921\"]],\"sequentialminus\":[[0.0,\"#0d0887\"],[0.1111111111111111,\"#46039f\"],[0.2222222222222222,\"#7201a8\"],[0.3333333333333333,\"#9c179e\"],[0.4444444444444444,\"#bd3786\"],[0.5555555555555556,\"#d8576b\"],[0.6666666666666666,\"#ed7953\"],[0.7777777777777778,\"#fb9f3a\"],[0.8888888888888888,\"#fdca26\"],[1.0,\"#f0f921\"]],\"diverging\":[[0,\"#8e0152\"],[0.1,\"#c51b7d\"],[0.2,\"#de77ae\"],[0.3,\"#f1b6da\"],[0.4,\"#fde0ef\"],[0.5,\"#f7f7f7\"],[0.6,\"#e6f5d0\"],[0.7,\"#b8e186\"],[0.8,\"#7fbc41\"],[0.9,\"#4d9221\"],[1,\"#276419\"]]},\"xaxis\":{\"gridcolor\":\"#283442\",\"linecolor\":\"#506784\",\"ticks\":\"\",\"title\":{\"standoff\":15},\"zerolinecolor\":\"#283442\",\"automargin\":true,\"zerolinewidth\":2},\"yaxis\":{\"gridcolor\":\"#283442\",\"linecolor\":\"#506784\",\"ticks\":\"\",\"title\":{\"standoff\":15},\"zerolinecolor\":\"#283442\",\"automargin\":true,\"zerolinewidth\":2},\"scene\":{\"xaxis\":{\"backgroundcolor\":\"rgb(17,17,17)\",\"gridcolor\":\"#506784\",\"linecolor\":\"#506784\",\"showbackground\":true,\"ticks\":\"\",\"zerolinecolor\":\"#C8D4E3\",\"gridwidth\":2},\"yaxis\":{\"backgroundcolor\":\"rgb(17,17,17)\",\"gridcolor\":\"#506784\",\"linecolor\":\"#506784\",\"showbackground\":true,\"ticks\":\"\",\"zerolinecolor\":\"#C8D4E3\",\"gridwidth\":2},\"zaxis\":{\"backgroundcolor\":\"rgb(17,17,17)\",\"gridcolor\":\"#506784\",\"linecolor\":\"#506784\",\"showbackground\":true,\"ticks\":\"\",\"zerolinecolor\":\"#C8D4E3\",\"gridwidth\":2}},\"shapedefaults\":{\"line\":{\"color\":\"#f2f5fa\"}},\"annotationdefaults\":{\"arrowcolor\":\"#f2f5fa\",\"arrowhead\":0,\"arrowwidth\":1},\"geo\":{\"bgcolor\":\"rgb(17,17,17)\",\"landcolor\":\"rgb(17,17,17)\",\"subunitcolor\":\"#506784\",\"showland\":true,\"showlakes\":true,\"lakecolor\":\"rgb(17,17,17)\"},\"title\":{\"x\":0.05},\"updatemenudefaults\":{\"bgcolor\":\"#506784\",\"borderwidth\":0},\"sliderdefaults\":{\"bgcolor\":\"#C8D4E3\",\"borderwidth\":1,\"bordercolor\":\"rgb(17,17,17)\",\"tickwidth\":0},\"mapbox\":{\"style\":\"dark\"}}},\"scene\":{\"domain\":{\"x\":[0.0,1.0],\"y\":[0.0,1.0]},\"xaxis\":{\"title\":{\"text\":\"sepal_length\"}},\"yaxis\":{\"title\":{\"text\":\"sepal_width\"}},\"zaxis\":{\"title\":{\"text\":\"petal_width\"}}},\"legend\":{\"title\":{\"text\":\"species\"},\"tracegroupgap\":0},\"margin\":{\"t\":60}},                        {\"responsive\": true}                    ).then(function(){\n                            \nvar gd = document.getElementById('200f0357-e131-4bc0-a868-267515b9dcba');\nvar x = new MutationObserver(function (mutations, observer) {{\n        var display = window.getComputedStyle(gd).display;\n        if (!display || display === 'none') {{\n            console.log([gd, 'removed!']);\n            Plotly.purge(gd);\n            observer.disconnect();\n        }}\n}});\n\n// Listen for the removal of the full notebook cells\nvar notebookContainer = gd.closest('#notebook-container');\nif (notebookContainer) {{\n    x.observe(notebookContainer, {childList: true});\n}}\n\n// Listen for the clearing of the current output cell\nvar outputEl = gd.closest('.output');\nif (outputEl) {{\n    x.observe(outputEl, {childList: true});\n}}\n\n                        })                };                });            </script>        </div>"
     },
     "metadata": {},
     "output_type": "display_data"
    }
   ],
   "source": [
    "fig = px.scatter_3d(df,\n",
    "                    x='sepal_length',\n",
    "                    y='sepal_width',\n",
    "                    z='petal_width',\n",
    "                    color='species')\n",
    "fig.show()"
   ]
  },
  {
   "cell_type": "markdown",
   "source": [
    "2. Побудуйте горизонтальний гістограму для розподілу значень \"petal_width\" для різних видів квіток в датасеті Iris.\n"
   ],
   "metadata": {
    "collapsed": false
   }
  },
  {
   "cell_type": "code",
   "execution_count": 5,
   "outputs": [
    {
     "data": {
      "application/vnd.plotly.v1+json": {
       "data": [
        {
         "alignmentgroup": "True",
         "bingroup": "y",
         "histfunc": "count",
         "hovertemplate": "count=%{x}<br>species=%{y}<extra></extra>",
         "legendgroup": "",
         "marker": {
          "color": "#636efa",
          "pattern": {
           "shape": ""
          }
         },
         "name": "",
         "offsetgroup": "",
         "orientation": "h",
         "showlegend": false,
         "x": [
          0.2,
          0.2,
          0.2,
          0.2,
          0.2,
          0.4,
          0.3,
          0.2,
          0.2,
          0.1,
          0.2,
          0.2,
          0.1,
          0.1,
          0.2,
          0.4,
          0.4,
          0.3,
          0.3,
          0.3,
          0.2,
          0.4,
          0.2,
          0.5,
          0.2,
          0.2,
          0.4,
          0.2,
          0.2,
          0.2,
          0.2,
          0.4,
          0.1,
          0.2,
          0.1,
          0.2,
          0.2,
          0.1,
          0.2,
          0.2,
          0.3,
          0.3,
          0.2,
          0.6,
          0.4,
          0.3,
          0.2,
          0.2,
          0.2,
          0.2,
          1.4,
          1.5,
          1.5,
          1.3,
          1.5,
          1.3,
          1.6,
          1.0,
          1.3,
          1.4,
          1.0,
          1.5,
          1.0,
          1.4,
          1.3,
          1.4,
          1.5,
          1.0,
          1.5,
          1.1,
          1.8,
          1.3,
          1.5,
          1.2,
          1.3,
          1.4,
          1.4,
          1.7,
          1.5,
          1.0,
          1.1,
          1.0,
          1.2,
          1.6,
          1.5,
          1.6,
          1.5,
          1.3,
          1.3,
          1.3,
          1.2,
          1.4,
          1.2,
          1.0,
          1.3,
          1.2,
          1.3,
          1.3,
          1.1,
          1.3,
          2.5,
          1.9,
          2.1,
          1.8,
          2.2,
          2.1,
          1.7,
          1.8,
          1.8,
          2.5,
          2.0,
          1.9,
          2.1,
          2.0,
          2.4,
          2.3,
          1.8,
          2.2,
          2.3,
          1.5,
          2.3,
          2.0,
          2.0,
          1.8,
          2.1,
          1.8,
          1.8,
          1.8,
          2.1,
          1.6,
          1.9,
          2.0,
          2.2,
          1.5,
          1.4,
          2.3,
          2.4,
          1.8,
          1.8,
          2.1,
          2.4,
          2.3,
          1.9,
          2.3,
          2.5,
          2.3,
          1.9,
          2.0,
          2.3,
          1.8
         ],
         "xaxis": "x",
         "y": [
          "setosa",
          "setosa",
          "setosa",
          "setosa",
          "setosa",
          "setosa",
          "setosa",
          "setosa",
          "setosa",
          "setosa",
          "setosa",
          "setosa",
          "setosa",
          "setosa",
          "setosa",
          "setosa",
          "setosa",
          "setosa",
          "setosa",
          "setosa",
          "setosa",
          "setosa",
          "setosa",
          "setosa",
          "setosa",
          "setosa",
          "setosa",
          "setosa",
          "setosa",
          "setosa",
          "setosa",
          "setosa",
          "setosa",
          "setosa",
          "setosa",
          "setosa",
          "setosa",
          "setosa",
          "setosa",
          "setosa",
          "setosa",
          "setosa",
          "setosa",
          "setosa",
          "setosa",
          "setosa",
          "setosa",
          "setosa",
          "setosa",
          "setosa",
          "versicolor",
          "versicolor",
          "versicolor",
          "versicolor",
          "versicolor",
          "versicolor",
          "versicolor",
          "versicolor",
          "versicolor",
          "versicolor",
          "versicolor",
          "versicolor",
          "versicolor",
          "versicolor",
          "versicolor",
          "versicolor",
          "versicolor",
          "versicolor",
          "versicolor",
          "versicolor",
          "versicolor",
          "versicolor",
          "versicolor",
          "versicolor",
          "versicolor",
          "versicolor",
          "versicolor",
          "versicolor",
          "versicolor",
          "versicolor",
          "versicolor",
          "versicolor",
          "versicolor",
          "versicolor",
          "versicolor",
          "versicolor",
          "versicolor",
          "versicolor",
          "versicolor",
          "versicolor",
          "versicolor",
          "versicolor",
          "versicolor",
          "versicolor",
          "versicolor",
          "versicolor",
          "versicolor",
          "versicolor",
          "versicolor",
          "versicolor",
          "virginica",
          "virginica",
          "virginica",
          "virginica",
          "virginica",
          "virginica",
          "virginica",
          "virginica",
          "virginica",
          "virginica",
          "virginica",
          "virginica",
          "virginica",
          "virginica",
          "virginica",
          "virginica",
          "virginica",
          "virginica",
          "virginica",
          "virginica",
          "virginica",
          "virginica",
          "virginica",
          "virginica",
          "virginica",
          "virginica",
          "virginica",
          "virginica",
          "virginica",
          "virginica",
          "virginica",
          "virginica",
          "virginica",
          "virginica",
          "virginica",
          "virginica",
          "virginica",
          "virginica",
          "virginica",
          "virginica",
          "virginica",
          "virginica",
          "virginica",
          "virginica",
          "virginica",
          "virginica",
          "virginica",
          "virginica",
          "virginica",
          "virginica"
         ],
         "yaxis": "y",
         "type": "histogram"
        }
       ],
       "layout": {
        "template": {
         "data": {
          "histogram2dcontour": [
           {
            "type": "histogram2dcontour",
            "colorbar": {
             "outlinewidth": 0,
             "ticks": ""
            },
            "colorscale": [
             [
              0.0,
              "#0d0887"
             ],
             [
              0.1111111111111111,
              "#46039f"
             ],
             [
              0.2222222222222222,
              "#7201a8"
             ],
             [
              0.3333333333333333,
              "#9c179e"
             ],
             [
              0.4444444444444444,
              "#bd3786"
             ],
             [
              0.5555555555555556,
              "#d8576b"
             ],
             [
              0.6666666666666666,
              "#ed7953"
             ],
             [
              0.7777777777777778,
              "#fb9f3a"
             ],
             [
              0.8888888888888888,
              "#fdca26"
             ],
             [
              1.0,
              "#f0f921"
             ]
            ]
           }
          ],
          "choropleth": [
           {
            "type": "choropleth",
            "colorbar": {
             "outlinewidth": 0,
             "ticks": ""
            }
           }
          ],
          "histogram2d": [
           {
            "type": "histogram2d",
            "colorbar": {
             "outlinewidth": 0,
             "ticks": ""
            },
            "colorscale": [
             [
              0.0,
              "#0d0887"
             ],
             [
              0.1111111111111111,
              "#46039f"
             ],
             [
              0.2222222222222222,
              "#7201a8"
             ],
             [
              0.3333333333333333,
              "#9c179e"
             ],
             [
              0.4444444444444444,
              "#bd3786"
             ],
             [
              0.5555555555555556,
              "#d8576b"
             ],
             [
              0.6666666666666666,
              "#ed7953"
             ],
             [
              0.7777777777777778,
              "#fb9f3a"
             ],
             [
              0.8888888888888888,
              "#fdca26"
             ],
             [
              1.0,
              "#f0f921"
             ]
            ]
           }
          ],
          "heatmap": [
           {
            "type": "heatmap",
            "colorbar": {
             "outlinewidth": 0,
             "ticks": ""
            },
            "colorscale": [
             [
              0.0,
              "#0d0887"
             ],
             [
              0.1111111111111111,
              "#46039f"
             ],
             [
              0.2222222222222222,
              "#7201a8"
             ],
             [
              0.3333333333333333,
              "#9c179e"
             ],
             [
              0.4444444444444444,
              "#bd3786"
             ],
             [
              0.5555555555555556,
              "#d8576b"
             ],
             [
              0.6666666666666666,
              "#ed7953"
             ],
             [
              0.7777777777777778,
              "#fb9f3a"
             ],
             [
              0.8888888888888888,
              "#fdca26"
             ],
             [
              1.0,
              "#f0f921"
             ]
            ]
           }
          ],
          "heatmapgl": [
           {
            "type": "heatmapgl",
            "colorbar": {
             "outlinewidth": 0,
             "ticks": ""
            },
            "colorscale": [
             [
              0.0,
              "#0d0887"
             ],
             [
              0.1111111111111111,
              "#46039f"
             ],
             [
              0.2222222222222222,
              "#7201a8"
             ],
             [
              0.3333333333333333,
              "#9c179e"
             ],
             [
              0.4444444444444444,
              "#bd3786"
             ],
             [
              0.5555555555555556,
              "#d8576b"
             ],
             [
              0.6666666666666666,
              "#ed7953"
             ],
             [
              0.7777777777777778,
              "#fb9f3a"
             ],
             [
              0.8888888888888888,
              "#fdca26"
             ],
             [
              1.0,
              "#f0f921"
             ]
            ]
           }
          ],
          "contourcarpet": [
           {
            "type": "contourcarpet",
            "colorbar": {
             "outlinewidth": 0,
             "ticks": ""
            }
           }
          ],
          "contour": [
           {
            "type": "contour",
            "colorbar": {
             "outlinewidth": 0,
             "ticks": ""
            },
            "colorscale": [
             [
              0.0,
              "#0d0887"
             ],
             [
              0.1111111111111111,
              "#46039f"
             ],
             [
              0.2222222222222222,
              "#7201a8"
             ],
             [
              0.3333333333333333,
              "#9c179e"
             ],
             [
              0.4444444444444444,
              "#bd3786"
             ],
             [
              0.5555555555555556,
              "#d8576b"
             ],
             [
              0.6666666666666666,
              "#ed7953"
             ],
             [
              0.7777777777777778,
              "#fb9f3a"
             ],
             [
              0.8888888888888888,
              "#fdca26"
             ],
             [
              1.0,
              "#f0f921"
             ]
            ]
           }
          ],
          "surface": [
           {
            "type": "surface",
            "colorbar": {
             "outlinewidth": 0,
             "ticks": ""
            },
            "colorscale": [
             [
              0.0,
              "#0d0887"
             ],
             [
              0.1111111111111111,
              "#46039f"
             ],
             [
              0.2222222222222222,
              "#7201a8"
             ],
             [
              0.3333333333333333,
              "#9c179e"
             ],
             [
              0.4444444444444444,
              "#bd3786"
             ],
             [
              0.5555555555555556,
              "#d8576b"
             ],
             [
              0.6666666666666666,
              "#ed7953"
             ],
             [
              0.7777777777777778,
              "#fb9f3a"
             ],
             [
              0.8888888888888888,
              "#fdca26"
             ],
             [
              1.0,
              "#f0f921"
             ]
            ]
           }
          ],
          "mesh3d": [
           {
            "type": "mesh3d",
            "colorbar": {
             "outlinewidth": 0,
             "ticks": ""
            }
           }
          ],
          "scatter": [
           {
            "marker": {
             "line": {
              "color": "#283442"
             }
            },
            "type": "scatter"
           }
          ],
          "parcoords": [
           {
            "type": "parcoords",
            "line": {
             "colorbar": {
              "outlinewidth": 0,
              "ticks": ""
             }
            }
           }
          ],
          "scatterpolargl": [
           {
            "type": "scatterpolargl",
            "marker": {
             "colorbar": {
              "outlinewidth": 0,
              "ticks": ""
             }
            }
           }
          ],
          "bar": [
           {
            "error_x": {
             "color": "#f2f5fa"
            },
            "error_y": {
             "color": "#f2f5fa"
            },
            "marker": {
             "line": {
              "color": "rgb(17,17,17)",
              "width": 0.5
             },
             "pattern": {
              "fillmode": "overlay",
              "size": 10,
              "solidity": 0.2
             }
            },
            "type": "bar"
           }
          ],
          "scattergeo": [
           {
            "type": "scattergeo",
            "marker": {
             "colorbar": {
              "outlinewidth": 0,
              "ticks": ""
             }
            }
           }
          ],
          "scatterpolar": [
           {
            "type": "scatterpolar",
            "marker": {
             "colorbar": {
              "outlinewidth": 0,
              "ticks": ""
             }
            }
           }
          ],
          "histogram": [
           {
            "marker": {
             "pattern": {
              "fillmode": "overlay",
              "size": 10,
              "solidity": 0.2
             }
            },
            "type": "histogram"
           }
          ],
          "scattergl": [
           {
            "marker": {
             "line": {
              "color": "#283442"
             }
            },
            "type": "scattergl"
           }
          ],
          "scatter3d": [
           {
            "type": "scatter3d",
            "line": {
             "colorbar": {
              "outlinewidth": 0,
              "ticks": ""
             }
            },
            "marker": {
             "colorbar": {
              "outlinewidth": 0,
              "ticks": ""
             }
            }
           }
          ],
          "scattermapbox": [
           {
            "type": "scattermapbox",
            "marker": {
             "colorbar": {
              "outlinewidth": 0,
              "ticks": ""
             }
            }
           }
          ],
          "scatterternary": [
           {
            "type": "scatterternary",
            "marker": {
             "colorbar": {
              "outlinewidth": 0,
              "ticks": ""
             }
            }
           }
          ],
          "scattercarpet": [
           {
            "type": "scattercarpet",
            "marker": {
             "colorbar": {
              "outlinewidth": 0,
              "ticks": ""
             }
            }
           }
          ],
          "carpet": [
           {
            "aaxis": {
             "endlinecolor": "#A2B1C6",
             "gridcolor": "#506784",
             "linecolor": "#506784",
             "minorgridcolor": "#506784",
             "startlinecolor": "#A2B1C6"
            },
            "baxis": {
             "endlinecolor": "#A2B1C6",
             "gridcolor": "#506784",
             "linecolor": "#506784",
             "minorgridcolor": "#506784",
             "startlinecolor": "#A2B1C6"
            },
            "type": "carpet"
           }
          ],
          "table": [
           {
            "cells": {
             "fill": {
              "color": "#506784"
             },
             "line": {
              "color": "rgb(17,17,17)"
             }
            },
            "header": {
             "fill": {
              "color": "#2a3f5f"
             },
             "line": {
              "color": "rgb(17,17,17)"
             }
            },
            "type": "table"
           }
          ],
          "barpolar": [
           {
            "marker": {
             "line": {
              "color": "rgb(17,17,17)",
              "width": 0.5
             },
             "pattern": {
              "fillmode": "overlay",
              "size": 10,
              "solidity": 0.2
             }
            },
            "type": "barpolar"
           }
          ],
          "pie": [
           {
            "automargin": true,
            "type": "pie"
           }
          ]
         },
         "layout": {
          "autotypenumbers": "strict",
          "colorway": [
           "#636efa",
           "#EF553B",
           "#00cc96",
           "#ab63fa",
           "#FFA15A",
           "#19d3f3",
           "#FF6692",
           "#B6E880",
           "#FF97FF",
           "#FECB52"
          ],
          "font": {
           "color": "#f2f5fa"
          },
          "hovermode": "closest",
          "hoverlabel": {
           "align": "left"
          },
          "paper_bgcolor": "rgb(17,17,17)",
          "plot_bgcolor": "rgb(17,17,17)",
          "polar": {
           "bgcolor": "rgb(17,17,17)",
           "angularaxis": {
            "gridcolor": "#506784",
            "linecolor": "#506784",
            "ticks": ""
           },
           "radialaxis": {
            "gridcolor": "#506784",
            "linecolor": "#506784",
            "ticks": ""
           }
          },
          "ternary": {
           "bgcolor": "rgb(17,17,17)",
           "aaxis": {
            "gridcolor": "#506784",
            "linecolor": "#506784",
            "ticks": ""
           },
           "baxis": {
            "gridcolor": "#506784",
            "linecolor": "#506784",
            "ticks": ""
           },
           "caxis": {
            "gridcolor": "#506784",
            "linecolor": "#506784",
            "ticks": ""
           }
          },
          "coloraxis": {
           "colorbar": {
            "outlinewidth": 0,
            "ticks": ""
           }
          },
          "colorscale": {
           "sequential": [
            [
             0.0,
             "#0d0887"
            ],
            [
             0.1111111111111111,
             "#46039f"
            ],
            [
             0.2222222222222222,
             "#7201a8"
            ],
            [
             0.3333333333333333,
             "#9c179e"
            ],
            [
             0.4444444444444444,
             "#bd3786"
            ],
            [
             0.5555555555555556,
             "#d8576b"
            ],
            [
             0.6666666666666666,
             "#ed7953"
            ],
            [
             0.7777777777777778,
             "#fb9f3a"
            ],
            [
             0.8888888888888888,
             "#fdca26"
            ],
            [
             1.0,
             "#f0f921"
            ]
           ],
           "sequentialminus": [
            [
             0.0,
             "#0d0887"
            ],
            [
             0.1111111111111111,
             "#46039f"
            ],
            [
             0.2222222222222222,
             "#7201a8"
            ],
            [
             0.3333333333333333,
             "#9c179e"
            ],
            [
             0.4444444444444444,
             "#bd3786"
            ],
            [
             0.5555555555555556,
             "#d8576b"
            ],
            [
             0.6666666666666666,
             "#ed7953"
            ],
            [
             0.7777777777777778,
             "#fb9f3a"
            ],
            [
             0.8888888888888888,
             "#fdca26"
            ],
            [
             1.0,
             "#f0f921"
            ]
           ],
           "diverging": [
            [
             0,
             "#8e0152"
            ],
            [
             0.1,
             "#c51b7d"
            ],
            [
             0.2,
             "#de77ae"
            ],
            [
             0.3,
             "#f1b6da"
            ],
            [
             0.4,
             "#fde0ef"
            ],
            [
             0.5,
             "#f7f7f7"
            ],
            [
             0.6,
             "#e6f5d0"
            ],
            [
             0.7,
             "#b8e186"
            ],
            [
             0.8,
             "#7fbc41"
            ],
            [
             0.9,
             "#4d9221"
            ],
            [
             1,
             "#276419"
            ]
           ]
          },
          "xaxis": {
           "gridcolor": "#283442",
           "linecolor": "#506784",
           "ticks": "",
           "title": {
            "standoff": 15
           },
           "zerolinecolor": "#283442",
           "automargin": true,
           "zerolinewidth": 2
          },
          "yaxis": {
           "gridcolor": "#283442",
           "linecolor": "#506784",
           "ticks": "",
           "title": {
            "standoff": 15
           },
           "zerolinecolor": "#283442",
           "automargin": true,
           "zerolinewidth": 2
          },
          "scene": {
           "xaxis": {
            "backgroundcolor": "rgb(17,17,17)",
            "gridcolor": "#506784",
            "linecolor": "#506784",
            "showbackground": true,
            "ticks": "",
            "zerolinecolor": "#C8D4E3",
            "gridwidth": 2
           },
           "yaxis": {
            "backgroundcolor": "rgb(17,17,17)",
            "gridcolor": "#506784",
            "linecolor": "#506784",
            "showbackground": true,
            "ticks": "",
            "zerolinecolor": "#C8D4E3",
            "gridwidth": 2
           },
           "zaxis": {
            "backgroundcolor": "rgb(17,17,17)",
            "gridcolor": "#506784",
            "linecolor": "#506784",
            "showbackground": true,
            "ticks": "",
            "zerolinecolor": "#C8D4E3",
            "gridwidth": 2
           }
          },
          "shapedefaults": {
           "line": {
            "color": "#f2f5fa"
           }
          },
          "annotationdefaults": {
           "arrowcolor": "#f2f5fa",
           "arrowhead": 0,
           "arrowwidth": 1
          },
          "geo": {
           "bgcolor": "rgb(17,17,17)",
           "landcolor": "rgb(17,17,17)",
           "subunitcolor": "#506784",
           "showland": true,
           "showlakes": true,
           "lakecolor": "rgb(17,17,17)"
          },
          "title": {
           "x": 0.05
          },
          "updatemenudefaults": {
           "bgcolor": "#506784",
           "borderwidth": 0
          },
          "sliderdefaults": {
           "bgcolor": "#C8D4E3",
           "borderwidth": 1,
           "bordercolor": "rgb(17,17,17)",
           "tickwidth": 0
          },
          "mapbox": {
           "style": "dark"
          }
         }
        },
        "xaxis": {
         "anchor": "y",
         "domain": [
          0.0,
          1.0
         ],
         "title": {
          "text": "count"
         }
        },
        "yaxis": {
         "anchor": "x",
         "domain": [
          0.0,
          1.0
         ],
         "title": {
          "text": "species"
         }
        },
        "legend": {
         "tracegroupgap": 0
        },
        "margin": {
         "t": 60
        },
        "barmode": "relative"
       },
       "config": {
        "plotlyServerURL": "https://plot.ly"
       }
      },
      "text/html": "<div>                            <div id=\"df55e117-a637-4422-94b9-9c1d8643b645\" class=\"plotly-graph-div\" style=\"height:525px; width:100%;\"></div>            <script type=\"text/javascript\">                require([\"plotly\"], function(Plotly) {                    window.PLOTLYENV=window.PLOTLYENV || {};                                    if (document.getElementById(\"df55e117-a637-4422-94b9-9c1d8643b645\")) {                    Plotly.newPlot(                        \"df55e117-a637-4422-94b9-9c1d8643b645\",                        [{\"alignmentgroup\":\"True\",\"bingroup\":\"y\",\"histfunc\":\"count\",\"hovertemplate\":\"count=%{x}<br>species=%{y}<extra></extra>\",\"legendgroup\":\"\",\"marker\":{\"color\":\"#636efa\",\"pattern\":{\"shape\":\"\"}},\"name\":\"\",\"offsetgroup\":\"\",\"orientation\":\"h\",\"showlegend\":false,\"x\":[0.2,0.2,0.2,0.2,0.2,0.4,0.3,0.2,0.2,0.1,0.2,0.2,0.1,0.1,0.2,0.4,0.4,0.3,0.3,0.3,0.2,0.4,0.2,0.5,0.2,0.2,0.4,0.2,0.2,0.2,0.2,0.4,0.1,0.2,0.1,0.2,0.2,0.1,0.2,0.2,0.3,0.3,0.2,0.6,0.4,0.3,0.2,0.2,0.2,0.2,1.4,1.5,1.5,1.3,1.5,1.3,1.6,1.0,1.3,1.4,1.0,1.5,1.0,1.4,1.3,1.4,1.5,1.0,1.5,1.1,1.8,1.3,1.5,1.2,1.3,1.4,1.4,1.7,1.5,1.0,1.1,1.0,1.2,1.6,1.5,1.6,1.5,1.3,1.3,1.3,1.2,1.4,1.2,1.0,1.3,1.2,1.3,1.3,1.1,1.3,2.5,1.9,2.1,1.8,2.2,2.1,1.7,1.8,1.8,2.5,2.0,1.9,2.1,2.0,2.4,2.3,1.8,2.2,2.3,1.5,2.3,2.0,2.0,1.8,2.1,1.8,1.8,1.8,2.1,1.6,1.9,2.0,2.2,1.5,1.4,2.3,2.4,1.8,1.8,2.1,2.4,2.3,1.9,2.3,2.5,2.3,1.9,2.0,2.3,1.8],\"xaxis\":\"x\",\"y\":[\"setosa\",\"setosa\",\"setosa\",\"setosa\",\"setosa\",\"setosa\",\"setosa\",\"setosa\",\"setosa\",\"setosa\",\"setosa\",\"setosa\",\"setosa\",\"setosa\",\"setosa\",\"setosa\",\"setosa\",\"setosa\",\"setosa\",\"setosa\",\"setosa\",\"setosa\",\"setosa\",\"setosa\",\"setosa\",\"setosa\",\"setosa\",\"setosa\",\"setosa\",\"setosa\",\"setosa\",\"setosa\",\"setosa\",\"setosa\",\"setosa\",\"setosa\",\"setosa\",\"setosa\",\"setosa\",\"setosa\",\"setosa\",\"setosa\",\"setosa\",\"setosa\",\"setosa\",\"setosa\",\"setosa\",\"setosa\",\"setosa\",\"setosa\",\"versicolor\",\"versicolor\",\"versicolor\",\"versicolor\",\"versicolor\",\"versicolor\",\"versicolor\",\"versicolor\",\"versicolor\",\"versicolor\",\"versicolor\",\"versicolor\",\"versicolor\",\"versicolor\",\"versicolor\",\"versicolor\",\"versicolor\",\"versicolor\",\"versicolor\",\"versicolor\",\"versicolor\",\"versicolor\",\"versicolor\",\"versicolor\",\"versicolor\",\"versicolor\",\"versicolor\",\"versicolor\",\"versicolor\",\"versicolor\",\"versicolor\",\"versicolor\",\"versicolor\",\"versicolor\",\"versicolor\",\"versicolor\",\"versicolor\",\"versicolor\",\"versicolor\",\"versicolor\",\"versicolor\",\"versicolor\",\"versicolor\",\"versicolor\",\"versicolor\",\"versicolor\",\"versicolor\",\"versicolor\",\"versicolor\",\"versicolor\",\"virginica\",\"virginica\",\"virginica\",\"virginica\",\"virginica\",\"virginica\",\"virginica\",\"virginica\",\"virginica\",\"virginica\",\"virginica\",\"virginica\",\"virginica\",\"virginica\",\"virginica\",\"virginica\",\"virginica\",\"virginica\",\"virginica\",\"virginica\",\"virginica\",\"virginica\",\"virginica\",\"virginica\",\"virginica\",\"virginica\",\"virginica\",\"virginica\",\"virginica\",\"virginica\",\"virginica\",\"virginica\",\"virginica\",\"virginica\",\"virginica\",\"virginica\",\"virginica\",\"virginica\",\"virginica\",\"virginica\",\"virginica\",\"virginica\",\"virginica\",\"virginica\",\"virginica\",\"virginica\",\"virginica\",\"virginica\",\"virginica\",\"virginica\"],\"yaxis\":\"y\",\"type\":\"histogram\"}],                        {\"template\":{\"data\":{\"histogram2dcontour\":[{\"type\":\"histogram2dcontour\",\"colorbar\":{\"outlinewidth\":0,\"ticks\":\"\"},\"colorscale\":[[0.0,\"#0d0887\"],[0.1111111111111111,\"#46039f\"],[0.2222222222222222,\"#7201a8\"],[0.3333333333333333,\"#9c179e\"],[0.4444444444444444,\"#bd3786\"],[0.5555555555555556,\"#d8576b\"],[0.6666666666666666,\"#ed7953\"],[0.7777777777777778,\"#fb9f3a\"],[0.8888888888888888,\"#fdca26\"],[1.0,\"#f0f921\"]]}],\"choropleth\":[{\"type\":\"choropleth\",\"colorbar\":{\"outlinewidth\":0,\"ticks\":\"\"}}],\"histogram2d\":[{\"type\":\"histogram2d\",\"colorbar\":{\"outlinewidth\":0,\"ticks\":\"\"},\"colorscale\":[[0.0,\"#0d0887\"],[0.1111111111111111,\"#46039f\"],[0.2222222222222222,\"#7201a8\"],[0.3333333333333333,\"#9c179e\"],[0.4444444444444444,\"#bd3786\"],[0.5555555555555556,\"#d8576b\"],[0.6666666666666666,\"#ed7953\"],[0.7777777777777778,\"#fb9f3a\"],[0.8888888888888888,\"#fdca26\"],[1.0,\"#f0f921\"]]}],\"heatmap\":[{\"type\":\"heatmap\",\"colorbar\":{\"outlinewidth\":0,\"ticks\":\"\"},\"colorscale\":[[0.0,\"#0d0887\"],[0.1111111111111111,\"#46039f\"],[0.2222222222222222,\"#7201a8\"],[0.3333333333333333,\"#9c179e\"],[0.4444444444444444,\"#bd3786\"],[0.5555555555555556,\"#d8576b\"],[0.6666666666666666,\"#ed7953\"],[0.7777777777777778,\"#fb9f3a\"],[0.8888888888888888,\"#fdca26\"],[1.0,\"#f0f921\"]]}],\"heatmapgl\":[{\"type\":\"heatmapgl\",\"colorbar\":{\"outlinewidth\":0,\"ticks\":\"\"},\"colorscale\":[[0.0,\"#0d0887\"],[0.1111111111111111,\"#46039f\"],[0.2222222222222222,\"#7201a8\"],[0.3333333333333333,\"#9c179e\"],[0.4444444444444444,\"#bd3786\"],[0.5555555555555556,\"#d8576b\"],[0.6666666666666666,\"#ed7953\"],[0.7777777777777778,\"#fb9f3a\"],[0.8888888888888888,\"#fdca26\"],[1.0,\"#f0f921\"]]}],\"contourcarpet\":[{\"type\":\"contourcarpet\",\"colorbar\":{\"outlinewidth\":0,\"ticks\":\"\"}}],\"contour\":[{\"type\":\"contour\",\"colorbar\":{\"outlinewidth\":0,\"ticks\":\"\"},\"colorscale\":[[0.0,\"#0d0887\"],[0.1111111111111111,\"#46039f\"],[0.2222222222222222,\"#7201a8\"],[0.3333333333333333,\"#9c179e\"],[0.4444444444444444,\"#bd3786\"],[0.5555555555555556,\"#d8576b\"],[0.6666666666666666,\"#ed7953\"],[0.7777777777777778,\"#fb9f3a\"],[0.8888888888888888,\"#fdca26\"],[1.0,\"#f0f921\"]]}],\"surface\":[{\"type\":\"surface\",\"colorbar\":{\"outlinewidth\":0,\"ticks\":\"\"},\"colorscale\":[[0.0,\"#0d0887\"],[0.1111111111111111,\"#46039f\"],[0.2222222222222222,\"#7201a8\"],[0.3333333333333333,\"#9c179e\"],[0.4444444444444444,\"#bd3786\"],[0.5555555555555556,\"#d8576b\"],[0.6666666666666666,\"#ed7953\"],[0.7777777777777778,\"#fb9f3a\"],[0.8888888888888888,\"#fdca26\"],[1.0,\"#f0f921\"]]}],\"mesh3d\":[{\"type\":\"mesh3d\",\"colorbar\":{\"outlinewidth\":0,\"ticks\":\"\"}}],\"scatter\":[{\"marker\":{\"line\":{\"color\":\"#283442\"}},\"type\":\"scatter\"}],\"parcoords\":[{\"type\":\"parcoords\",\"line\":{\"colorbar\":{\"outlinewidth\":0,\"ticks\":\"\"}}}],\"scatterpolargl\":[{\"type\":\"scatterpolargl\",\"marker\":{\"colorbar\":{\"outlinewidth\":0,\"ticks\":\"\"}}}],\"bar\":[{\"error_x\":{\"color\":\"#f2f5fa\"},\"error_y\":{\"color\":\"#f2f5fa\"},\"marker\":{\"line\":{\"color\":\"rgb(17,17,17)\",\"width\":0.5},\"pattern\":{\"fillmode\":\"overlay\",\"size\":10,\"solidity\":0.2}},\"type\":\"bar\"}],\"scattergeo\":[{\"type\":\"scattergeo\",\"marker\":{\"colorbar\":{\"outlinewidth\":0,\"ticks\":\"\"}}}],\"scatterpolar\":[{\"type\":\"scatterpolar\",\"marker\":{\"colorbar\":{\"outlinewidth\":0,\"ticks\":\"\"}}}],\"histogram\":[{\"marker\":{\"pattern\":{\"fillmode\":\"overlay\",\"size\":10,\"solidity\":0.2}},\"type\":\"histogram\"}],\"scattergl\":[{\"marker\":{\"line\":{\"color\":\"#283442\"}},\"type\":\"scattergl\"}],\"scatter3d\":[{\"type\":\"scatter3d\",\"line\":{\"colorbar\":{\"outlinewidth\":0,\"ticks\":\"\"}},\"marker\":{\"colorbar\":{\"outlinewidth\":0,\"ticks\":\"\"}}}],\"scattermapbox\":[{\"type\":\"scattermapbox\",\"marker\":{\"colorbar\":{\"outlinewidth\":0,\"ticks\":\"\"}}}],\"scatterternary\":[{\"type\":\"scatterternary\",\"marker\":{\"colorbar\":{\"outlinewidth\":0,\"ticks\":\"\"}}}],\"scattercarpet\":[{\"type\":\"scattercarpet\",\"marker\":{\"colorbar\":{\"outlinewidth\":0,\"ticks\":\"\"}}}],\"carpet\":[{\"aaxis\":{\"endlinecolor\":\"#A2B1C6\",\"gridcolor\":\"#506784\",\"linecolor\":\"#506784\",\"minorgridcolor\":\"#506784\",\"startlinecolor\":\"#A2B1C6\"},\"baxis\":{\"endlinecolor\":\"#A2B1C6\",\"gridcolor\":\"#506784\",\"linecolor\":\"#506784\",\"minorgridcolor\":\"#506784\",\"startlinecolor\":\"#A2B1C6\"},\"type\":\"carpet\"}],\"table\":[{\"cells\":{\"fill\":{\"color\":\"#506784\"},\"line\":{\"color\":\"rgb(17,17,17)\"}},\"header\":{\"fill\":{\"color\":\"#2a3f5f\"},\"line\":{\"color\":\"rgb(17,17,17)\"}},\"type\":\"table\"}],\"barpolar\":[{\"marker\":{\"line\":{\"color\":\"rgb(17,17,17)\",\"width\":0.5},\"pattern\":{\"fillmode\":\"overlay\",\"size\":10,\"solidity\":0.2}},\"type\":\"barpolar\"}],\"pie\":[{\"automargin\":true,\"type\":\"pie\"}]},\"layout\":{\"autotypenumbers\":\"strict\",\"colorway\":[\"#636efa\",\"#EF553B\",\"#00cc96\",\"#ab63fa\",\"#FFA15A\",\"#19d3f3\",\"#FF6692\",\"#B6E880\",\"#FF97FF\",\"#FECB52\"],\"font\":{\"color\":\"#f2f5fa\"},\"hovermode\":\"closest\",\"hoverlabel\":{\"align\":\"left\"},\"paper_bgcolor\":\"rgb(17,17,17)\",\"plot_bgcolor\":\"rgb(17,17,17)\",\"polar\":{\"bgcolor\":\"rgb(17,17,17)\",\"angularaxis\":{\"gridcolor\":\"#506784\",\"linecolor\":\"#506784\",\"ticks\":\"\"},\"radialaxis\":{\"gridcolor\":\"#506784\",\"linecolor\":\"#506784\",\"ticks\":\"\"}},\"ternary\":{\"bgcolor\":\"rgb(17,17,17)\",\"aaxis\":{\"gridcolor\":\"#506784\",\"linecolor\":\"#506784\",\"ticks\":\"\"},\"baxis\":{\"gridcolor\":\"#506784\",\"linecolor\":\"#506784\",\"ticks\":\"\"},\"caxis\":{\"gridcolor\":\"#506784\",\"linecolor\":\"#506784\",\"ticks\":\"\"}},\"coloraxis\":{\"colorbar\":{\"outlinewidth\":0,\"ticks\":\"\"}},\"colorscale\":{\"sequential\":[[0.0,\"#0d0887\"],[0.1111111111111111,\"#46039f\"],[0.2222222222222222,\"#7201a8\"],[0.3333333333333333,\"#9c179e\"],[0.4444444444444444,\"#bd3786\"],[0.5555555555555556,\"#d8576b\"],[0.6666666666666666,\"#ed7953\"],[0.7777777777777778,\"#fb9f3a\"],[0.8888888888888888,\"#fdca26\"],[1.0,\"#f0f921\"]],\"sequentialminus\":[[0.0,\"#0d0887\"],[0.1111111111111111,\"#46039f\"],[0.2222222222222222,\"#7201a8\"],[0.3333333333333333,\"#9c179e\"],[0.4444444444444444,\"#bd3786\"],[0.5555555555555556,\"#d8576b\"],[0.6666666666666666,\"#ed7953\"],[0.7777777777777778,\"#fb9f3a\"],[0.8888888888888888,\"#fdca26\"],[1.0,\"#f0f921\"]],\"diverging\":[[0,\"#8e0152\"],[0.1,\"#c51b7d\"],[0.2,\"#de77ae\"],[0.3,\"#f1b6da\"],[0.4,\"#fde0ef\"],[0.5,\"#f7f7f7\"],[0.6,\"#e6f5d0\"],[0.7,\"#b8e186\"],[0.8,\"#7fbc41\"],[0.9,\"#4d9221\"],[1,\"#276419\"]]},\"xaxis\":{\"gridcolor\":\"#283442\",\"linecolor\":\"#506784\",\"ticks\":\"\",\"title\":{\"standoff\":15},\"zerolinecolor\":\"#283442\",\"automargin\":true,\"zerolinewidth\":2},\"yaxis\":{\"gridcolor\":\"#283442\",\"linecolor\":\"#506784\",\"ticks\":\"\",\"title\":{\"standoff\":15},\"zerolinecolor\":\"#283442\",\"automargin\":true,\"zerolinewidth\":2},\"scene\":{\"xaxis\":{\"backgroundcolor\":\"rgb(17,17,17)\",\"gridcolor\":\"#506784\",\"linecolor\":\"#506784\",\"showbackground\":true,\"ticks\":\"\",\"zerolinecolor\":\"#C8D4E3\",\"gridwidth\":2},\"yaxis\":{\"backgroundcolor\":\"rgb(17,17,17)\",\"gridcolor\":\"#506784\",\"linecolor\":\"#506784\",\"showbackground\":true,\"ticks\":\"\",\"zerolinecolor\":\"#C8D4E3\",\"gridwidth\":2},\"zaxis\":{\"backgroundcolor\":\"rgb(17,17,17)\",\"gridcolor\":\"#506784\",\"linecolor\":\"#506784\",\"showbackground\":true,\"ticks\":\"\",\"zerolinecolor\":\"#C8D4E3\",\"gridwidth\":2}},\"shapedefaults\":{\"line\":{\"color\":\"#f2f5fa\"}},\"annotationdefaults\":{\"arrowcolor\":\"#f2f5fa\",\"arrowhead\":0,\"arrowwidth\":1},\"geo\":{\"bgcolor\":\"rgb(17,17,17)\",\"landcolor\":\"rgb(17,17,17)\",\"subunitcolor\":\"#506784\",\"showland\":true,\"showlakes\":true,\"lakecolor\":\"rgb(17,17,17)\"},\"title\":{\"x\":0.05},\"updatemenudefaults\":{\"bgcolor\":\"#506784\",\"borderwidth\":0},\"sliderdefaults\":{\"bgcolor\":\"#C8D4E3\",\"borderwidth\":1,\"bordercolor\":\"rgb(17,17,17)\",\"tickwidth\":0},\"mapbox\":{\"style\":\"dark\"}}},\"xaxis\":{\"anchor\":\"y\",\"domain\":[0.0,1.0],\"title\":{\"text\":\"count\"}},\"yaxis\":{\"anchor\":\"x\",\"domain\":[0.0,1.0],\"title\":{\"text\":\"species\"}},\"legend\":{\"tracegroupgap\":0},\"margin\":{\"t\":60},\"barmode\":\"relative\"},                        {\"responsive\": true}                    ).then(function(){\n                            \nvar gd = document.getElementById('df55e117-a637-4422-94b9-9c1d8643b645');\nvar x = new MutationObserver(function (mutations, observer) {{\n        var display = window.getComputedStyle(gd).display;\n        if (!display || display === 'none') {{\n            console.log([gd, 'removed!']);\n            Plotly.purge(gd);\n            observer.disconnect();\n        }}\n}});\n\n// Listen for the removal of the full notebook cells\nvar notebookContainer = gd.closest('#notebook-container');\nif (notebookContainer) {{\n    x.observe(notebookContainer, {childList: true});\n}}\n\n// Listen for the clearing of the current output cell\nvar outputEl = gd.closest('.output');\nif (outputEl) {{\n    x.observe(outputEl, {childList: true});\n}}\n\n                        })                };                });            </script>        </div>"
     },
     "metadata": {},
     "output_type": "display_data"
    }
   ],
   "source": [
    "fig = px.histogram(df,\n",
    "                   x=\"petal_width\",\n",
    "                   y=\"species\",\n",
    "                   histfunc='count',\n",
    "                   orientation='h')\n",
    "\n",
    "fig.show()"
   ],
   "metadata": {
    "collapsed": false
   }
  },
  {
   "cell_type": "markdown",
   "source": [
    "3. Побудуйте лінійний графік, що відображає зміну середнього значення \"sepal_length\" в залежності від значення \"sepal_width\" для кожного виду квітки (setosa, versicolor, virginica).\n"
   ],
   "metadata": {
    "collapsed": false
   }
  },
  {
   "cell_type": "code",
   "execution_count": 8,
   "outputs": [
    {
     "data": {
      "application/vnd.plotly.v1+json": {
       "data": [
        {
         "hovertemplate": "species=setosa<br>sepal_width=%{x}<br>sepal_length=%{y}<extra></extra>",
         "legendgroup": "setosa",
         "line": {
          "color": "#636efa",
          "dash": "solid"
         },
         "marker": {
          "symbol": "circle"
         },
         "mode": "lines",
         "name": "setosa",
         "orientation": "v",
         "showlegend": true,
         "x": [
          2.3,
          2.9,
          3.0,
          3.1,
          3.2,
          3.3,
          3.4,
          3.5,
          3.6,
          3.7,
          3.8,
          3.9,
          4.0,
          4.1,
          4.2,
          4.4
         ],
         "xaxis": "x",
         "y": [
          4.5,
          4.4,
          4.7,
          4.82,
          4.68,
          5.05,
          5.033333333333333,
          5.1499999999999995,
          4.8,
          5.266666666666667,
          5.25,
          5.4,
          5.8,
          5.2,
          5.5,
          5.7
         ],
         "yaxis": "y",
         "type": "scatter"
        },
        {
         "hovertemplate": "species=versicolor<br>sepal_width=%{x}<br>sepal_length=%{y}<extra></extra>",
         "legendgroup": "versicolor",
         "line": {
          "color": "#EF553B",
          "dash": "solid"
         },
         "marker": {
          "symbol": "circle"
         },
         "mode": "lines",
         "name": "versicolor",
         "orientation": "v",
         "showlegend": true,
         "x": [
          2.0,
          2.2,
          2.3,
          2.4,
          2.5,
          2.6,
          2.7,
          2.8,
          2.9,
          3.0,
          3.1,
          3.2,
          3.3,
          3.4
         ],
         "xaxis": "x",
         "y": [
          5.0,
          6.1,
          5.6000000000000005,
          5.3,
          5.625,
          5.666666666666667,
          5.68,
          6.1499999999999995,
          6.085714285714286,
          5.95,
          6.766666666666667,
          6.433333333333334,
          6.3,
          6.0
         ],
         "yaxis": "y",
         "type": "scatter"
        },
        {
         "hovertemplate": "species=virginica<br>sepal_width=%{x}<br>sepal_length=%{y}<extra></extra>",
         "legendgroup": "virginica",
         "line": {
          "color": "#00cc96",
          "dash": "solid"
         },
         "marker": {
          "symbol": "circle"
         },
         "mode": "lines",
         "name": "virginica",
         "orientation": "v",
         "showlegend": true,
         "x": [
          2.2,
          2.5,
          2.6,
          2.7,
          2.8,
          2.9,
          3.0,
          3.1,
          3.2,
          3.3,
          3.4,
          3.6,
          3.8
         ],
         "xaxis": "x",
         "y": [
          6.0,
          5.9,
          6.9,
          6.075,
          6.475,
          6.8,
          6.716666666666666,
          6.7250000000000005,
          6.76,
          6.566666666666666,
          6.25,
          7.2,
          7.800000000000001
         ],
         "yaxis": "y",
         "type": "scatter"
        }
       ],
       "layout": {
        "template": {
         "data": {
          "histogram2dcontour": [
           {
            "type": "histogram2dcontour",
            "colorbar": {
             "outlinewidth": 0,
             "ticks": ""
            },
            "colorscale": [
             [
              0.0,
              "#0d0887"
             ],
             [
              0.1111111111111111,
              "#46039f"
             ],
             [
              0.2222222222222222,
              "#7201a8"
             ],
             [
              0.3333333333333333,
              "#9c179e"
             ],
             [
              0.4444444444444444,
              "#bd3786"
             ],
             [
              0.5555555555555556,
              "#d8576b"
             ],
             [
              0.6666666666666666,
              "#ed7953"
             ],
             [
              0.7777777777777778,
              "#fb9f3a"
             ],
             [
              0.8888888888888888,
              "#fdca26"
             ],
             [
              1.0,
              "#f0f921"
             ]
            ]
           }
          ],
          "choropleth": [
           {
            "type": "choropleth",
            "colorbar": {
             "outlinewidth": 0,
             "ticks": ""
            }
           }
          ],
          "histogram2d": [
           {
            "type": "histogram2d",
            "colorbar": {
             "outlinewidth": 0,
             "ticks": ""
            },
            "colorscale": [
             [
              0.0,
              "#0d0887"
             ],
             [
              0.1111111111111111,
              "#46039f"
             ],
             [
              0.2222222222222222,
              "#7201a8"
             ],
             [
              0.3333333333333333,
              "#9c179e"
             ],
             [
              0.4444444444444444,
              "#bd3786"
             ],
             [
              0.5555555555555556,
              "#d8576b"
             ],
             [
              0.6666666666666666,
              "#ed7953"
             ],
             [
              0.7777777777777778,
              "#fb9f3a"
             ],
             [
              0.8888888888888888,
              "#fdca26"
             ],
             [
              1.0,
              "#f0f921"
             ]
            ]
           }
          ],
          "heatmap": [
           {
            "type": "heatmap",
            "colorbar": {
             "outlinewidth": 0,
             "ticks": ""
            },
            "colorscale": [
             [
              0.0,
              "#0d0887"
             ],
             [
              0.1111111111111111,
              "#46039f"
             ],
             [
              0.2222222222222222,
              "#7201a8"
             ],
             [
              0.3333333333333333,
              "#9c179e"
             ],
             [
              0.4444444444444444,
              "#bd3786"
             ],
             [
              0.5555555555555556,
              "#d8576b"
             ],
             [
              0.6666666666666666,
              "#ed7953"
             ],
             [
              0.7777777777777778,
              "#fb9f3a"
             ],
             [
              0.8888888888888888,
              "#fdca26"
             ],
             [
              1.0,
              "#f0f921"
             ]
            ]
           }
          ],
          "heatmapgl": [
           {
            "type": "heatmapgl",
            "colorbar": {
             "outlinewidth": 0,
             "ticks": ""
            },
            "colorscale": [
             [
              0.0,
              "#0d0887"
             ],
             [
              0.1111111111111111,
              "#46039f"
             ],
             [
              0.2222222222222222,
              "#7201a8"
             ],
             [
              0.3333333333333333,
              "#9c179e"
             ],
             [
              0.4444444444444444,
              "#bd3786"
             ],
             [
              0.5555555555555556,
              "#d8576b"
             ],
             [
              0.6666666666666666,
              "#ed7953"
             ],
             [
              0.7777777777777778,
              "#fb9f3a"
             ],
             [
              0.8888888888888888,
              "#fdca26"
             ],
             [
              1.0,
              "#f0f921"
             ]
            ]
           }
          ],
          "contourcarpet": [
           {
            "type": "contourcarpet",
            "colorbar": {
             "outlinewidth": 0,
             "ticks": ""
            }
           }
          ],
          "contour": [
           {
            "type": "contour",
            "colorbar": {
             "outlinewidth": 0,
             "ticks": ""
            },
            "colorscale": [
             [
              0.0,
              "#0d0887"
             ],
             [
              0.1111111111111111,
              "#46039f"
             ],
             [
              0.2222222222222222,
              "#7201a8"
             ],
             [
              0.3333333333333333,
              "#9c179e"
             ],
             [
              0.4444444444444444,
              "#bd3786"
             ],
             [
              0.5555555555555556,
              "#d8576b"
             ],
             [
              0.6666666666666666,
              "#ed7953"
             ],
             [
              0.7777777777777778,
              "#fb9f3a"
             ],
             [
              0.8888888888888888,
              "#fdca26"
             ],
             [
              1.0,
              "#f0f921"
             ]
            ]
           }
          ],
          "surface": [
           {
            "type": "surface",
            "colorbar": {
             "outlinewidth": 0,
             "ticks": ""
            },
            "colorscale": [
             [
              0.0,
              "#0d0887"
             ],
             [
              0.1111111111111111,
              "#46039f"
             ],
             [
              0.2222222222222222,
              "#7201a8"
             ],
             [
              0.3333333333333333,
              "#9c179e"
             ],
             [
              0.4444444444444444,
              "#bd3786"
             ],
             [
              0.5555555555555556,
              "#d8576b"
             ],
             [
              0.6666666666666666,
              "#ed7953"
             ],
             [
              0.7777777777777778,
              "#fb9f3a"
             ],
             [
              0.8888888888888888,
              "#fdca26"
             ],
             [
              1.0,
              "#f0f921"
             ]
            ]
           }
          ],
          "mesh3d": [
           {
            "type": "mesh3d",
            "colorbar": {
             "outlinewidth": 0,
             "ticks": ""
            }
           }
          ],
          "scatter": [
           {
            "marker": {
             "line": {
              "color": "#283442"
             }
            },
            "type": "scatter"
           }
          ],
          "parcoords": [
           {
            "type": "parcoords",
            "line": {
             "colorbar": {
              "outlinewidth": 0,
              "ticks": ""
             }
            }
           }
          ],
          "scatterpolargl": [
           {
            "type": "scatterpolargl",
            "marker": {
             "colorbar": {
              "outlinewidth": 0,
              "ticks": ""
             }
            }
           }
          ],
          "bar": [
           {
            "error_x": {
             "color": "#f2f5fa"
            },
            "error_y": {
             "color": "#f2f5fa"
            },
            "marker": {
             "line": {
              "color": "rgb(17,17,17)",
              "width": 0.5
             },
             "pattern": {
              "fillmode": "overlay",
              "size": 10,
              "solidity": 0.2
             }
            },
            "type": "bar"
           }
          ],
          "scattergeo": [
           {
            "type": "scattergeo",
            "marker": {
             "colorbar": {
              "outlinewidth": 0,
              "ticks": ""
             }
            }
           }
          ],
          "scatterpolar": [
           {
            "type": "scatterpolar",
            "marker": {
             "colorbar": {
              "outlinewidth": 0,
              "ticks": ""
             }
            }
           }
          ],
          "histogram": [
           {
            "marker": {
             "pattern": {
              "fillmode": "overlay",
              "size": 10,
              "solidity": 0.2
             }
            },
            "type": "histogram"
           }
          ],
          "scattergl": [
           {
            "marker": {
             "line": {
              "color": "#283442"
             }
            },
            "type": "scattergl"
           }
          ],
          "scatter3d": [
           {
            "type": "scatter3d",
            "line": {
             "colorbar": {
              "outlinewidth": 0,
              "ticks": ""
             }
            },
            "marker": {
             "colorbar": {
              "outlinewidth": 0,
              "ticks": ""
             }
            }
           }
          ],
          "scattermapbox": [
           {
            "type": "scattermapbox",
            "marker": {
             "colorbar": {
              "outlinewidth": 0,
              "ticks": ""
             }
            }
           }
          ],
          "scatterternary": [
           {
            "type": "scatterternary",
            "marker": {
             "colorbar": {
              "outlinewidth": 0,
              "ticks": ""
             }
            }
           }
          ],
          "scattercarpet": [
           {
            "type": "scattercarpet",
            "marker": {
             "colorbar": {
              "outlinewidth": 0,
              "ticks": ""
             }
            }
           }
          ],
          "carpet": [
           {
            "aaxis": {
             "endlinecolor": "#A2B1C6",
             "gridcolor": "#506784",
             "linecolor": "#506784",
             "minorgridcolor": "#506784",
             "startlinecolor": "#A2B1C6"
            },
            "baxis": {
             "endlinecolor": "#A2B1C6",
             "gridcolor": "#506784",
             "linecolor": "#506784",
             "minorgridcolor": "#506784",
             "startlinecolor": "#A2B1C6"
            },
            "type": "carpet"
           }
          ],
          "table": [
           {
            "cells": {
             "fill": {
              "color": "#506784"
             },
             "line": {
              "color": "rgb(17,17,17)"
             }
            },
            "header": {
             "fill": {
              "color": "#2a3f5f"
             },
             "line": {
              "color": "rgb(17,17,17)"
             }
            },
            "type": "table"
           }
          ],
          "barpolar": [
           {
            "marker": {
             "line": {
              "color": "rgb(17,17,17)",
              "width": 0.5
             },
             "pattern": {
              "fillmode": "overlay",
              "size": 10,
              "solidity": 0.2
             }
            },
            "type": "barpolar"
           }
          ],
          "pie": [
           {
            "automargin": true,
            "type": "pie"
           }
          ]
         },
         "layout": {
          "autotypenumbers": "strict",
          "colorway": [
           "#636efa",
           "#EF553B",
           "#00cc96",
           "#ab63fa",
           "#FFA15A",
           "#19d3f3",
           "#FF6692",
           "#B6E880",
           "#FF97FF",
           "#FECB52"
          ],
          "font": {
           "color": "#f2f5fa"
          },
          "hovermode": "closest",
          "hoverlabel": {
           "align": "left"
          },
          "paper_bgcolor": "rgb(17,17,17)",
          "plot_bgcolor": "rgb(17,17,17)",
          "polar": {
           "bgcolor": "rgb(17,17,17)",
           "angularaxis": {
            "gridcolor": "#506784",
            "linecolor": "#506784",
            "ticks": ""
           },
           "radialaxis": {
            "gridcolor": "#506784",
            "linecolor": "#506784",
            "ticks": ""
           }
          },
          "ternary": {
           "bgcolor": "rgb(17,17,17)",
           "aaxis": {
            "gridcolor": "#506784",
            "linecolor": "#506784",
            "ticks": ""
           },
           "baxis": {
            "gridcolor": "#506784",
            "linecolor": "#506784",
            "ticks": ""
           },
           "caxis": {
            "gridcolor": "#506784",
            "linecolor": "#506784",
            "ticks": ""
           }
          },
          "coloraxis": {
           "colorbar": {
            "outlinewidth": 0,
            "ticks": ""
           }
          },
          "colorscale": {
           "sequential": [
            [
             0.0,
             "#0d0887"
            ],
            [
             0.1111111111111111,
             "#46039f"
            ],
            [
             0.2222222222222222,
             "#7201a8"
            ],
            [
             0.3333333333333333,
             "#9c179e"
            ],
            [
             0.4444444444444444,
             "#bd3786"
            ],
            [
             0.5555555555555556,
             "#d8576b"
            ],
            [
             0.6666666666666666,
             "#ed7953"
            ],
            [
             0.7777777777777778,
             "#fb9f3a"
            ],
            [
             0.8888888888888888,
             "#fdca26"
            ],
            [
             1.0,
             "#f0f921"
            ]
           ],
           "sequentialminus": [
            [
             0.0,
             "#0d0887"
            ],
            [
             0.1111111111111111,
             "#46039f"
            ],
            [
             0.2222222222222222,
             "#7201a8"
            ],
            [
             0.3333333333333333,
             "#9c179e"
            ],
            [
             0.4444444444444444,
             "#bd3786"
            ],
            [
             0.5555555555555556,
             "#d8576b"
            ],
            [
             0.6666666666666666,
             "#ed7953"
            ],
            [
             0.7777777777777778,
             "#fb9f3a"
            ],
            [
             0.8888888888888888,
             "#fdca26"
            ],
            [
             1.0,
             "#f0f921"
            ]
           ],
           "diverging": [
            [
             0,
             "#8e0152"
            ],
            [
             0.1,
             "#c51b7d"
            ],
            [
             0.2,
             "#de77ae"
            ],
            [
             0.3,
             "#f1b6da"
            ],
            [
             0.4,
             "#fde0ef"
            ],
            [
             0.5,
             "#f7f7f7"
            ],
            [
             0.6,
             "#e6f5d0"
            ],
            [
             0.7,
             "#b8e186"
            ],
            [
             0.8,
             "#7fbc41"
            ],
            [
             0.9,
             "#4d9221"
            ],
            [
             1,
             "#276419"
            ]
           ]
          },
          "xaxis": {
           "gridcolor": "#283442",
           "linecolor": "#506784",
           "ticks": "",
           "title": {
            "standoff": 15
           },
           "zerolinecolor": "#283442",
           "automargin": true,
           "zerolinewidth": 2
          },
          "yaxis": {
           "gridcolor": "#283442",
           "linecolor": "#506784",
           "ticks": "",
           "title": {
            "standoff": 15
           },
           "zerolinecolor": "#283442",
           "automargin": true,
           "zerolinewidth": 2
          },
          "scene": {
           "xaxis": {
            "backgroundcolor": "rgb(17,17,17)",
            "gridcolor": "#506784",
            "linecolor": "#506784",
            "showbackground": true,
            "ticks": "",
            "zerolinecolor": "#C8D4E3",
            "gridwidth": 2
           },
           "yaxis": {
            "backgroundcolor": "rgb(17,17,17)",
            "gridcolor": "#506784",
            "linecolor": "#506784",
            "showbackground": true,
            "ticks": "",
            "zerolinecolor": "#C8D4E3",
            "gridwidth": 2
           },
           "zaxis": {
            "backgroundcolor": "rgb(17,17,17)",
            "gridcolor": "#506784",
            "linecolor": "#506784",
            "showbackground": true,
            "ticks": "",
            "zerolinecolor": "#C8D4E3",
            "gridwidth": 2
           }
          },
          "shapedefaults": {
           "line": {
            "color": "#f2f5fa"
           }
          },
          "annotationdefaults": {
           "arrowcolor": "#f2f5fa",
           "arrowhead": 0,
           "arrowwidth": 1
          },
          "geo": {
           "bgcolor": "rgb(17,17,17)",
           "landcolor": "rgb(17,17,17)",
           "subunitcolor": "#506784",
           "showland": true,
           "showlakes": true,
           "lakecolor": "rgb(17,17,17)"
          },
          "title": {
           "x": 0.05
          },
          "updatemenudefaults": {
           "bgcolor": "#506784",
           "borderwidth": 0
          },
          "sliderdefaults": {
           "bgcolor": "#C8D4E3",
           "borderwidth": 1,
           "bordercolor": "rgb(17,17,17)",
           "tickwidth": 0
          },
          "mapbox": {
           "style": "dark"
          }
         }
        },
        "xaxis": {
         "anchor": "y",
         "domain": [
          0.0,
          1.0
         ],
         "title": {
          "text": "sepal_width"
         }
        },
        "yaxis": {
         "anchor": "x",
         "domain": [
          0.0,
          1.0
         ],
         "title": {
          "text": "sepal_length"
         }
        },
        "legend": {
         "title": {
          "text": "species"
         },
         "tracegroupgap": 0
        },
        "margin": {
         "t": 60
        }
       },
       "config": {
        "plotlyServerURL": "https://plot.ly"
       }
      },
      "text/html": "<div>                            <div id=\"b0c2fa7d-4d0e-4b32-98ab-1c61e703a46f\" class=\"plotly-graph-div\" style=\"height:525px; width:100%;\"></div>            <script type=\"text/javascript\">                require([\"plotly\"], function(Plotly) {                    window.PLOTLYENV=window.PLOTLYENV || {};                                    if (document.getElementById(\"b0c2fa7d-4d0e-4b32-98ab-1c61e703a46f\")) {                    Plotly.newPlot(                        \"b0c2fa7d-4d0e-4b32-98ab-1c61e703a46f\",                        [{\"hovertemplate\":\"species=setosa<br>sepal_width=%{x}<br>sepal_length=%{y}<extra></extra>\",\"legendgroup\":\"setosa\",\"line\":{\"color\":\"#636efa\",\"dash\":\"solid\"},\"marker\":{\"symbol\":\"circle\"},\"mode\":\"lines\",\"name\":\"setosa\",\"orientation\":\"v\",\"showlegend\":true,\"x\":[2.3,2.9,3.0,3.1,3.2,3.3,3.4,3.5,3.6,3.7,3.8,3.9,4.0,4.1,4.2,4.4],\"xaxis\":\"x\",\"y\":[4.5,4.4,4.7,4.82,4.68,5.05,5.033333333333333,5.1499999999999995,4.8,5.266666666666667,5.25,5.4,5.8,5.2,5.5,5.7],\"yaxis\":\"y\",\"type\":\"scatter\"},{\"hovertemplate\":\"species=versicolor<br>sepal_width=%{x}<br>sepal_length=%{y}<extra></extra>\",\"legendgroup\":\"versicolor\",\"line\":{\"color\":\"#EF553B\",\"dash\":\"solid\"},\"marker\":{\"symbol\":\"circle\"},\"mode\":\"lines\",\"name\":\"versicolor\",\"orientation\":\"v\",\"showlegend\":true,\"x\":[2.0,2.2,2.3,2.4,2.5,2.6,2.7,2.8,2.9,3.0,3.1,3.2,3.3,3.4],\"xaxis\":\"x\",\"y\":[5.0,6.1,5.6000000000000005,5.3,5.625,5.666666666666667,5.68,6.1499999999999995,6.085714285714286,5.95,6.766666666666667,6.433333333333334,6.3,6.0],\"yaxis\":\"y\",\"type\":\"scatter\"},{\"hovertemplate\":\"species=virginica<br>sepal_width=%{x}<br>sepal_length=%{y}<extra></extra>\",\"legendgroup\":\"virginica\",\"line\":{\"color\":\"#00cc96\",\"dash\":\"solid\"},\"marker\":{\"symbol\":\"circle\"},\"mode\":\"lines\",\"name\":\"virginica\",\"orientation\":\"v\",\"showlegend\":true,\"x\":[2.2,2.5,2.6,2.7,2.8,2.9,3.0,3.1,3.2,3.3,3.4,3.6,3.8],\"xaxis\":\"x\",\"y\":[6.0,5.9,6.9,6.075,6.475,6.8,6.716666666666666,6.7250000000000005,6.76,6.566666666666666,6.25,7.2,7.800000000000001],\"yaxis\":\"y\",\"type\":\"scatter\"}],                        {\"template\":{\"data\":{\"histogram2dcontour\":[{\"type\":\"histogram2dcontour\",\"colorbar\":{\"outlinewidth\":0,\"ticks\":\"\"},\"colorscale\":[[0.0,\"#0d0887\"],[0.1111111111111111,\"#46039f\"],[0.2222222222222222,\"#7201a8\"],[0.3333333333333333,\"#9c179e\"],[0.4444444444444444,\"#bd3786\"],[0.5555555555555556,\"#d8576b\"],[0.6666666666666666,\"#ed7953\"],[0.7777777777777778,\"#fb9f3a\"],[0.8888888888888888,\"#fdca26\"],[1.0,\"#f0f921\"]]}],\"choropleth\":[{\"type\":\"choropleth\",\"colorbar\":{\"outlinewidth\":0,\"ticks\":\"\"}}],\"histogram2d\":[{\"type\":\"histogram2d\",\"colorbar\":{\"outlinewidth\":0,\"ticks\":\"\"},\"colorscale\":[[0.0,\"#0d0887\"],[0.1111111111111111,\"#46039f\"],[0.2222222222222222,\"#7201a8\"],[0.3333333333333333,\"#9c179e\"],[0.4444444444444444,\"#bd3786\"],[0.5555555555555556,\"#d8576b\"],[0.6666666666666666,\"#ed7953\"],[0.7777777777777778,\"#fb9f3a\"],[0.8888888888888888,\"#fdca26\"],[1.0,\"#f0f921\"]]}],\"heatmap\":[{\"type\":\"heatmap\",\"colorbar\":{\"outlinewidth\":0,\"ticks\":\"\"},\"colorscale\":[[0.0,\"#0d0887\"],[0.1111111111111111,\"#46039f\"],[0.2222222222222222,\"#7201a8\"],[0.3333333333333333,\"#9c179e\"],[0.4444444444444444,\"#bd3786\"],[0.5555555555555556,\"#d8576b\"],[0.6666666666666666,\"#ed7953\"],[0.7777777777777778,\"#fb9f3a\"],[0.8888888888888888,\"#fdca26\"],[1.0,\"#f0f921\"]]}],\"heatmapgl\":[{\"type\":\"heatmapgl\",\"colorbar\":{\"outlinewidth\":0,\"ticks\":\"\"},\"colorscale\":[[0.0,\"#0d0887\"],[0.1111111111111111,\"#46039f\"],[0.2222222222222222,\"#7201a8\"],[0.3333333333333333,\"#9c179e\"],[0.4444444444444444,\"#bd3786\"],[0.5555555555555556,\"#d8576b\"],[0.6666666666666666,\"#ed7953\"],[0.7777777777777778,\"#fb9f3a\"],[0.8888888888888888,\"#fdca26\"],[1.0,\"#f0f921\"]]}],\"contourcarpet\":[{\"type\":\"contourcarpet\",\"colorbar\":{\"outlinewidth\":0,\"ticks\":\"\"}}],\"contour\":[{\"type\":\"contour\",\"colorbar\":{\"outlinewidth\":0,\"ticks\":\"\"},\"colorscale\":[[0.0,\"#0d0887\"],[0.1111111111111111,\"#46039f\"],[0.2222222222222222,\"#7201a8\"],[0.3333333333333333,\"#9c179e\"],[0.4444444444444444,\"#bd3786\"],[0.5555555555555556,\"#d8576b\"],[0.6666666666666666,\"#ed7953\"],[0.7777777777777778,\"#fb9f3a\"],[0.8888888888888888,\"#fdca26\"],[1.0,\"#f0f921\"]]}],\"surface\":[{\"type\":\"surface\",\"colorbar\":{\"outlinewidth\":0,\"ticks\":\"\"},\"colorscale\":[[0.0,\"#0d0887\"],[0.1111111111111111,\"#46039f\"],[0.2222222222222222,\"#7201a8\"],[0.3333333333333333,\"#9c179e\"],[0.4444444444444444,\"#bd3786\"],[0.5555555555555556,\"#d8576b\"],[0.6666666666666666,\"#ed7953\"],[0.7777777777777778,\"#fb9f3a\"],[0.8888888888888888,\"#fdca26\"],[1.0,\"#f0f921\"]]}],\"mesh3d\":[{\"type\":\"mesh3d\",\"colorbar\":{\"outlinewidth\":0,\"ticks\":\"\"}}],\"scatter\":[{\"marker\":{\"line\":{\"color\":\"#283442\"}},\"type\":\"scatter\"}],\"parcoords\":[{\"type\":\"parcoords\",\"line\":{\"colorbar\":{\"outlinewidth\":0,\"ticks\":\"\"}}}],\"scatterpolargl\":[{\"type\":\"scatterpolargl\",\"marker\":{\"colorbar\":{\"outlinewidth\":0,\"ticks\":\"\"}}}],\"bar\":[{\"error_x\":{\"color\":\"#f2f5fa\"},\"error_y\":{\"color\":\"#f2f5fa\"},\"marker\":{\"line\":{\"color\":\"rgb(17,17,17)\",\"width\":0.5},\"pattern\":{\"fillmode\":\"overlay\",\"size\":10,\"solidity\":0.2}},\"type\":\"bar\"}],\"scattergeo\":[{\"type\":\"scattergeo\",\"marker\":{\"colorbar\":{\"outlinewidth\":0,\"ticks\":\"\"}}}],\"scatterpolar\":[{\"type\":\"scatterpolar\",\"marker\":{\"colorbar\":{\"outlinewidth\":0,\"ticks\":\"\"}}}],\"histogram\":[{\"marker\":{\"pattern\":{\"fillmode\":\"overlay\",\"size\":10,\"solidity\":0.2}},\"type\":\"histogram\"}],\"scattergl\":[{\"marker\":{\"line\":{\"color\":\"#283442\"}},\"type\":\"scattergl\"}],\"scatter3d\":[{\"type\":\"scatter3d\",\"line\":{\"colorbar\":{\"outlinewidth\":0,\"ticks\":\"\"}},\"marker\":{\"colorbar\":{\"outlinewidth\":0,\"ticks\":\"\"}}}],\"scattermapbox\":[{\"type\":\"scattermapbox\",\"marker\":{\"colorbar\":{\"outlinewidth\":0,\"ticks\":\"\"}}}],\"scatterternary\":[{\"type\":\"scatterternary\",\"marker\":{\"colorbar\":{\"outlinewidth\":0,\"ticks\":\"\"}}}],\"scattercarpet\":[{\"type\":\"scattercarpet\",\"marker\":{\"colorbar\":{\"outlinewidth\":0,\"ticks\":\"\"}}}],\"carpet\":[{\"aaxis\":{\"endlinecolor\":\"#A2B1C6\",\"gridcolor\":\"#506784\",\"linecolor\":\"#506784\",\"minorgridcolor\":\"#506784\",\"startlinecolor\":\"#A2B1C6\"},\"baxis\":{\"endlinecolor\":\"#A2B1C6\",\"gridcolor\":\"#506784\",\"linecolor\":\"#506784\",\"minorgridcolor\":\"#506784\",\"startlinecolor\":\"#A2B1C6\"},\"type\":\"carpet\"}],\"table\":[{\"cells\":{\"fill\":{\"color\":\"#506784\"},\"line\":{\"color\":\"rgb(17,17,17)\"}},\"header\":{\"fill\":{\"color\":\"#2a3f5f\"},\"line\":{\"color\":\"rgb(17,17,17)\"}},\"type\":\"table\"}],\"barpolar\":[{\"marker\":{\"line\":{\"color\":\"rgb(17,17,17)\",\"width\":0.5},\"pattern\":{\"fillmode\":\"overlay\",\"size\":10,\"solidity\":0.2}},\"type\":\"barpolar\"}],\"pie\":[{\"automargin\":true,\"type\":\"pie\"}]},\"layout\":{\"autotypenumbers\":\"strict\",\"colorway\":[\"#636efa\",\"#EF553B\",\"#00cc96\",\"#ab63fa\",\"#FFA15A\",\"#19d3f3\",\"#FF6692\",\"#B6E880\",\"#FF97FF\",\"#FECB52\"],\"font\":{\"color\":\"#f2f5fa\"},\"hovermode\":\"closest\",\"hoverlabel\":{\"align\":\"left\"},\"paper_bgcolor\":\"rgb(17,17,17)\",\"plot_bgcolor\":\"rgb(17,17,17)\",\"polar\":{\"bgcolor\":\"rgb(17,17,17)\",\"angularaxis\":{\"gridcolor\":\"#506784\",\"linecolor\":\"#506784\",\"ticks\":\"\"},\"radialaxis\":{\"gridcolor\":\"#506784\",\"linecolor\":\"#506784\",\"ticks\":\"\"}},\"ternary\":{\"bgcolor\":\"rgb(17,17,17)\",\"aaxis\":{\"gridcolor\":\"#506784\",\"linecolor\":\"#506784\",\"ticks\":\"\"},\"baxis\":{\"gridcolor\":\"#506784\",\"linecolor\":\"#506784\",\"ticks\":\"\"},\"caxis\":{\"gridcolor\":\"#506784\",\"linecolor\":\"#506784\",\"ticks\":\"\"}},\"coloraxis\":{\"colorbar\":{\"outlinewidth\":0,\"ticks\":\"\"}},\"colorscale\":{\"sequential\":[[0.0,\"#0d0887\"],[0.1111111111111111,\"#46039f\"],[0.2222222222222222,\"#7201a8\"],[0.3333333333333333,\"#9c179e\"],[0.4444444444444444,\"#bd3786\"],[0.5555555555555556,\"#d8576b\"],[0.6666666666666666,\"#ed7953\"],[0.7777777777777778,\"#fb9f3a\"],[0.8888888888888888,\"#fdca26\"],[1.0,\"#f0f921\"]],\"sequentialminus\":[[0.0,\"#0d0887\"],[0.1111111111111111,\"#46039f\"],[0.2222222222222222,\"#7201a8\"],[0.3333333333333333,\"#9c179e\"],[0.4444444444444444,\"#bd3786\"],[0.5555555555555556,\"#d8576b\"],[0.6666666666666666,\"#ed7953\"],[0.7777777777777778,\"#fb9f3a\"],[0.8888888888888888,\"#fdca26\"],[1.0,\"#f0f921\"]],\"diverging\":[[0,\"#8e0152\"],[0.1,\"#c51b7d\"],[0.2,\"#de77ae\"],[0.3,\"#f1b6da\"],[0.4,\"#fde0ef\"],[0.5,\"#f7f7f7\"],[0.6,\"#e6f5d0\"],[0.7,\"#b8e186\"],[0.8,\"#7fbc41\"],[0.9,\"#4d9221\"],[1,\"#276419\"]]},\"xaxis\":{\"gridcolor\":\"#283442\",\"linecolor\":\"#506784\",\"ticks\":\"\",\"title\":{\"standoff\":15},\"zerolinecolor\":\"#283442\",\"automargin\":true,\"zerolinewidth\":2},\"yaxis\":{\"gridcolor\":\"#283442\",\"linecolor\":\"#506784\",\"ticks\":\"\",\"title\":{\"standoff\":15},\"zerolinecolor\":\"#283442\",\"automargin\":true,\"zerolinewidth\":2},\"scene\":{\"xaxis\":{\"backgroundcolor\":\"rgb(17,17,17)\",\"gridcolor\":\"#506784\",\"linecolor\":\"#506784\",\"showbackground\":true,\"ticks\":\"\",\"zerolinecolor\":\"#C8D4E3\",\"gridwidth\":2},\"yaxis\":{\"backgroundcolor\":\"rgb(17,17,17)\",\"gridcolor\":\"#506784\",\"linecolor\":\"#506784\",\"showbackground\":true,\"ticks\":\"\",\"zerolinecolor\":\"#C8D4E3\",\"gridwidth\":2},\"zaxis\":{\"backgroundcolor\":\"rgb(17,17,17)\",\"gridcolor\":\"#506784\",\"linecolor\":\"#506784\",\"showbackground\":true,\"ticks\":\"\",\"zerolinecolor\":\"#C8D4E3\",\"gridwidth\":2}},\"shapedefaults\":{\"line\":{\"color\":\"#f2f5fa\"}},\"annotationdefaults\":{\"arrowcolor\":\"#f2f5fa\",\"arrowhead\":0,\"arrowwidth\":1},\"geo\":{\"bgcolor\":\"rgb(17,17,17)\",\"landcolor\":\"rgb(17,17,17)\",\"subunitcolor\":\"#506784\",\"showland\":true,\"showlakes\":true,\"lakecolor\":\"rgb(17,17,17)\"},\"title\":{\"x\":0.05},\"updatemenudefaults\":{\"bgcolor\":\"#506784\",\"borderwidth\":0},\"sliderdefaults\":{\"bgcolor\":\"#C8D4E3\",\"borderwidth\":1,\"bordercolor\":\"rgb(17,17,17)\",\"tickwidth\":0},\"mapbox\":{\"style\":\"dark\"}}},\"xaxis\":{\"anchor\":\"y\",\"domain\":[0.0,1.0],\"title\":{\"text\":\"sepal_width\"}},\"yaxis\":{\"anchor\":\"x\",\"domain\":[0.0,1.0],\"title\":{\"text\":\"sepal_length\"}},\"legend\":{\"title\":{\"text\":\"species\"},\"tracegroupgap\":0},\"margin\":{\"t\":60}},                        {\"responsive\": true}                    ).then(function(){\n                            \nvar gd = document.getElementById('b0c2fa7d-4d0e-4b32-98ab-1c61e703a46f');\nvar x = new MutationObserver(function (mutations, observer) {{\n        var display = window.getComputedStyle(gd).display;\n        if (!display || display === 'none') {{\n            console.log([gd, 'removed!']);\n            Plotly.purge(gd);\n            observer.disconnect();\n        }}\n}});\n\n// Listen for the removal of the full notebook cells\nvar notebookContainer = gd.closest('#notebook-container');\nif (notebookContainer) {{\n    x.observe(notebookContainer, {childList: true});\n}}\n\n// Listen for the clearing of the current output cell\nvar outputEl = gd.closest('.output');\nif (outputEl) {{\n    x.observe(outputEl, {childList: true});\n}}\n\n                        })                };                });            </script>        </div>"
     },
     "metadata": {},
     "output_type": "display_data"
    }
   ],
   "source": [
    "avg_values = df.groupby(['species', 'sepal_width'])['sepal_length'].mean().reset_index()\n",
    "\n",
    "fig = px.line(avg_values,\n",
    "              x='sepal_width',\n",
    "              y='sepal_length',\n",
    "              color='species')\n",
    "\n",
    "fig.show()"
   ],
   "metadata": {
    "collapsed": false
   }
  },
  {
   "cell_type": "markdown",
   "source": [
    "## Для датасету  px.data.gapminder() побудувати наступні графіки\n"
   ],
   "metadata": {
    "collapsed": false
   }
  },
  {
   "cell_type": "markdown",
   "source": [
    "1. Побудувати гістограму, яка відображає розподіл ВВП за країнами для року 2007. Обрати 10 країн з найбільшим ВВП та позначити їх на гістограмі з неперервною зміною кольору. Додати підписи над стовпцями та вирівняти їх горизонтально. Назва графіку має бути розташована за центром.\n"
   ],
   "metadata": {
    "collapsed": false
   }
  },
  {
   "cell_type": "code",
   "execution_count": 9,
   "outputs": [
    {
     "data": {
      "text/plain": "          country continent  year  lifeExp       pop   gdpPercap iso_alpha  \\\n0     Afghanistan      Asia  1952   28.801   8425333  779.445314       AFG   \n1     Afghanistan      Asia  1957   30.332   9240934  820.853030       AFG   \n2     Afghanistan      Asia  1962   31.997  10267083  853.100710       AFG   \n3     Afghanistan      Asia  1967   34.020  11537966  836.197138       AFG   \n4     Afghanistan      Asia  1972   36.088  13079460  739.981106       AFG   \n...           ...       ...   ...      ...       ...         ...       ...   \n1699     Zimbabwe    Africa  1987   62.351   9216418  706.157306       ZWE   \n1700     Zimbabwe    Africa  1992   60.377  10704340  693.420786       ZWE   \n1701     Zimbabwe    Africa  1997   46.809  11404948  792.449960       ZWE   \n1702     Zimbabwe    Africa  2002   39.989  11926563  672.038623       ZWE   \n1703     Zimbabwe    Africa  2007   43.487  12311143  469.709298       ZWE   \n\n      iso_num  \n0           4  \n1           4  \n2           4  \n3           4  \n4           4  \n...       ...  \n1699      716  \n1700      716  \n1701      716  \n1702      716  \n1703      716  \n\n[1704 rows x 8 columns]",
      "text/html": "<div>\n<style scoped>\n    .dataframe tbody tr th:only-of-type {\n        vertical-align: middle;\n    }\n\n    .dataframe tbody tr th {\n        vertical-align: top;\n    }\n\n    .dataframe thead th {\n        text-align: right;\n    }\n</style>\n<table border=\"1\" class=\"dataframe\">\n  <thead>\n    <tr style=\"text-align: right;\">\n      <th></th>\n      <th>country</th>\n      <th>continent</th>\n      <th>year</th>\n      <th>lifeExp</th>\n      <th>pop</th>\n      <th>gdpPercap</th>\n      <th>iso_alpha</th>\n      <th>iso_num</th>\n    </tr>\n  </thead>\n  <tbody>\n    <tr>\n      <th>0</th>\n      <td>Afghanistan</td>\n      <td>Asia</td>\n      <td>1952</td>\n      <td>28.801</td>\n      <td>8425333</td>\n      <td>779.445314</td>\n      <td>AFG</td>\n      <td>4</td>\n    </tr>\n    <tr>\n      <th>1</th>\n      <td>Afghanistan</td>\n      <td>Asia</td>\n      <td>1957</td>\n      <td>30.332</td>\n      <td>9240934</td>\n      <td>820.853030</td>\n      <td>AFG</td>\n      <td>4</td>\n    </tr>\n    <tr>\n      <th>2</th>\n      <td>Afghanistan</td>\n      <td>Asia</td>\n      <td>1962</td>\n      <td>31.997</td>\n      <td>10267083</td>\n      <td>853.100710</td>\n      <td>AFG</td>\n      <td>4</td>\n    </tr>\n    <tr>\n      <th>3</th>\n      <td>Afghanistan</td>\n      <td>Asia</td>\n      <td>1967</td>\n      <td>34.020</td>\n      <td>11537966</td>\n      <td>836.197138</td>\n      <td>AFG</td>\n      <td>4</td>\n    </tr>\n    <tr>\n      <th>4</th>\n      <td>Afghanistan</td>\n      <td>Asia</td>\n      <td>1972</td>\n      <td>36.088</td>\n      <td>13079460</td>\n      <td>739.981106</td>\n      <td>AFG</td>\n      <td>4</td>\n    </tr>\n    <tr>\n      <th>...</th>\n      <td>...</td>\n      <td>...</td>\n      <td>...</td>\n      <td>...</td>\n      <td>...</td>\n      <td>...</td>\n      <td>...</td>\n      <td>...</td>\n    </tr>\n    <tr>\n      <th>1699</th>\n      <td>Zimbabwe</td>\n      <td>Africa</td>\n      <td>1987</td>\n      <td>62.351</td>\n      <td>9216418</td>\n      <td>706.157306</td>\n      <td>ZWE</td>\n      <td>716</td>\n    </tr>\n    <tr>\n      <th>1700</th>\n      <td>Zimbabwe</td>\n      <td>Africa</td>\n      <td>1992</td>\n      <td>60.377</td>\n      <td>10704340</td>\n      <td>693.420786</td>\n      <td>ZWE</td>\n      <td>716</td>\n    </tr>\n    <tr>\n      <th>1701</th>\n      <td>Zimbabwe</td>\n      <td>Africa</td>\n      <td>1997</td>\n      <td>46.809</td>\n      <td>11404948</td>\n      <td>792.449960</td>\n      <td>ZWE</td>\n      <td>716</td>\n    </tr>\n    <tr>\n      <th>1702</th>\n      <td>Zimbabwe</td>\n      <td>Africa</td>\n      <td>2002</td>\n      <td>39.989</td>\n      <td>11926563</td>\n      <td>672.038623</td>\n      <td>ZWE</td>\n      <td>716</td>\n    </tr>\n    <tr>\n      <th>1703</th>\n      <td>Zimbabwe</td>\n      <td>Africa</td>\n      <td>2007</td>\n      <td>43.487</td>\n      <td>12311143</td>\n      <td>469.709298</td>\n      <td>ZWE</td>\n      <td>716</td>\n    </tr>\n  </tbody>\n</table>\n<p>1704 rows × 8 columns</p>\n</div>"
     },
     "execution_count": 9,
     "metadata": {},
     "output_type": "execute_result"
    }
   ],
   "source": [
    "gm_data = px.data.gapminder()\n",
    "gm_data"
   ],
   "metadata": {
    "collapsed": false
   }
  },
  {
   "cell_type": "code",
   "execution_count": 12,
   "outputs": [],
   "source": [
    "data_2007 = gm_data [gm_data ['year'] == 2007]\n",
    "top_10_countries = data_2007.nlargest(10, 'gdpPercap')"
   ],
   "metadata": {
    "collapsed": false
   }
  },
  {
   "cell_type": "code",
   "execution_count": 19,
   "outputs": [
    {
     "data": {
      "application/vnd.plotly.v1+json": {
       "data": [
        {
         "alignmentgroup": "True",
         "hovertemplate": "Country=%{x}<br>Per capita GDP:=%{marker.color}<extra></extra>",
         "legendgroup": "",
         "marker": {
          "color": [
           49357.19017,
           47306.98978,
           47143.17964,
           42951.65309,
           40675.99635,
           39724.97867,
           37506.41907,
           36797.93332,
           36319.23501,
           36180.78919
          ],
          "coloraxis": "coloraxis",
          "pattern": {
           "shape": ""
          }
         },
         "name": "",
         "offsetgroup": "",
         "orientation": "v",
         "showlegend": false,
         "text": [
          49357.19017,
          47306.98978,
          47143.17964,
          42951.65309,
          40675.99635,
          39724.97867,
          37506.41907,
          36797.93332,
          36319.23501,
          36180.78919
         ],
         "textposition": "auto",
         "x": [
          "Norway",
          "Kuwait",
          "Singapore",
          "United States",
          "Ireland",
          "Hong Kong, China",
          "Switzerland",
          "Netherlands",
          "Canada",
          "Iceland"
         ],
         "xaxis": "x",
         "y": [
          49357.19017,
          47306.98978,
          47143.17964,
          42951.65309,
          40675.99635,
          39724.97867,
          37506.41907,
          36797.93332,
          36319.23501,
          36180.78919
         ],
         "yaxis": "y",
         "type": "bar"
        }
       ],
       "layout": {
        "template": {
         "data": {
          "barpolar": [
           {
            "marker": {
             "line": {
              "color": "white",
              "width": 0.5
             },
             "pattern": {
              "fillmode": "overlay",
              "size": 10,
              "solidity": 0.2
             }
            },
            "type": "barpolar"
           }
          ],
          "bar": [
           {
            "error_x": {
             "color": "#2a3f5f"
            },
            "error_y": {
             "color": "#2a3f5f"
            },
            "marker": {
             "line": {
              "color": "white",
              "width": 0.5
             },
             "pattern": {
              "fillmode": "overlay",
              "size": 10,
              "solidity": 0.2
             }
            },
            "type": "bar"
           }
          ],
          "carpet": [
           {
            "aaxis": {
             "endlinecolor": "#2a3f5f",
             "gridcolor": "#C8D4E3",
             "linecolor": "#C8D4E3",
             "minorgridcolor": "#C8D4E3",
             "startlinecolor": "#2a3f5f"
            },
            "baxis": {
             "endlinecolor": "#2a3f5f",
             "gridcolor": "#C8D4E3",
             "linecolor": "#C8D4E3",
             "minorgridcolor": "#C8D4E3",
             "startlinecolor": "#2a3f5f"
            },
            "type": "carpet"
           }
          ],
          "choropleth": [
           {
            "colorbar": {
             "outlinewidth": 0,
             "ticks": ""
            },
            "type": "choropleth"
           }
          ],
          "contourcarpet": [
           {
            "colorbar": {
             "outlinewidth": 0,
             "ticks": ""
            },
            "type": "contourcarpet"
           }
          ],
          "contour": [
           {
            "colorbar": {
             "outlinewidth": 0,
             "ticks": ""
            },
            "colorscale": [
             [
              0.0,
              "#0d0887"
             ],
             [
              0.1111111111111111,
              "#46039f"
             ],
             [
              0.2222222222222222,
              "#7201a8"
             ],
             [
              0.3333333333333333,
              "#9c179e"
             ],
             [
              0.4444444444444444,
              "#bd3786"
             ],
             [
              0.5555555555555556,
              "#d8576b"
             ],
             [
              0.6666666666666666,
              "#ed7953"
             ],
             [
              0.7777777777777778,
              "#fb9f3a"
             ],
             [
              0.8888888888888888,
              "#fdca26"
             ],
             [
              1.0,
              "#f0f921"
             ]
            ],
            "type": "contour"
           }
          ],
          "heatmapgl": [
           {
            "colorbar": {
             "outlinewidth": 0,
             "ticks": ""
            },
            "colorscale": [
             [
              0.0,
              "#0d0887"
             ],
             [
              0.1111111111111111,
              "#46039f"
             ],
             [
              0.2222222222222222,
              "#7201a8"
             ],
             [
              0.3333333333333333,
              "#9c179e"
             ],
             [
              0.4444444444444444,
              "#bd3786"
             ],
             [
              0.5555555555555556,
              "#d8576b"
             ],
             [
              0.6666666666666666,
              "#ed7953"
             ],
             [
              0.7777777777777778,
              "#fb9f3a"
             ],
             [
              0.8888888888888888,
              "#fdca26"
             ],
             [
              1.0,
              "#f0f921"
             ]
            ],
            "type": "heatmapgl"
           }
          ],
          "heatmap": [
           {
            "colorbar": {
             "outlinewidth": 0,
             "ticks": ""
            },
            "colorscale": [
             [
              0.0,
              "#0d0887"
             ],
             [
              0.1111111111111111,
              "#46039f"
             ],
             [
              0.2222222222222222,
              "#7201a8"
             ],
             [
              0.3333333333333333,
              "#9c179e"
             ],
             [
              0.4444444444444444,
              "#bd3786"
             ],
             [
              0.5555555555555556,
              "#d8576b"
             ],
             [
              0.6666666666666666,
              "#ed7953"
             ],
             [
              0.7777777777777778,
              "#fb9f3a"
             ],
             [
              0.8888888888888888,
              "#fdca26"
             ],
             [
              1.0,
              "#f0f921"
             ]
            ],
            "type": "heatmap"
           }
          ],
          "histogram2dcontour": [
           {
            "colorbar": {
             "outlinewidth": 0,
             "ticks": ""
            },
            "colorscale": [
             [
              0.0,
              "#0d0887"
             ],
             [
              0.1111111111111111,
              "#46039f"
             ],
             [
              0.2222222222222222,
              "#7201a8"
             ],
             [
              0.3333333333333333,
              "#9c179e"
             ],
             [
              0.4444444444444444,
              "#bd3786"
             ],
             [
              0.5555555555555556,
              "#d8576b"
             ],
             [
              0.6666666666666666,
              "#ed7953"
             ],
             [
              0.7777777777777778,
              "#fb9f3a"
             ],
             [
              0.8888888888888888,
              "#fdca26"
             ],
             [
              1.0,
              "#f0f921"
             ]
            ],
            "type": "histogram2dcontour"
           }
          ],
          "histogram2d": [
           {
            "colorbar": {
             "outlinewidth": 0,
             "ticks": ""
            },
            "colorscale": [
             [
              0.0,
              "#0d0887"
             ],
             [
              0.1111111111111111,
              "#46039f"
             ],
             [
              0.2222222222222222,
              "#7201a8"
             ],
             [
              0.3333333333333333,
              "#9c179e"
             ],
             [
              0.4444444444444444,
              "#bd3786"
             ],
             [
              0.5555555555555556,
              "#d8576b"
             ],
             [
              0.6666666666666666,
              "#ed7953"
             ],
             [
              0.7777777777777778,
              "#fb9f3a"
             ],
             [
              0.8888888888888888,
              "#fdca26"
             ],
             [
              1.0,
              "#f0f921"
             ]
            ],
            "type": "histogram2d"
           }
          ],
          "histogram": [
           {
            "marker": {
             "pattern": {
              "fillmode": "overlay",
              "size": 10,
              "solidity": 0.2
             }
            },
            "type": "histogram"
           }
          ],
          "mesh3d": [
           {
            "colorbar": {
             "outlinewidth": 0,
             "ticks": ""
            },
            "type": "mesh3d"
           }
          ],
          "parcoords": [
           {
            "line": {
             "colorbar": {
              "outlinewidth": 0,
              "ticks": ""
             }
            },
            "type": "parcoords"
           }
          ],
          "pie": [
           {
            "automargin": true,
            "type": "pie"
           }
          ],
          "scatter3d": [
           {
            "line": {
             "colorbar": {
              "outlinewidth": 0,
              "ticks": ""
             }
            },
            "marker": {
             "colorbar": {
              "outlinewidth": 0,
              "ticks": ""
             }
            },
            "type": "scatter3d"
           }
          ],
          "scattercarpet": [
           {
            "marker": {
             "colorbar": {
              "outlinewidth": 0,
              "ticks": ""
             }
            },
            "type": "scattercarpet"
           }
          ],
          "scattergeo": [
           {
            "marker": {
             "colorbar": {
              "outlinewidth": 0,
              "ticks": ""
             }
            },
            "type": "scattergeo"
           }
          ],
          "scattergl": [
           {
            "marker": {
             "colorbar": {
              "outlinewidth": 0,
              "ticks": ""
             }
            },
            "type": "scattergl"
           }
          ],
          "scattermapbox": [
           {
            "marker": {
             "colorbar": {
              "outlinewidth": 0,
              "ticks": ""
             }
            },
            "type": "scattermapbox"
           }
          ],
          "scatterpolargl": [
           {
            "marker": {
             "colorbar": {
              "outlinewidth": 0,
              "ticks": ""
             }
            },
            "type": "scatterpolargl"
           }
          ],
          "scatterpolar": [
           {
            "marker": {
             "colorbar": {
              "outlinewidth": 0,
              "ticks": ""
             }
            },
            "type": "scatterpolar"
           }
          ],
          "scatter": [
           {
            "fillpattern": {
             "fillmode": "overlay",
             "size": 10,
             "solidity": 0.2
            },
            "type": "scatter"
           }
          ],
          "scatterternary": [
           {
            "marker": {
             "colorbar": {
              "outlinewidth": 0,
              "ticks": ""
             }
            },
            "type": "scatterternary"
           }
          ],
          "surface": [
           {
            "colorbar": {
             "outlinewidth": 0,
             "ticks": ""
            },
            "colorscale": [
             [
              0.0,
              "#0d0887"
             ],
             [
              0.1111111111111111,
              "#46039f"
             ],
             [
              0.2222222222222222,
              "#7201a8"
             ],
             [
              0.3333333333333333,
              "#9c179e"
             ],
             [
              0.4444444444444444,
              "#bd3786"
             ],
             [
              0.5555555555555556,
              "#d8576b"
             ],
             [
              0.6666666666666666,
              "#ed7953"
             ],
             [
              0.7777777777777778,
              "#fb9f3a"
             ],
             [
              0.8888888888888888,
              "#fdca26"
             ],
             [
              1.0,
              "#f0f921"
             ]
            ],
            "type": "surface"
           }
          ],
          "table": [
           {
            "cells": {
             "fill": {
              "color": "#EBF0F8"
             },
             "line": {
              "color": "white"
             }
            },
            "header": {
             "fill": {
              "color": "#C8D4E3"
             },
             "line": {
              "color": "white"
             }
            },
            "type": "table"
           }
          ]
         },
         "layout": {
          "annotationdefaults": {
           "arrowcolor": "#2a3f5f",
           "arrowhead": 0,
           "arrowwidth": 1
          },
          "autotypenumbers": "strict",
          "coloraxis": {
           "colorbar": {
            "outlinewidth": 0,
            "ticks": ""
           }
          },
          "colorscale": {
           "diverging": [
            [
             0,
             "#8e0152"
            ],
            [
             0.1,
             "#c51b7d"
            ],
            [
             0.2,
             "#de77ae"
            ],
            [
             0.3,
             "#f1b6da"
            ],
            [
             0.4,
             "#fde0ef"
            ],
            [
             0.5,
             "#f7f7f7"
            ],
            [
             0.6,
             "#e6f5d0"
            ],
            [
             0.7,
             "#b8e186"
            ],
            [
             0.8,
             "#7fbc41"
            ],
            [
             0.9,
             "#4d9221"
            ],
            [
             1,
             "#276419"
            ]
           ],
           "sequential": [
            [
             0.0,
             "#0d0887"
            ],
            [
             0.1111111111111111,
             "#46039f"
            ],
            [
             0.2222222222222222,
             "#7201a8"
            ],
            [
             0.3333333333333333,
             "#9c179e"
            ],
            [
             0.4444444444444444,
             "#bd3786"
            ],
            [
             0.5555555555555556,
             "#d8576b"
            ],
            [
             0.6666666666666666,
             "#ed7953"
            ],
            [
             0.7777777777777778,
             "#fb9f3a"
            ],
            [
             0.8888888888888888,
             "#fdca26"
            ],
            [
             1.0,
             "#f0f921"
            ]
           ],
           "sequentialminus": [
            [
             0.0,
             "#0d0887"
            ],
            [
             0.1111111111111111,
             "#46039f"
            ],
            [
             0.2222222222222222,
             "#7201a8"
            ],
            [
             0.3333333333333333,
             "#9c179e"
            ],
            [
             0.4444444444444444,
             "#bd3786"
            ],
            [
             0.5555555555555556,
             "#d8576b"
            ],
            [
             0.6666666666666666,
             "#ed7953"
            ],
            [
             0.7777777777777778,
             "#fb9f3a"
            ],
            [
             0.8888888888888888,
             "#fdca26"
            ],
            [
             1.0,
             "#f0f921"
            ]
           ]
          },
          "colorway": [
           "#636efa",
           "#EF553B",
           "#00cc96",
           "#ab63fa",
           "#FFA15A",
           "#19d3f3",
           "#FF6692",
           "#B6E880",
           "#FF97FF",
           "#FECB52"
          ],
          "font": {
           "color": "#2a3f5f"
          },
          "geo": {
           "bgcolor": "white",
           "lakecolor": "white",
           "landcolor": "white",
           "showlakes": true,
           "showland": true,
           "subunitcolor": "#C8D4E3"
          },
          "hoverlabel": {
           "align": "left"
          },
          "hovermode": "closest",
          "mapbox": {
           "style": "light"
          },
          "paper_bgcolor": "white",
          "plot_bgcolor": "white",
          "polar": {
           "angularaxis": {
            "gridcolor": "#EBF0F8",
            "linecolor": "#EBF0F8",
            "ticks": ""
           },
           "bgcolor": "white",
           "radialaxis": {
            "gridcolor": "#EBF0F8",
            "linecolor": "#EBF0F8",
            "ticks": ""
           }
          },
          "scene": {
           "xaxis": {
            "backgroundcolor": "white",
            "gridcolor": "#DFE8F3",
            "gridwidth": 2,
            "linecolor": "#EBF0F8",
            "showbackground": true,
            "ticks": "",
            "zerolinecolor": "#EBF0F8"
           },
           "yaxis": {
            "backgroundcolor": "white",
            "gridcolor": "#DFE8F3",
            "gridwidth": 2,
            "linecolor": "#EBF0F8",
            "showbackground": true,
            "ticks": "",
            "zerolinecolor": "#EBF0F8"
           },
           "zaxis": {
            "backgroundcolor": "white",
            "gridcolor": "#DFE8F3",
            "gridwidth": 2,
            "linecolor": "#EBF0F8",
            "showbackground": true,
            "ticks": "",
            "zerolinecolor": "#EBF0F8"
           }
          },
          "shapedefaults": {
           "line": {
            "color": "#2a3f5f"
           }
          },
          "ternary": {
           "aaxis": {
            "gridcolor": "#DFE8F3",
            "linecolor": "#A2B1C6",
            "ticks": ""
           },
           "baxis": {
            "gridcolor": "#DFE8F3",
            "linecolor": "#A2B1C6",
            "ticks": ""
           },
           "bgcolor": "white",
           "caxis": {
            "gridcolor": "#DFE8F3",
            "linecolor": "#A2B1C6",
            "ticks": ""
           }
          },
          "title": {
           "x": 0.05
          },
          "xaxis": {
           "automargin": true,
           "gridcolor": "#EBF0F8",
           "linecolor": "#EBF0F8",
           "ticks": "",
           "title": {
            "standoff": 15
           },
           "zerolinecolor": "#EBF0F8",
           "zerolinewidth": 2
          },
          "yaxis": {
           "automargin": true,
           "gridcolor": "#EBF0F8",
           "linecolor": "#EBF0F8",
           "ticks": "",
           "title": {
            "standoff": 15
           },
           "zerolinecolor": "#EBF0F8",
           "zerolinewidth": 2
          }
         }
        },
        "xaxis": {
         "anchor": "y",
         "domain": [
          0.0,
          1.0
         ],
         "title": {
          "text": "Country"
         }
        },
        "yaxis": {
         "anchor": "x",
         "domain": [
          0.0,
          1.0
         ],
         "title": {
          "text": "Per capita GDP:"
         }
        },
        "coloraxis": {
         "colorbar": {
          "title": {
           "text": "Per capita GDP:"
          }
         },
         "colorscale": [
          [
           0.0,
           "#440154"
          ],
          [
           0.1111111111111111,
           "#482878"
          ],
          [
           0.2222222222222222,
           "#3e4989"
          ],
          [
           0.3333333333333333,
           "#31688e"
          ],
          [
           0.4444444444444444,
           "#26828e"
          ],
          [
           0.5555555555555556,
           "#1f9e89"
          ],
          [
           0.6666666666666666,
           "#35b779"
          ],
          [
           0.7777777777777778,
           "#6ece58"
          ],
          [
           0.8888888888888888,
           "#b5de2b"
          ],
          [
           1.0,
           "#fde725"
          ]
         ]
        },
        "legend": {
         "tracegroupgap": 0
        },
        "title": {
         "text": "GDP by country for 2007 year",
         "x": 0.5
        },
        "barmode": "relative"
       },
       "config": {
        "plotlyServerURL": "https://plot.ly"
       }
      },
      "text/html": "<div>                            <div id=\"e1f848ad-2012-4427-9778-d59303bd00e2\" class=\"plotly-graph-div\" style=\"height:525px; width:100%;\"></div>            <script type=\"text/javascript\">                require([\"plotly\"], function(Plotly) {                    window.PLOTLYENV=window.PLOTLYENV || {};                                    if (document.getElementById(\"e1f848ad-2012-4427-9778-d59303bd00e2\")) {                    Plotly.newPlot(                        \"e1f848ad-2012-4427-9778-d59303bd00e2\",                        [{\"alignmentgroup\":\"True\",\"hovertemplate\":\"Country=%{x}<br>Per capita GDP:=%{marker.color}<extra></extra>\",\"legendgroup\":\"\",\"marker\":{\"color\":[49357.19017,47306.98978,47143.17964,42951.65309,40675.99635,39724.97867,37506.41907,36797.93332,36319.23501,36180.78919],\"coloraxis\":\"coloraxis\",\"pattern\":{\"shape\":\"\"}},\"name\":\"\",\"offsetgroup\":\"\",\"orientation\":\"v\",\"showlegend\":false,\"text\":[49357.19017,47306.98978,47143.17964,42951.65309,40675.99635,39724.97867,37506.41907,36797.93332,36319.23501,36180.78919],\"textposition\":\"auto\",\"x\":[\"Norway\",\"Kuwait\",\"Singapore\",\"United States\",\"Ireland\",\"Hong Kong, China\",\"Switzerland\",\"Netherlands\",\"Canada\",\"Iceland\"],\"xaxis\":\"x\",\"y\":[49357.19017,47306.98978,47143.17964,42951.65309,40675.99635,39724.97867,37506.41907,36797.93332,36319.23501,36180.78919],\"yaxis\":\"y\",\"type\":\"bar\"}],                        {\"template\":{\"data\":{\"barpolar\":[{\"marker\":{\"line\":{\"color\":\"white\",\"width\":0.5},\"pattern\":{\"fillmode\":\"overlay\",\"size\":10,\"solidity\":0.2}},\"type\":\"barpolar\"}],\"bar\":[{\"error_x\":{\"color\":\"#2a3f5f\"},\"error_y\":{\"color\":\"#2a3f5f\"},\"marker\":{\"line\":{\"color\":\"white\",\"width\":0.5},\"pattern\":{\"fillmode\":\"overlay\",\"size\":10,\"solidity\":0.2}},\"type\":\"bar\"}],\"carpet\":[{\"aaxis\":{\"endlinecolor\":\"#2a3f5f\",\"gridcolor\":\"#C8D4E3\",\"linecolor\":\"#C8D4E3\",\"minorgridcolor\":\"#C8D4E3\",\"startlinecolor\":\"#2a3f5f\"},\"baxis\":{\"endlinecolor\":\"#2a3f5f\",\"gridcolor\":\"#C8D4E3\",\"linecolor\":\"#C8D4E3\",\"minorgridcolor\":\"#C8D4E3\",\"startlinecolor\":\"#2a3f5f\"},\"type\":\"carpet\"}],\"choropleth\":[{\"colorbar\":{\"outlinewidth\":0,\"ticks\":\"\"},\"type\":\"choropleth\"}],\"contourcarpet\":[{\"colorbar\":{\"outlinewidth\":0,\"ticks\":\"\"},\"type\":\"contourcarpet\"}],\"contour\":[{\"colorbar\":{\"outlinewidth\":0,\"ticks\":\"\"},\"colorscale\":[[0.0,\"#0d0887\"],[0.1111111111111111,\"#46039f\"],[0.2222222222222222,\"#7201a8\"],[0.3333333333333333,\"#9c179e\"],[0.4444444444444444,\"#bd3786\"],[0.5555555555555556,\"#d8576b\"],[0.6666666666666666,\"#ed7953\"],[0.7777777777777778,\"#fb9f3a\"],[0.8888888888888888,\"#fdca26\"],[1.0,\"#f0f921\"]],\"type\":\"contour\"}],\"heatmapgl\":[{\"colorbar\":{\"outlinewidth\":0,\"ticks\":\"\"},\"colorscale\":[[0.0,\"#0d0887\"],[0.1111111111111111,\"#46039f\"],[0.2222222222222222,\"#7201a8\"],[0.3333333333333333,\"#9c179e\"],[0.4444444444444444,\"#bd3786\"],[0.5555555555555556,\"#d8576b\"],[0.6666666666666666,\"#ed7953\"],[0.7777777777777778,\"#fb9f3a\"],[0.8888888888888888,\"#fdca26\"],[1.0,\"#f0f921\"]],\"type\":\"heatmapgl\"}],\"heatmap\":[{\"colorbar\":{\"outlinewidth\":0,\"ticks\":\"\"},\"colorscale\":[[0.0,\"#0d0887\"],[0.1111111111111111,\"#46039f\"],[0.2222222222222222,\"#7201a8\"],[0.3333333333333333,\"#9c179e\"],[0.4444444444444444,\"#bd3786\"],[0.5555555555555556,\"#d8576b\"],[0.6666666666666666,\"#ed7953\"],[0.7777777777777778,\"#fb9f3a\"],[0.8888888888888888,\"#fdca26\"],[1.0,\"#f0f921\"]],\"type\":\"heatmap\"}],\"histogram2dcontour\":[{\"colorbar\":{\"outlinewidth\":0,\"ticks\":\"\"},\"colorscale\":[[0.0,\"#0d0887\"],[0.1111111111111111,\"#46039f\"],[0.2222222222222222,\"#7201a8\"],[0.3333333333333333,\"#9c179e\"],[0.4444444444444444,\"#bd3786\"],[0.5555555555555556,\"#d8576b\"],[0.6666666666666666,\"#ed7953\"],[0.7777777777777778,\"#fb9f3a\"],[0.8888888888888888,\"#fdca26\"],[1.0,\"#f0f921\"]],\"type\":\"histogram2dcontour\"}],\"histogram2d\":[{\"colorbar\":{\"outlinewidth\":0,\"ticks\":\"\"},\"colorscale\":[[0.0,\"#0d0887\"],[0.1111111111111111,\"#46039f\"],[0.2222222222222222,\"#7201a8\"],[0.3333333333333333,\"#9c179e\"],[0.4444444444444444,\"#bd3786\"],[0.5555555555555556,\"#d8576b\"],[0.6666666666666666,\"#ed7953\"],[0.7777777777777778,\"#fb9f3a\"],[0.8888888888888888,\"#fdca26\"],[1.0,\"#f0f921\"]],\"type\":\"histogram2d\"}],\"histogram\":[{\"marker\":{\"pattern\":{\"fillmode\":\"overlay\",\"size\":10,\"solidity\":0.2}},\"type\":\"histogram\"}],\"mesh3d\":[{\"colorbar\":{\"outlinewidth\":0,\"ticks\":\"\"},\"type\":\"mesh3d\"}],\"parcoords\":[{\"line\":{\"colorbar\":{\"outlinewidth\":0,\"ticks\":\"\"}},\"type\":\"parcoords\"}],\"pie\":[{\"automargin\":true,\"type\":\"pie\"}],\"scatter3d\":[{\"line\":{\"colorbar\":{\"outlinewidth\":0,\"ticks\":\"\"}},\"marker\":{\"colorbar\":{\"outlinewidth\":0,\"ticks\":\"\"}},\"type\":\"scatter3d\"}],\"scattercarpet\":[{\"marker\":{\"colorbar\":{\"outlinewidth\":0,\"ticks\":\"\"}},\"type\":\"scattercarpet\"}],\"scattergeo\":[{\"marker\":{\"colorbar\":{\"outlinewidth\":0,\"ticks\":\"\"}},\"type\":\"scattergeo\"}],\"scattergl\":[{\"marker\":{\"colorbar\":{\"outlinewidth\":0,\"ticks\":\"\"}},\"type\":\"scattergl\"}],\"scattermapbox\":[{\"marker\":{\"colorbar\":{\"outlinewidth\":0,\"ticks\":\"\"}},\"type\":\"scattermapbox\"}],\"scatterpolargl\":[{\"marker\":{\"colorbar\":{\"outlinewidth\":0,\"ticks\":\"\"}},\"type\":\"scatterpolargl\"}],\"scatterpolar\":[{\"marker\":{\"colorbar\":{\"outlinewidth\":0,\"ticks\":\"\"}},\"type\":\"scatterpolar\"}],\"scatter\":[{\"fillpattern\":{\"fillmode\":\"overlay\",\"size\":10,\"solidity\":0.2},\"type\":\"scatter\"}],\"scatterternary\":[{\"marker\":{\"colorbar\":{\"outlinewidth\":0,\"ticks\":\"\"}},\"type\":\"scatterternary\"}],\"surface\":[{\"colorbar\":{\"outlinewidth\":0,\"ticks\":\"\"},\"colorscale\":[[0.0,\"#0d0887\"],[0.1111111111111111,\"#46039f\"],[0.2222222222222222,\"#7201a8\"],[0.3333333333333333,\"#9c179e\"],[0.4444444444444444,\"#bd3786\"],[0.5555555555555556,\"#d8576b\"],[0.6666666666666666,\"#ed7953\"],[0.7777777777777778,\"#fb9f3a\"],[0.8888888888888888,\"#fdca26\"],[1.0,\"#f0f921\"]],\"type\":\"surface\"}],\"table\":[{\"cells\":{\"fill\":{\"color\":\"#EBF0F8\"},\"line\":{\"color\":\"white\"}},\"header\":{\"fill\":{\"color\":\"#C8D4E3\"},\"line\":{\"color\":\"white\"}},\"type\":\"table\"}]},\"layout\":{\"annotationdefaults\":{\"arrowcolor\":\"#2a3f5f\",\"arrowhead\":0,\"arrowwidth\":1},\"autotypenumbers\":\"strict\",\"coloraxis\":{\"colorbar\":{\"outlinewidth\":0,\"ticks\":\"\"}},\"colorscale\":{\"diverging\":[[0,\"#8e0152\"],[0.1,\"#c51b7d\"],[0.2,\"#de77ae\"],[0.3,\"#f1b6da\"],[0.4,\"#fde0ef\"],[0.5,\"#f7f7f7\"],[0.6,\"#e6f5d0\"],[0.7,\"#b8e186\"],[0.8,\"#7fbc41\"],[0.9,\"#4d9221\"],[1,\"#276419\"]],\"sequential\":[[0.0,\"#0d0887\"],[0.1111111111111111,\"#46039f\"],[0.2222222222222222,\"#7201a8\"],[0.3333333333333333,\"#9c179e\"],[0.4444444444444444,\"#bd3786\"],[0.5555555555555556,\"#d8576b\"],[0.6666666666666666,\"#ed7953\"],[0.7777777777777778,\"#fb9f3a\"],[0.8888888888888888,\"#fdca26\"],[1.0,\"#f0f921\"]],\"sequentialminus\":[[0.0,\"#0d0887\"],[0.1111111111111111,\"#46039f\"],[0.2222222222222222,\"#7201a8\"],[0.3333333333333333,\"#9c179e\"],[0.4444444444444444,\"#bd3786\"],[0.5555555555555556,\"#d8576b\"],[0.6666666666666666,\"#ed7953\"],[0.7777777777777778,\"#fb9f3a\"],[0.8888888888888888,\"#fdca26\"],[1.0,\"#f0f921\"]]},\"colorway\":[\"#636efa\",\"#EF553B\",\"#00cc96\",\"#ab63fa\",\"#FFA15A\",\"#19d3f3\",\"#FF6692\",\"#B6E880\",\"#FF97FF\",\"#FECB52\"],\"font\":{\"color\":\"#2a3f5f\"},\"geo\":{\"bgcolor\":\"white\",\"lakecolor\":\"white\",\"landcolor\":\"white\",\"showlakes\":true,\"showland\":true,\"subunitcolor\":\"#C8D4E3\"},\"hoverlabel\":{\"align\":\"left\"},\"hovermode\":\"closest\",\"mapbox\":{\"style\":\"light\"},\"paper_bgcolor\":\"white\",\"plot_bgcolor\":\"white\",\"polar\":{\"angularaxis\":{\"gridcolor\":\"#EBF0F8\",\"linecolor\":\"#EBF0F8\",\"ticks\":\"\"},\"bgcolor\":\"white\",\"radialaxis\":{\"gridcolor\":\"#EBF0F8\",\"linecolor\":\"#EBF0F8\",\"ticks\":\"\"}},\"scene\":{\"xaxis\":{\"backgroundcolor\":\"white\",\"gridcolor\":\"#DFE8F3\",\"gridwidth\":2,\"linecolor\":\"#EBF0F8\",\"showbackground\":true,\"ticks\":\"\",\"zerolinecolor\":\"#EBF0F8\"},\"yaxis\":{\"backgroundcolor\":\"white\",\"gridcolor\":\"#DFE8F3\",\"gridwidth\":2,\"linecolor\":\"#EBF0F8\",\"showbackground\":true,\"ticks\":\"\",\"zerolinecolor\":\"#EBF0F8\"},\"zaxis\":{\"backgroundcolor\":\"white\",\"gridcolor\":\"#DFE8F3\",\"gridwidth\":2,\"linecolor\":\"#EBF0F8\",\"showbackground\":true,\"ticks\":\"\",\"zerolinecolor\":\"#EBF0F8\"}},\"shapedefaults\":{\"line\":{\"color\":\"#2a3f5f\"}},\"ternary\":{\"aaxis\":{\"gridcolor\":\"#DFE8F3\",\"linecolor\":\"#A2B1C6\",\"ticks\":\"\"},\"baxis\":{\"gridcolor\":\"#DFE8F3\",\"linecolor\":\"#A2B1C6\",\"ticks\":\"\"},\"bgcolor\":\"white\",\"caxis\":{\"gridcolor\":\"#DFE8F3\",\"linecolor\":\"#A2B1C6\",\"ticks\":\"\"}},\"title\":{\"x\":0.05},\"xaxis\":{\"automargin\":true,\"gridcolor\":\"#EBF0F8\",\"linecolor\":\"#EBF0F8\",\"ticks\":\"\",\"title\":{\"standoff\":15},\"zerolinecolor\":\"#EBF0F8\",\"zerolinewidth\":2},\"yaxis\":{\"automargin\":true,\"gridcolor\":\"#EBF0F8\",\"linecolor\":\"#EBF0F8\",\"ticks\":\"\",\"title\":{\"standoff\":15},\"zerolinecolor\":\"#EBF0F8\",\"zerolinewidth\":2}}},\"xaxis\":{\"anchor\":\"y\",\"domain\":[0.0,1.0],\"title\":{\"text\":\"Country\"}},\"yaxis\":{\"anchor\":\"x\",\"domain\":[0.0,1.0],\"title\":{\"text\":\"Per capita GDP:\"}},\"coloraxis\":{\"colorbar\":{\"title\":{\"text\":\"Per capita GDP:\"}},\"colorscale\":[[0.0,\"#440154\"],[0.1111111111111111,\"#482878\"],[0.2222222222222222,\"#3e4989\"],[0.3333333333333333,\"#31688e\"],[0.4444444444444444,\"#26828e\"],[0.5555555555555556,\"#1f9e89\"],[0.6666666666666666,\"#35b779\"],[0.7777777777777778,\"#6ece58\"],[0.8888888888888888,\"#b5de2b\"],[1.0,\"#fde725\"]]},\"legend\":{\"tracegroupgap\":0},\"title\":{\"text\":\"GDP by country for 2007 year\",\"x\":0.5},\"barmode\":\"relative\"},                        {\"responsive\": true}                    ).then(function(){\n                            \nvar gd = document.getElementById('e1f848ad-2012-4427-9778-d59303bd00e2');\nvar x = new MutationObserver(function (mutations, observer) {{\n        var display = window.getComputedStyle(gd).display;\n        if (!display || display === 'none') {{\n            console.log([gd, 'removed!']);\n            Plotly.purge(gd);\n            observer.disconnect();\n        }}\n}});\n\n// Listen for the removal of the full notebook cells\nvar notebookContainer = gd.closest('#notebook-container');\nif (notebookContainer) {{\n    x.observe(notebookContainer, {childList: true});\n}}\n\n// Listen for the clearing of the current output cell\nvar outputEl = gd.closest('.output');\nif (outputEl) {{\n    x.observe(outputEl, {childList: true});\n}}\n\n                        })                };                });            </script>        </div>"
     },
     "metadata": {},
     "output_type": "display_data"
    }
   ],
   "source": [
    "fig = px.bar(top_10_countries, x='country', y='gdpPercap',\n",
    "             title='GDP by country for 2007 year',\n",
    "             labels={'country': 'Country', 'gdpPercap': 'Per capita GDP:'},\n",
    "             color='gdpPercap',\n",
    "             color_continuous_scale='Viridis',\n",
    "             text='gdpPercap',\n",
    "             template='plotly_white'\n",
    "            )\n",
    "fig.update_layout(title_x=0.5) # Center title\n",
    "fig.show()"
   ],
   "metadata": {
    "collapsed": false
   }
  },
  {
   "cell_type": "markdown",
   "source": [
    "\n",
    "2. Побудувати кругову діаграму, яка відображає розподіл ВВП за країнами Європи у 2018 році. Виберіть 5 країн з найбільшим ВВП і підпишіть діаграму за центром, щоб вона була зручною для сприйняття.\n"
   ],
   "metadata": {
    "collapsed": false
   }
  },
  {
   "cell_type": "code",
   "execution_count": 32,
   "outputs": [
    {
     "data": {
      "text/plain": "                 country continent  year  lifeExp       pop    gdpPercap  \\\n0            Afghanistan      Asia  1952   28.801   8425333   779.445314   \n12               Albania    Europe  1952   55.230   1282697  1601.056136   \n24               Algeria    Africa  1952   43.077   9279525  2449.008185   \n36                Angola    Africa  1952   30.015   4232095  3520.610273   \n48             Argentina  Americas  1952   62.485  17876956  5911.315053   \n...                  ...       ...   ...      ...       ...          ...   \n1644             Vietnam      Asia  1952   40.412  26246839   605.066492   \n1656  West Bank and Gaza      Asia  1952   43.160   1030585  1515.592329   \n1668         Yemen, Rep.      Asia  1952   32.548   4963829   781.717576   \n1680              Zambia    Africa  1952   42.038   2672000  1147.388831   \n1692            Zimbabwe    Africa  1952   48.451   3080907   406.884115   \n\n     iso_alpha  iso_num  \n0          AFG        4  \n12         ALB        8  \n24         DZA       12  \n36         AGO       24  \n48         ARG       32  \n...        ...      ...  \n1644       VNM      704  \n1656       PSE      275  \n1668       YEM      887  \n1680       ZMB      894  \n1692       ZWE      716  \n\n[142 rows x 8 columns]",
      "text/html": "<div>\n<style scoped>\n    .dataframe tbody tr th:only-of-type {\n        vertical-align: middle;\n    }\n\n    .dataframe tbody tr th {\n        vertical-align: top;\n    }\n\n    .dataframe thead th {\n        text-align: right;\n    }\n</style>\n<table border=\"1\" class=\"dataframe\">\n  <thead>\n    <tr style=\"text-align: right;\">\n      <th></th>\n      <th>country</th>\n      <th>continent</th>\n      <th>year</th>\n      <th>lifeExp</th>\n      <th>pop</th>\n      <th>gdpPercap</th>\n      <th>iso_alpha</th>\n      <th>iso_num</th>\n    </tr>\n  </thead>\n  <tbody>\n    <tr>\n      <th>0</th>\n      <td>Afghanistan</td>\n      <td>Asia</td>\n      <td>1952</td>\n      <td>28.801</td>\n      <td>8425333</td>\n      <td>779.445314</td>\n      <td>AFG</td>\n      <td>4</td>\n    </tr>\n    <tr>\n      <th>12</th>\n      <td>Albania</td>\n      <td>Europe</td>\n      <td>1952</td>\n      <td>55.230</td>\n      <td>1282697</td>\n      <td>1601.056136</td>\n      <td>ALB</td>\n      <td>8</td>\n    </tr>\n    <tr>\n      <th>24</th>\n      <td>Algeria</td>\n      <td>Africa</td>\n      <td>1952</td>\n      <td>43.077</td>\n      <td>9279525</td>\n      <td>2449.008185</td>\n      <td>DZA</td>\n      <td>12</td>\n    </tr>\n    <tr>\n      <th>36</th>\n      <td>Angola</td>\n      <td>Africa</td>\n      <td>1952</td>\n      <td>30.015</td>\n      <td>4232095</td>\n      <td>3520.610273</td>\n      <td>AGO</td>\n      <td>24</td>\n    </tr>\n    <tr>\n      <th>48</th>\n      <td>Argentina</td>\n      <td>Americas</td>\n      <td>1952</td>\n      <td>62.485</td>\n      <td>17876956</td>\n      <td>5911.315053</td>\n      <td>ARG</td>\n      <td>32</td>\n    </tr>\n    <tr>\n      <th>...</th>\n      <td>...</td>\n      <td>...</td>\n      <td>...</td>\n      <td>...</td>\n      <td>...</td>\n      <td>...</td>\n      <td>...</td>\n      <td>...</td>\n    </tr>\n    <tr>\n      <th>1644</th>\n      <td>Vietnam</td>\n      <td>Asia</td>\n      <td>1952</td>\n      <td>40.412</td>\n      <td>26246839</td>\n      <td>605.066492</td>\n      <td>VNM</td>\n      <td>704</td>\n    </tr>\n    <tr>\n      <th>1656</th>\n      <td>West Bank and Gaza</td>\n      <td>Asia</td>\n      <td>1952</td>\n      <td>43.160</td>\n      <td>1030585</td>\n      <td>1515.592329</td>\n      <td>PSE</td>\n      <td>275</td>\n    </tr>\n    <tr>\n      <th>1668</th>\n      <td>Yemen, Rep.</td>\n      <td>Asia</td>\n      <td>1952</td>\n      <td>32.548</td>\n      <td>4963829</td>\n      <td>781.717576</td>\n      <td>YEM</td>\n      <td>887</td>\n    </tr>\n    <tr>\n      <th>1680</th>\n      <td>Zambia</td>\n      <td>Africa</td>\n      <td>1952</td>\n      <td>42.038</td>\n      <td>2672000</td>\n      <td>1147.388831</td>\n      <td>ZMB</td>\n      <td>894</td>\n    </tr>\n    <tr>\n      <th>1692</th>\n      <td>Zimbabwe</td>\n      <td>Africa</td>\n      <td>1952</td>\n      <td>48.451</td>\n      <td>3080907</td>\n      <td>406.884115</td>\n      <td>ZWE</td>\n      <td>716</td>\n    </tr>\n  </tbody>\n</table>\n<p>142 rows × 8 columns</p>\n</div>"
     },
     "execution_count": 32,
     "metadata": {},
     "output_type": "execute_result"
    }
   ],
   "source": [
    "data_1952 = gm_data [gm_data ['year'] == 1952]\n",
    "data_1952\n",
    "\n",
    "# Через відсутність даних за 2018 рік використаємо дані за 1952 рік"
   ],
   "metadata": {
    "collapsed": false
   }
  },
  {
   "cell_type": "code",
   "execution_count": 33,
   "outputs": [
    {
     "data": {
      "text/plain": "            country continent  year  lifeExp        pop     gdpPercap  \\\n852          Kuwait      Asia  1952   55.565     160000  108382.35290   \n1476    Switzerland    Europe  1952   69.620    4815000   14734.23275   \n1608  United States  Americas  1952   68.440  157553000   13990.48208   \n240          Canada  Americas  1952   68.750   14785584   11367.16112   \n1092    New Zealand   Oceania  1952   69.390    1994794   10556.57566   \n\n     iso_alpha  iso_num  \n852        KWT      414  \n1476       CHE      756  \n1608       USA      840  \n240        CAN      124  \n1092       NZL      554  ",
      "text/html": "<div>\n<style scoped>\n    .dataframe tbody tr th:only-of-type {\n        vertical-align: middle;\n    }\n\n    .dataframe tbody tr th {\n        vertical-align: top;\n    }\n\n    .dataframe thead th {\n        text-align: right;\n    }\n</style>\n<table border=\"1\" class=\"dataframe\">\n  <thead>\n    <tr style=\"text-align: right;\">\n      <th></th>\n      <th>country</th>\n      <th>continent</th>\n      <th>year</th>\n      <th>lifeExp</th>\n      <th>pop</th>\n      <th>gdpPercap</th>\n      <th>iso_alpha</th>\n      <th>iso_num</th>\n    </tr>\n  </thead>\n  <tbody>\n    <tr>\n      <th>852</th>\n      <td>Kuwait</td>\n      <td>Asia</td>\n      <td>1952</td>\n      <td>55.565</td>\n      <td>160000</td>\n      <td>108382.35290</td>\n      <td>KWT</td>\n      <td>414</td>\n    </tr>\n    <tr>\n      <th>1476</th>\n      <td>Switzerland</td>\n      <td>Europe</td>\n      <td>1952</td>\n      <td>69.620</td>\n      <td>4815000</td>\n      <td>14734.23275</td>\n      <td>CHE</td>\n      <td>756</td>\n    </tr>\n    <tr>\n      <th>1608</th>\n      <td>United States</td>\n      <td>Americas</td>\n      <td>1952</td>\n      <td>68.440</td>\n      <td>157553000</td>\n      <td>13990.48208</td>\n      <td>USA</td>\n      <td>840</td>\n    </tr>\n    <tr>\n      <th>240</th>\n      <td>Canada</td>\n      <td>Americas</td>\n      <td>1952</td>\n      <td>68.750</td>\n      <td>14785584</td>\n      <td>11367.16112</td>\n      <td>CAN</td>\n      <td>124</td>\n    </tr>\n    <tr>\n      <th>1092</th>\n      <td>New Zealand</td>\n      <td>Oceania</td>\n      <td>1952</td>\n      <td>69.390</td>\n      <td>1994794</td>\n      <td>10556.57566</td>\n      <td>NZL</td>\n      <td>554</td>\n    </tr>\n  </tbody>\n</table>\n</div>"
     },
     "execution_count": 33,
     "metadata": {},
     "output_type": "execute_result"
    }
   ],
   "source": [
    "top_5_countries = data_1952.nlargest(5, 'gdpPercap')\n",
    "top_5_countries"
   ],
   "metadata": {
    "collapsed": false
   }
  },
  {
   "cell_type": "code",
   "execution_count": 34,
   "outputs": [
    {
     "data": {
      "application/vnd.plotly.v1+json": {
       "data": [
        {
         "domain": {
          "x": [
           0.0,
           1.0
          ],
          "y": [
           0.0,
           1.0
          ]
         },
         "hole": 0.5,
         "hovertemplate": "country=%{label}<br>gdpPercap=%{value}<extra></extra>",
         "labels": [
          "Kuwait",
          "Switzerland",
          "United States",
          "Canada",
          "New Zealand"
         ],
         "legendgroup": "",
         "name": "",
         "showlegend": true,
         "values": [
          108382.3529,
          14734.23275,
          13990.482080000002,
          11367.16112,
          10556.57566
         ],
         "type": "pie"
        }
       ],
       "layout": {
        "template": {
         "data": {
          "histogram2dcontour": [
           {
            "type": "histogram2dcontour",
            "colorbar": {
             "outlinewidth": 0,
             "ticks": ""
            },
            "colorscale": [
             [
              0.0,
              "#0d0887"
             ],
             [
              0.1111111111111111,
              "#46039f"
             ],
             [
              0.2222222222222222,
              "#7201a8"
             ],
             [
              0.3333333333333333,
              "#9c179e"
             ],
             [
              0.4444444444444444,
              "#bd3786"
             ],
             [
              0.5555555555555556,
              "#d8576b"
             ],
             [
              0.6666666666666666,
              "#ed7953"
             ],
             [
              0.7777777777777778,
              "#fb9f3a"
             ],
             [
              0.8888888888888888,
              "#fdca26"
             ],
             [
              1.0,
              "#f0f921"
             ]
            ]
           }
          ],
          "choropleth": [
           {
            "type": "choropleth",
            "colorbar": {
             "outlinewidth": 0,
             "ticks": ""
            }
           }
          ],
          "histogram2d": [
           {
            "type": "histogram2d",
            "colorbar": {
             "outlinewidth": 0,
             "ticks": ""
            },
            "colorscale": [
             [
              0.0,
              "#0d0887"
             ],
             [
              0.1111111111111111,
              "#46039f"
             ],
             [
              0.2222222222222222,
              "#7201a8"
             ],
             [
              0.3333333333333333,
              "#9c179e"
             ],
             [
              0.4444444444444444,
              "#bd3786"
             ],
             [
              0.5555555555555556,
              "#d8576b"
             ],
             [
              0.6666666666666666,
              "#ed7953"
             ],
             [
              0.7777777777777778,
              "#fb9f3a"
             ],
             [
              0.8888888888888888,
              "#fdca26"
             ],
             [
              1.0,
              "#f0f921"
             ]
            ]
           }
          ],
          "heatmap": [
           {
            "type": "heatmap",
            "colorbar": {
             "outlinewidth": 0,
             "ticks": ""
            },
            "colorscale": [
             [
              0.0,
              "#0d0887"
             ],
             [
              0.1111111111111111,
              "#46039f"
             ],
             [
              0.2222222222222222,
              "#7201a8"
             ],
             [
              0.3333333333333333,
              "#9c179e"
             ],
             [
              0.4444444444444444,
              "#bd3786"
             ],
             [
              0.5555555555555556,
              "#d8576b"
             ],
             [
              0.6666666666666666,
              "#ed7953"
             ],
             [
              0.7777777777777778,
              "#fb9f3a"
             ],
             [
              0.8888888888888888,
              "#fdca26"
             ],
             [
              1.0,
              "#f0f921"
             ]
            ]
           }
          ],
          "heatmapgl": [
           {
            "type": "heatmapgl",
            "colorbar": {
             "outlinewidth": 0,
             "ticks": ""
            },
            "colorscale": [
             [
              0.0,
              "#0d0887"
             ],
             [
              0.1111111111111111,
              "#46039f"
             ],
             [
              0.2222222222222222,
              "#7201a8"
             ],
             [
              0.3333333333333333,
              "#9c179e"
             ],
             [
              0.4444444444444444,
              "#bd3786"
             ],
             [
              0.5555555555555556,
              "#d8576b"
             ],
             [
              0.6666666666666666,
              "#ed7953"
             ],
             [
              0.7777777777777778,
              "#fb9f3a"
             ],
             [
              0.8888888888888888,
              "#fdca26"
             ],
             [
              1.0,
              "#f0f921"
             ]
            ]
           }
          ],
          "contourcarpet": [
           {
            "type": "contourcarpet",
            "colorbar": {
             "outlinewidth": 0,
             "ticks": ""
            }
           }
          ],
          "contour": [
           {
            "type": "contour",
            "colorbar": {
             "outlinewidth": 0,
             "ticks": ""
            },
            "colorscale": [
             [
              0.0,
              "#0d0887"
             ],
             [
              0.1111111111111111,
              "#46039f"
             ],
             [
              0.2222222222222222,
              "#7201a8"
             ],
             [
              0.3333333333333333,
              "#9c179e"
             ],
             [
              0.4444444444444444,
              "#bd3786"
             ],
             [
              0.5555555555555556,
              "#d8576b"
             ],
             [
              0.6666666666666666,
              "#ed7953"
             ],
             [
              0.7777777777777778,
              "#fb9f3a"
             ],
             [
              0.8888888888888888,
              "#fdca26"
             ],
             [
              1.0,
              "#f0f921"
             ]
            ]
           }
          ],
          "surface": [
           {
            "type": "surface",
            "colorbar": {
             "outlinewidth": 0,
             "ticks": ""
            },
            "colorscale": [
             [
              0.0,
              "#0d0887"
             ],
             [
              0.1111111111111111,
              "#46039f"
             ],
             [
              0.2222222222222222,
              "#7201a8"
             ],
             [
              0.3333333333333333,
              "#9c179e"
             ],
             [
              0.4444444444444444,
              "#bd3786"
             ],
             [
              0.5555555555555556,
              "#d8576b"
             ],
             [
              0.6666666666666666,
              "#ed7953"
             ],
             [
              0.7777777777777778,
              "#fb9f3a"
             ],
             [
              0.8888888888888888,
              "#fdca26"
             ],
             [
              1.0,
              "#f0f921"
             ]
            ]
           }
          ],
          "mesh3d": [
           {
            "type": "mesh3d",
            "colorbar": {
             "outlinewidth": 0,
             "ticks": ""
            }
           }
          ],
          "scatter": [
           {
            "marker": {
             "line": {
              "color": "#283442"
             }
            },
            "type": "scatter"
           }
          ],
          "parcoords": [
           {
            "type": "parcoords",
            "line": {
             "colorbar": {
              "outlinewidth": 0,
              "ticks": ""
             }
            }
           }
          ],
          "scatterpolargl": [
           {
            "type": "scatterpolargl",
            "marker": {
             "colorbar": {
              "outlinewidth": 0,
              "ticks": ""
             }
            }
           }
          ],
          "bar": [
           {
            "error_x": {
             "color": "#f2f5fa"
            },
            "error_y": {
             "color": "#f2f5fa"
            },
            "marker": {
             "line": {
              "color": "rgb(17,17,17)",
              "width": 0.5
             },
             "pattern": {
              "fillmode": "overlay",
              "size": 10,
              "solidity": 0.2
             }
            },
            "type": "bar"
           }
          ],
          "scattergeo": [
           {
            "type": "scattergeo",
            "marker": {
             "colorbar": {
              "outlinewidth": 0,
              "ticks": ""
             }
            }
           }
          ],
          "scatterpolar": [
           {
            "type": "scatterpolar",
            "marker": {
             "colorbar": {
              "outlinewidth": 0,
              "ticks": ""
             }
            }
           }
          ],
          "histogram": [
           {
            "marker": {
             "pattern": {
              "fillmode": "overlay",
              "size": 10,
              "solidity": 0.2
             }
            },
            "type": "histogram"
           }
          ],
          "scattergl": [
           {
            "marker": {
             "line": {
              "color": "#283442"
             }
            },
            "type": "scattergl"
           }
          ],
          "scatter3d": [
           {
            "type": "scatter3d",
            "line": {
             "colorbar": {
              "outlinewidth": 0,
              "ticks": ""
             }
            },
            "marker": {
             "colorbar": {
              "outlinewidth": 0,
              "ticks": ""
             }
            }
           }
          ],
          "scattermapbox": [
           {
            "type": "scattermapbox",
            "marker": {
             "colorbar": {
              "outlinewidth": 0,
              "ticks": ""
             }
            }
           }
          ],
          "scatterternary": [
           {
            "type": "scatterternary",
            "marker": {
             "colorbar": {
              "outlinewidth": 0,
              "ticks": ""
             }
            }
           }
          ],
          "scattercarpet": [
           {
            "type": "scattercarpet",
            "marker": {
             "colorbar": {
              "outlinewidth": 0,
              "ticks": ""
             }
            }
           }
          ],
          "carpet": [
           {
            "aaxis": {
             "endlinecolor": "#A2B1C6",
             "gridcolor": "#506784",
             "linecolor": "#506784",
             "minorgridcolor": "#506784",
             "startlinecolor": "#A2B1C6"
            },
            "baxis": {
             "endlinecolor": "#A2B1C6",
             "gridcolor": "#506784",
             "linecolor": "#506784",
             "minorgridcolor": "#506784",
             "startlinecolor": "#A2B1C6"
            },
            "type": "carpet"
           }
          ],
          "table": [
           {
            "cells": {
             "fill": {
              "color": "#506784"
             },
             "line": {
              "color": "rgb(17,17,17)"
             }
            },
            "header": {
             "fill": {
              "color": "#2a3f5f"
             },
             "line": {
              "color": "rgb(17,17,17)"
             }
            },
            "type": "table"
           }
          ],
          "barpolar": [
           {
            "marker": {
             "line": {
              "color": "rgb(17,17,17)",
              "width": 0.5
             },
             "pattern": {
              "fillmode": "overlay",
              "size": 10,
              "solidity": 0.2
             }
            },
            "type": "barpolar"
           }
          ],
          "pie": [
           {
            "automargin": true,
            "type": "pie"
           }
          ]
         },
         "layout": {
          "autotypenumbers": "strict",
          "colorway": [
           "#636efa",
           "#EF553B",
           "#00cc96",
           "#ab63fa",
           "#FFA15A",
           "#19d3f3",
           "#FF6692",
           "#B6E880",
           "#FF97FF",
           "#FECB52"
          ],
          "font": {
           "color": "#f2f5fa"
          },
          "hovermode": "closest",
          "hoverlabel": {
           "align": "left"
          },
          "paper_bgcolor": "rgb(17,17,17)",
          "plot_bgcolor": "rgb(17,17,17)",
          "polar": {
           "bgcolor": "rgb(17,17,17)",
           "angularaxis": {
            "gridcolor": "#506784",
            "linecolor": "#506784",
            "ticks": ""
           },
           "radialaxis": {
            "gridcolor": "#506784",
            "linecolor": "#506784",
            "ticks": ""
           }
          },
          "ternary": {
           "bgcolor": "rgb(17,17,17)",
           "aaxis": {
            "gridcolor": "#506784",
            "linecolor": "#506784",
            "ticks": ""
           },
           "baxis": {
            "gridcolor": "#506784",
            "linecolor": "#506784",
            "ticks": ""
           },
           "caxis": {
            "gridcolor": "#506784",
            "linecolor": "#506784",
            "ticks": ""
           }
          },
          "coloraxis": {
           "colorbar": {
            "outlinewidth": 0,
            "ticks": ""
           }
          },
          "colorscale": {
           "sequential": [
            [
             0.0,
             "#0d0887"
            ],
            [
             0.1111111111111111,
             "#46039f"
            ],
            [
             0.2222222222222222,
             "#7201a8"
            ],
            [
             0.3333333333333333,
             "#9c179e"
            ],
            [
             0.4444444444444444,
             "#bd3786"
            ],
            [
             0.5555555555555556,
             "#d8576b"
            ],
            [
             0.6666666666666666,
             "#ed7953"
            ],
            [
             0.7777777777777778,
             "#fb9f3a"
            ],
            [
             0.8888888888888888,
             "#fdca26"
            ],
            [
             1.0,
             "#f0f921"
            ]
           ],
           "sequentialminus": [
            [
             0.0,
             "#0d0887"
            ],
            [
             0.1111111111111111,
             "#46039f"
            ],
            [
             0.2222222222222222,
             "#7201a8"
            ],
            [
             0.3333333333333333,
             "#9c179e"
            ],
            [
             0.4444444444444444,
             "#bd3786"
            ],
            [
             0.5555555555555556,
             "#d8576b"
            ],
            [
             0.6666666666666666,
             "#ed7953"
            ],
            [
             0.7777777777777778,
             "#fb9f3a"
            ],
            [
             0.8888888888888888,
             "#fdca26"
            ],
            [
             1.0,
             "#f0f921"
            ]
           ],
           "diverging": [
            [
             0,
             "#8e0152"
            ],
            [
             0.1,
             "#c51b7d"
            ],
            [
             0.2,
             "#de77ae"
            ],
            [
             0.3,
             "#f1b6da"
            ],
            [
             0.4,
             "#fde0ef"
            ],
            [
             0.5,
             "#f7f7f7"
            ],
            [
             0.6,
             "#e6f5d0"
            ],
            [
             0.7,
             "#b8e186"
            ],
            [
             0.8,
             "#7fbc41"
            ],
            [
             0.9,
             "#4d9221"
            ],
            [
             1,
             "#276419"
            ]
           ]
          },
          "xaxis": {
           "gridcolor": "#283442",
           "linecolor": "#506784",
           "ticks": "",
           "title": {
            "standoff": 15
           },
           "zerolinecolor": "#283442",
           "automargin": true,
           "zerolinewidth": 2
          },
          "yaxis": {
           "gridcolor": "#283442",
           "linecolor": "#506784",
           "ticks": "",
           "title": {
            "standoff": 15
           },
           "zerolinecolor": "#283442",
           "automargin": true,
           "zerolinewidth": 2
          },
          "scene": {
           "xaxis": {
            "backgroundcolor": "rgb(17,17,17)",
            "gridcolor": "#506784",
            "linecolor": "#506784",
            "showbackground": true,
            "ticks": "",
            "zerolinecolor": "#C8D4E3",
            "gridwidth": 2
           },
           "yaxis": {
            "backgroundcolor": "rgb(17,17,17)",
            "gridcolor": "#506784",
            "linecolor": "#506784",
            "showbackground": true,
            "ticks": "",
            "zerolinecolor": "#C8D4E3",
            "gridwidth": 2
           },
           "zaxis": {
            "backgroundcolor": "rgb(17,17,17)",
            "gridcolor": "#506784",
            "linecolor": "#506784",
            "showbackground": true,
            "ticks": "",
            "zerolinecolor": "#C8D4E3",
            "gridwidth": 2
           }
          },
          "shapedefaults": {
           "line": {
            "color": "#f2f5fa"
           }
          },
          "annotationdefaults": {
           "arrowcolor": "#f2f5fa",
           "arrowhead": 0,
           "arrowwidth": 1
          },
          "geo": {
           "bgcolor": "rgb(17,17,17)",
           "landcolor": "rgb(17,17,17)",
           "subunitcolor": "#506784",
           "showland": true,
           "showlakes": true,
           "lakecolor": "rgb(17,17,17)"
          },
          "title": {
           "x": 0.05
          },
          "updatemenudefaults": {
           "bgcolor": "#506784",
           "borderwidth": 0
          },
          "sliderdefaults": {
           "bgcolor": "#C8D4E3",
           "borderwidth": 1,
           "bordercolor": "rgb(17,17,17)",
           "tickwidth": 0
          },
          "mapbox": {
           "style": "dark"
          }
         }
        },
        "legend": {
         "tracegroupgap": 0
        },
        "title": {
         "text": "GDP by country for 1952 year",
         "x": 0.5
        }
       },
       "config": {
        "plotlyServerURL": "https://plot.ly"
       }
      },
      "text/html": "<div>                            <div id=\"91f1b0f1-6427-46a3-b825-d172bff74e2a\" class=\"plotly-graph-div\" style=\"height:525px; width:100%;\"></div>            <script type=\"text/javascript\">                require([\"plotly\"], function(Plotly) {                    window.PLOTLYENV=window.PLOTLYENV || {};                                    if (document.getElementById(\"91f1b0f1-6427-46a3-b825-d172bff74e2a\")) {                    Plotly.newPlot(                        \"91f1b0f1-6427-46a3-b825-d172bff74e2a\",                        [{\"domain\":{\"x\":[0.0,1.0],\"y\":[0.0,1.0]},\"hole\":0.5,\"hovertemplate\":\"country=%{label}<br>gdpPercap=%{value}<extra></extra>\",\"labels\":[\"Kuwait\",\"Switzerland\",\"United States\",\"Canada\",\"New Zealand\"],\"legendgroup\":\"\",\"name\":\"\",\"showlegend\":true,\"values\":[108382.3529,14734.23275,13990.482080000002,11367.16112,10556.57566],\"type\":\"pie\"}],                        {\"template\":{\"data\":{\"histogram2dcontour\":[{\"type\":\"histogram2dcontour\",\"colorbar\":{\"outlinewidth\":0,\"ticks\":\"\"},\"colorscale\":[[0.0,\"#0d0887\"],[0.1111111111111111,\"#46039f\"],[0.2222222222222222,\"#7201a8\"],[0.3333333333333333,\"#9c179e\"],[0.4444444444444444,\"#bd3786\"],[0.5555555555555556,\"#d8576b\"],[0.6666666666666666,\"#ed7953\"],[0.7777777777777778,\"#fb9f3a\"],[0.8888888888888888,\"#fdca26\"],[1.0,\"#f0f921\"]]}],\"choropleth\":[{\"type\":\"choropleth\",\"colorbar\":{\"outlinewidth\":0,\"ticks\":\"\"}}],\"histogram2d\":[{\"type\":\"histogram2d\",\"colorbar\":{\"outlinewidth\":0,\"ticks\":\"\"},\"colorscale\":[[0.0,\"#0d0887\"],[0.1111111111111111,\"#46039f\"],[0.2222222222222222,\"#7201a8\"],[0.3333333333333333,\"#9c179e\"],[0.4444444444444444,\"#bd3786\"],[0.5555555555555556,\"#d8576b\"],[0.6666666666666666,\"#ed7953\"],[0.7777777777777778,\"#fb9f3a\"],[0.8888888888888888,\"#fdca26\"],[1.0,\"#f0f921\"]]}],\"heatmap\":[{\"type\":\"heatmap\",\"colorbar\":{\"outlinewidth\":0,\"ticks\":\"\"},\"colorscale\":[[0.0,\"#0d0887\"],[0.1111111111111111,\"#46039f\"],[0.2222222222222222,\"#7201a8\"],[0.3333333333333333,\"#9c179e\"],[0.4444444444444444,\"#bd3786\"],[0.5555555555555556,\"#d8576b\"],[0.6666666666666666,\"#ed7953\"],[0.7777777777777778,\"#fb9f3a\"],[0.8888888888888888,\"#fdca26\"],[1.0,\"#f0f921\"]]}],\"heatmapgl\":[{\"type\":\"heatmapgl\",\"colorbar\":{\"outlinewidth\":0,\"ticks\":\"\"},\"colorscale\":[[0.0,\"#0d0887\"],[0.1111111111111111,\"#46039f\"],[0.2222222222222222,\"#7201a8\"],[0.3333333333333333,\"#9c179e\"],[0.4444444444444444,\"#bd3786\"],[0.5555555555555556,\"#d8576b\"],[0.6666666666666666,\"#ed7953\"],[0.7777777777777778,\"#fb9f3a\"],[0.8888888888888888,\"#fdca26\"],[1.0,\"#f0f921\"]]}],\"contourcarpet\":[{\"type\":\"contourcarpet\",\"colorbar\":{\"outlinewidth\":0,\"ticks\":\"\"}}],\"contour\":[{\"type\":\"contour\",\"colorbar\":{\"outlinewidth\":0,\"ticks\":\"\"},\"colorscale\":[[0.0,\"#0d0887\"],[0.1111111111111111,\"#46039f\"],[0.2222222222222222,\"#7201a8\"],[0.3333333333333333,\"#9c179e\"],[0.4444444444444444,\"#bd3786\"],[0.5555555555555556,\"#d8576b\"],[0.6666666666666666,\"#ed7953\"],[0.7777777777777778,\"#fb9f3a\"],[0.8888888888888888,\"#fdca26\"],[1.0,\"#f0f921\"]]}],\"surface\":[{\"type\":\"surface\",\"colorbar\":{\"outlinewidth\":0,\"ticks\":\"\"},\"colorscale\":[[0.0,\"#0d0887\"],[0.1111111111111111,\"#46039f\"],[0.2222222222222222,\"#7201a8\"],[0.3333333333333333,\"#9c179e\"],[0.4444444444444444,\"#bd3786\"],[0.5555555555555556,\"#d8576b\"],[0.6666666666666666,\"#ed7953\"],[0.7777777777777778,\"#fb9f3a\"],[0.8888888888888888,\"#fdca26\"],[1.0,\"#f0f921\"]]}],\"mesh3d\":[{\"type\":\"mesh3d\",\"colorbar\":{\"outlinewidth\":0,\"ticks\":\"\"}}],\"scatter\":[{\"marker\":{\"line\":{\"color\":\"#283442\"}},\"type\":\"scatter\"}],\"parcoords\":[{\"type\":\"parcoords\",\"line\":{\"colorbar\":{\"outlinewidth\":0,\"ticks\":\"\"}}}],\"scatterpolargl\":[{\"type\":\"scatterpolargl\",\"marker\":{\"colorbar\":{\"outlinewidth\":0,\"ticks\":\"\"}}}],\"bar\":[{\"error_x\":{\"color\":\"#f2f5fa\"},\"error_y\":{\"color\":\"#f2f5fa\"},\"marker\":{\"line\":{\"color\":\"rgb(17,17,17)\",\"width\":0.5},\"pattern\":{\"fillmode\":\"overlay\",\"size\":10,\"solidity\":0.2}},\"type\":\"bar\"}],\"scattergeo\":[{\"type\":\"scattergeo\",\"marker\":{\"colorbar\":{\"outlinewidth\":0,\"ticks\":\"\"}}}],\"scatterpolar\":[{\"type\":\"scatterpolar\",\"marker\":{\"colorbar\":{\"outlinewidth\":0,\"ticks\":\"\"}}}],\"histogram\":[{\"marker\":{\"pattern\":{\"fillmode\":\"overlay\",\"size\":10,\"solidity\":0.2}},\"type\":\"histogram\"}],\"scattergl\":[{\"marker\":{\"line\":{\"color\":\"#283442\"}},\"type\":\"scattergl\"}],\"scatter3d\":[{\"type\":\"scatter3d\",\"line\":{\"colorbar\":{\"outlinewidth\":0,\"ticks\":\"\"}},\"marker\":{\"colorbar\":{\"outlinewidth\":0,\"ticks\":\"\"}}}],\"scattermapbox\":[{\"type\":\"scattermapbox\",\"marker\":{\"colorbar\":{\"outlinewidth\":0,\"ticks\":\"\"}}}],\"scatterternary\":[{\"type\":\"scatterternary\",\"marker\":{\"colorbar\":{\"outlinewidth\":0,\"ticks\":\"\"}}}],\"scattercarpet\":[{\"type\":\"scattercarpet\",\"marker\":{\"colorbar\":{\"outlinewidth\":0,\"ticks\":\"\"}}}],\"carpet\":[{\"aaxis\":{\"endlinecolor\":\"#A2B1C6\",\"gridcolor\":\"#506784\",\"linecolor\":\"#506784\",\"minorgridcolor\":\"#506784\",\"startlinecolor\":\"#A2B1C6\"},\"baxis\":{\"endlinecolor\":\"#A2B1C6\",\"gridcolor\":\"#506784\",\"linecolor\":\"#506784\",\"minorgridcolor\":\"#506784\",\"startlinecolor\":\"#A2B1C6\"},\"type\":\"carpet\"}],\"table\":[{\"cells\":{\"fill\":{\"color\":\"#506784\"},\"line\":{\"color\":\"rgb(17,17,17)\"}},\"header\":{\"fill\":{\"color\":\"#2a3f5f\"},\"line\":{\"color\":\"rgb(17,17,17)\"}},\"type\":\"table\"}],\"barpolar\":[{\"marker\":{\"line\":{\"color\":\"rgb(17,17,17)\",\"width\":0.5},\"pattern\":{\"fillmode\":\"overlay\",\"size\":10,\"solidity\":0.2}},\"type\":\"barpolar\"}],\"pie\":[{\"automargin\":true,\"type\":\"pie\"}]},\"layout\":{\"autotypenumbers\":\"strict\",\"colorway\":[\"#636efa\",\"#EF553B\",\"#00cc96\",\"#ab63fa\",\"#FFA15A\",\"#19d3f3\",\"#FF6692\",\"#B6E880\",\"#FF97FF\",\"#FECB52\"],\"font\":{\"color\":\"#f2f5fa\"},\"hovermode\":\"closest\",\"hoverlabel\":{\"align\":\"left\"},\"paper_bgcolor\":\"rgb(17,17,17)\",\"plot_bgcolor\":\"rgb(17,17,17)\",\"polar\":{\"bgcolor\":\"rgb(17,17,17)\",\"angularaxis\":{\"gridcolor\":\"#506784\",\"linecolor\":\"#506784\",\"ticks\":\"\"},\"radialaxis\":{\"gridcolor\":\"#506784\",\"linecolor\":\"#506784\",\"ticks\":\"\"}},\"ternary\":{\"bgcolor\":\"rgb(17,17,17)\",\"aaxis\":{\"gridcolor\":\"#506784\",\"linecolor\":\"#506784\",\"ticks\":\"\"},\"baxis\":{\"gridcolor\":\"#506784\",\"linecolor\":\"#506784\",\"ticks\":\"\"},\"caxis\":{\"gridcolor\":\"#506784\",\"linecolor\":\"#506784\",\"ticks\":\"\"}},\"coloraxis\":{\"colorbar\":{\"outlinewidth\":0,\"ticks\":\"\"}},\"colorscale\":{\"sequential\":[[0.0,\"#0d0887\"],[0.1111111111111111,\"#46039f\"],[0.2222222222222222,\"#7201a8\"],[0.3333333333333333,\"#9c179e\"],[0.4444444444444444,\"#bd3786\"],[0.5555555555555556,\"#d8576b\"],[0.6666666666666666,\"#ed7953\"],[0.7777777777777778,\"#fb9f3a\"],[0.8888888888888888,\"#fdca26\"],[1.0,\"#f0f921\"]],\"sequentialminus\":[[0.0,\"#0d0887\"],[0.1111111111111111,\"#46039f\"],[0.2222222222222222,\"#7201a8\"],[0.3333333333333333,\"#9c179e\"],[0.4444444444444444,\"#bd3786\"],[0.5555555555555556,\"#d8576b\"],[0.6666666666666666,\"#ed7953\"],[0.7777777777777778,\"#fb9f3a\"],[0.8888888888888888,\"#fdca26\"],[1.0,\"#f0f921\"]],\"diverging\":[[0,\"#8e0152\"],[0.1,\"#c51b7d\"],[0.2,\"#de77ae\"],[0.3,\"#f1b6da\"],[0.4,\"#fde0ef\"],[0.5,\"#f7f7f7\"],[0.6,\"#e6f5d0\"],[0.7,\"#b8e186\"],[0.8,\"#7fbc41\"],[0.9,\"#4d9221\"],[1,\"#276419\"]]},\"xaxis\":{\"gridcolor\":\"#283442\",\"linecolor\":\"#506784\",\"ticks\":\"\",\"title\":{\"standoff\":15},\"zerolinecolor\":\"#283442\",\"automargin\":true,\"zerolinewidth\":2},\"yaxis\":{\"gridcolor\":\"#283442\",\"linecolor\":\"#506784\",\"ticks\":\"\",\"title\":{\"standoff\":15},\"zerolinecolor\":\"#283442\",\"automargin\":true,\"zerolinewidth\":2},\"scene\":{\"xaxis\":{\"backgroundcolor\":\"rgb(17,17,17)\",\"gridcolor\":\"#506784\",\"linecolor\":\"#506784\",\"showbackground\":true,\"ticks\":\"\",\"zerolinecolor\":\"#C8D4E3\",\"gridwidth\":2},\"yaxis\":{\"backgroundcolor\":\"rgb(17,17,17)\",\"gridcolor\":\"#506784\",\"linecolor\":\"#506784\",\"showbackground\":true,\"ticks\":\"\",\"zerolinecolor\":\"#C8D4E3\",\"gridwidth\":2},\"zaxis\":{\"backgroundcolor\":\"rgb(17,17,17)\",\"gridcolor\":\"#506784\",\"linecolor\":\"#506784\",\"showbackground\":true,\"ticks\":\"\",\"zerolinecolor\":\"#C8D4E3\",\"gridwidth\":2}},\"shapedefaults\":{\"line\":{\"color\":\"#f2f5fa\"}},\"annotationdefaults\":{\"arrowcolor\":\"#f2f5fa\",\"arrowhead\":0,\"arrowwidth\":1},\"geo\":{\"bgcolor\":\"rgb(17,17,17)\",\"landcolor\":\"rgb(17,17,17)\",\"subunitcolor\":\"#506784\",\"showland\":true,\"showlakes\":true,\"lakecolor\":\"rgb(17,17,17)\"},\"title\":{\"x\":0.05},\"updatemenudefaults\":{\"bgcolor\":\"#506784\",\"borderwidth\":0},\"sliderdefaults\":{\"bgcolor\":\"#C8D4E3\",\"borderwidth\":1,\"bordercolor\":\"rgb(17,17,17)\",\"tickwidth\":0},\"mapbox\":{\"style\":\"dark\"}}},\"legend\":{\"tracegroupgap\":0},\"title\":{\"text\":\"GDP by country for 1952 year\",\"x\":0.5}},                        {\"responsive\": true}                    ).then(function(){\n                            \nvar gd = document.getElementById('91f1b0f1-6427-46a3-b825-d172bff74e2a');\nvar x = new MutationObserver(function (mutations, observer) {{\n        var display = window.getComputedStyle(gd).display;\n        if (!display || display === 'none') {{\n            console.log([gd, 'removed!']);\n            Plotly.purge(gd);\n            observer.disconnect();\n        }}\n}});\n\n// Listen for the removal of the full notebook cells\nvar notebookContainer = gd.closest('#notebook-container');\nif (notebookContainer) {{\n    x.observe(notebookContainer, {childList: true});\n}}\n\n// Listen for the clearing of the current output cell\nvar outputEl = gd.closest('.output');\nif (outputEl) {{\n    x.observe(outputEl, {childList: true});\n}}\n\n                        })                };                });            </script>        </div>"
     },
     "metadata": {},
     "output_type": "display_data"
    }
   ],
   "source": [
    "\n",
    "fig = px.pie(top_5_countries,\n",
    "             values='gdpPercap',\n",
    "             names='country',\n",
    "             title='GDP by country for 1952 year',\n",
    "             hole=0.5)\n",
    "\n",
    "fig.update_layout(title_x=0.5) # Center title\n",
    "fig.show()"
   ],
   "metadata": {
    "collapsed": false
   }
  },
  {
   "cell_type": "markdown",
   "source": [
    "\n",
    "3. Побудувати  стовпчасту діаграму, яка відображає динаміку зміни кількості населення для Канади в країнах Океанії протягом років.\n"
   ],
   "metadata": {
    "collapsed": false
   }
  },
  {
   "cell_type": "code",
   "execution_count": 52,
   "outputs": [
    {
     "data": {
      "text/plain": "       country continent  year  lifeExp       pop    gdpPercap iso_alpha  \\\n60   Australia   Oceania  1952   69.120   8691212  10039.59564       AUS   \n61   Australia   Oceania  1957   70.330   9712569  10949.64959       AUS   \n62   Australia   Oceania  1962   70.930  10794968  12217.22686       AUS   \n63   Australia   Oceania  1967   71.100  11872264  14526.12465       AUS   \n64   Australia   Oceania  1972   71.930  13177000  16788.62948       AUS   \n65   Australia   Oceania  1977   73.490  14074100  18334.19751       AUS   \n66   Australia   Oceania  1982   74.740  15184200  19477.00928       AUS   \n67   Australia   Oceania  1987   76.320  16257249  21888.88903       AUS   \n68   Australia   Oceania  1992   77.560  17481977  23424.76683       AUS   \n69   Australia   Oceania  1997   78.830  18565243  26997.93657       AUS   \n70   Australia   Oceania  2002   80.370  19546792  30687.75473       AUS   \n71   Australia   Oceania  2007   81.235  20434176  34435.36744       AUS   \n240     Canada  Americas  1952   68.750  14785584  11367.16112       CAN   \n241     Canada  Americas  1957   69.960  17010154  12489.95006       CAN   \n242     Canada  Americas  1962   71.300  18985849  13462.48555       CAN   \n243     Canada  Americas  1967   72.130  20819767  16076.58803       CAN   \n244     Canada  Americas  1972   72.880  22284500  18970.57086       CAN   \n245     Canada  Americas  1977   74.210  23796400  22090.88306       CAN   \n246     Canada  Americas  1982   75.760  25201900  22898.79214       CAN   \n247     Canada  Americas  1987   76.860  26549700  26626.51503       CAN   \n248     Canada  Americas  1992   77.950  28523502  26342.88426       CAN   \n249     Canada  Americas  1997   78.610  30305843  28954.92589       CAN   \n250     Canada  Americas  2002   79.770  31902268  33328.96507       CAN   \n251     Canada  Americas  2007   80.653  33390141  36319.23501       CAN   \n\n     iso_num  \n60        36  \n61        36  \n62        36  \n63        36  \n64        36  \n65        36  \n66        36  \n67        36  \n68        36  \n69        36  \n70        36  \n71        36  \n240      124  \n241      124  \n242      124  \n243      124  \n244      124  \n245      124  \n246      124  \n247      124  \n248      124  \n249      124  \n250      124  \n251      124  ",
      "text/html": "<div>\n<style scoped>\n    .dataframe tbody tr th:only-of-type {\n        vertical-align: middle;\n    }\n\n    .dataframe tbody tr th {\n        vertical-align: top;\n    }\n\n    .dataframe thead th {\n        text-align: right;\n    }\n</style>\n<table border=\"1\" class=\"dataframe\">\n  <thead>\n    <tr style=\"text-align: right;\">\n      <th></th>\n      <th>country</th>\n      <th>continent</th>\n      <th>year</th>\n      <th>lifeExp</th>\n      <th>pop</th>\n      <th>gdpPercap</th>\n      <th>iso_alpha</th>\n      <th>iso_num</th>\n    </tr>\n  </thead>\n  <tbody>\n    <tr>\n      <th>60</th>\n      <td>Australia</td>\n      <td>Oceania</td>\n      <td>1952</td>\n      <td>69.120</td>\n      <td>8691212</td>\n      <td>10039.59564</td>\n      <td>AUS</td>\n      <td>36</td>\n    </tr>\n    <tr>\n      <th>61</th>\n      <td>Australia</td>\n      <td>Oceania</td>\n      <td>1957</td>\n      <td>70.330</td>\n      <td>9712569</td>\n      <td>10949.64959</td>\n      <td>AUS</td>\n      <td>36</td>\n    </tr>\n    <tr>\n      <th>62</th>\n      <td>Australia</td>\n      <td>Oceania</td>\n      <td>1962</td>\n      <td>70.930</td>\n      <td>10794968</td>\n      <td>12217.22686</td>\n      <td>AUS</td>\n      <td>36</td>\n    </tr>\n    <tr>\n      <th>63</th>\n      <td>Australia</td>\n      <td>Oceania</td>\n      <td>1967</td>\n      <td>71.100</td>\n      <td>11872264</td>\n      <td>14526.12465</td>\n      <td>AUS</td>\n      <td>36</td>\n    </tr>\n    <tr>\n      <th>64</th>\n      <td>Australia</td>\n      <td>Oceania</td>\n      <td>1972</td>\n      <td>71.930</td>\n      <td>13177000</td>\n      <td>16788.62948</td>\n      <td>AUS</td>\n      <td>36</td>\n    </tr>\n    <tr>\n      <th>65</th>\n      <td>Australia</td>\n      <td>Oceania</td>\n      <td>1977</td>\n      <td>73.490</td>\n      <td>14074100</td>\n      <td>18334.19751</td>\n      <td>AUS</td>\n      <td>36</td>\n    </tr>\n    <tr>\n      <th>66</th>\n      <td>Australia</td>\n      <td>Oceania</td>\n      <td>1982</td>\n      <td>74.740</td>\n      <td>15184200</td>\n      <td>19477.00928</td>\n      <td>AUS</td>\n      <td>36</td>\n    </tr>\n    <tr>\n      <th>67</th>\n      <td>Australia</td>\n      <td>Oceania</td>\n      <td>1987</td>\n      <td>76.320</td>\n      <td>16257249</td>\n      <td>21888.88903</td>\n      <td>AUS</td>\n      <td>36</td>\n    </tr>\n    <tr>\n      <th>68</th>\n      <td>Australia</td>\n      <td>Oceania</td>\n      <td>1992</td>\n      <td>77.560</td>\n      <td>17481977</td>\n      <td>23424.76683</td>\n      <td>AUS</td>\n      <td>36</td>\n    </tr>\n    <tr>\n      <th>69</th>\n      <td>Australia</td>\n      <td>Oceania</td>\n      <td>1997</td>\n      <td>78.830</td>\n      <td>18565243</td>\n      <td>26997.93657</td>\n      <td>AUS</td>\n      <td>36</td>\n    </tr>\n    <tr>\n      <th>70</th>\n      <td>Australia</td>\n      <td>Oceania</td>\n      <td>2002</td>\n      <td>80.370</td>\n      <td>19546792</td>\n      <td>30687.75473</td>\n      <td>AUS</td>\n      <td>36</td>\n    </tr>\n    <tr>\n      <th>71</th>\n      <td>Australia</td>\n      <td>Oceania</td>\n      <td>2007</td>\n      <td>81.235</td>\n      <td>20434176</td>\n      <td>34435.36744</td>\n      <td>AUS</td>\n      <td>36</td>\n    </tr>\n    <tr>\n      <th>240</th>\n      <td>Canada</td>\n      <td>Americas</td>\n      <td>1952</td>\n      <td>68.750</td>\n      <td>14785584</td>\n      <td>11367.16112</td>\n      <td>CAN</td>\n      <td>124</td>\n    </tr>\n    <tr>\n      <th>241</th>\n      <td>Canada</td>\n      <td>Americas</td>\n      <td>1957</td>\n      <td>69.960</td>\n      <td>17010154</td>\n      <td>12489.95006</td>\n      <td>CAN</td>\n      <td>124</td>\n    </tr>\n    <tr>\n      <th>242</th>\n      <td>Canada</td>\n      <td>Americas</td>\n      <td>1962</td>\n      <td>71.300</td>\n      <td>18985849</td>\n      <td>13462.48555</td>\n      <td>CAN</td>\n      <td>124</td>\n    </tr>\n    <tr>\n      <th>243</th>\n      <td>Canada</td>\n      <td>Americas</td>\n      <td>1967</td>\n      <td>72.130</td>\n      <td>20819767</td>\n      <td>16076.58803</td>\n      <td>CAN</td>\n      <td>124</td>\n    </tr>\n    <tr>\n      <th>244</th>\n      <td>Canada</td>\n      <td>Americas</td>\n      <td>1972</td>\n      <td>72.880</td>\n      <td>22284500</td>\n      <td>18970.57086</td>\n      <td>CAN</td>\n      <td>124</td>\n    </tr>\n    <tr>\n      <th>245</th>\n      <td>Canada</td>\n      <td>Americas</td>\n      <td>1977</td>\n      <td>74.210</td>\n      <td>23796400</td>\n      <td>22090.88306</td>\n      <td>CAN</td>\n      <td>124</td>\n    </tr>\n    <tr>\n      <th>246</th>\n      <td>Canada</td>\n      <td>Americas</td>\n      <td>1982</td>\n      <td>75.760</td>\n      <td>25201900</td>\n      <td>22898.79214</td>\n      <td>CAN</td>\n      <td>124</td>\n    </tr>\n    <tr>\n      <th>247</th>\n      <td>Canada</td>\n      <td>Americas</td>\n      <td>1987</td>\n      <td>76.860</td>\n      <td>26549700</td>\n      <td>26626.51503</td>\n      <td>CAN</td>\n      <td>124</td>\n    </tr>\n    <tr>\n      <th>248</th>\n      <td>Canada</td>\n      <td>Americas</td>\n      <td>1992</td>\n      <td>77.950</td>\n      <td>28523502</td>\n      <td>26342.88426</td>\n      <td>CAN</td>\n      <td>124</td>\n    </tr>\n    <tr>\n      <th>249</th>\n      <td>Canada</td>\n      <td>Americas</td>\n      <td>1997</td>\n      <td>78.610</td>\n      <td>30305843</td>\n      <td>28954.92589</td>\n      <td>CAN</td>\n      <td>124</td>\n    </tr>\n    <tr>\n      <th>250</th>\n      <td>Canada</td>\n      <td>Americas</td>\n      <td>2002</td>\n      <td>79.770</td>\n      <td>31902268</td>\n      <td>33328.96507</td>\n      <td>CAN</td>\n      <td>124</td>\n    </tr>\n    <tr>\n      <th>251</th>\n      <td>Canada</td>\n      <td>Americas</td>\n      <td>2007</td>\n      <td>80.653</td>\n      <td>33390141</td>\n      <td>36319.23501</td>\n      <td>CAN</td>\n      <td>124</td>\n    </tr>\n  </tbody>\n</table>\n</div>"
     },
     "execution_count": 52,
     "metadata": {},
     "output_type": "execute_result"
    }
   ],
   "source": [
    "# data_canada_oceania = gm_data[ (gm_data['country'] == 'Canada') &\n",
    "#                               (gm_data['continent'] == 'Oceania') ]\n",
    "data_canada_oceania = gm_data[(gm_data['country'].isin(['Canada', 'Australia']))]\n",
    "\n",
    "\n",
    "data_canada_oceania"
   ],
   "metadata": {
    "collapsed": false
   }
  },
  {
   "cell_type": "code",
   "execution_count": 54,
   "outputs": [
    {
     "data": {
      "application/vnd.plotly.v1+json": {
       "data": [
        {
         "alignmentgroup": "True",
         "hovertemplate": "country=Australia<br>Year=%{x}<br>Population=%{y}<extra></extra>",
         "legendgroup": "Australia",
         "marker": {
          "color": "#636efa",
          "pattern": {
           "shape": ""
          }
         },
         "name": "Australia",
         "offsetgroup": "Australia",
         "orientation": "v",
         "showlegend": true,
         "textposition": "auto",
         "x": [
          1952,
          1957,
          1962,
          1967,
          1972,
          1977,
          1982,
          1987,
          1992,
          1997,
          2002,
          2007
         ],
         "xaxis": "x",
         "y": [
          8691212,
          9712569,
          10794968,
          11872264,
          13177000,
          14074100,
          15184200,
          16257249,
          17481977,
          18565243,
          19546792,
          20434176
         ],
         "yaxis": "y",
         "type": "bar"
        },
        {
         "alignmentgroup": "True",
         "hovertemplate": "country=Canada<br>Year=%{x}<br>Population=%{y}<extra></extra>",
         "legendgroup": "Canada",
         "marker": {
          "color": "#EF553B",
          "pattern": {
           "shape": ""
          }
         },
         "name": "Canada",
         "offsetgroup": "Canada",
         "orientation": "v",
         "showlegend": true,
         "textposition": "auto",
         "x": [
          1952,
          1957,
          1962,
          1967,
          1972,
          1977,
          1982,
          1987,
          1992,
          1997,
          2002,
          2007
         ],
         "xaxis": "x",
         "y": [
          14785584,
          17010154,
          18985849,
          20819767,
          22284500,
          23796400,
          25201900,
          26549700,
          28523502,
          30305843,
          31902268,
          33390141
         ],
         "yaxis": "y",
         "type": "bar"
        }
       ],
       "layout": {
        "template": {
         "data": {
          "histogram2dcontour": [
           {
            "type": "histogram2dcontour",
            "colorbar": {
             "outlinewidth": 0,
             "ticks": ""
            },
            "colorscale": [
             [
              0.0,
              "#0d0887"
             ],
             [
              0.1111111111111111,
              "#46039f"
             ],
             [
              0.2222222222222222,
              "#7201a8"
             ],
             [
              0.3333333333333333,
              "#9c179e"
             ],
             [
              0.4444444444444444,
              "#bd3786"
             ],
             [
              0.5555555555555556,
              "#d8576b"
             ],
             [
              0.6666666666666666,
              "#ed7953"
             ],
             [
              0.7777777777777778,
              "#fb9f3a"
             ],
             [
              0.8888888888888888,
              "#fdca26"
             ],
             [
              1.0,
              "#f0f921"
             ]
            ]
           }
          ],
          "choropleth": [
           {
            "type": "choropleth",
            "colorbar": {
             "outlinewidth": 0,
             "ticks": ""
            }
           }
          ],
          "histogram2d": [
           {
            "type": "histogram2d",
            "colorbar": {
             "outlinewidth": 0,
             "ticks": ""
            },
            "colorscale": [
             [
              0.0,
              "#0d0887"
             ],
             [
              0.1111111111111111,
              "#46039f"
             ],
             [
              0.2222222222222222,
              "#7201a8"
             ],
             [
              0.3333333333333333,
              "#9c179e"
             ],
             [
              0.4444444444444444,
              "#bd3786"
             ],
             [
              0.5555555555555556,
              "#d8576b"
             ],
             [
              0.6666666666666666,
              "#ed7953"
             ],
             [
              0.7777777777777778,
              "#fb9f3a"
             ],
             [
              0.8888888888888888,
              "#fdca26"
             ],
             [
              1.0,
              "#f0f921"
             ]
            ]
           }
          ],
          "heatmap": [
           {
            "type": "heatmap",
            "colorbar": {
             "outlinewidth": 0,
             "ticks": ""
            },
            "colorscale": [
             [
              0.0,
              "#0d0887"
             ],
             [
              0.1111111111111111,
              "#46039f"
             ],
             [
              0.2222222222222222,
              "#7201a8"
             ],
             [
              0.3333333333333333,
              "#9c179e"
             ],
             [
              0.4444444444444444,
              "#bd3786"
             ],
             [
              0.5555555555555556,
              "#d8576b"
             ],
             [
              0.6666666666666666,
              "#ed7953"
             ],
             [
              0.7777777777777778,
              "#fb9f3a"
             ],
             [
              0.8888888888888888,
              "#fdca26"
             ],
             [
              1.0,
              "#f0f921"
             ]
            ]
           }
          ],
          "heatmapgl": [
           {
            "type": "heatmapgl",
            "colorbar": {
             "outlinewidth": 0,
             "ticks": ""
            },
            "colorscale": [
             [
              0.0,
              "#0d0887"
             ],
             [
              0.1111111111111111,
              "#46039f"
             ],
             [
              0.2222222222222222,
              "#7201a8"
             ],
             [
              0.3333333333333333,
              "#9c179e"
             ],
             [
              0.4444444444444444,
              "#bd3786"
             ],
             [
              0.5555555555555556,
              "#d8576b"
             ],
             [
              0.6666666666666666,
              "#ed7953"
             ],
             [
              0.7777777777777778,
              "#fb9f3a"
             ],
             [
              0.8888888888888888,
              "#fdca26"
             ],
             [
              1.0,
              "#f0f921"
             ]
            ]
           }
          ],
          "contourcarpet": [
           {
            "type": "contourcarpet",
            "colorbar": {
             "outlinewidth": 0,
             "ticks": ""
            }
           }
          ],
          "contour": [
           {
            "type": "contour",
            "colorbar": {
             "outlinewidth": 0,
             "ticks": ""
            },
            "colorscale": [
             [
              0.0,
              "#0d0887"
             ],
             [
              0.1111111111111111,
              "#46039f"
             ],
             [
              0.2222222222222222,
              "#7201a8"
             ],
             [
              0.3333333333333333,
              "#9c179e"
             ],
             [
              0.4444444444444444,
              "#bd3786"
             ],
             [
              0.5555555555555556,
              "#d8576b"
             ],
             [
              0.6666666666666666,
              "#ed7953"
             ],
             [
              0.7777777777777778,
              "#fb9f3a"
             ],
             [
              0.8888888888888888,
              "#fdca26"
             ],
             [
              1.0,
              "#f0f921"
             ]
            ]
           }
          ],
          "surface": [
           {
            "type": "surface",
            "colorbar": {
             "outlinewidth": 0,
             "ticks": ""
            },
            "colorscale": [
             [
              0.0,
              "#0d0887"
             ],
             [
              0.1111111111111111,
              "#46039f"
             ],
             [
              0.2222222222222222,
              "#7201a8"
             ],
             [
              0.3333333333333333,
              "#9c179e"
             ],
             [
              0.4444444444444444,
              "#bd3786"
             ],
             [
              0.5555555555555556,
              "#d8576b"
             ],
             [
              0.6666666666666666,
              "#ed7953"
             ],
             [
              0.7777777777777778,
              "#fb9f3a"
             ],
             [
              0.8888888888888888,
              "#fdca26"
             ],
             [
              1.0,
              "#f0f921"
             ]
            ]
           }
          ],
          "mesh3d": [
           {
            "type": "mesh3d",
            "colorbar": {
             "outlinewidth": 0,
             "ticks": ""
            }
           }
          ],
          "scatter": [
           {
            "marker": {
             "line": {
              "color": "#283442"
             }
            },
            "type": "scatter"
           }
          ],
          "parcoords": [
           {
            "type": "parcoords",
            "line": {
             "colorbar": {
              "outlinewidth": 0,
              "ticks": ""
             }
            }
           }
          ],
          "scatterpolargl": [
           {
            "type": "scatterpolargl",
            "marker": {
             "colorbar": {
              "outlinewidth": 0,
              "ticks": ""
             }
            }
           }
          ],
          "bar": [
           {
            "error_x": {
             "color": "#f2f5fa"
            },
            "error_y": {
             "color": "#f2f5fa"
            },
            "marker": {
             "line": {
              "color": "rgb(17,17,17)",
              "width": 0.5
             },
             "pattern": {
              "fillmode": "overlay",
              "size": 10,
              "solidity": 0.2
             }
            },
            "type": "bar"
           }
          ],
          "scattergeo": [
           {
            "type": "scattergeo",
            "marker": {
             "colorbar": {
              "outlinewidth": 0,
              "ticks": ""
             }
            }
           }
          ],
          "scatterpolar": [
           {
            "type": "scatterpolar",
            "marker": {
             "colorbar": {
              "outlinewidth": 0,
              "ticks": ""
             }
            }
           }
          ],
          "histogram": [
           {
            "marker": {
             "pattern": {
              "fillmode": "overlay",
              "size": 10,
              "solidity": 0.2
             }
            },
            "type": "histogram"
           }
          ],
          "scattergl": [
           {
            "marker": {
             "line": {
              "color": "#283442"
             }
            },
            "type": "scattergl"
           }
          ],
          "scatter3d": [
           {
            "type": "scatter3d",
            "line": {
             "colorbar": {
              "outlinewidth": 0,
              "ticks": ""
             }
            },
            "marker": {
             "colorbar": {
              "outlinewidth": 0,
              "ticks": ""
             }
            }
           }
          ],
          "scattermapbox": [
           {
            "type": "scattermapbox",
            "marker": {
             "colorbar": {
              "outlinewidth": 0,
              "ticks": ""
             }
            }
           }
          ],
          "scatterternary": [
           {
            "type": "scatterternary",
            "marker": {
             "colorbar": {
              "outlinewidth": 0,
              "ticks": ""
             }
            }
           }
          ],
          "scattercarpet": [
           {
            "type": "scattercarpet",
            "marker": {
             "colorbar": {
              "outlinewidth": 0,
              "ticks": ""
             }
            }
           }
          ],
          "carpet": [
           {
            "aaxis": {
             "endlinecolor": "#A2B1C6",
             "gridcolor": "#506784",
             "linecolor": "#506784",
             "minorgridcolor": "#506784",
             "startlinecolor": "#A2B1C6"
            },
            "baxis": {
             "endlinecolor": "#A2B1C6",
             "gridcolor": "#506784",
             "linecolor": "#506784",
             "minorgridcolor": "#506784",
             "startlinecolor": "#A2B1C6"
            },
            "type": "carpet"
           }
          ],
          "table": [
           {
            "cells": {
             "fill": {
              "color": "#506784"
             },
             "line": {
              "color": "rgb(17,17,17)"
             }
            },
            "header": {
             "fill": {
              "color": "#2a3f5f"
             },
             "line": {
              "color": "rgb(17,17,17)"
             }
            },
            "type": "table"
           }
          ],
          "barpolar": [
           {
            "marker": {
             "line": {
              "color": "rgb(17,17,17)",
              "width": 0.5
             },
             "pattern": {
              "fillmode": "overlay",
              "size": 10,
              "solidity": 0.2
             }
            },
            "type": "barpolar"
           }
          ],
          "pie": [
           {
            "automargin": true,
            "type": "pie"
           }
          ]
         },
         "layout": {
          "autotypenumbers": "strict",
          "colorway": [
           "#636efa",
           "#EF553B",
           "#00cc96",
           "#ab63fa",
           "#FFA15A",
           "#19d3f3",
           "#FF6692",
           "#B6E880",
           "#FF97FF",
           "#FECB52"
          ],
          "font": {
           "color": "#f2f5fa"
          },
          "hovermode": "closest",
          "hoverlabel": {
           "align": "left"
          },
          "paper_bgcolor": "rgb(17,17,17)",
          "plot_bgcolor": "rgb(17,17,17)",
          "polar": {
           "bgcolor": "rgb(17,17,17)",
           "angularaxis": {
            "gridcolor": "#506784",
            "linecolor": "#506784",
            "ticks": ""
           },
           "radialaxis": {
            "gridcolor": "#506784",
            "linecolor": "#506784",
            "ticks": ""
           }
          },
          "ternary": {
           "bgcolor": "rgb(17,17,17)",
           "aaxis": {
            "gridcolor": "#506784",
            "linecolor": "#506784",
            "ticks": ""
           },
           "baxis": {
            "gridcolor": "#506784",
            "linecolor": "#506784",
            "ticks": ""
           },
           "caxis": {
            "gridcolor": "#506784",
            "linecolor": "#506784",
            "ticks": ""
           }
          },
          "coloraxis": {
           "colorbar": {
            "outlinewidth": 0,
            "ticks": ""
           }
          },
          "colorscale": {
           "sequential": [
            [
             0.0,
             "#0d0887"
            ],
            [
             0.1111111111111111,
             "#46039f"
            ],
            [
             0.2222222222222222,
             "#7201a8"
            ],
            [
             0.3333333333333333,
             "#9c179e"
            ],
            [
             0.4444444444444444,
             "#bd3786"
            ],
            [
             0.5555555555555556,
             "#d8576b"
            ],
            [
             0.6666666666666666,
             "#ed7953"
            ],
            [
             0.7777777777777778,
             "#fb9f3a"
            ],
            [
             0.8888888888888888,
             "#fdca26"
            ],
            [
             1.0,
             "#f0f921"
            ]
           ],
           "sequentialminus": [
            [
             0.0,
             "#0d0887"
            ],
            [
             0.1111111111111111,
             "#46039f"
            ],
            [
             0.2222222222222222,
             "#7201a8"
            ],
            [
             0.3333333333333333,
             "#9c179e"
            ],
            [
             0.4444444444444444,
             "#bd3786"
            ],
            [
             0.5555555555555556,
             "#d8576b"
            ],
            [
             0.6666666666666666,
             "#ed7953"
            ],
            [
             0.7777777777777778,
             "#fb9f3a"
            ],
            [
             0.8888888888888888,
             "#fdca26"
            ],
            [
             1.0,
             "#f0f921"
            ]
           ],
           "diverging": [
            [
             0,
             "#8e0152"
            ],
            [
             0.1,
             "#c51b7d"
            ],
            [
             0.2,
             "#de77ae"
            ],
            [
             0.3,
             "#f1b6da"
            ],
            [
             0.4,
             "#fde0ef"
            ],
            [
             0.5,
             "#f7f7f7"
            ],
            [
             0.6,
             "#e6f5d0"
            ],
            [
             0.7,
             "#b8e186"
            ],
            [
             0.8,
             "#7fbc41"
            ],
            [
             0.9,
             "#4d9221"
            ],
            [
             1,
             "#276419"
            ]
           ]
          },
          "xaxis": {
           "gridcolor": "#283442",
           "linecolor": "#506784",
           "ticks": "",
           "title": {
            "standoff": 15
           },
           "zerolinecolor": "#283442",
           "automargin": true,
           "zerolinewidth": 2
          },
          "yaxis": {
           "gridcolor": "#283442",
           "linecolor": "#506784",
           "ticks": "",
           "title": {
            "standoff": 15
           },
           "zerolinecolor": "#283442",
           "automargin": true,
           "zerolinewidth": 2
          },
          "scene": {
           "xaxis": {
            "backgroundcolor": "rgb(17,17,17)",
            "gridcolor": "#506784",
            "linecolor": "#506784",
            "showbackground": true,
            "ticks": "",
            "zerolinecolor": "#C8D4E3",
            "gridwidth": 2
           },
           "yaxis": {
            "backgroundcolor": "rgb(17,17,17)",
            "gridcolor": "#506784",
            "linecolor": "#506784",
            "showbackground": true,
            "ticks": "",
            "zerolinecolor": "#C8D4E3",
            "gridwidth": 2
           },
           "zaxis": {
            "backgroundcolor": "rgb(17,17,17)",
            "gridcolor": "#506784",
            "linecolor": "#506784",
            "showbackground": true,
            "ticks": "",
            "zerolinecolor": "#C8D4E3",
            "gridwidth": 2
           }
          },
          "shapedefaults": {
           "line": {
            "color": "#f2f5fa"
           }
          },
          "annotationdefaults": {
           "arrowcolor": "#f2f5fa",
           "arrowhead": 0,
           "arrowwidth": 1
          },
          "geo": {
           "bgcolor": "rgb(17,17,17)",
           "landcolor": "rgb(17,17,17)",
           "subunitcolor": "#506784",
           "showland": true,
           "showlakes": true,
           "lakecolor": "rgb(17,17,17)"
          },
          "title": {
           "x": 0.05
          },
          "updatemenudefaults": {
           "bgcolor": "#506784",
           "borderwidth": 0
          },
          "sliderdefaults": {
           "bgcolor": "#C8D4E3",
           "borderwidth": 1,
           "bordercolor": "rgb(17,17,17)",
           "tickwidth": 0
          },
          "mapbox": {
           "style": "dark"
          }
         }
        },
        "xaxis": {
         "anchor": "y",
         "domain": [
          0.0,
          1.0
         ],
         "title": {
          "text": "Year"
         }
        },
        "yaxis": {
         "anchor": "x",
         "domain": [
          0.0,
          1.0
         ],
         "title": {
          "text": "Population"
         }
        },
        "legend": {
         "title": {
          "text": "country"
         },
         "tracegroupgap": 0
        },
        "title": {
         "text": "Population Dynamics of Canada in Oceania Countries over Years",
         "x": 0.5
        },
        "barmode": "relative"
       },
       "config": {
        "plotlyServerURL": "https://plot.ly"
       }
      },
      "text/html": "<div>                            <div id=\"2b7b823e-1cc3-4b1b-baea-778517576e76\" class=\"plotly-graph-div\" style=\"height:525px; width:100%;\"></div>            <script type=\"text/javascript\">                require([\"plotly\"], function(Plotly) {                    window.PLOTLYENV=window.PLOTLYENV || {};                                    if (document.getElementById(\"2b7b823e-1cc3-4b1b-baea-778517576e76\")) {                    Plotly.newPlot(                        \"2b7b823e-1cc3-4b1b-baea-778517576e76\",                        [{\"alignmentgroup\":\"True\",\"hovertemplate\":\"country=Australia<br>Year=%{x}<br>Population=%{y}<extra></extra>\",\"legendgroup\":\"Australia\",\"marker\":{\"color\":\"#636efa\",\"pattern\":{\"shape\":\"\"}},\"name\":\"Australia\",\"offsetgroup\":\"Australia\",\"orientation\":\"v\",\"showlegend\":true,\"textposition\":\"auto\",\"x\":[1952,1957,1962,1967,1972,1977,1982,1987,1992,1997,2002,2007],\"xaxis\":\"x\",\"y\":[8691212,9712569,10794968,11872264,13177000,14074100,15184200,16257249,17481977,18565243,19546792,20434176],\"yaxis\":\"y\",\"type\":\"bar\"},{\"alignmentgroup\":\"True\",\"hovertemplate\":\"country=Canada<br>Year=%{x}<br>Population=%{y}<extra></extra>\",\"legendgroup\":\"Canada\",\"marker\":{\"color\":\"#EF553B\",\"pattern\":{\"shape\":\"\"}},\"name\":\"Canada\",\"offsetgroup\":\"Canada\",\"orientation\":\"v\",\"showlegend\":true,\"textposition\":\"auto\",\"x\":[1952,1957,1962,1967,1972,1977,1982,1987,1992,1997,2002,2007],\"xaxis\":\"x\",\"y\":[14785584,17010154,18985849,20819767,22284500,23796400,25201900,26549700,28523502,30305843,31902268,33390141],\"yaxis\":\"y\",\"type\":\"bar\"}],                        {\"template\":{\"data\":{\"histogram2dcontour\":[{\"type\":\"histogram2dcontour\",\"colorbar\":{\"outlinewidth\":0,\"ticks\":\"\"},\"colorscale\":[[0.0,\"#0d0887\"],[0.1111111111111111,\"#46039f\"],[0.2222222222222222,\"#7201a8\"],[0.3333333333333333,\"#9c179e\"],[0.4444444444444444,\"#bd3786\"],[0.5555555555555556,\"#d8576b\"],[0.6666666666666666,\"#ed7953\"],[0.7777777777777778,\"#fb9f3a\"],[0.8888888888888888,\"#fdca26\"],[1.0,\"#f0f921\"]]}],\"choropleth\":[{\"type\":\"choropleth\",\"colorbar\":{\"outlinewidth\":0,\"ticks\":\"\"}}],\"histogram2d\":[{\"type\":\"histogram2d\",\"colorbar\":{\"outlinewidth\":0,\"ticks\":\"\"},\"colorscale\":[[0.0,\"#0d0887\"],[0.1111111111111111,\"#46039f\"],[0.2222222222222222,\"#7201a8\"],[0.3333333333333333,\"#9c179e\"],[0.4444444444444444,\"#bd3786\"],[0.5555555555555556,\"#d8576b\"],[0.6666666666666666,\"#ed7953\"],[0.7777777777777778,\"#fb9f3a\"],[0.8888888888888888,\"#fdca26\"],[1.0,\"#f0f921\"]]}],\"heatmap\":[{\"type\":\"heatmap\",\"colorbar\":{\"outlinewidth\":0,\"ticks\":\"\"},\"colorscale\":[[0.0,\"#0d0887\"],[0.1111111111111111,\"#46039f\"],[0.2222222222222222,\"#7201a8\"],[0.3333333333333333,\"#9c179e\"],[0.4444444444444444,\"#bd3786\"],[0.5555555555555556,\"#d8576b\"],[0.6666666666666666,\"#ed7953\"],[0.7777777777777778,\"#fb9f3a\"],[0.8888888888888888,\"#fdca26\"],[1.0,\"#f0f921\"]]}],\"heatmapgl\":[{\"type\":\"heatmapgl\",\"colorbar\":{\"outlinewidth\":0,\"ticks\":\"\"},\"colorscale\":[[0.0,\"#0d0887\"],[0.1111111111111111,\"#46039f\"],[0.2222222222222222,\"#7201a8\"],[0.3333333333333333,\"#9c179e\"],[0.4444444444444444,\"#bd3786\"],[0.5555555555555556,\"#d8576b\"],[0.6666666666666666,\"#ed7953\"],[0.7777777777777778,\"#fb9f3a\"],[0.8888888888888888,\"#fdca26\"],[1.0,\"#f0f921\"]]}],\"contourcarpet\":[{\"type\":\"contourcarpet\",\"colorbar\":{\"outlinewidth\":0,\"ticks\":\"\"}}],\"contour\":[{\"type\":\"contour\",\"colorbar\":{\"outlinewidth\":0,\"ticks\":\"\"},\"colorscale\":[[0.0,\"#0d0887\"],[0.1111111111111111,\"#46039f\"],[0.2222222222222222,\"#7201a8\"],[0.3333333333333333,\"#9c179e\"],[0.4444444444444444,\"#bd3786\"],[0.5555555555555556,\"#d8576b\"],[0.6666666666666666,\"#ed7953\"],[0.7777777777777778,\"#fb9f3a\"],[0.8888888888888888,\"#fdca26\"],[1.0,\"#f0f921\"]]}],\"surface\":[{\"type\":\"surface\",\"colorbar\":{\"outlinewidth\":0,\"ticks\":\"\"},\"colorscale\":[[0.0,\"#0d0887\"],[0.1111111111111111,\"#46039f\"],[0.2222222222222222,\"#7201a8\"],[0.3333333333333333,\"#9c179e\"],[0.4444444444444444,\"#bd3786\"],[0.5555555555555556,\"#d8576b\"],[0.6666666666666666,\"#ed7953\"],[0.7777777777777778,\"#fb9f3a\"],[0.8888888888888888,\"#fdca26\"],[1.0,\"#f0f921\"]]}],\"mesh3d\":[{\"type\":\"mesh3d\",\"colorbar\":{\"outlinewidth\":0,\"ticks\":\"\"}}],\"scatter\":[{\"marker\":{\"line\":{\"color\":\"#283442\"}},\"type\":\"scatter\"}],\"parcoords\":[{\"type\":\"parcoords\",\"line\":{\"colorbar\":{\"outlinewidth\":0,\"ticks\":\"\"}}}],\"scatterpolargl\":[{\"type\":\"scatterpolargl\",\"marker\":{\"colorbar\":{\"outlinewidth\":0,\"ticks\":\"\"}}}],\"bar\":[{\"error_x\":{\"color\":\"#f2f5fa\"},\"error_y\":{\"color\":\"#f2f5fa\"},\"marker\":{\"line\":{\"color\":\"rgb(17,17,17)\",\"width\":0.5},\"pattern\":{\"fillmode\":\"overlay\",\"size\":10,\"solidity\":0.2}},\"type\":\"bar\"}],\"scattergeo\":[{\"type\":\"scattergeo\",\"marker\":{\"colorbar\":{\"outlinewidth\":0,\"ticks\":\"\"}}}],\"scatterpolar\":[{\"type\":\"scatterpolar\",\"marker\":{\"colorbar\":{\"outlinewidth\":0,\"ticks\":\"\"}}}],\"histogram\":[{\"marker\":{\"pattern\":{\"fillmode\":\"overlay\",\"size\":10,\"solidity\":0.2}},\"type\":\"histogram\"}],\"scattergl\":[{\"marker\":{\"line\":{\"color\":\"#283442\"}},\"type\":\"scattergl\"}],\"scatter3d\":[{\"type\":\"scatter3d\",\"line\":{\"colorbar\":{\"outlinewidth\":0,\"ticks\":\"\"}},\"marker\":{\"colorbar\":{\"outlinewidth\":0,\"ticks\":\"\"}}}],\"scattermapbox\":[{\"type\":\"scattermapbox\",\"marker\":{\"colorbar\":{\"outlinewidth\":0,\"ticks\":\"\"}}}],\"scatterternary\":[{\"type\":\"scatterternary\",\"marker\":{\"colorbar\":{\"outlinewidth\":0,\"ticks\":\"\"}}}],\"scattercarpet\":[{\"type\":\"scattercarpet\",\"marker\":{\"colorbar\":{\"outlinewidth\":0,\"ticks\":\"\"}}}],\"carpet\":[{\"aaxis\":{\"endlinecolor\":\"#A2B1C6\",\"gridcolor\":\"#506784\",\"linecolor\":\"#506784\",\"minorgridcolor\":\"#506784\",\"startlinecolor\":\"#A2B1C6\"},\"baxis\":{\"endlinecolor\":\"#A2B1C6\",\"gridcolor\":\"#506784\",\"linecolor\":\"#506784\",\"minorgridcolor\":\"#506784\",\"startlinecolor\":\"#A2B1C6\"},\"type\":\"carpet\"}],\"table\":[{\"cells\":{\"fill\":{\"color\":\"#506784\"},\"line\":{\"color\":\"rgb(17,17,17)\"}},\"header\":{\"fill\":{\"color\":\"#2a3f5f\"},\"line\":{\"color\":\"rgb(17,17,17)\"}},\"type\":\"table\"}],\"barpolar\":[{\"marker\":{\"line\":{\"color\":\"rgb(17,17,17)\",\"width\":0.5},\"pattern\":{\"fillmode\":\"overlay\",\"size\":10,\"solidity\":0.2}},\"type\":\"barpolar\"}],\"pie\":[{\"automargin\":true,\"type\":\"pie\"}]},\"layout\":{\"autotypenumbers\":\"strict\",\"colorway\":[\"#636efa\",\"#EF553B\",\"#00cc96\",\"#ab63fa\",\"#FFA15A\",\"#19d3f3\",\"#FF6692\",\"#B6E880\",\"#FF97FF\",\"#FECB52\"],\"font\":{\"color\":\"#f2f5fa\"},\"hovermode\":\"closest\",\"hoverlabel\":{\"align\":\"left\"},\"paper_bgcolor\":\"rgb(17,17,17)\",\"plot_bgcolor\":\"rgb(17,17,17)\",\"polar\":{\"bgcolor\":\"rgb(17,17,17)\",\"angularaxis\":{\"gridcolor\":\"#506784\",\"linecolor\":\"#506784\",\"ticks\":\"\"},\"radialaxis\":{\"gridcolor\":\"#506784\",\"linecolor\":\"#506784\",\"ticks\":\"\"}},\"ternary\":{\"bgcolor\":\"rgb(17,17,17)\",\"aaxis\":{\"gridcolor\":\"#506784\",\"linecolor\":\"#506784\",\"ticks\":\"\"},\"baxis\":{\"gridcolor\":\"#506784\",\"linecolor\":\"#506784\",\"ticks\":\"\"},\"caxis\":{\"gridcolor\":\"#506784\",\"linecolor\":\"#506784\",\"ticks\":\"\"}},\"coloraxis\":{\"colorbar\":{\"outlinewidth\":0,\"ticks\":\"\"}},\"colorscale\":{\"sequential\":[[0.0,\"#0d0887\"],[0.1111111111111111,\"#46039f\"],[0.2222222222222222,\"#7201a8\"],[0.3333333333333333,\"#9c179e\"],[0.4444444444444444,\"#bd3786\"],[0.5555555555555556,\"#d8576b\"],[0.6666666666666666,\"#ed7953\"],[0.7777777777777778,\"#fb9f3a\"],[0.8888888888888888,\"#fdca26\"],[1.0,\"#f0f921\"]],\"sequentialminus\":[[0.0,\"#0d0887\"],[0.1111111111111111,\"#46039f\"],[0.2222222222222222,\"#7201a8\"],[0.3333333333333333,\"#9c179e\"],[0.4444444444444444,\"#bd3786\"],[0.5555555555555556,\"#d8576b\"],[0.6666666666666666,\"#ed7953\"],[0.7777777777777778,\"#fb9f3a\"],[0.8888888888888888,\"#fdca26\"],[1.0,\"#f0f921\"]],\"diverging\":[[0,\"#8e0152\"],[0.1,\"#c51b7d\"],[0.2,\"#de77ae\"],[0.3,\"#f1b6da\"],[0.4,\"#fde0ef\"],[0.5,\"#f7f7f7\"],[0.6,\"#e6f5d0\"],[0.7,\"#b8e186\"],[0.8,\"#7fbc41\"],[0.9,\"#4d9221\"],[1,\"#276419\"]]},\"xaxis\":{\"gridcolor\":\"#283442\",\"linecolor\":\"#506784\",\"ticks\":\"\",\"title\":{\"standoff\":15},\"zerolinecolor\":\"#283442\",\"automargin\":true,\"zerolinewidth\":2},\"yaxis\":{\"gridcolor\":\"#283442\",\"linecolor\":\"#506784\",\"ticks\":\"\",\"title\":{\"standoff\":15},\"zerolinecolor\":\"#283442\",\"automargin\":true,\"zerolinewidth\":2},\"scene\":{\"xaxis\":{\"backgroundcolor\":\"rgb(17,17,17)\",\"gridcolor\":\"#506784\",\"linecolor\":\"#506784\",\"showbackground\":true,\"ticks\":\"\",\"zerolinecolor\":\"#C8D4E3\",\"gridwidth\":2},\"yaxis\":{\"backgroundcolor\":\"rgb(17,17,17)\",\"gridcolor\":\"#506784\",\"linecolor\":\"#506784\",\"showbackground\":true,\"ticks\":\"\",\"zerolinecolor\":\"#C8D4E3\",\"gridwidth\":2},\"zaxis\":{\"backgroundcolor\":\"rgb(17,17,17)\",\"gridcolor\":\"#506784\",\"linecolor\":\"#506784\",\"showbackground\":true,\"ticks\":\"\",\"zerolinecolor\":\"#C8D4E3\",\"gridwidth\":2}},\"shapedefaults\":{\"line\":{\"color\":\"#f2f5fa\"}},\"annotationdefaults\":{\"arrowcolor\":\"#f2f5fa\",\"arrowhead\":0,\"arrowwidth\":1},\"geo\":{\"bgcolor\":\"rgb(17,17,17)\",\"landcolor\":\"rgb(17,17,17)\",\"subunitcolor\":\"#506784\",\"showland\":true,\"showlakes\":true,\"lakecolor\":\"rgb(17,17,17)\"},\"title\":{\"x\":0.05},\"updatemenudefaults\":{\"bgcolor\":\"#506784\",\"borderwidth\":0},\"sliderdefaults\":{\"bgcolor\":\"#C8D4E3\",\"borderwidth\":1,\"bordercolor\":\"rgb(17,17,17)\",\"tickwidth\":0},\"mapbox\":{\"style\":\"dark\"}}},\"xaxis\":{\"anchor\":\"y\",\"domain\":[0.0,1.0],\"title\":{\"text\":\"Year\"}},\"yaxis\":{\"anchor\":\"x\",\"domain\":[0.0,1.0],\"title\":{\"text\":\"Population\"}},\"legend\":{\"title\":{\"text\":\"country\"},\"tracegroupgap\":0},\"title\":{\"text\":\"Population Dynamics of Canada in Oceania Countries over Years\",\"x\":0.5},\"barmode\":\"relative\"},                        {\"responsive\": true}                    ).then(function(){\n                            \nvar gd = document.getElementById('2b7b823e-1cc3-4b1b-baea-778517576e76');\nvar x = new MutationObserver(function (mutations, observer) {{\n        var display = window.getComputedStyle(gd).display;\n        if (!display || display === 'none') {{\n            console.log([gd, 'removed!']);\n            Plotly.purge(gd);\n            observer.disconnect();\n        }}\n}});\n\n// Listen for the removal of the full notebook cells\nvar notebookContainer = gd.closest('#notebook-container');\nif (notebookContainer) {{\n    x.observe(notebookContainer, {childList: true});\n}}\n\n// Listen for the clearing of the current output cell\nvar outputEl = gd.closest('.output');\nif (outputEl) {{\n    x.observe(outputEl, {childList: true});\n}}\n\n                        })                };                });            </script>        </div>"
     },
     "metadata": {},
     "output_type": "display_data"
    }
   ],
   "source": [
    "fig = px.bar(data_canada_oceania,\n",
    "             x='year',\n",
    "             y='pop',\n",
    "             title='Population Dynamics of Canada in Oceania Countries over Years',\n",
    "             labels={'year': 'Year', 'pop': 'Population'},\n",
    "             color = 'country'\n",
    "            )\n",
    "fig.update_layout(title_x=0.5)\n",
    "fig.show()"
   ],
   "metadata": {
    "collapsed": false
   }
  },
  {
   "cell_type": "markdown",
   "source": [
    "\n",
    "4. Побудувати лінійні графіки для тригонометричних функцій. Назву графіку вирівняти за центром\n",
    "\n",
    "1) На проміжку [0;5π]\n",
    "функція\n",
    "y=2cosx(x−π4)\n",
    "y=2cos⁡xx−𝜋4\n",
    "\n",
    "\n"
   ],
   "metadata": {
    "collapsed": false
   }
  },
  {
   "cell_type": "code",
   "execution_count": 60,
   "outputs": [
    {
     "data": {
      "application/vnd.plotly.v1+json": {
       "data": [
        {
         "hovertemplate": "f=%{x}<br>2cos(x-π/4)=%{y}<extra></extra>",
         "legendgroup": "",
         "line": {
          "color": "#636efa",
          "dash": "solid"
         },
         "marker": {
          "symbol": "circle"
         },
         "mode": "lines",
         "name": "",
         "orientation": "v",
         "showlegend": false,
         "x": [
          0.0,
          0.15866629563584814,
          0.3173325912716963,
          0.47599888690754444,
          0.6346651825433925,
          0.7933314781792407,
          0.9519977738150889,
          1.1106640694509369,
          1.269330365086785,
          1.4279966607226333,
          1.5866629563584813,
          1.7453292519943295,
          1.9039955476301778,
          2.0626618432660258,
          2.2213281389018737,
          2.379994434537722,
          2.53866073017357,
          2.697327025809418,
          2.8559933214452666,
          3.0146596170811146,
          3.1733259127169626,
          3.331992208352811,
          3.490658503988659,
          3.649324799624507,
          3.8079910952603555,
          3.9666573908962035,
          4.1253236865320515,
          4.2839899821679,
          4.4426562778037475,
          4.601322573439596,
          4.759988869075444,
          4.918655164711292,
          5.07732146034714,
          5.235987755982989,
          5.394654051618836,
          5.553320347254685,
          5.711986642890533,
          5.870652938526381,
          6.029319234162229,
          6.187985529798078,
          6.346651825433925,
          6.505318121069774,
          6.663984416705622,
          6.82265071234147,
          6.981317007977318,
          7.139983303613167,
          7.298649599249014,
          7.457315894884863,
          7.615982190520711,
          7.774648486156559,
          7.933314781792407,
          8.091981077428255,
          8.250647373064103,
          8.409313668699951,
          8.5679799643358,
          8.726646259971648,
          8.885312555607495,
          9.043978851243343,
          9.202645146879192,
          9.36131144251504,
          9.519977738150889,
          9.678644033786737,
          9.837310329422584,
          9.995976625058432,
          10.15464292069428,
          10.31330921633013,
          10.471975511965978,
          10.630641807601824,
          10.789308103237673,
          10.947974398873521,
          11.10664069450937,
          11.265306990145218,
          11.423973285781067,
          11.582639581416913,
          11.741305877052762,
          11.89997217268861,
          12.058638468324459,
          12.217304763960307,
          12.375971059596155,
          12.534637355232002,
          12.69330365086785,
          12.851969946503699,
          13.010636242139547,
          13.169302537775396,
          13.327968833411244,
          13.486635129047091,
          13.64530142468294,
          13.803967720318788,
          13.962634015954636,
          14.121300311590485,
          14.279966607226333,
          14.43863290286218,
          14.597299198498028,
          14.755965494133877,
          14.914631789769725,
          15.073298085405574,
          15.231964381041422,
          15.390630676677269,
          15.549296972313117,
          15.707963267948966
         ],
         "xaxis": "x",
         "y": [
          1.4142135623730951,
          1.6198971854401667,
          1.7848853907490199,
          1.905033307871721,
          1.9773225540837154,
          1.9999370628466662,
          1.9723087074363732,
          1.89513157354883,
          1.770344522324833,
          1.6010824818487208,
          1.3915976907870553,
          1.147152872702092,
          0.873889024738719,
          0.5786711421269056,
          0.2689157542430642,
          -0.04759539509221518,
          -0.36291084231500503,
          -0.6691091625560703,
          -0.9584979734401138,
          -1.223807184828493,
          -1.458371639642354,
          -1.6562985574227418,
          -1.8126155740732999,
          -1.923395658698186,
          -1.9858557693465766,
          -1.9984267692121933,
          -1.9607928468375142,
          -1.8738994499995234,
          -1.7399295339601586,
          -1.562248720778187,
          -1.3453207474025048,
          -1.0945953266786654,
          -0.8163712384494062,
          -0.5176380902050413,
          -0.20590072260786976,
          0.11100932878588012,
          0.4251305791059536,
          0.7285716043635877,
          1.0137092915619657,
          1.2733803482381767,
          1.5010612602913636,
          1.6910321771564085,
          1.8385206071633313,
          1.9398213131356103,
          1.992389396183491,
          1.994904229220507,
          1.9473026340511823,
          1.8507804685477223,
          1.707762584042296,
          1.5218419076719834,
          1.2976891800632773,
          1.0409356159461458,
          0.7580314355238016,
          0.4560838206046433,
          0.14267836639846432,
          -0.1743114854953173,
          -0.4869222454405142,
          -0.787300436323883,
          -1.06789989035567,
          -1.3216713255770152,
          -1.5422394394907744,
          -1.7240630708303402,
          -1.8625744058466676,
          -1.9542937319423184,
          -1.9969168557860661,
          -1.9893729897707866,
          -1.931851652578136,
          -1.825797908048036,
          -1.6738760619631414,
          -1.4799027287657673,
          -1.2487509497201288,
          -0.986227771284699,
          -0.698928359198198,
          -0.39407031325746994,
          -0.07931234516842463,
          0.23743812531460734,
          0.5482236223485563,
          0.8452365234813972,
          1.1210152044817898,
          1.368631491924276,
          1.581864714304656,
          1.7553579791345115,
          1.8847527499869872,
          1.966798342619348,
          1.999433589386258,
          1.9818386203522946,
          1.9144554602469974,
          1.7989769238212077,
          1.638304088577983,
          1.4364734132576693,
          1.198555333022692,
          0.9305268788565215,
          0.6391215212605034,
          0.3316600105087477,
          0.015866463129821737,
          -0.3003256850684824,
          -0.6089729845398129,
          -0.9023215291073977,
          -1.1730017513213804,
          -1.414213562373093
         ],
         "yaxis": "y",
         "type": "scatter"
        }
       ],
       "layout": {
        "template": {
         "data": {
          "histogram2dcontour": [
           {
            "type": "histogram2dcontour",
            "colorbar": {
             "outlinewidth": 0,
             "ticks": ""
            },
            "colorscale": [
             [
              0.0,
              "#0d0887"
             ],
             [
              0.1111111111111111,
              "#46039f"
             ],
             [
              0.2222222222222222,
              "#7201a8"
             ],
             [
              0.3333333333333333,
              "#9c179e"
             ],
             [
              0.4444444444444444,
              "#bd3786"
             ],
             [
              0.5555555555555556,
              "#d8576b"
             ],
             [
              0.6666666666666666,
              "#ed7953"
             ],
             [
              0.7777777777777778,
              "#fb9f3a"
             ],
             [
              0.8888888888888888,
              "#fdca26"
             ],
             [
              1.0,
              "#f0f921"
             ]
            ]
           }
          ],
          "choropleth": [
           {
            "type": "choropleth",
            "colorbar": {
             "outlinewidth": 0,
             "ticks": ""
            }
           }
          ],
          "histogram2d": [
           {
            "type": "histogram2d",
            "colorbar": {
             "outlinewidth": 0,
             "ticks": ""
            },
            "colorscale": [
             [
              0.0,
              "#0d0887"
             ],
             [
              0.1111111111111111,
              "#46039f"
             ],
             [
              0.2222222222222222,
              "#7201a8"
             ],
             [
              0.3333333333333333,
              "#9c179e"
             ],
             [
              0.4444444444444444,
              "#bd3786"
             ],
             [
              0.5555555555555556,
              "#d8576b"
             ],
             [
              0.6666666666666666,
              "#ed7953"
             ],
             [
              0.7777777777777778,
              "#fb9f3a"
             ],
             [
              0.8888888888888888,
              "#fdca26"
             ],
             [
              1.0,
              "#f0f921"
             ]
            ]
           }
          ],
          "heatmap": [
           {
            "type": "heatmap",
            "colorbar": {
             "outlinewidth": 0,
             "ticks": ""
            },
            "colorscale": [
             [
              0.0,
              "#0d0887"
             ],
             [
              0.1111111111111111,
              "#46039f"
             ],
             [
              0.2222222222222222,
              "#7201a8"
             ],
             [
              0.3333333333333333,
              "#9c179e"
             ],
             [
              0.4444444444444444,
              "#bd3786"
             ],
             [
              0.5555555555555556,
              "#d8576b"
             ],
             [
              0.6666666666666666,
              "#ed7953"
             ],
             [
              0.7777777777777778,
              "#fb9f3a"
             ],
             [
              0.8888888888888888,
              "#fdca26"
             ],
             [
              1.0,
              "#f0f921"
             ]
            ]
           }
          ],
          "heatmapgl": [
           {
            "type": "heatmapgl",
            "colorbar": {
             "outlinewidth": 0,
             "ticks": ""
            },
            "colorscale": [
             [
              0.0,
              "#0d0887"
             ],
             [
              0.1111111111111111,
              "#46039f"
             ],
             [
              0.2222222222222222,
              "#7201a8"
             ],
             [
              0.3333333333333333,
              "#9c179e"
             ],
             [
              0.4444444444444444,
              "#bd3786"
             ],
             [
              0.5555555555555556,
              "#d8576b"
             ],
             [
              0.6666666666666666,
              "#ed7953"
             ],
             [
              0.7777777777777778,
              "#fb9f3a"
             ],
             [
              0.8888888888888888,
              "#fdca26"
             ],
             [
              1.0,
              "#f0f921"
             ]
            ]
           }
          ],
          "contourcarpet": [
           {
            "type": "contourcarpet",
            "colorbar": {
             "outlinewidth": 0,
             "ticks": ""
            }
           }
          ],
          "contour": [
           {
            "type": "contour",
            "colorbar": {
             "outlinewidth": 0,
             "ticks": ""
            },
            "colorscale": [
             [
              0.0,
              "#0d0887"
             ],
             [
              0.1111111111111111,
              "#46039f"
             ],
             [
              0.2222222222222222,
              "#7201a8"
             ],
             [
              0.3333333333333333,
              "#9c179e"
             ],
             [
              0.4444444444444444,
              "#bd3786"
             ],
             [
              0.5555555555555556,
              "#d8576b"
             ],
             [
              0.6666666666666666,
              "#ed7953"
             ],
             [
              0.7777777777777778,
              "#fb9f3a"
             ],
             [
              0.8888888888888888,
              "#fdca26"
             ],
             [
              1.0,
              "#f0f921"
             ]
            ]
           }
          ],
          "surface": [
           {
            "type": "surface",
            "colorbar": {
             "outlinewidth": 0,
             "ticks": ""
            },
            "colorscale": [
             [
              0.0,
              "#0d0887"
             ],
             [
              0.1111111111111111,
              "#46039f"
             ],
             [
              0.2222222222222222,
              "#7201a8"
             ],
             [
              0.3333333333333333,
              "#9c179e"
             ],
             [
              0.4444444444444444,
              "#bd3786"
             ],
             [
              0.5555555555555556,
              "#d8576b"
             ],
             [
              0.6666666666666666,
              "#ed7953"
             ],
             [
              0.7777777777777778,
              "#fb9f3a"
             ],
             [
              0.8888888888888888,
              "#fdca26"
             ],
             [
              1.0,
              "#f0f921"
             ]
            ]
           }
          ],
          "mesh3d": [
           {
            "type": "mesh3d",
            "colorbar": {
             "outlinewidth": 0,
             "ticks": ""
            }
           }
          ],
          "scatter": [
           {
            "marker": {
             "line": {
              "color": "#283442"
             }
            },
            "type": "scatter"
           }
          ],
          "parcoords": [
           {
            "type": "parcoords",
            "line": {
             "colorbar": {
              "outlinewidth": 0,
              "ticks": ""
             }
            }
           }
          ],
          "scatterpolargl": [
           {
            "type": "scatterpolargl",
            "marker": {
             "colorbar": {
              "outlinewidth": 0,
              "ticks": ""
             }
            }
           }
          ],
          "bar": [
           {
            "error_x": {
             "color": "#f2f5fa"
            },
            "error_y": {
             "color": "#f2f5fa"
            },
            "marker": {
             "line": {
              "color": "rgb(17,17,17)",
              "width": 0.5
             },
             "pattern": {
              "fillmode": "overlay",
              "size": 10,
              "solidity": 0.2
             }
            },
            "type": "bar"
           }
          ],
          "scattergeo": [
           {
            "type": "scattergeo",
            "marker": {
             "colorbar": {
              "outlinewidth": 0,
              "ticks": ""
             }
            }
           }
          ],
          "scatterpolar": [
           {
            "type": "scatterpolar",
            "marker": {
             "colorbar": {
              "outlinewidth": 0,
              "ticks": ""
             }
            }
           }
          ],
          "histogram": [
           {
            "marker": {
             "pattern": {
              "fillmode": "overlay",
              "size": 10,
              "solidity": 0.2
             }
            },
            "type": "histogram"
           }
          ],
          "scattergl": [
           {
            "marker": {
             "line": {
              "color": "#283442"
             }
            },
            "type": "scattergl"
           }
          ],
          "scatter3d": [
           {
            "type": "scatter3d",
            "line": {
             "colorbar": {
              "outlinewidth": 0,
              "ticks": ""
             }
            },
            "marker": {
             "colorbar": {
              "outlinewidth": 0,
              "ticks": ""
             }
            }
           }
          ],
          "scattermapbox": [
           {
            "type": "scattermapbox",
            "marker": {
             "colorbar": {
              "outlinewidth": 0,
              "ticks": ""
             }
            }
           }
          ],
          "scatterternary": [
           {
            "type": "scatterternary",
            "marker": {
             "colorbar": {
              "outlinewidth": 0,
              "ticks": ""
             }
            }
           }
          ],
          "scattercarpet": [
           {
            "type": "scattercarpet",
            "marker": {
             "colorbar": {
              "outlinewidth": 0,
              "ticks": ""
             }
            }
           }
          ],
          "carpet": [
           {
            "aaxis": {
             "endlinecolor": "#A2B1C6",
             "gridcolor": "#506784",
             "linecolor": "#506784",
             "minorgridcolor": "#506784",
             "startlinecolor": "#A2B1C6"
            },
            "baxis": {
             "endlinecolor": "#A2B1C6",
             "gridcolor": "#506784",
             "linecolor": "#506784",
             "minorgridcolor": "#506784",
             "startlinecolor": "#A2B1C6"
            },
            "type": "carpet"
           }
          ],
          "table": [
           {
            "cells": {
             "fill": {
              "color": "#506784"
             },
             "line": {
              "color": "rgb(17,17,17)"
             }
            },
            "header": {
             "fill": {
              "color": "#2a3f5f"
             },
             "line": {
              "color": "rgb(17,17,17)"
             }
            },
            "type": "table"
           }
          ],
          "barpolar": [
           {
            "marker": {
             "line": {
              "color": "rgb(17,17,17)",
              "width": 0.5
             },
             "pattern": {
              "fillmode": "overlay",
              "size": 10,
              "solidity": 0.2
             }
            },
            "type": "barpolar"
           }
          ],
          "pie": [
           {
            "automargin": true,
            "type": "pie"
           }
          ]
         },
         "layout": {
          "autotypenumbers": "strict",
          "colorway": [
           "#636efa",
           "#EF553B",
           "#00cc96",
           "#ab63fa",
           "#FFA15A",
           "#19d3f3",
           "#FF6692",
           "#B6E880",
           "#FF97FF",
           "#FECB52"
          ],
          "font": {
           "color": "#f2f5fa"
          },
          "hovermode": "closest",
          "hoverlabel": {
           "align": "left"
          },
          "paper_bgcolor": "rgb(17,17,17)",
          "plot_bgcolor": "rgb(17,17,17)",
          "polar": {
           "bgcolor": "rgb(17,17,17)",
           "angularaxis": {
            "gridcolor": "#506784",
            "linecolor": "#506784",
            "ticks": ""
           },
           "radialaxis": {
            "gridcolor": "#506784",
            "linecolor": "#506784",
            "ticks": ""
           }
          },
          "ternary": {
           "bgcolor": "rgb(17,17,17)",
           "aaxis": {
            "gridcolor": "#506784",
            "linecolor": "#506784",
            "ticks": ""
           },
           "baxis": {
            "gridcolor": "#506784",
            "linecolor": "#506784",
            "ticks": ""
           },
           "caxis": {
            "gridcolor": "#506784",
            "linecolor": "#506784",
            "ticks": ""
           }
          },
          "coloraxis": {
           "colorbar": {
            "outlinewidth": 0,
            "ticks": ""
           }
          },
          "colorscale": {
           "sequential": [
            [
             0.0,
             "#0d0887"
            ],
            [
             0.1111111111111111,
             "#46039f"
            ],
            [
             0.2222222222222222,
             "#7201a8"
            ],
            [
             0.3333333333333333,
             "#9c179e"
            ],
            [
             0.4444444444444444,
             "#bd3786"
            ],
            [
             0.5555555555555556,
             "#d8576b"
            ],
            [
             0.6666666666666666,
             "#ed7953"
            ],
            [
             0.7777777777777778,
             "#fb9f3a"
            ],
            [
             0.8888888888888888,
             "#fdca26"
            ],
            [
             1.0,
             "#f0f921"
            ]
           ],
           "sequentialminus": [
            [
             0.0,
             "#0d0887"
            ],
            [
             0.1111111111111111,
             "#46039f"
            ],
            [
             0.2222222222222222,
             "#7201a8"
            ],
            [
             0.3333333333333333,
             "#9c179e"
            ],
            [
             0.4444444444444444,
             "#bd3786"
            ],
            [
             0.5555555555555556,
             "#d8576b"
            ],
            [
             0.6666666666666666,
             "#ed7953"
            ],
            [
             0.7777777777777778,
             "#fb9f3a"
            ],
            [
             0.8888888888888888,
             "#fdca26"
            ],
            [
             1.0,
             "#f0f921"
            ]
           ],
           "diverging": [
            [
             0,
             "#8e0152"
            ],
            [
             0.1,
             "#c51b7d"
            ],
            [
             0.2,
             "#de77ae"
            ],
            [
             0.3,
             "#f1b6da"
            ],
            [
             0.4,
             "#fde0ef"
            ],
            [
             0.5,
             "#f7f7f7"
            ],
            [
             0.6,
             "#e6f5d0"
            ],
            [
             0.7,
             "#b8e186"
            ],
            [
             0.8,
             "#7fbc41"
            ],
            [
             0.9,
             "#4d9221"
            ],
            [
             1,
             "#276419"
            ]
           ]
          },
          "xaxis": {
           "gridcolor": "#283442",
           "linecolor": "#506784",
           "ticks": "",
           "title": {
            "standoff": 15
           },
           "zerolinecolor": "#283442",
           "automargin": true,
           "zerolinewidth": 2
          },
          "yaxis": {
           "gridcolor": "#283442",
           "linecolor": "#506784",
           "ticks": "",
           "title": {
            "standoff": 15
           },
           "zerolinecolor": "#283442",
           "automargin": true,
           "zerolinewidth": 2
          },
          "scene": {
           "xaxis": {
            "backgroundcolor": "rgb(17,17,17)",
            "gridcolor": "#506784",
            "linecolor": "#506784",
            "showbackground": true,
            "ticks": "",
            "zerolinecolor": "#C8D4E3",
            "gridwidth": 2
           },
           "yaxis": {
            "backgroundcolor": "rgb(17,17,17)",
            "gridcolor": "#506784",
            "linecolor": "#506784",
            "showbackground": true,
            "ticks": "",
            "zerolinecolor": "#C8D4E3",
            "gridwidth": 2
           },
           "zaxis": {
            "backgroundcolor": "rgb(17,17,17)",
            "gridcolor": "#506784",
            "linecolor": "#506784",
            "showbackground": true,
            "ticks": "",
            "zerolinecolor": "#C8D4E3",
            "gridwidth": 2
           }
          },
          "shapedefaults": {
           "line": {
            "color": "#f2f5fa"
           }
          },
          "annotationdefaults": {
           "arrowcolor": "#f2f5fa",
           "arrowhead": 0,
           "arrowwidth": 1
          },
          "geo": {
           "bgcolor": "rgb(17,17,17)",
           "landcolor": "rgb(17,17,17)",
           "subunitcolor": "#506784",
           "showland": true,
           "showlakes": true,
           "lakecolor": "rgb(17,17,17)"
          },
          "title": {
           "x": 0.05
          },
          "updatemenudefaults": {
           "bgcolor": "#506784",
           "borderwidth": 0
          },
          "sliderdefaults": {
           "bgcolor": "#C8D4E3",
           "borderwidth": 1,
           "bordercolor": "rgb(17,17,17)",
           "tickwidth": 0
          },
          "mapbox": {
           "style": "dark"
          }
         }
        },
        "xaxis": {
         "anchor": "y",
         "domain": [
          0.0,
          1.0
         ],
         "title": {
          "text": "f"
         }
        },
        "yaxis": {
         "anchor": "x",
         "domain": [
          0.0,
          1.0
         ],
         "title": {
          "text": "2cos(x-π/4)"
         }
        },
        "legend": {
         "tracegroupgap": 0
        },
        "title": {
         "text": "Графік функції y = 2cos(x-π/4)",
         "x": 0.5
        }
       },
       "config": {
        "plotlyServerURL": "https://plot.ly"
       }
      },
      "text/html": "<div>                            <div id=\"309d8d02-ac2d-4622-8210-a631fefe02c5\" class=\"plotly-graph-div\" style=\"height:525px; width:100%;\"></div>            <script type=\"text/javascript\">                require([\"plotly\"], function(Plotly) {                    window.PLOTLYENV=window.PLOTLYENV || {};                                    if (document.getElementById(\"309d8d02-ac2d-4622-8210-a631fefe02c5\")) {                    Plotly.newPlot(                        \"309d8d02-ac2d-4622-8210-a631fefe02c5\",                        [{\"hovertemplate\":\"f=%{x}<br>2cos(x-\\u03c0/4)=%{y}<extra></extra>\",\"legendgroup\":\"\",\"line\":{\"color\":\"#636efa\",\"dash\":\"solid\"},\"marker\":{\"symbol\":\"circle\"},\"mode\":\"lines\",\"name\":\"\",\"orientation\":\"v\",\"showlegend\":false,\"x\":[0.0,0.15866629563584814,0.3173325912716963,0.47599888690754444,0.6346651825433925,0.7933314781792407,0.9519977738150889,1.1106640694509369,1.269330365086785,1.4279966607226333,1.5866629563584813,1.7453292519943295,1.9039955476301778,2.0626618432660258,2.2213281389018737,2.379994434537722,2.53866073017357,2.697327025809418,2.8559933214452666,3.0146596170811146,3.1733259127169626,3.331992208352811,3.490658503988659,3.649324799624507,3.8079910952603555,3.9666573908962035,4.1253236865320515,4.2839899821679,4.4426562778037475,4.601322573439596,4.759988869075444,4.918655164711292,5.07732146034714,5.235987755982989,5.394654051618836,5.553320347254685,5.711986642890533,5.870652938526381,6.029319234162229,6.187985529798078,6.346651825433925,6.505318121069774,6.663984416705622,6.82265071234147,6.981317007977318,7.139983303613167,7.298649599249014,7.457315894884863,7.615982190520711,7.774648486156559,7.933314781792407,8.091981077428255,8.250647373064103,8.409313668699951,8.5679799643358,8.726646259971648,8.885312555607495,9.043978851243343,9.202645146879192,9.36131144251504,9.519977738150889,9.678644033786737,9.837310329422584,9.995976625058432,10.15464292069428,10.31330921633013,10.471975511965978,10.630641807601824,10.789308103237673,10.947974398873521,11.10664069450937,11.265306990145218,11.423973285781067,11.582639581416913,11.741305877052762,11.89997217268861,12.058638468324459,12.217304763960307,12.375971059596155,12.534637355232002,12.69330365086785,12.851969946503699,13.010636242139547,13.169302537775396,13.327968833411244,13.486635129047091,13.64530142468294,13.803967720318788,13.962634015954636,14.121300311590485,14.279966607226333,14.43863290286218,14.597299198498028,14.755965494133877,14.914631789769725,15.073298085405574,15.231964381041422,15.390630676677269,15.549296972313117,15.707963267948966],\"xaxis\":\"x\",\"y\":[1.4142135623730951,1.6198971854401667,1.7848853907490199,1.905033307871721,1.9773225540837154,1.9999370628466662,1.9723087074363732,1.89513157354883,1.770344522324833,1.6010824818487208,1.3915976907870553,1.147152872702092,0.873889024738719,0.5786711421269056,0.2689157542430642,-0.04759539509221518,-0.36291084231500503,-0.6691091625560703,-0.9584979734401138,-1.223807184828493,-1.458371639642354,-1.6562985574227418,-1.8126155740732999,-1.923395658698186,-1.9858557693465766,-1.9984267692121933,-1.9607928468375142,-1.8738994499995234,-1.7399295339601586,-1.562248720778187,-1.3453207474025048,-1.0945953266786654,-0.8163712384494062,-0.5176380902050413,-0.20590072260786976,0.11100932878588012,0.4251305791059536,0.7285716043635877,1.0137092915619657,1.2733803482381767,1.5010612602913636,1.6910321771564085,1.8385206071633313,1.9398213131356103,1.992389396183491,1.994904229220507,1.9473026340511823,1.8507804685477223,1.707762584042296,1.5218419076719834,1.2976891800632773,1.0409356159461458,0.7580314355238016,0.4560838206046433,0.14267836639846432,-0.1743114854953173,-0.4869222454405142,-0.787300436323883,-1.06789989035567,-1.3216713255770152,-1.5422394394907744,-1.7240630708303402,-1.8625744058466676,-1.9542937319423184,-1.9969168557860661,-1.9893729897707866,-1.931851652578136,-1.825797908048036,-1.6738760619631414,-1.4799027287657673,-1.2487509497201288,-0.986227771284699,-0.698928359198198,-0.39407031325746994,-0.07931234516842463,0.23743812531460734,0.5482236223485563,0.8452365234813972,1.1210152044817898,1.368631491924276,1.581864714304656,1.7553579791345115,1.8847527499869872,1.966798342619348,1.999433589386258,1.9818386203522946,1.9144554602469974,1.7989769238212077,1.638304088577983,1.4364734132576693,1.198555333022692,0.9305268788565215,0.6391215212605034,0.3316600105087477,0.015866463129821737,-0.3003256850684824,-0.6089729845398129,-0.9023215291073977,-1.1730017513213804,-1.414213562373093],\"yaxis\":\"y\",\"type\":\"scatter\"}],                        {\"template\":{\"data\":{\"histogram2dcontour\":[{\"type\":\"histogram2dcontour\",\"colorbar\":{\"outlinewidth\":0,\"ticks\":\"\"},\"colorscale\":[[0.0,\"#0d0887\"],[0.1111111111111111,\"#46039f\"],[0.2222222222222222,\"#7201a8\"],[0.3333333333333333,\"#9c179e\"],[0.4444444444444444,\"#bd3786\"],[0.5555555555555556,\"#d8576b\"],[0.6666666666666666,\"#ed7953\"],[0.7777777777777778,\"#fb9f3a\"],[0.8888888888888888,\"#fdca26\"],[1.0,\"#f0f921\"]]}],\"choropleth\":[{\"type\":\"choropleth\",\"colorbar\":{\"outlinewidth\":0,\"ticks\":\"\"}}],\"histogram2d\":[{\"type\":\"histogram2d\",\"colorbar\":{\"outlinewidth\":0,\"ticks\":\"\"},\"colorscale\":[[0.0,\"#0d0887\"],[0.1111111111111111,\"#46039f\"],[0.2222222222222222,\"#7201a8\"],[0.3333333333333333,\"#9c179e\"],[0.4444444444444444,\"#bd3786\"],[0.5555555555555556,\"#d8576b\"],[0.6666666666666666,\"#ed7953\"],[0.7777777777777778,\"#fb9f3a\"],[0.8888888888888888,\"#fdca26\"],[1.0,\"#f0f921\"]]}],\"heatmap\":[{\"type\":\"heatmap\",\"colorbar\":{\"outlinewidth\":0,\"ticks\":\"\"},\"colorscale\":[[0.0,\"#0d0887\"],[0.1111111111111111,\"#46039f\"],[0.2222222222222222,\"#7201a8\"],[0.3333333333333333,\"#9c179e\"],[0.4444444444444444,\"#bd3786\"],[0.5555555555555556,\"#d8576b\"],[0.6666666666666666,\"#ed7953\"],[0.7777777777777778,\"#fb9f3a\"],[0.8888888888888888,\"#fdca26\"],[1.0,\"#f0f921\"]]}],\"heatmapgl\":[{\"type\":\"heatmapgl\",\"colorbar\":{\"outlinewidth\":0,\"ticks\":\"\"},\"colorscale\":[[0.0,\"#0d0887\"],[0.1111111111111111,\"#46039f\"],[0.2222222222222222,\"#7201a8\"],[0.3333333333333333,\"#9c179e\"],[0.4444444444444444,\"#bd3786\"],[0.5555555555555556,\"#d8576b\"],[0.6666666666666666,\"#ed7953\"],[0.7777777777777778,\"#fb9f3a\"],[0.8888888888888888,\"#fdca26\"],[1.0,\"#f0f921\"]]}],\"contourcarpet\":[{\"type\":\"contourcarpet\",\"colorbar\":{\"outlinewidth\":0,\"ticks\":\"\"}}],\"contour\":[{\"type\":\"contour\",\"colorbar\":{\"outlinewidth\":0,\"ticks\":\"\"},\"colorscale\":[[0.0,\"#0d0887\"],[0.1111111111111111,\"#46039f\"],[0.2222222222222222,\"#7201a8\"],[0.3333333333333333,\"#9c179e\"],[0.4444444444444444,\"#bd3786\"],[0.5555555555555556,\"#d8576b\"],[0.6666666666666666,\"#ed7953\"],[0.7777777777777778,\"#fb9f3a\"],[0.8888888888888888,\"#fdca26\"],[1.0,\"#f0f921\"]]}],\"surface\":[{\"type\":\"surface\",\"colorbar\":{\"outlinewidth\":0,\"ticks\":\"\"},\"colorscale\":[[0.0,\"#0d0887\"],[0.1111111111111111,\"#46039f\"],[0.2222222222222222,\"#7201a8\"],[0.3333333333333333,\"#9c179e\"],[0.4444444444444444,\"#bd3786\"],[0.5555555555555556,\"#d8576b\"],[0.6666666666666666,\"#ed7953\"],[0.7777777777777778,\"#fb9f3a\"],[0.8888888888888888,\"#fdca26\"],[1.0,\"#f0f921\"]]}],\"mesh3d\":[{\"type\":\"mesh3d\",\"colorbar\":{\"outlinewidth\":0,\"ticks\":\"\"}}],\"scatter\":[{\"marker\":{\"line\":{\"color\":\"#283442\"}},\"type\":\"scatter\"}],\"parcoords\":[{\"type\":\"parcoords\",\"line\":{\"colorbar\":{\"outlinewidth\":0,\"ticks\":\"\"}}}],\"scatterpolargl\":[{\"type\":\"scatterpolargl\",\"marker\":{\"colorbar\":{\"outlinewidth\":0,\"ticks\":\"\"}}}],\"bar\":[{\"error_x\":{\"color\":\"#f2f5fa\"},\"error_y\":{\"color\":\"#f2f5fa\"},\"marker\":{\"line\":{\"color\":\"rgb(17,17,17)\",\"width\":0.5},\"pattern\":{\"fillmode\":\"overlay\",\"size\":10,\"solidity\":0.2}},\"type\":\"bar\"}],\"scattergeo\":[{\"type\":\"scattergeo\",\"marker\":{\"colorbar\":{\"outlinewidth\":0,\"ticks\":\"\"}}}],\"scatterpolar\":[{\"type\":\"scatterpolar\",\"marker\":{\"colorbar\":{\"outlinewidth\":0,\"ticks\":\"\"}}}],\"histogram\":[{\"marker\":{\"pattern\":{\"fillmode\":\"overlay\",\"size\":10,\"solidity\":0.2}},\"type\":\"histogram\"}],\"scattergl\":[{\"marker\":{\"line\":{\"color\":\"#283442\"}},\"type\":\"scattergl\"}],\"scatter3d\":[{\"type\":\"scatter3d\",\"line\":{\"colorbar\":{\"outlinewidth\":0,\"ticks\":\"\"}},\"marker\":{\"colorbar\":{\"outlinewidth\":0,\"ticks\":\"\"}}}],\"scattermapbox\":[{\"type\":\"scattermapbox\",\"marker\":{\"colorbar\":{\"outlinewidth\":0,\"ticks\":\"\"}}}],\"scatterternary\":[{\"type\":\"scatterternary\",\"marker\":{\"colorbar\":{\"outlinewidth\":0,\"ticks\":\"\"}}}],\"scattercarpet\":[{\"type\":\"scattercarpet\",\"marker\":{\"colorbar\":{\"outlinewidth\":0,\"ticks\":\"\"}}}],\"carpet\":[{\"aaxis\":{\"endlinecolor\":\"#A2B1C6\",\"gridcolor\":\"#506784\",\"linecolor\":\"#506784\",\"minorgridcolor\":\"#506784\",\"startlinecolor\":\"#A2B1C6\"},\"baxis\":{\"endlinecolor\":\"#A2B1C6\",\"gridcolor\":\"#506784\",\"linecolor\":\"#506784\",\"minorgridcolor\":\"#506784\",\"startlinecolor\":\"#A2B1C6\"},\"type\":\"carpet\"}],\"table\":[{\"cells\":{\"fill\":{\"color\":\"#506784\"},\"line\":{\"color\":\"rgb(17,17,17)\"}},\"header\":{\"fill\":{\"color\":\"#2a3f5f\"},\"line\":{\"color\":\"rgb(17,17,17)\"}},\"type\":\"table\"}],\"barpolar\":[{\"marker\":{\"line\":{\"color\":\"rgb(17,17,17)\",\"width\":0.5},\"pattern\":{\"fillmode\":\"overlay\",\"size\":10,\"solidity\":0.2}},\"type\":\"barpolar\"}],\"pie\":[{\"automargin\":true,\"type\":\"pie\"}]},\"layout\":{\"autotypenumbers\":\"strict\",\"colorway\":[\"#636efa\",\"#EF553B\",\"#00cc96\",\"#ab63fa\",\"#FFA15A\",\"#19d3f3\",\"#FF6692\",\"#B6E880\",\"#FF97FF\",\"#FECB52\"],\"font\":{\"color\":\"#f2f5fa\"},\"hovermode\":\"closest\",\"hoverlabel\":{\"align\":\"left\"},\"paper_bgcolor\":\"rgb(17,17,17)\",\"plot_bgcolor\":\"rgb(17,17,17)\",\"polar\":{\"bgcolor\":\"rgb(17,17,17)\",\"angularaxis\":{\"gridcolor\":\"#506784\",\"linecolor\":\"#506784\",\"ticks\":\"\"},\"radialaxis\":{\"gridcolor\":\"#506784\",\"linecolor\":\"#506784\",\"ticks\":\"\"}},\"ternary\":{\"bgcolor\":\"rgb(17,17,17)\",\"aaxis\":{\"gridcolor\":\"#506784\",\"linecolor\":\"#506784\",\"ticks\":\"\"},\"baxis\":{\"gridcolor\":\"#506784\",\"linecolor\":\"#506784\",\"ticks\":\"\"},\"caxis\":{\"gridcolor\":\"#506784\",\"linecolor\":\"#506784\",\"ticks\":\"\"}},\"coloraxis\":{\"colorbar\":{\"outlinewidth\":0,\"ticks\":\"\"}},\"colorscale\":{\"sequential\":[[0.0,\"#0d0887\"],[0.1111111111111111,\"#46039f\"],[0.2222222222222222,\"#7201a8\"],[0.3333333333333333,\"#9c179e\"],[0.4444444444444444,\"#bd3786\"],[0.5555555555555556,\"#d8576b\"],[0.6666666666666666,\"#ed7953\"],[0.7777777777777778,\"#fb9f3a\"],[0.8888888888888888,\"#fdca26\"],[1.0,\"#f0f921\"]],\"sequentialminus\":[[0.0,\"#0d0887\"],[0.1111111111111111,\"#46039f\"],[0.2222222222222222,\"#7201a8\"],[0.3333333333333333,\"#9c179e\"],[0.4444444444444444,\"#bd3786\"],[0.5555555555555556,\"#d8576b\"],[0.6666666666666666,\"#ed7953\"],[0.7777777777777778,\"#fb9f3a\"],[0.8888888888888888,\"#fdca26\"],[1.0,\"#f0f921\"]],\"diverging\":[[0,\"#8e0152\"],[0.1,\"#c51b7d\"],[0.2,\"#de77ae\"],[0.3,\"#f1b6da\"],[0.4,\"#fde0ef\"],[0.5,\"#f7f7f7\"],[0.6,\"#e6f5d0\"],[0.7,\"#b8e186\"],[0.8,\"#7fbc41\"],[0.9,\"#4d9221\"],[1,\"#276419\"]]},\"xaxis\":{\"gridcolor\":\"#283442\",\"linecolor\":\"#506784\",\"ticks\":\"\",\"title\":{\"standoff\":15},\"zerolinecolor\":\"#283442\",\"automargin\":true,\"zerolinewidth\":2},\"yaxis\":{\"gridcolor\":\"#283442\",\"linecolor\":\"#506784\",\"ticks\":\"\",\"title\":{\"standoff\":15},\"zerolinecolor\":\"#283442\",\"automargin\":true,\"zerolinewidth\":2},\"scene\":{\"xaxis\":{\"backgroundcolor\":\"rgb(17,17,17)\",\"gridcolor\":\"#506784\",\"linecolor\":\"#506784\",\"showbackground\":true,\"ticks\":\"\",\"zerolinecolor\":\"#C8D4E3\",\"gridwidth\":2},\"yaxis\":{\"backgroundcolor\":\"rgb(17,17,17)\",\"gridcolor\":\"#506784\",\"linecolor\":\"#506784\",\"showbackground\":true,\"ticks\":\"\",\"zerolinecolor\":\"#C8D4E3\",\"gridwidth\":2},\"zaxis\":{\"backgroundcolor\":\"rgb(17,17,17)\",\"gridcolor\":\"#506784\",\"linecolor\":\"#506784\",\"showbackground\":true,\"ticks\":\"\",\"zerolinecolor\":\"#C8D4E3\",\"gridwidth\":2}},\"shapedefaults\":{\"line\":{\"color\":\"#f2f5fa\"}},\"annotationdefaults\":{\"arrowcolor\":\"#f2f5fa\",\"arrowhead\":0,\"arrowwidth\":1},\"geo\":{\"bgcolor\":\"rgb(17,17,17)\",\"landcolor\":\"rgb(17,17,17)\",\"subunitcolor\":\"#506784\",\"showland\":true,\"showlakes\":true,\"lakecolor\":\"rgb(17,17,17)\"},\"title\":{\"x\":0.05},\"updatemenudefaults\":{\"bgcolor\":\"#506784\",\"borderwidth\":0},\"sliderdefaults\":{\"bgcolor\":\"#C8D4E3\",\"borderwidth\":1,\"bordercolor\":\"rgb(17,17,17)\",\"tickwidth\":0},\"mapbox\":{\"style\":\"dark\"}}},\"xaxis\":{\"anchor\":\"y\",\"domain\":[0.0,1.0],\"title\":{\"text\":\"f\"}},\"yaxis\":{\"anchor\":\"x\",\"domain\":[0.0,1.0],\"title\":{\"text\":\"2cos(x-\\u03c0/4)\"}},\"legend\":{\"tracegroupgap\":0},\"title\":{\"text\":\"\\u0413\\u0440\\u0430\\u0444\\u0456\\u043a \\u0444\\u0443\\u043d\\u043a\\u0446\\u0456\\u0457 y = 2cos(x-\\u03c0/4)\",\"x\":0.5}},                        {\"responsive\": true}                    ).then(function(){\n                            \nvar gd = document.getElementById('309d8d02-ac2d-4622-8210-a631fefe02c5');\nvar x = new MutationObserver(function (mutations, observer) {{\n        var display = window.getComputedStyle(gd).display;\n        if (!display || display === 'none') {{\n            console.log([gd, 'removed!']);\n            Plotly.purge(gd);\n            observer.disconnect();\n        }}\n}});\n\n// Listen for the removal of the full notebook cells\nvar notebookContainer = gd.closest('#notebook-container');\nif (notebookContainer) {{\n    x.observe(notebookContainer, {childList: true});\n}}\n\n// Listen for the clearing of the current output cell\nvar outputEl = gd.closest('.output');\nif (outputEl) {{\n    x.observe(outputEl, {childList: true});\n}}\n\n                        })                };                });            </script>        </div>"
     },
     "metadata": {},
     "output_type": "display_data"
    }
   ],
   "source": [
    "import numpy as np\n",
    "f = np.linspace(0, 5*np.pi, 100)\n",
    "fig = px.line(x=f,\n",
    "              y=2 * np.cos(f - np.pi/4),\n",
    "              labels={'x':'f', 'y':'2cos(x-π/4)'},\n",
    "              title='Графік функції y = 2cos(x-π/4)')\n",
    "\n",
    "fig.update_layout(title_x=0.5)\n",
    "fig.show()"
   ],
   "metadata": {
    "collapsed": false
   }
  },
  {
   "cell_type": "markdown",
   "source": [
    "2. На проміжку [0;2π]\n",
    "функція\n",
    "y=12sin(2x+π3)\n",
    "y=12sin⁡2x+𝜋3\n"
   ],
   "metadata": {
    "collapsed": false
   }
  },
  {
   "cell_type": "code",
   "execution_count": 59,
   "outputs": [
    {
     "data": {
      "application/vnd.plotly.v1+json": {
       "data": [
        {
         "hovertemplate": "x=%{x}<br>12sin(2x+π/3)=%{y}<extra></extra>",
         "legendgroup": "",
         "line": {
          "color": "#636efa",
          "dash": "solid"
         },
         "marker": {
          "symbol": "circle"
         },
         "mode": "lines",
         "name": "",
         "orientation": "v",
         "showlegend": false,
         "x": [
          0.0,
          0.006289474781961547,
          0.012578949563923095,
          0.018868424345884642,
          0.02515789912784619,
          0.03144737390980774,
          0.037736848691769284,
          0.04402632347373083,
          0.05031579825569238,
          0.056605273037653926,
          0.06289474781961547,
          0.06918422260157703,
          0.07547369738353857,
          0.08176317216550011,
          0.08805264694746166,
          0.09434212172942322,
          0.10063159651138476,
          0.1069210712933463,
          0.11321054607530785,
          0.1195000208572694,
          0.12578949563923095,
          0.1320789704211925,
          0.13836844520315406,
          0.1446579199851156,
          0.15094739476707714,
          0.15723686954903868,
          0.16352634433100022,
          0.16981581911296179,
          0.17610529389492333,
          0.18239476867688487,
          0.18868424345884643,
          0.19497371824080797,
          0.20126319302276952,
          0.20755266780473106,
          0.2138421425866926,
          0.22013161736865416,
          0.2264210921506157,
          0.23271056693257725,
          0.2390000417145388,
          0.24528951649650035,
          0.2515789912784619,
          0.25786846606042346,
          0.264157940842385,
          0.27044741562434654,
          0.2767368904063081,
          0.2830263651882696,
          0.2893158399702312,
          0.2956053147521927,
          0.3018947895341543,
          0.30818426431611584,
          0.31447373909807735,
          0.3207632138800389,
          0.32705268866200043,
          0.333342163443962,
          0.33963163822592357,
          0.3459211130078851,
          0.35221058778984665,
          0.3585000625718082,
          0.36478953735376973,
          0.3710790121357313,
          0.37736848691769287,
          0.3836579616996544,
          0.38994743648161595,
          0.39623691126357746,
          0.40252638604553903,
          0.4088158608275006,
          0.4151053356094621,
          0.4213948103914237,
          0.4276842851733852,
          0.43397375995534676,
          0.44026323473730833,
          0.44655270951926984,
          0.4528421843012314,
          0.459131659083193,
          0.4654211338651545,
          0.47171060864711606,
          0.4780000834290776,
          0.48428955821103914,
          0.4905790329930007,
          0.4968685077749622,
          0.5031579825569238,
          0.5094474573388853,
          0.5157369321208469,
          0.5220264069028084,
          0.52831588168477,
          0.5346053564667316,
          0.5408948312486931,
          0.5471843060306546,
          0.5534737808126162,
          0.5597632555945777,
          0.5660527303765392,
          0.5723422051585008,
          0.5786316799404624,
          0.5849211547224239,
          0.5912106295043854,
          0.597500104286347,
          0.6037895790683085,
          0.6100790538502701,
          0.6163685286322317,
          0.6226580034141932,
          0.6289474781961547,
          0.6352369529781163,
          0.6415264277600778,
          0.6478159025420394,
          0.6541053773240009,
          0.6603948521059625,
          0.666684326887924,
          0.6729738016698855,
          0.6792632764518471,
          0.6855527512338087,
          0.6918422260157702,
          0.6981317007977318,
          0.7044211755796933,
          0.7107106503616548,
          0.7170001251436164,
          0.723289599925578,
          0.7295790747075395,
          0.7358685494895011,
          0.7421580242714626,
          0.7484474990534241,
          0.7547369738353857,
          0.7610264486173473,
          0.7673159233993088,
          0.7736053981812703,
          0.7798948729632319,
          0.7861843477451934,
          0.7924738225271549,
          0.7987632973091165,
          0.8050527720910781,
          0.8113422468730396,
          0.8176317216550012,
          0.8239211964369627,
          0.8302106712189242,
          0.8365001460008858,
          0.8427896207828474,
          0.8490790955648089,
          0.8553685703467704,
          0.861658045128732,
          0.8679475199106935,
          0.874236994692655,
          0.8805264694746167,
          0.8868159442565782,
          0.8931054190385397,
          0.8993948938205013,
          0.9056843686024628,
          0.9119738433844243,
          0.918263318166386,
          0.9245527929483475,
          0.930842267730309,
          0.9371317425122706,
          0.9434212172942321,
          0.9497106920761936,
          0.9560001668581553,
          0.9622896416401168,
          0.9685791164220783,
          0.9748685912040398,
          0.9811580659860014,
          0.9874475407679629,
          0.9937370155499244,
          1.000026490331886,
          1.0063159651138476,
          1.012605439895809,
          1.0188949146777706,
          1.0251843894597321,
          1.0314738642416938,
          1.0377633390236554,
          1.0440528138056169,
          1.0503422885875784,
          1.05663176336954,
          1.0629212381515014,
          1.0692107129334631,
          1.0755001877154247,
          1.0817896624973862,
          1.0880791372793477,
          1.0943686120613092,
          1.1006580868432707,
          1.1069475616252324,
          1.113237036407194,
          1.1195265111891555,
          1.125815985971117,
          1.1321054607530785,
          1.13839493553504,
          1.1446844103170015,
          1.1509738850989633,
          1.1572633598809248,
          1.1635528346628863,
          1.1698423094448478,
          1.1761317842268093,
          1.1824212590087708,
          1.1887107337907326,
          1.195000208572694,
          1.2012896833546556,
          1.207579158136617,
          1.2138686329185786,
          1.2201581077005401,
          1.2264475824825016,
          1.2327370572644634,
          1.2390265320464249,
          1.2453160068283864,
          1.251605481610348,
          1.2578949563923094,
          1.264184431174271,
          1.2704739059562327,
          1.2767633807381942,
          1.2830528555201557,
          1.2893423303021172,
          1.2956318050840787,
          1.3019212798660402,
          1.3082107546480017,
          1.3145002294299635,
          1.320789704211925,
          1.3270791789938865,
          1.333368653775848,
          1.3396581285578095,
          1.345947603339771,
          1.3522370781217328,
          1.3585265529036943,
          1.3648160276856558,
          1.3711055024676173,
          1.3773949772495788,
          1.3836844520315403,
          1.389973926813502,
          1.3962634015954636,
          1.402552876377425,
          1.4088423511593866,
          1.4151318259413481,
          1.4214213007233096,
          1.4277107755052711,
          1.4340002502872329,
          1.4402897250691944,
          1.446579199851156,
          1.4528686746331174,
          1.459158149415079,
          1.4654476241970404,
          1.4717370989790022,
          1.4780265737609637,
          1.4843160485429252,
          1.4906055233248867,
          1.4968949981068482,
          1.5031844728888097,
          1.5094739476707715,
          1.515763422452733,
          1.5220528972346945,
          1.528342372016656,
          1.5346318467986175,
          1.540921321580579,
          1.5472107963625406,
          1.5535002711445023,
          1.5597897459264638,
          1.5660792207084253,
          1.5723686954903868,
          1.5786581702723483,
          1.5849476450543099,
          1.5912371198362716,
          1.597526594618233,
          1.6038160694001946,
          1.6101055441821561,
          1.6163950189641176,
          1.6226844937460791,
          1.6289739685280407,
          1.6352634433100024,
          1.641552918091964,
          1.6478423928739254,
          1.654131867655887,
          1.6604213424378484,
          1.66671081721981,
          1.6730002920017717,
          1.6792897667837332,
          1.6855792415656947,
          1.6918687163476562,
          1.6981581911296177,
          1.7044476659115793,
          1.7107371406935408,
          1.7170266154755025,
          1.723316090257464,
          1.7296055650394255,
          1.735895039821387,
          1.7421845146033486,
          1.74847398938531,
          1.7547634641672718,
          1.7610529389492333,
          1.7673424137311948,
          1.7736318885131563,
          1.7799213632951179,
          1.7862108380770794,
          1.792500312859041,
          1.7987897876410026,
          1.8050792624229641,
          1.8113687372049256,
          1.8176582119868872,
          1.8239476867688487,
          1.8302371615508102,
          1.836526636332772,
          1.8428161111147334,
          1.849105585896695,
          1.8553950606786564,
          1.861684535460618,
          1.8679740102425795,
          1.8742634850245412,
          1.8805529598065027,
          1.8868424345884642,
          1.8931319093704257,
          1.8994213841523873,
          1.9057108589343488,
          1.9120003337163105,
          1.918289808498272,
          1.9245792832802335,
          1.930868758062195,
          1.9371582328441566,
          1.943447707626118,
          1.9497371824080796,
          1.9560266571900413,
          1.9623161319720028,
          1.9686056067539643,
          1.9748950815359259,
          1.9811845563178874,
          1.9874740310998489,
          1.9937635058818106,
          2.000052980663772,
          2.0063424554457336,
          2.012631930227695,
          2.0189214050096567,
          2.025210879791618,
          2.0315003545735797,
          2.037789829355541,
          2.0440793041375027,
          2.0503687789194642,
          2.056658253701426,
          2.0629477284833877,
          2.069237203265349,
          2.0755266780473107,
          2.0818161528292722,
          2.0881056276112337,
          2.0943951023931953,
          2.1006845771751568,
          2.1069740519571183,
          2.11326352673908,
          2.1195530015210413,
          2.125842476303003,
          2.1321319510849643,
          2.1384214258669263,
          2.144710900648888,
          2.1510003754308493,
          2.157289850212811,
          2.1635793249947723,
          2.169868799776734,
          2.1761582745586954,
          2.182447749340657,
          2.1887372241226184,
          2.19502669890458,
          2.2013161736865414,
          2.207605648468503,
          2.213895123250465,
          2.2201845980324264,
          2.226474072814388,
          2.2327635475963494,
          2.239053022378311,
          2.2453424971602725,
          2.251631971942234,
          2.2579214467241955,
          2.264210921506157,
          2.2705003962881185,
          2.27678987107008,
          2.2830793458520415,
          2.289368820634003,
          2.295658295415965,
          2.3019477701979265,
          2.308237244979888,
          2.3145267197618495,
          2.320816194543811,
          2.3271056693257726,
          2.333395144107734,
          2.3396846188896956,
          2.345974093671657,
          2.3522635684536186,
          2.35855304323558,
          2.3648425180175416,
          2.371131992799503,
          2.377421467581465,
          2.3837109423634266,
          2.390000417145388,
          2.3962898919273496,
          2.402579366709311,
          2.4088688414912727,
          2.415158316273234,
          2.4214477910551957,
          2.427737265837157,
          2.4340267406191187,
          2.4403162154010802,
          2.4466056901830417,
          2.4528951649650033,
          2.459184639746965,
          2.4654741145289267,
          2.4717635893108882,
          2.4780530640928498,
          2.4843425388748113,
          2.490632013656773,
          2.4969214884387343,
          2.503210963220696,
          2.5095004380026573,
          2.515789912784619,
          2.5220793875665803,
          2.528368862348542,
          2.5346583371305034,
          2.5409478119124653,
          2.547237286694427,
          2.5535267614763884,
          2.55981623625835,
          2.5661057110403114,
          2.572395185822273,
          2.5786846606042344,
          2.584974135386196,
          2.5912636101681574,
          2.597553084950119,
          2.6038425597320805,
          2.610132034514042,
          2.6164215092960035,
          2.6227109840779654,
          2.629000458859927,
          2.6352899336418885,
          2.64157940842385,
          2.6478688832058115,
          2.654158357987773,
          2.6604478327697345,
          2.666737307551696,
          2.6730267823336575,
          2.679316257115619,
          2.6856057318975806,
          2.691895206679542,
          2.698184681461504,
          2.7044741562434655,
          2.710763631025427,
          2.7170531058073886,
          2.72334258058935,
          2.7296320553713116,
          2.735921530153273,
          2.7422110049352346,
          2.748500479717196,
          2.7547899544991576,
          2.761079429281119,
          2.7673689040630807,
          2.773658378845042,
          2.779947853627004,
          2.7862373284089657,
          2.792526803190927,
          2.7988162779728887,
          2.80510575275485,
          2.8113952275368117,
          2.817684702318773,
          2.8239741771007347,
          2.8302636518826962,
          2.8365531266646578,
          2.8428426014466193,
          2.849132076228581,
          2.8554215510105423,
          2.8617110257925042,
          2.8680005005744658,
          2.8742899753564273,
          2.880579450138389,
          2.8868689249203503,
          2.893158399702312,
          2.8994478744842733,
          2.905737349266235,
          2.9120268240481963,
          2.918316298830158,
          2.9246057736121194,
          2.930895248394081,
          2.9371847231760424,
          2.9434741979580044,
          2.949763672739966,
          2.9560531475219274,
          2.962342622303889,
          2.9686320970858504,
          2.974921571867812,
          2.9812110466497734,
          2.987500521431735,
          2.9937899962136965,
          3.000079470995658,
          3.0063689457776195,
          3.012658420559581,
          3.018947895341543,
          3.0252373701235045,
          3.031526844905466,
          3.0378163196874275,
          3.044105794469389,
          3.0503952692513505,
          3.056684744033312,
          3.0629742188152735,
          3.069263693597235,
          3.0755531683791966,
          3.081842643161158,
          3.0881321179431196,
          3.094421592725081,
          3.100711067507043,
          3.1070005422890046,
          3.113290017070966,
          3.1195794918529276,
          3.125868966634889,
          3.1321584414168506,
          3.138447916198812,
          3.1447373909807737,
          3.151026865762735,
          3.1573163405446967,
          3.163605815326658,
          3.1698952901086197,
          3.176184764890581,
          3.182474239672543,
          3.1887637144545047,
          3.195053189236466,
          3.2013426640184277,
          3.207632138800389,
          3.2139216135823507,
          3.2202110883643122,
          3.2265005631462738,
          3.2327900379282353,
          3.239079512710197,
          3.2453689874921583,
          3.25165846227412,
          3.2579479370560813,
          3.2642374118380433,
          3.270526886620005,
          3.2768163614019663,
          3.283105836183928,
          3.2893953109658893,
          3.295684785747851,
          3.3019742605298124,
          3.308263735311774,
          3.3145532100937354,
          3.320842684875697,
          3.3271321596576584,
          3.33342163443962,
          3.3397111092215814,
          3.3460005840035434,
          3.352290058785505,
          3.3585795335674664,
          3.364869008349428,
          3.3711584831313894,
          3.377447957913351,
          3.3837374326953125,
          3.390026907477274,
          3.3963163822592355,
          3.402605857041197,
          3.4088953318231585,
          3.41518480660512,
          3.4214742813870815,
          3.4277637561690435,
          3.434053230951005,
          3.4403427057329665,
          3.446632180514928,
          3.4529216552968895,
          3.459211130078851,
          3.4655006048608126,
          3.471790079642774,
          3.4780795544247356,
          3.484369029206697,
          3.4906585039886586,
          3.49694797877062,
          3.503237453552582,
          3.5095269283345436,
          3.515816403116505,
          3.5221058778984666,
          3.528395352680428,
          3.5346848274623897,
          3.540974302244351,
          3.5472637770263127,
          3.553553251808274,
          3.5598427265902357,
          3.566132201372197,
          3.5724216761541587,
          3.5787111509361202,
          3.585000625718082,
          3.5912901005000437,
          3.5975795752820052,
          3.6038690500639667,
          3.6101585248459283,
          3.6164479996278898,
          3.6227374744098513,
          3.629026949191813,
          3.6353164239737743,
          3.641605898755736,
          3.6478953735376973,
          3.654184848319659,
          3.6604743231016204,
          3.6667637978835823,
          3.673053272665544,
          3.6793427474475053,
          3.685632222229467,
          3.6919216970114284,
          3.69821117179339,
          3.7045006465753514,
          3.710790121357313,
          3.7170795961392744,
          3.723369070921236,
          3.7296585457031974,
          3.735948020485159,
          3.7422374952671205,
          3.7485269700490824,
          3.754816444831044,
          3.7611059196130054,
          3.767395394394967,
          3.7736848691769285,
          3.77997434395889,
          3.7862638187408515,
          3.792553293522813,
          3.7988427683047745,
          3.805132243086736,
          3.8114217178686975,
          3.817711192650659,
          3.824000667432621,
          3.8302901422145825,
          3.836579616996544,
          3.8428690917785056,
          3.849158566560467,
          3.8554480413424286,
          3.86173751612439,
          3.8680269909063516,
          3.874316465688313,
          3.8806059404702746,
          3.886895415252236,
          3.8931848900341977,
          3.899474364816159,
          3.905763839598121,
          3.9120533143800826,
          3.918342789162044,
          3.9246322639440057,
          3.930921738725967,
          3.9372112135079287,
          3.94350068828989,
          3.9497901630718517,
          3.9560796378538132,
          3.9623691126357747,
          3.9686585874177362,
          3.9749480621996978,
          3.9812375369816593,
          3.9875270117636212,
          3.9938164865455827,
          4.000105961327544,
          4.006395436109505,
          4.012684910891467,
          4.018974385673428,
          4.02526386045539,
          4.031553335237352,
          4.037842810019313,
          4.044132284801275,
          4.050421759583236,
          4.056711234365198,
          4.063000709147159,
          4.069290183929121,
          4.075579658711082,
          4.081869133493044,
          4.088158608275005,
          4.094448083056967,
          4.1007375578389285,
          4.10702703262089,
          4.113316507402852,
          4.119605982184813,
          4.125895456966775,
          4.1321849317487365,
          4.138474406530698,
          4.1447638813126595,
          4.1510533560946214,
          4.1573428308765825,
          4.1636323056585445,
          4.1699217804405055,
          4.1762112552224675,
          4.182500730004429,
          4.1887902047863905,
          4.1950796795683525,
          4.2013691543503136,
          4.2076586291322755,
          4.213948103914237,
          4.2202375786961985,
          4.22652705347816,
          4.232816528260122,
          4.239106003042083,
          4.245395477824045,
          4.251684952606006,
          4.257974427387968,
          4.264263902169929,
          4.270553376951891,
          4.276842851733853,
          4.283132326515814,
          4.289421801297776,
          4.295711276079737,
          4.302000750861699,
          4.30829022564366,
          4.314579700425622,
          4.320869175207583,
          4.327158649989545,
          4.333448124771506,
          4.339737599553468,
          4.346027074335429,
          4.352316549117391,
          4.358606023899353,
          4.364895498681314,
          4.371184973463276,
          4.377474448245237,
          4.383763923027199,
          4.39005339780916,
          4.396342872591122,
          4.402632347373083,
          4.408921822155045,
          4.415211296937006,
          4.421500771718968,
          4.42779024650093,
          4.434079721282891,
          4.440369196064853,
          4.446658670846814,
          4.452948145628776,
          4.459237620410737,
          4.465527095192699,
          4.47181656997466,
          4.478106044756622,
          4.484395519538583,
          4.490684994320545,
          4.496974469102506,
          4.503263943884468,
          4.50955341866643,
          4.515842893448391,
          4.522132368230353,
          4.528421843012314,
          4.534711317794276,
          4.541000792576237,
          4.547290267358199,
          4.55357974214016,
          4.559869216922122,
          4.566158691704083,
          4.572448166486045,
          4.578737641268006,
          4.585027116049968,
          4.59131659083193,
          4.597606065613891,
          4.603895540395853,
          4.610185015177814,
          4.616474489959776,
          4.622763964741737,
          4.629053439523699,
          4.63534291430566,
          4.641632389087622,
          4.647921863869583,
          4.654211338651545,
          4.660500813433506,
          4.666790288215468,
          4.67307976299743,
          4.679369237779391,
          4.685658712561353,
          4.691948187343314,
          4.698237662125276,
          4.704527136907237,
          4.710816611689199,
          4.71710608647116,
          4.723395561253122,
          4.729685036035083,
          4.735974510817045,
          4.742263985599006,
          4.748553460380968,
          4.75484293516293,
          4.761132409944891,
          4.767421884726853,
          4.773711359508814,
          4.780000834290776,
          4.786290309072737,
          4.792579783854699,
          4.79886925863666,
          4.805158733418622,
          4.811448208200583,
          4.817737682982545,
          4.824027157764506,
          4.830316632546468,
          4.83660610732843,
          4.842895582110391,
          4.849185056892353,
          4.855474531674314,
          4.861764006456276,
          4.8680534812382374,
          4.874342956020199,
          4.8806324308021605,
          4.886921905584122,
          4.8932113803660835,
          4.8995008551480455,
          4.9057903299300065,
          4.9120798047119685,
          4.91836927949393,
          4.9246587542758915,
          4.9309482290578535,
          4.9372377038398145,
          4.9435271786217765,
          4.9498166534037376,
          4.9561061281856995,
          4.962395602967661,
          4.9686850777496225,
          4.974974552531584,
          4.981264027313546,
          4.987553502095507,
          4.993842976877469,
          5.0001324516594305,
          5.006421926441392,
          5.012711401223354,
          5.019000876005315,
          5.025290350787277,
          5.031579825569238,
          5.0378693003512,
          5.044158775133161,
          5.050448249915123,
          5.056737724697084,
          5.063027199479046,
          5.069316674261007,
          5.075606149042969,
          5.081895623824931,
          5.088185098606892,
          5.094474573388854,
          5.100764048170815,
          5.107053522952777,
          5.113342997734738,
          5.1196324725167,
          5.125921947298661,
          5.132211422080623,
          5.138500896862584,
          5.144790371644546,
          5.151079846426507,
          5.157369321208469,
          5.163658795990431,
          5.169948270772392,
          5.176237745554354,
          5.182527220336315,
          5.188816695118277,
          5.195106169900238,
          5.2013956446822,
          5.207685119464161,
          5.213974594246123,
          5.220264069028084,
          5.226553543810046,
          5.232843018592007,
          5.239132493373969,
          5.245421968155931,
          5.251711442937892,
          5.258000917719854,
          5.264290392501815,
          5.270579867283777,
          5.276869342065738,
          5.2831588168477,
          5.289448291629661,
          5.295737766411623,
          5.302027241193584,
          5.308316715975546,
          5.314606190757508,
          5.320895665539469,
          5.327185140321431,
          5.333474615103392,
          5.339764089885354,
          5.346053564667315,
          5.352343039449277,
          5.358632514231238,
          5.3649219890132,
          5.371211463795161,
          5.377500938577123,
          5.383790413359084,
          5.390079888141046,
          5.396369362923008,
          5.402658837704969,
          5.408948312486931,
          5.415237787268892,
          5.421527262050854,
          5.427816736832815,
          5.434106211614777,
          5.440395686396738,
          5.4466851611787,
          5.452974635960661,
          5.459264110742623,
          5.465553585524584,
          5.471843060306546,
          5.478132535088508,
          5.484422009870469,
          5.490711484652431,
          5.497000959434392,
          5.503290434216354,
          5.509579908998315,
          5.515869383780277,
          5.522158858562238,
          5.5284483333442,
          5.534737808126161,
          5.541027282908123,
          5.547316757690084,
          5.553606232472046,
          5.559895707254008,
          5.566185182035969,
          5.572474656817931,
          5.578764131599892,
          5.585053606381854,
          5.591343081163815,
          5.597632555945777,
          5.603922030727738,
          5.6102115055097,
          5.6165009802916614,
          5.622790455073623,
          5.6290799298555845,
          5.635369404637546,
          5.641658879419508,
          5.6479483542014695,
          5.654237828983431,
          5.6605273037653925,
          5.666816778547354,
          5.6731062533293155,
          5.6793957281112775,
          5.6856852028932385,
          5.6919746776752005,
          5.698264152457162,
          5.7045536272391235,
          5.710843102021085,
          5.7171325768030465,
          5.7234220515850085,
          5.72971152636697,
          5.7360010011489315,
          5.742290475930893,
          5.7485799507128545,
          5.754869425494816,
          5.761158900276778,
          5.767448375058739,
          5.773737849840701,
          5.780027324622662,
          5.786316799404624,
          5.792606274186585,
          5.798895748968547,
          5.805185223750509,
          5.81147469853247,
          5.817764173314432,
          5.824053648096393,
          5.830343122878355,
          5.836632597660316,
          5.842922072442278,
          5.849211547224239,
          5.855501022006201,
          5.861790496788162,
          5.868079971570124,
          5.874369446352085,
          5.880658921134047,
          5.886948395916009,
          5.89323787069797,
          5.899527345479932,
          5.905816820261893,
          5.912106295043855,
          5.918395769825816,
          5.924685244607778,
          5.930974719389739,
          5.937264194171701,
          5.943553668953662,
          5.949843143735624,
          5.956132618517585,
          5.962422093299547,
          5.968711568081509,
          5.97500104286347,
          5.981290517645432,
          5.987579992427393,
          5.993869467209355,
          6.000158941991316,
          6.006448416773278,
          6.012737891555239,
          6.019027366337201,
          6.025316841119162,
          6.031606315901124,
          6.037895790683086,
          6.044185265465047,
          6.050474740247009,
          6.05676421502897,
          6.063053689810932,
          6.069343164592893,
          6.075632639374855,
          6.081922114156816,
          6.088211588938778,
          6.094501063720739,
          6.100790538502701,
          6.107080013284662,
          6.113369488066624,
          6.119658962848586,
          6.125948437630547,
          6.132237912412509,
          6.13852738719447,
          6.144816861976432,
          6.151106336758393,
          6.157395811540355,
          6.163685286322316,
          6.169974761104278,
          6.176264235886239,
          6.182553710668201,
          6.188843185450162,
          6.195132660232124,
          6.201422135014086,
          6.207711609796047,
          6.214001084578009,
          6.22029055935997,
          6.226580034141932,
          6.232869508923893,
          6.239158983705855,
          6.245448458487816,
          6.251737933269778,
          6.258027408051739,
          6.264316882833701,
          6.270606357615662,
          6.276895832397624,
          6.283185307179586
         ],
         "xaxis": "x",
         "y": [
          10.392304845413264,
          10.466954376233835,
          10.539947742993224,
          10.611273396105332,
          10.68092004986287,
          10.748876684223063,
          10.815132546551336,
          10.879677153322671,
          10.942500291780405,
          11.00359202155216,
          11.0629426762227,
          11.120542864863419,
          11.17638347351825,
          11.230455666645744,
          11.282750888517107,
          11.333260864569947,
          11.381977602717543,
          11.428893394613416,
          11.474000816871012,
          11.517292732238268,
          11.558762290726952,
          11.598402930696496,
          11.63620837989225,
          11.67217265643792,
          11.706290069782064,
          11.738555221598501,
          11.768963006640476,
          11.797508613548452,
          11.824187525611396,
          11.848995521481466,
          11.871928675841922,
          11.892983360028236,
          11.912156242602244,
          11.929444289879271,
          11.944844766408151,
          11.95835523540404,
          11.969973559133996,
          11.979697899255218,
          11.98752671710593,
          11.99345877394883,
          11.997493131167115,
          11.999629150412963,
          11.999866493708568,
          11.998205123499606,
          11.994645302661167,
          11.989187594456178,
          11.981832862446268,
          11.972582270355137,
          11.961437281884411,
          11.948399660482053,
          11.933471469063331,
          11.916655069684413,
          11.897953123168618,
          11.877368588685401,
          11.854904723282136,
          11.83056508136875,
          11.804353514155324,
          11.776274169042715,
          11.746331488966337,
          11.714530211693155,
          11.680875369072034,
          11.645372286237563,
          11.608026580767483,
          11.568844161793809,
          11.527831229067854,
          11.48499427197925,
          11.440340068529151,
          11.393875684257761,
          11.345608471126361,
          11.29554606635404,
          11.243696391209259,
          11.19006764975649,
          11.134668327558112,
          11.077507190331747,
          11.01859328256329,
          10.9579359260758,
          10.895544718554557,
          10.83142953202841,
          10.76560051130777,
          10.698068072379407,
          10.628842900758354,
          10.557935949797155,
          10.485358438952742,
          10.411121852011215,
          10.335237935270769,
          10.257718695683113,
          10.178576398953629,
          10.097823567600603,
          10.015472978973811,
          9.931537663232778,
          9.846030901285054,
          9.7589662226848,
          9.67035740349203,
          9.580218464092873,
          9.488563666981127,
          9.395407514501557,
          9.30076474655522,
          9.204650338267186,
          9.107079497617068,
          9.008067663032694,
          8.907630500947313,
          8.805783903320735,
          8.702543985124771,
          8.597927081793404,
          8.491949746638058,
          8.384628748228412,
          8.275981067739146,
          8.166023896263033,
          8.054774632090833,
          7.942250877958417,
          7.828470438261492,
          7.713451316238474,
          7.597211711121858,
          7.4797700152586035,
          7.361144811199946,
          7.2413548687611184,
          7.12041914205145,
          6.998356766475282,
          6.875187055704242,
          6.750929498621248,
          6.625603756236842,
          6.499229658578281,
          6.371827201551845,
          6.243416543778949,
          6.114018003406481,
          5.983652054891902,
          5.8523393257636185,
          5.7201005933571345,
          5.5869567815274905,
          5.4529289573385356,
          5.318038327729515,
          5.1823062361595715,
          5.045754159230576,
          4.9084037032889505,
          4.770276601006956,
          4.631394707943946,
          4.491779999088228,
          4.351454565380006,
          4.21044061021597,
          4.068760445936107,
          3.926436490293265,
          3.783491262906036,
          3.6399473816955266,
          3.4958275593065693,
          3.351154599513965,
          3.20595139361426,
          3.0602409168037252,
          2.9140462245430467,
          2.7673904489092838,
          2.620296794935748,
          2.4727885369403144,
          2.3248890148427757,
          2.1766216304718182,
          2.0280098438621947,
          1.8790771695426989,
          1.7298471728155072,
          1.5803434660274864,
          1.4305897048340843,
          1.280609584456312,
          1.1304268359315155,
          0.980065222358481,
          0.8295485351374167,
          0.6789005902055112,
          0.5281452242685838,
          0.37730629102945196,
          0.22640765741361063,
          0.07547319979281938,
          -0.0754731997928058,
          -0.22640765741359703,
          -0.3773062910294383,
          -0.5281452242685809,
          -0.6789005902055083,
          -0.8295485351374137,
          -0.980065222358478,
          -1.1304268359315126,
          -1.2806095844563037,
          -1.430589704834076,
          -1.5803434660274784,
          -1.7298471728154938,
          -1.8790771695426856,
          -2.0280098438621814,
          -2.1766216304718045,
          -2.3248890148427623,
          -2.4727885369403113,
          -2.620296794935745,
          -2.767390448909281,
          -2.914046224543044,
          -3.0602409168037226,
          -3.205951393614252,
          -3.351154599513957,
          -3.4958275593065613,
          -3.6399473816955137,
          -3.783491262906023,
          -3.926436490293252,
          -4.068760445936094,
          -4.210440610215957,
          -4.351454565380003,
          -4.491779999088227,
          -4.631394707943944,
          -4.7702766010069535,
          -4.908403703288948,
          -5.045754159230568,
          -5.182306236159564,
          -5.318038327729508,
          -5.452928957338523,
          -5.586956781527479,
          -5.720100593357122,
          -5.852339325763607,
          -5.9836520548918894,
          -6.114018003406478,
          -6.243416543778947,
          -6.371827201551842,
          -6.499229658578278,
          -6.625603756236839,
          -6.750929498621241,
          -6.8751870557042345,
          -6.9983567664752755,
          -7.120419142051439,
          -7.241354868761108,
          -7.361144811199935,
          -7.479770015258593,
          -7.597211711121856,
          -7.713451316238471,
          -7.8284704382614905,
          -7.942250877958415,
          -8.054774632090831,
          -8.166023896263026,
          -8.275981067739139,
          -8.384628748228405,
          -8.49194974663805,
          -8.597927081793394,
          -8.702543985124763,
          -8.805783903320727,
          -8.907630500947304,
          -9.008067663032692,
          -9.107079497617065,
          -9.204650338267184,
          -9.300764746555219,
          -9.395407514501555,
          -9.488563666981122,
          -9.580218464092868,
          -9.670357403492025,
          -9.75896622268479,
          -9.846030901285046,
          -9.931537663232769,
          -10.015472978973802,
          -10.097823567600596,
          -10.178576398953627,
          -10.257718695683112,
          -10.335237935270769,
          -10.411121852011213,
          -10.48535843895274,
          -10.557935949797152,
          -10.62884290075835,
          -10.698068072379403,
          -10.765600511307765,
          -10.831429532028405,
          -10.89554471855455,
          -10.957935926075795,
          -11.018593282563284,
          -11.077507190331747,
          -11.13466832755811,
          -11.19006764975649,
          -11.243696391209255,
          -11.295546066354039,
          -11.34560847112636,
          -11.393875684257758,
          -11.44034006852915,
          -11.484994271979247,
          -11.52783122906785,
          -11.568844161793805,
          -11.60802658076748,
          -11.64537228623756,
          -11.680875369072032,
          -11.714530211693154,
          -11.746331488966337,
          -11.776274169042713,
          -11.80435351415532,
          -11.830565081368748,
          -11.854904723282136,
          -11.8773685886854,
          -11.897953123168616,
          -11.916655069684412,
          -11.93347146906333,
          -11.948399660482051,
          -11.961437281884411,
          -11.972582270355137,
          -11.981832862446268,
          -11.989187594456176,
          -11.994645302661166,
          -11.998205123499606,
          -11.999866493708568,
          -11.999629150412964,
          -11.997493131167115,
          -11.993458773948833,
          -11.98752671710593,
          -11.97969789925522,
          -11.969973559133997,
          -11.958355235404042,
          -11.944844766408151,
          -11.929444289879271,
          -11.912156242602244,
          -11.892983360028236,
          -11.871928675841923,
          -11.848995521481468,
          -11.824187525611398,
          -11.797508613548452,
          -11.768963006640478,
          -11.738555221598503,
          -11.706290069782067,
          -11.672172656437922,
          -11.636208379892253,
          -11.598402930696496,
          -11.558762290726953,
          -11.51729273223827,
          -11.474000816871012,
          -11.42889339461342,
          -11.381977602717544,
          -11.333260864569949,
          -11.282750888517109,
          -11.230455666645748,
          -11.176383473518253,
          -11.120542864863424,
          -11.062942676222706,
          -11.003592021552166,
          -10.94250029178041,
          -10.879677153322678,
          -10.81513254655134,
          -10.748876684223067,
          -10.680920049862873,
          -10.611273396105336,
          -10.539947742993228,
          -10.46695437623384,
          -10.392304845413268,
          -10.316010962168948,
          -10.23808479832072,
          -10.158538683960733,
          -10.077385205502484,
          -9.994637203689289,
          -9.910307771562525,
          -9.824410252389939,
          -9.736958237554393,
          -9.64796556440329,
          -9.557446314059153,
          -9.465414809191582,
          -9.371885611751015,
          -9.27687352066462,
          -9.180393569494687,
          -9.082461024059908,
          -8.983091380019896,
          -8.882300360423331,
          -8.780103913220149,
          -8.676518208738115,
          -8.571559637124254,
          -8.465244805751441,
          -8.357590536590665,
          -8.248613863549329,
          -8.138332029776002,
          -8.02676248493208,
          -7.913922882430759,
          -7.799831076643768,
          -7.68450512007632,
          -7.567963260510696,
          -7.450223938118934,
          -7.331305782545087,
          -7.211227609957479,
          -7.090008420071501,
          -6.967667393143271,
          -6.844223886934822,
          -6.719697433651152,
          -6.59410773684968,
          -6.467474668322605,
          -6.339818264952626,
          -6.21115872554255,
          -6.08151640761928,
          -5.950911824212685,
          -5.819365640609865,
          -5.686898671085331,
          -5.553531875607593,
          -5.419286356522746,
          -5.284183355215438,
          -5.1482442487479245,
          -5.011490546477612,
          -4.873943886653678,
          -4.735626032993299,
          -4.596558871238022,
          -4.456764405690828,
          -4.316264755734441,
          -4.175082152331419,
          -4.033238934506606,
          -3.8907575458124657,
          -3.747660530777879,
          -3.6039705313410115,
          -3.459710283266669,
          -3.3149026125489005,
          -3.169570431799284,
          -3.0237367366215118,
          -2.877424601972842,
          -2.730657178513,
          -2.583457688941096,
          -2.435849424321149,
          -2.2878557403967883,
          -2.139500053895726,
          -1.9908058388245757,
          -1.841796622754601,
          -1.6924959830990387,
          -1.5429275433824314,
          -1.3931149695027711,
          -1.243081965986881,
          -1.0928522722396998,
          -0.9424496587880462,
          -0.7918979235194579,
          -0.6412208879167017,
          -0.49044239328855244,
          -0.3395862969974315,
          -0.18867646868450716,
          -0.03773678649285238,
          0.11320886671075484,
          0.26413660711472364,
          0.41502255374179986,
          0.5658428322276592,
          0.716573578598509,
          0.8671909430470335,
          1.0176710937060989,
          1.1679902204196195,
          1.3181245385099873,
          1.4680502925414727,
          1.6177437600789961,
          1.7671812554416784,
          1.9163391334505875,
          2.065193793170022,
          2.2137216816419008,
          2.3618992976124566,
          2.5097031952507995,
          2.6571099878587,
          2.804096351571019,
          2.950639029046192,
          3.0967148331461907,
          3.242300650605373,
          3.387373445687647,
          3.531910263831367,
          3.675888235281386,
          3.8192845787076966,
          3.9620766048100347,
          4.104241719908018,
          4.245757429516056,
          4.38660134190262,
          4.526751171633229,
          4.66618474309664,
          4.8048799940136355,
          4.942814978927901,
          5.0799678726784006,
          5.216316973852734,
          5.351840708220898,
          5.486517632148935,
          5.62032643599192,
          5.753245947465711,
          5.885255134997039,
          6.016333111051262,
          6.146459135437363,
          6.27561261858962,
          6.403773124825458,
          6.530920375578939,
          6.657034252609395,
          6.7820948011847015,
          6.906082233238668,
          7.0289769305020595,
          7.1507594476067595,
          7.2714105151625725,
          7.390911042806149,
          7.509242122221664,
          7.626385030132601,
          7.742321231264313,
          7.857032381276811,
          7.9705003296673596,
          8.082707122642383,
          8.193635005958258,
          8.303266427730543,
          8.411584041211158,
          8.518570707533131,
          8.624209498422456,
          8.72848369887658,
          8.831376809809235,
          8.93287255066102,
          9.032954861975451,
          9.131607907940005,
          9.228816078891795,
          9.324563993787454,
          9.418836502636847,
          9.511618688900208,
          9.602895871848377,
          9.692653608885673,
          9.780877697835137,
          9.86755417918571,
          9.952669338300987,
          10.03620970758931,
          10.118162068634664,
          10.198513454288232,
          10.277251150720144,
          10.354362699431167,
          10.42983589922398,
          10.50365880813375,
          10.575819745317677,
          10.646307292903241,
          10.715110297794816,
          10.7822178734384,
          10.84761940154419,
          10.911304533766659,
          10.973263193341985,
          11.033485576682462,
          11.091962154927696,
          11.148683675452348,
          11.20364116333015,
          11.256825922753986,
          11.308229538411819,
          11.357843876818224,
          11.405661087601334,
          11.45167360474498,
          11.495874147785862,
          11.538255722965504,
          11.578811624336867,
          11.617535434825424,
          11.654421027244513,
          11.689462565264833,
          11.722654504337909,
          11.753991592573396,
          11.783468871570077,
          11.811081677200422,
          11.836825640348573,
          11.86069668760167,
          11.88269104189438,
          11.90280522310652,
          11.921036048613727,
          11.937380633791022,
          11.951836392469252,
          11.964401037344281,
          11.975072580338917,
          11.983849332917476,
          11.990729906352954,
          11.995713211946759,
          11.998798461200987,
          11.999985165943169,
          11.999273138403524,
          11.996662491244665,
          11.99215363754377,
          11.985747290727229,
          11.977444464457756,
          11.967246472473994,
          11.955154928382653,
          11.941171745403194,
          11.925299136065092,
          11.907539611857766,
          11.887895982833182,
          11.866371357161228,
          11.842969140637923,
          11.817693036146498,
          11.790547043071538,
          11.76153545666612,
          11.730662867372233,
          11.697934160094412,
          11.663354513426803,
          11.626929398833797,
          11.588664579784256,
          11.548566110839605,
          11.506640336695797,
          11.462893891179446,
          11.417333696198122,
          11.369966960645163,
          11.320801179258977,
          11.26984413143722,
          11.217103880005816,
          11.16258876994325,
          11.10630742706014,
          11.048268756634357,
          10.988481942002034,
          10.926956443104428,
          10.863701994991166,
          10.79872860627982,
          10.732046557572334,
          10.663666399828273,
          10.593598952695444,
          10.521855302797846,
          10.44844680198154,
          10.373385065518384,
          10.29668197026825,
          10.218349652799741,
          10.138400507469814,
          10.056847184462725,
          9.973702587788324,
          9.88897987324038,
          9.802692446314866,
          9.714853960088938,
          9.62547831306053,
          9.534579646949336,
          9.442172344459085,
          9.348271027001905,
          9.252890552384702,
          9.156046012458328,
          9.057752730729593,
          8.958026259936624,
          8.856882379588075,
          8.754337093466262,
          8.65040662709503,
          8.54510742517231,
          8.438456148968218,
          8.330469673688675,
          8.221165085805382,
          8.110559680352155,
          7.9986709581884625,
          7.885516623230269,
          7.771114579648728,
          7.655482929037352,
          7.5386399675477085,
          7.420604182994595,
          7.301394251930606,
          7.181029036691133,
          7.0595275824096655,
          6.936909114004462,
          6.813193033136499,
          6.688398915139722,
          6.562546505923536,
          6.435655718848588,
          6.307746631575856,
          6.178839482889753,
          6.048954669495906,
          5.918112742793694,
          5.786334405624585,
          5.653640508996217,
          5.520052048783345,
          5.385590162405551,
          5.250276125482866,
          5.114131348469229,
          4.977177373264901,
          4.839435869807783,
          4.700928632644767,
          4.56167757748317,
          4.421704737722999,
          4.281032260970792,
          4.139682405535088,
          3.9976775369047033,
          3.8550401242097276,
          3.711792736666421,
          3.567958040006073,
          3.423558792888593,
          3.2786178433015976,
          3.1331581249450564,
          2.9872026536027083,
          2.8407745235001562,
          2.6938969036508813,
          2.5465930341900953,
          2.398886222697667,
          2.250799840510048,
          2.1023573190224414,
          1.953582145981136,
          1.804497861767235,
          1.6551280556718486,
          1.5054963621635487,
          1.3556264571488814,
          1.205542054226013,
          1.0552669009327442,
          0.9048247749888184,
          0.7542394805337942,
          0.6035348443603953,
          0.45273471214461863,
          0.3018629446725129,
          0.15094341406490694,
          4.408728476930472E-15,
          -0.1509434140648981,
          -0.3018629446725041,
          -0.4527347121446099,
          -0.6035348443603865,
          -0.7542394805337854,
          -0.9048247749888096,
          -1.0552669009327353,
          -1.2055420542260045,
          -1.3556264571488725,
          -1.5054963621635395,
          -1.65512805567184,
          -1.8044978617672263,
          -1.9535821459811273,
          -2.102357319022433,
          -2.250799840510039,
          -2.398886222697658,
          -2.546593034190087,
          -2.693896903650873,
          -2.8407745235001474,
          -2.9872026536027,
          -3.133158124945048,
          -3.278617843301589,
          -3.423558792888585,
          -3.5679580400060646,
          -3.711792736666413,
          -3.8550401242097196,
          -3.9976775369046953,
          -4.13968240553508,
          -4.281032260970783,
          -4.421704737722991,
          -4.561677577483162,
          -4.700928632644758,
          -4.839435869807774,
          -4.977177373264873,
          -5.114131348469222,
          -5.25027612548284,
          -5.385590162405543,
          -5.520052048783338,
          -5.65364050899621,
          -5.786334405624577,
          -5.918112742793686,
          -6.048954669495897,
          -6.178839482889744,
          -6.307746631575849,
          -6.43565571884858,
          -6.562546505923528,
          -6.688398915139696,
          -6.813193033136493,
          -6.936909114004438,
          -7.0595275824096575,
          -7.181029036691127,
          -7.3013942519306,
          -7.4206041829945875,
          -7.538639967547702,
          -7.655482929037344,
          -7.771114579648722,
          -7.885516623230264,
          -7.998670958188455,
          -8.110559680352148,
          -8.22116508580536,
          -8.330469673688668,
          -8.438456148968196,
          -8.545107425172302,
          -8.650406627095025,
          -8.754337093466257,
          -8.85688237958807,
          -8.95802625993662,
          -9.057752730729588,
          -9.15604601245832,
          -9.252890552384695,
          -9.348271027001887,
          -9.44217234445908,
          -9.534579646949316,
          -9.625478313060523,
          -9.714853960088918,
          -9.802692446314861,
          -9.888979873240375,
          -9.97370258778832,
          -10.056847184462718,
          -10.13840050746981,
          -10.218349652799738,
          -10.296681970268246,
          -10.373385065518379,
          -10.448446801981524,
          -10.521855302797842,
          -10.59359895269543,
          -10.66366639982827,
          -10.73204655757232,
          -10.798728606279816,
          -10.863701994991162,
          -10.926956443104423,
          -10.988481942002032,
          -11.048268756634354,
          -11.106307427060138,
          -11.162588769943248,
          -11.217103880005812,
          -11.269844131437209,
          -11.320801179258975,
          -11.369966960645154,
          -11.417333696198119,
          -11.462893891179437,
          -11.506640336695796,
          -11.548566110839602,
          -11.588664579784254,
          -11.626929398833795,
          -11.663354513426802,
          -11.69793416009441,
          -11.730662867372232,
          -11.761535456666119,
          -11.79054704307153,
          -11.817693036146496,
          -11.842969140637917,
          -11.866371357161228,
          -11.887895982833179,
          -11.907539611857764,
          -11.92529913606509,
          -11.94117174540319,
          -11.955154928382653,
          -11.967246472473992,
          -11.977444464457756,
          -11.985747290727229,
          -11.99215363754377,
          -11.996662491244665,
          -11.999273138403524,
          -11.999985165943169,
          -11.998798461200987,
          -11.995713211946759,
          -11.990729906352954,
          -11.983849332917476,
          -11.975072580338919,
          -11.964401037344283,
          -11.951836392469254,
          -11.937380633791024,
          -11.921036048613729,
          -11.902805223106522,
          -11.882691041894384,
          -11.860696687601674,
          -11.836825640348577,
          -11.811081677200425,
          -11.783468871570083,
          -11.7539915925734,
          -11.72265450433791,
          -11.689462565264837,
          -11.654421027244513,
          -11.617535434825427,
          -11.578811624336868,
          -11.53825572296551,
          -11.495874147785866,
          -11.45167360474499,
          -11.405661087601338,
          -11.357843876818235,
          -11.308229538411826,
          -11.256825922753997,
          -11.203641163330156,
          -11.148683675452354,
          -11.091962154927703,
          -11.033485576682464,
          -10.973263193341992,
          -10.91130453376666,
          -10.847619401544199,
          -10.782217873438409,
          -10.715110297794828,
          -10.64630729290325,
          -10.575819745317691,
          -10.503658808133759,
          -10.429835899223995,
          -10.354362699431178,
          -10.277251150720149,
          -10.198513454288243,
          -10.118162068634668,
          -10.03620970758932,
          -9.952669338300993,
          -9.86755417918572,
          -9.780877697835148,
          -9.69265360888569,
          -9.602895871848387,
          -9.511618688900228,
          -9.418836502636857,
          -9.324563993787459,
          -9.228816078891807,
          -9.13160790794001,
          -9.032954861975464,
          -8.932872550661028,
          -8.831376809809248,
          -8.728483698876584,
          -8.624209498422468,
          -8.518570707533145,
          -8.41158404121118,
          -8.30326642773056,
          -8.193635005958281,
          -8.082707122642395,
          -7.970500329667367,
          -7.8570323812768255,
          -7.742321231264319,
          -7.626385030132616,
          -7.509242122221671,
          -7.390911042806165,
          -7.271410515162579,
          -7.150759447606783,
          -7.0289769305020755,
          -6.906082233238692,
          -6.7820948011847175,
          -6.657034252609419,
          -6.530920375578955,
          -6.403773124825466,
          -6.275612618589637,
          -6.146459135437371,
          -6.01633311105128,
          -5.885255134997046,
          -5.753245947465728,
          -5.620326435991929,
          -5.486517632148962,
          -5.351840708220916,
          -5.216316973852762,
          -5.079967872678418,
          -4.942814978927927,
          -4.804879994013653,
          -4.666184743096648,
          -4.526751171633247,
          -4.386601341902628,
          -4.2457574295160745,
          -4.104241719908026,
          -3.9620766048100524,
          -3.8192845787077054,
          -3.675888235281415,
          -3.5319102638313855,
          -3.3873734456876754,
          -3.2423006506053915,
          -3.096714833146219,
          -2.9506390290462106,
          -2.8040963515710273,
          -2.657109987858719,
          -2.509703195250808,
          -2.3618992976124757,
          -2.2137216816419096,
          -2.065193793170041,
          -1.9163391334505961,
          -1.7671812554417083,
          -1.6177437600790154,
          -1.4680502925415027,
          -1.3181245385100067,
          -1.1679902204196493,
          -1.0176710937061184,
          -0.8671909430470424,
          -0.7165735785985285,
          -0.5658428322276681,
          -0.4150225537418193,
          -0.2641366071147325,
          -0.11320886671077429,
          0.0377367864928329,
          0.18867646868447707,
          0.339586296997412,
          0.49044239328852235,
          0.6412208879166823,
          0.7918979235194277,
          0.9424496587880269,
          1.0928522722396912,
          1.2430819659868615,
          1.3931149695027623,
          1.5429275433824121,
          1.6924959830990298,
          1.8417966227545817,
          1.9908058388245569,
          2.1395000538956963,
          2.287855740396769,
          2.4358494243211193,
          2.5834576889410767,
          2.7306571785129705,
          2.877424601972823,
          3.023736736621503,
          3.1695704317992655,
          3.3149026125488916,
          3.4597102832666504,
          3.603970531341003,
          3.7476605307778605,
          3.890757545812447,
          4.033238934506578,
          4.1750821523314015,
          4.316264755734412,
          4.4567644056908104,
          4.596558871237995,
          4.735626032993282,
          4.873943886653669,
          5.011490546477593,
          5.1482442487479165,
          5.28418335521542,
          5.419286356522738,
          5.553531875607575,
          5.686898671085315,
          5.819365640609838,
          5.950911824212668,
          6.0815164076192545,
          6.211158725542534,
          6.339818264952618,
          6.467474668322589,
          6.594107736849672,
          6.719697433651135,
          6.844223886934816,
          6.967667393143255,
          7.090008420071493,
          7.211227609957463,
          7.331305782545071,
          7.450223938118912,
          7.567963260510682,
          7.684505120076298,
          7.799831076643754,
          7.913922882430752,
          8.026762484932066,
          8.138332029775997,
          8.248613863549316,
          8.35759053659066,
          8.465244805751428,
          8.571559637124249,
          8.676518208738102,
          8.780103913220136,
          8.882300360423312,
          8.983091380019882,
          9.082461024059889,
          9.180393569494672,
          9.276873520664612,
          9.371885611751004,
          9.465414809191577,
          9.557446314059142,
          9.647965564403286,
          9.736958237554381,
          9.824410252389935,
          9.910307771562508,
          9.994637203689278,
          10.077385205502468,
          10.158538683960723,
          10.238084798320703,
          10.316010962168939,
          10.392304845413264
         ],
         "yaxis": "y",
         "type": "scatter"
        }
       ],
       "layout": {
        "template": {
         "data": {
          "histogram2dcontour": [
           {
            "type": "histogram2dcontour",
            "colorbar": {
             "outlinewidth": 0,
             "ticks": ""
            },
            "colorscale": [
             [
              0.0,
              "#0d0887"
             ],
             [
              0.1111111111111111,
              "#46039f"
             ],
             [
              0.2222222222222222,
              "#7201a8"
             ],
             [
              0.3333333333333333,
              "#9c179e"
             ],
             [
              0.4444444444444444,
              "#bd3786"
             ],
             [
              0.5555555555555556,
              "#d8576b"
             ],
             [
              0.6666666666666666,
              "#ed7953"
             ],
             [
              0.7777777777777778,
              "#fb9f3a"
             ],
             [
              0.8888888888888888,
              "#fdca26"
             ],
             [
              1.0,
              "#f0f921"
             ]
            ]
           }
          ],
          "choropleth": [
           {
            "type": "choropleth",
            "colorbar": {
             "outlinewidth": 0,
             "ticks": ""
            }
           }
          ],
          "histogram2d": [
           {
            "type": "histogram2d",
            "colorbar": {
             "outlinewidth": 0,
             "ticks": ""
            },
            "colorscale": [
             [
              0.0,
              "#0d0887"
             ],
             [
              0.1111111111111111,
              "#46039f"
             ],
             [
              0.2222222222222222,
              "#7201a8"
             ],
             [
              0.3333333333333333,
              "#9c179e"
             ],
             [
              0.4444444444444444,
              "#bd3786"
             ],
             [
              0.5555555555555556,
              "#d8576b"
             ],
             [
              0.6666666666666666,
              "#ed7953"
             ],
             [
              0.7777777777777778,
              "#fb9f3a"
             ],
             [
              0.8888888888888888,
              "#fdca26"
             ],
             [
              1.0,
              "#f0f921"
             ]
            ]
           }
          ],
          "heatmap": [
           {
            "type": "heatmap",
            "colorbar": {
             "outlinewidth": 0,
             "ticks": ""
            },
            "colorscale": [
             [
              0.0,
              "#0d0887"
             ],
             [
              0.1111111111111111,
              "#46039f"
             ],
             [
              0.2222222222222222,
              "#7201a8"
             ],
             [
              0.3333333333333333,
              "#9c179e"
             ],
             [
              0.4444444444444444,
              "#bd3786"
             ],
             [
              0.5555555555555556,
              "#d8576b"
             ],
             [
              0.6666666666666666,
              "#ed7953"
             ],
             [
              0.7777777777777778,
              "#fb9f3a"
             ],
             [
              0.8888888888888888,
              "#fdca26"
             ],
             [
              1.0,
              "#f0f921"
             ]
            ]
           }
          ],
          "heatmapgl": [
           {
            "type": "heatmapgl",
            "colorbar": {
             "outlinewidth": 0,
             "ticks": ""
            },
            "colorscale": [
             [
              0.0,
              "#0d0887"
             ],
             [
              0.1111111111111111,
              "#46039f"
             ],
             [
              0.2222222222222222,
              "#7201a8"
             ],
             [
              0.3333333333333333,
              "#9c179e"
             ],
             [
              0.4444444444444444,
              "#bd3786"
             ],
             [
              0.5555555555555556,
              "#d8576b"
             ],
             [
              0.6666666666666666,
              "#ed7953"
             ],
             [
              0.7777777777777778,
              "#fb9f3a"
             ],
             [
              0.8888888888888888,
              "#fdca26"
             ],
             [
              1.0,
              "#f0f921"
             ]
            ]
           }
          ],
          "contourcarpet": [
           {
            "type": "contourcarpet",
            "colorbar": {
             "outlinewidth": 0,
             "ticks": ""
            }
           }
          ],
          "contour": [
           {
            "type": "contour",
            "colorbar": {
             "outlinewidth": 0,
             "ticks": ""
            },
            "colorscale": [
             [
              0.0,
              "#0d0887"
             ],
             [
              0.1111111111111111,
              "#46039f"
             ],
             [
              0.2222222222222222,
              "#7201a8"
             ],
             [
              0.3333333333333333,
              "#9c179e"
             ],
             [
              0.4444444444444444,
              "#bd3786"
             ],
             [
              0.5555555555555556,
              "#d8576b"
             ],
             [
              0.6666666666666666,
              "#ed7953"
             ],
             [
              0.7777777777777778,
              "#fb9f3a"
             ],
             [
              0.8888888888888888,
              "#fdca26"
             ],
             [
              1.0,
              "#f0f921"
             ]
            ]
           }
          ],
          "surface": [
           {
            "type": "surface",
            "colorbar": {
             "outlinewidth": 0,
             "ticks": ""
            },
            "colorscale": [
             [
              0.0,
              "#0d0887"
             ],
             [
              0.1111111111111111,
              "#46039f"
             ],
             [
              0.2222222222222222,
              "#7201a8"
             ],
             [
              0.3333333333333333,
              "#9c179e"
             ],
             [
              0.4444444444444444,
              "#bd3786"
             ],
             [
              0.5555555555555556,
              "#d8576b"
             ],
             [
              0.6666666666666666,
              "#ed7953"
             ],
             [
              0.7777777777777778,
              "#fb9f3a"
             ],
             [
              0.8888888888888888,
              "#fdca26"
             ],
             [
              1.0,
              "#f0f921"
             ]
            ]
           }
          ],
          "mesh3d": [
           {
            "type": "mesh3d",
            "colorbar": {
             "outlinewidth": 0,
             "ticks": ""
            }
           }
          ],
          "scatter": [
           {
            "marker": {
             "line": {
              "color": "#283442"
             }
            },
            "type": "scatter"
           }
          ],
          "parcoords": [
           {
            "type": "parcoords",
            "line": {
             "colorbar": {
              "outlinewidth": 0,
              "ticks": ""
             }
            }
           }
          ],
          "scatterpolargl": [
           {
            "type": "scatterpolargl",
            "marker": {
             "colorbar": {
              "outlinewidth": 0,
              "ticks": ""
             }
            }
           }
          ],
          "bar": [
           {
            "error_x": {
             "color": "#f2f5fa"
            },
            "error_y": {
             "color": "#f2f5fa"
            },
            "marker": {
             "line": {
              "color": "rgb(17,17,17)",
              "width": 0.5
             },
             "pattern": {
              "fillmode": "overlay",
              "size": 10,
              "solidity": 0.2
             }
            },
            "type": "bar"
           }
          ],
          "scattergeo": [
           {
            "type": "scattergeo",
            "marker": {
             "colorbar": {
              "outlinewidth": 0,
              "ticks": ""
             }
            }
           }
          ],
          "scatterpolar": [
           {
            "type": "scatterpolar",
            "marker": {
             "colorbar": {
              "outlinewidth": 0,
              "ticks": ""
             }
            }
           }
          ],
          "histogram": [
           {
            "marker": {
             "pattern": {
              "fillmode": "overlay",
              "size": 10,
              "solidity": 0.2
             }
            },
            "type": "histogram"
           }
          ],
          "scattergl": [
           {
            "marker": {
             "line": {
              "color": "#283442"
             }
            },
            "type": "scattergl"
           }
          ],
          "scatter3d": [
           {
            "type": "scatter3d",
            "line": {
             "colorbar": {
              "outlinewidth": 0,
              "ticks": ""
             }
            },
            "marker": {
             "colorbar": {
              "outlinewidth": 0,
              "ticks": ""
             }
            }
           }
          ],
          "scattermapbox": [
           {
            "type": "scattermapbox",
            "marker": {
             "colorbar": {
              "outlinewidth": 0,
              "ticks": ""
             }
            }
           }
          ],
          "scatterternary": [
           {
            "type": "scatterternary",
            "marker": {
             "colorbar": {
              "outlinewidth": 0,
              "ticks": ""
             }
            }
           }
          ],
          "scattercarpet": [
           {
            "type": "scattercarpet",
            "marker": {
             "colorbar": {
              "outlinewidth": 0,
              "ticks": ""
             }
            }
           }
          ],
          "carpet": [
           {
            "aaxis": {
             "endlinecolor": "#A2B1C6",
             "gridcolor": "#506784",
             "linecolor": "#506784",
             "minorgridcolor": "#506784",
             "startlinecolor": "#A2B1C6"
            },
            "baxis": {
             "endlinecolor": "#A2B1C6",
             "gridcolor": "#506784",
             "linecolor": "#506784",
             "minorgridcolor": "#506784",
             "startlinecolor": "#A2B1C6"
            },
            "type": "carpet"
           }
          ],
          "table": [
           {
            "cells": {
             "fill": {
              "color": "#506784"
             },
             "line": {
              "color": "rgb(17,17,17)"
             }
            },
            "header": {
             "fill": {
              "color": "#2a3f5f"
             },
             "line": {
              "color": "rgb(17,17,17)"
             }
            },
            "type": "table"
           }
          ],
          "barpolar": [
           {
            "marker": {
             "line": {
              "color": "rgb(17,17,17)",
              "width": 0.5
             },
             "pattern": {
              "fillmode": "overlay",
              "size": 10,
              "solidity": 0.2
             }
            },
            "type": "barpolar"
           }
          ],
          "pie": [
           {
            "automargin": true,
            "type": "pie"
           }
          ]
         },
         "layout": {
          "autotypenumbers": "strict",
          "colorway": [
           "#636efa",
           "#EF553B",
           "#00cc96",
           "#ab63fa",
           "#FFA15A",
           "#19d3f3",
           "#FF6692",
           "#B6E880",
           "#FF97FF",
           "#FECB52"
          ],
          "font": {
           "color": "#f2f5fa"
          },
          "hovermode": "closest",
          "hoverlabel": {
           "align": "left"
          },
          "paper_bgcolor": "rgb(17,17,17)",
          "plot_bgcolor": "rgb(17,17,17)",
          "polar": {
           "bgcolor": "rgb(17,17,17)",
           "angularaxis": {
            "gridcolor": "#506784",
            "linecolor": "#506784",
            "ticks": ""
           },
           "radialaxis": {
            "gridcolor": "#506784",
            "linecolor": "#506784",
            "ticks": ""
           }
          },
          "ternary": {
           "bgcolor": "rgb(17,17,17)",
           "aaxis": {
            "gridcolor": "#506784",
            "linecolor": "#506784",
            "ticks": ""
           },
           "baxis": {
            "gridcolor": "#506784",
            "linecolor": "#506784",
            "ticks": ""
           },
           "caxis": {
            "gridcolor": "#506784",
            "linecolor": "#506784",
            "ticks": ""
           }
          },
          "coloraxis": {
           "colorbar": {
            "outlinewidth": 0,
            "ticks": ""
           }
          },
          "colorscale": {
           "sequential": [
            [
             0.0,
             "#0d0887"
            ],
            [
             0.1111111111111111,
             "#46039f"
            ],
            [
             0.2222222222222222,
             "#7201a8"
            ],
            [
             0.3333333333333333,
             "#9c179e"
            ],
            [
             0.4444444444444444,
             "#bd3786"
            ],
            [
             0.5555555555555556,
             "#d8576b"
            ],
            [
             0.6666666666666666,
             "#ed7953"
            ],
            [
             0.7777777777777778,
             "#fb9f3a"
            ],
            [
             0.8888888888888888,
             "#fdca26"
            ],
            [
             1.0,
             "#f0f921"
            ]
           ],
           "sequentialminus": [
            [
             0.0,
             "#0d0887"
            ],
            [
             0.1111111111111111,
             "#46039f"
            ],
            [
             0.2222222222222222,
             "#7201a8"
            ],
            [
             0.3333333333333333,
             "#9c179e"
            ],
            [
             0.4444444444444444,
             "#bd3786"
            ],
            [
             0.5555555555555556,
             "#d8576b"
            ],
            [
             0.6666666666666666,
             "#ed7953"
            ],
            [
             0.7777777777777778,
             "#fb9f3a"
            ],
            [
             0.8888888888888888,
             "#fdca26"
            ],
            [
             1.0,
             "#f0f921"
            ]
           ],
           "diverging": [
            [
             0,
             "#8e0152"
            ],
            [
             0.1,
             "#c51b7d"
            ],
            [
             0.2,
             "#de77ae"
            ],
            [
             0.3,
             "#f1b6da"
            ],
            [
             0.4,
             "#fde0ef"
            ],
            [
             0.5,
             "#f7f7f7"
            ],
            [
             0.6,
             "#e6f5d0"
            ],
            [
             0.7,
             "#b8e186"
            ],
            [
             0.8,
             "#7fbc41"
            ],
            [
             0.9,
             "#4d9221"
            ],
            [
             1,
             "#276419"
            ]
           ]
          },
          "xaxis": {
           "gridcolor": "#283442",
           "linecolor": "#506784",
           "ticks": "",
           "title": {
            "standoff": 15
           },
           "zerolinecolor": "#283442",
           "automargin": true,
           "zerolinewidth": 2
          },
          "yaxis": {
           "gridcolor": "#283442",
           "linecolor": "#506784",
           "ticks": "",
           "title": {
            "standoff": 15
           },
           "zerolinecolor": "#283442",
           "automargin": true,
           "zerolinewidth": 2
          },
          "scene": {
           "xaxis": {
            "backgroundcolor": "rgb(17,17,17)",
            "gridcolor": "#506784",
            "linecolor": "#506784",
            "showbackground": true,
            "ticks": "",
            "zerolinecolor": "#C8D4E3",
            "gridwidth": 2
           },
           "yaxis": {
            "backgroundcolor": "rgb(17,17,17)",
            "gridcolor": "#506784",
            "linecolor": "#506784",
            "showbackground": true,
            "ticks": "",
            "zerolinecolor": "#C8D4E3",
            "gridwidth": 2
           },
           "zaxis": {
            "backgroundcolor": "rgb(17,17,17)",
            "gridcolor": "#506784",
            "linecolor": "#506784",
            "showbackground": true,
            "ticks": "",
            "zerolinecolor": "#C8D4E3",
            "gridwidth": 2
           }
          },
          "shapedefaults": {
           "line": {
            "color": "#f2f5fa"
           }
          },
          "annotationdefaults": {
           "arrowcolor": "#f2f5fa",
           "arrowhead": 0,
           "arrowwidth": 1
          },
          "geo": {
           "bgcolor": "rgb(17,17,17)",
           "landcolor": "rgb(17,17,17)",
           "subunitcolor": "#506784",
           "showland": true,
           "showlakes": true,
           "lakecolor": "rgb(17,17,17)"
          },
          "title": {
           "x": 0.05
          },
          "updatemenudefaults": {
           "bgcolor": "#506784",
           "borderwidth": 0
          },
          "sliderdefaults": {
           "bgcolor": "#C8D4E3",
           "borderwidth": 1,
           "bordercolor": "rgb(17,17,17)",
           "tickwidth": 0
          },
          "mapbox": {
           "style": "dark"
          }
         }
        },
        "xaxis": {
         "anchor": "y",
         "domain": [
          0.0,
          1.0
         ],
         "title": {
          "text": "x"
         }
        },
        "yaxis": {
         "anchor": "x",
         "domain": [
          0.0,
          1.0
         ],
         "title": {
          "text": "12sin(2x+π/3)"
         }
        },
        "legend": {
         "tracegroupgap": 0
        },
        "title": {
         "text": "Графік функції y = 12sin(2x+π/3)",
         "x": 0.5
        }
       },
       "config": {
        "plotlyServerURL": "https://plot.ly"
       }
      },
      "text/html": "<div>                            <div id=\"f593d320-935e-4345-89e1-c97f9a01bfb0\" class=\"plotly-graph-div\" style=\"height:525px; width:100%;\"></div>            <script type=\"text/javascript\">                require([\"plotly\"], function(Plotly) {                    window.PLOTLYENV=window.PLOTLYENV || {};                                    if (document.getElementById(\"f593d320-935e-4345-89e1-c97f9a01bfb0\")) {                    Plotly.newPlot(                        \"f593d320-935e-4345-89e1-c97f9a01bfb0\",                        [{\"hovertemplate\":\"x=%{x}<br>12sin(2x+\\u03c0/3)=%{y}<extra></extra>\",\"legendgroup\":\"\",\"line\":{\"color\":\"#636efa\",\"dash\":\"solid\"},\"marker\":{\"symbol\":\"circle\"},\"mode\":\"lines\",\"name\":\"\",\"orientation\":\"v\",\"showlegend\":false,\"x\":[0.0,0.006289474781961547,0.012578949563923095,0.018868424345884642,0.02515789912784619,0.03144737390980774,0.037736848691769284,0.04402632347373083,0.05031579825569238,0.056605273037653926,0.06289474781961547,0.06918422260157703,0.07547369738353857,0.08176317216550011,0.08805264694746166,0.09434212172942322,0.10063159651138476,0.1069210712933463,0.11321054607530785,0.1195000208572694,0.12578949563923095,0.1320789704211925,0.13836844520315406,0.1446579199851156,0.15094739476707714,0.15723686954903868,0.16352634433100022,0.16981581911296179,0.17610529389492333,0.18239476867688487,0.18868424345884643,0.19497371824080797,0.20126319302276952,0.20755266780473106,0.2138421425866926,0.22013161736865416,0.2264210921506157,0.23271056693257725,0.2390000417145388,0.24528951649650035,0.2515789912784619,0.25786846606042346,0.264157940842385,0.27044741562434654,0.2767368904063081,0.2830263651882696,0.2893158399702312,0.2956053147521927,0.3018947895341543,0.30818426431611584,0.31447373909807735,0.3207632138800389,0.32705268866200043,0.333342163443962,0.33963163822592357,0.3459211130078851,0.35221058778984665,0.3585000625718082,0.36478953735376973,0.3710790121357313,0.37736848691769287,0.3836579616996544,0.38994743648161595,0.39623691126357746,0.40252638604553903,0.4088158608275006,0.4151053356094621,0.4213948103914237,0.4276842851733852,0.43397375995534676,0.44026323473730833,0.44655270951926984,0.4528421843012314,0.459131659083193,0.4654211338651545,0.47171060864711606,0.4780000834290776,0.48428955821103914,0.4905790329930007,0.4968685077749622,0.5031579825569238,0.5094474573388853,0.5157369321208469,0.5220264069028084,0.52831588168477,0.5346053564667316,0.5408948312486931,0.5471843060306546,0.5534737808126162,0.5597632555945777,0.5660527303765392,0.5723422051585008,0.5786316799404624,0.5849211547224239,0.5912106295043854,0.597500104286347,0.6037895790683085,0.6100790538502701,0.6163685286322317,0.6226580034141932,0.6289474781961547,0.6352369529781163,0.6415264277600778,0.6478159025420394,0.6541053773240009,0.6603948521059625,0.666684326887924,0.6729738016698855,0.6792632764518471,0.6855527512338087,0.6918422260157702,0.6981317007977318,0.7044211755796933,0.7107106503616548,0.7170001251436164,0.723289599925578,0.7295790747075395,0.7358685494895011,0.7421580242714626,0.7484474990534241,0.7547369738353857,0.7610264486173473,0.7673159233993088,0.7736053981812703,0.7798948729632319,0.7861843477451934,0.7924738225271549,0.7987632973091165,0.8050527720910781,0.8113422468730396,0.8176317216550012,0.8239211964369627,0.8302106712189242,0.8365001460008858,0.8427896207828474,0.8490790955648089,0.8553685703467704,0.861658045128732,0.8679475199106935,0.874236994692655,0.8805264694746167,0.8868159442565782,0.8931054190385397,0.8993948938205013,0.9056843686024628,0.9119738433844243,0.918263318166386,0.9245527929483475,0.930842267730309,0.9371317425122706,0.9434212172942321,0.9497106920761936,0.9560001668581553,0.9622896416401168,0.9685791164220783,0.9748685912040398,0.9811580659860014,0.9874475407679629,0.9937370155499244,1.000026490331886,1.0063159651138476,1.012605439895809,1.0188949146777706,1.0251843894597321,1.0314738642416938,1.0377633390236554,1.0440528138056169,1.0503422885875784,1.05663176336954,1.0629212381515014,1.0692107129334631,1.0755001877154247,1.0817896624973862,1.0880791372793477,1.0943686120613092,1.1006580868432707,1.1069475616252324,1.113237036407194,1.1195265111891555,1.125815985971117,1.1321054607530785,1.13839493553504,1.1446844103170015,1.1509738850989633,1.1572633598809248,1.1635528346628863,1.1698423094448478,1.1761317842268093,1.1824212590087708,1.1887107337907326,1.195000208572694,1.2012896833546556,1.207579158136617,1.2138686329185786,1.2201581077005401,1.2264475824825016,1.2327370572644634,1.2390265320464249,1.2453160068283864,1.251605481610348,1.2578949563923094,1.264184431174271,1.2704739059562327,1.2767633807381942,1.2830528555201557,1.2893423303021172,1.2956318050840787,1.3019212798660402,1.3082107546480017,1.3145002294299635,1.320789704211925,1.3270791789938865,1.333368653775848,1.3396581285578095,1.345947603339771,1.3522370781217328,1.3585265529036943,1.3648160276856558,1.3711055024676173,1.3773949772495788,1.3836844520315403,1.389973926813502,1.3962634015954636,1.402552876377425,1.4088423511593866,1.4151318259413481,1.4214213007233096,1.4277107755052711,1.4340002502872329,1.4402897250691944,1.446579199851156,1.4528686746331174,1.459158149415079,1.4654476241970404,1.4717370989790022,1.4780265737609637,1.4843160485429252,1.4906055233248867,1.4968949981068482,1.5031844728888097,1.5094739476707715,1.515763422452733,1.5220528972346945,1.528342372016656,1.5346318467986175,1.540921321580579,1.5472107963625406,1.5535002711445023,1.5597897459264638,1.5660792207084253,1.5723686954903868,1.5786581702723483,1.5849476450543099,1.5912371198362716,1.597526594618233,1.6038160694001946,1.6101055441821561,1.6163950189641176,1.6226844937460791,1.6289739685280407,1.6352634433100024,1.641552918091964,1.6478423928739254,1.654131867655887,1.6604213424378484,1.66671081721981,1.6730002920017717,1.6792897667837332,1.6855792415656947,1.6918687163476562,1.6981581911296177,1.7044476659115793,1.7107371406935408,1.7170266154755025,1.723316090257464,1.7296055650394255,1.735895039821387,1.7421845146033486,1.74847398938531,1.7547634641672718,1.7610529389492333,1.7673424137311948,1.7736318885131563,1.7799213632951179,1.7862108380770794,1.792500312859041,1.7987897876410026,1.8050792624229641,1.8113687372049256,1.8176582119868872,1.8239476867688487,1.8302371615508102,1.836526636332772,1.8428161111147334,1.849105585896695,1.8553950606786564,1.861684535460618,1.8679740102425795,1.8742634850245412,1.8805529598065027,1.8868424345884642,1.8931319093704257,1.8994213841523873,1.9057108589343488,1.9120003337163105,1.918289808498272,1.9245792832802335,1.930868758062195,1.9371582328441566,1.943447707626118,1.9497371824080796,1.9560266571900413,1.9623161319720028,1.9686056067539643,1.9748950815359259,1.9811845563178874,1.9874740310998489,1.9937635058818106,2.000052980663772,2.0063424554457336,2.012631930227695,2.0189214050096567,2.025210879791618,2.0315003545735797,2.037789829355541,2.0440793041375027,2.0503687789194642,2.056658253701426,2.0629477284833877,2.069237203265349,2.0755266780473107,2.0818161528292722,2.0881056276112337,2.0943951023931953,2.1006845771751568,2.1069740519571183,2.11326352673908,2.1195530015210413,2.125842476303003,2.1321319510849643,2.1384214258669263,2.144710900648888,2.1510003754308493,2.157289850212811,2.1635793249947723,2.169868799776734,2.1761582745586954,2.182447749340657,2.1887372241226184,2.19502669890458,2.2013161736865414,2.207605648468503,2.213895123250465,2.2201845980324264,2.226474072814388,2.2327635475963494,2.239053022378311,2.2453424971602725,2.251631971942234,2.2579214467241955,2.264210921506157,2.2705003962881185,2.27678987107008,2.2830793458520415,2.289368820634003,2.295658295415965,2.3019477701979265,2.308237244979888,2.3145267197618495,2.320816194543811,2.3271056693257726,2.333395144107734,2.3396846188896956,2.345974093671657,2.3522635684536186,2.35855304323558,2.3648425180175416,2.371131992799503,2.377421467581465,2.3837109423634266,2.390000417145388,2.3962898919273496,2.402579366709311,2.4088688414912727,2.415158316273234,2.4214477910551957,2.427737265837157,2.4340267406191187,2.4403162154010802,2.4466056901830417,2.4528951649650033,2.459184639746965,2.4654741145289267,2.4717635893108882,2.4780530640928498,2.4843425388748113,2.490632013656773,2.4969214884387343,2.503210963220696,2.5095004380026573,2.515789912784619,2.5220793875665803,2.528368862348542,2.5346583371305034,2.5409478119124653,2.547237286694427,2.5535267614763884,2.55981623625835,2.5661057110403114,2.572395185822273,2.5786846606042344,2.584974135386196,2.5912636101681574,2.597553084950119,2.6038425597320805,2.610132034514042,2.6164215092960035,2.6227109840779654,2.629000458859927,2.6352899336418885,2.64157940842385,2.6478688832058115,2.654158357987773,2.6604478327697345,2.666737307551696,2.6730267823336575,2.679316257115619,2.6856057318975806,2.691895206679542,2.698184681461504,2.7044741562434655,2.710763631025427,2.7170531058073886,2.72334258058935,2.7296320553713116,2.735921530153273,2.7422110049352346,2.748500479717196,2.7547899544991576,2.761079429281119,2.7673689040630807,2.773658378845042,2.779947853627004,2.7862373284089657,2.792526803190927,2.7988162779728887,2.80510575275485,2.8113952275368117,2.817684702318773,2.8239741771007347,2.8302636518826962,2.8365531266646578,2.8428426014466193,2.849132076228581,2.8554215510105423,2.8617110257925042,2.8680005005744658,2.8742899753564273,2.880579450138389,2.8868689249203503,2.893158399702312,2.8994478744842733,2.905737349266235,2.9120268240481963,2.918316298830158,2.9246057736121194,2.930895248394081,2.9371847231760424,2.9434741979580044,2.949763672739966,2.9560531475219274,2.962342622303889,2.9686320970858504,2.974921571867812,2.9812110466497734,2.987500521431735,2.9937899962136965,3.000079470995658,3.0063689457776195,3.012658420559581,3.018947895341543,3.0252373701235045,3.031526844905466,3.0378163196874275,3.044105794469389,3.0503952692513505,3.056684744033312,3.0629742188152735,3.069263693597235,3.0755531683791966,3.081842643161158,3.0881321179431196,3.094421592725081,3.100711067507043,3.1070005422890046,3.113290017070966,3.1195794918529276,3.125868966634889,3.1321584414168506,3.138447916198812,3.1447373909807737,3.151026865762735,3.1573163405446967,3.163605815326658,3.1698952901086197,3.176184764890581,3.182474239672543,3.1887637144545047,3.195053189236466,3.2013426640184277,3.207632138800389,3.2139216135823507,3.2202110883643122,3.2265005631462738,3.2327900379282353,3.239079512710197,3.2453689874921583,3.25165846227412,3.2579479370560813,3.2642374118380433,3.270526886620005,3.2768163614019663,3.283105836183928,3.2893953109658893,3.295684785747851,3.3019742605298124,3.308263735311774,3.3145532100937354,3.320842684875697,3.3271321596576584,3.33342163443962,3.3397111092215814,3.3460005840035434,3.352290058785505,3.3585795335674664,3.364869008349428,3.3711584831313894,3.377447957913351,3.3837374326953125,3.390026907477274,3.3963163822592355,3.402605857041197,3.4088953318231585,3.41518480660512,3.4214742813870815,3.4277637561690435,3.434053230951005,3.4403427057329665,3.446632180514928,3.4529216552968895,3.459211130078851,3.4655006048608126,3.471790079642774,3.4780795544247356,3.484369029206697,3.4906585039886586,3.49694797877062,3.503237453552582,3.5095269283345436,3.515816403116505,3.5221058778984666,3.528395352680428,3.5346848274623897,3.540974302244351,3.5472637770263127,3.553553251808274,3.5598427265902357,3.566132201372197,3.5724216761541587,3.5787111509361202,3.585000625718082,3.5912901005000437,3.5975795752820052,3.6038690500639667,3.6101585248459283,3.6164479996278898,3.6227374744098513,3.629026949191813,3.6353164239737743,3.641605898755736,3.6478953735376973,3.654184848319659,3.6604743231016204,3.6667637978835823,3.673053272665544,3.6793427474475053,3.685632222229467,3.6919216970114284,3.69821117179339,3.7045006465753514,3.710790121357313,3.7170795961392744,3.723369070921236,3.7296585457031974,3.735948020485159,3.7422374952671205,3.7485269700490824,3.754816444831044,3.7611059196130054,3.767395394394967,3.7736848691769285,3.77997434395889,3.7862638187408515,3.792553293522813,3.7988427683047745,3.805132243086736,3.8114217178686975,3.817711192650659,3.824000667432621,3.8302901422145825,3.836579616996544,3.8428690917785056,3.849158566560467,3.8554480413424286,3.86173751612439,3.8680269909063516,3.874316465688313,3.8806059404702746,3.886895415252236,3.8931848900341977,3.899474364816159,3.905763839598121,3.9120533143800826,3.918342789162044,3.9246322639440057,3.930921738725967,3.9372112135079287,3.94350068828989,3.9497901630718517,3.9560796378538132,3.9623691126357747,3.9686585874177362,3.9749480621996978,3.9812375369816593,3.9875270117636212,3.9938164865455827,4.000105961327544,4.006395436109505,4.012684910891467,4.018974385673428,4.02526386045539,4.031553335237352,4.037842810019313,4.044132284801275,4.050421759583236,4.056711234365198,4.063000709147159,4.069290183929121,4.075579658711082,4.081869133493044,4.088158608275005,4.094448083056967,4.1007375578389285,4.10702703262089,4.113316507402852,4.119605982184813,4.125895456966775,4.1321849317487365,4.138474406530698,4.1447638813126595,4.1510533560946214,4.1573428308765825,4.1636323056585445,4.1699217804405055,4.1762112552224675,4.182500730004429,4.1887902047863905,4.1950796795683525,4.2013691543503136,4.2076586291322755,4.213948103914237,4.2202375786961985,4.22652705347816,4.232816528260122,4.239106003042083,4.245395477824045,4.251684952606006,4.257974427387968,4.264263902169929,4.270553376951891,4.276842851733853,4.283132326515814,4.289421801297776,4.295711276079737,4.302000750861699,4.30829022564366,4.314579700425622,4.320869175207583,4.327158649989545,4.333448124771506,4.339737599553468,4.346027074335429,4.352316549117391,4.358606023899353,4.364895498681314,4.371184973463276,4.377474448245237,4.383763923027199,4.39005339780916,4.396342872591122,4.402632347373083,4.408921822155045,4.415211296937006,4.421500771718968,4.42779024650093,4.434079721282891,4.440369196064853,4.446658670846814,4.452948145628776,4.459237620410737,4.465527095192699,4.47181656997466,4.478106044756622,4.484395519538583,4.490684994320545,4.496974469102506,4.503263943884468,4.50955341866643,4.515842893448391,4.522132368230353,4.528421843012314,4.534711317794276,4.541000792576237,4.547290267358199,4.55357974214016,4.559869216922122,4.566158691704083,4.572448166486045,4.578737641268006,4.585027116049968,4.59131659083193,4.597606065613891,4.603895540395853,4.610185015177814,4.616474489959776,4.622763964741737,4.629053439523699,4.63534291430566,4.641632389087622,4.647921863869583,4.654211338651545,4.660500813433506,4.666790288215468,4.67307976299743,4.679369237779391,4.685658712561353,4.691948187343314,4.698237662125276,4.704527136907237,4.710816611689199,4.71710608647116,4.723395561253122,4.729685036035083,4.735974510817045,4.742263985599006,4.748553460380968,4.75484293516293,4.761132409944891,4.767421884726853,4.773711359508814,4.780000834290776,4.786290309072737,4.792579783854699,4.79886925863666,4.805158733418622,4.811448208200583,4.817737682982545,4.824027157764506,4.830316632546468,4.83660610732843,4.842895582110391,4.849185056892353,4.855474531674314,4.861764006456276,4.8680534812382374,4.874342956020199,4.8806324308021605,4.886921905584122,4.8932113803660835,4.8995008551480455,4.9057903299300065,4.9120798047119685,4.91836927949393,4.9246587542758915,4.9309482290578535,4.9372377038398145,4.9435271786217765,4.9498166534037376,4.9561061281856995,4.962395602967661,4.9686850777496225,4.974974552531584,4.981264027313546,4.987553502095507,4.993842976877469,5.0001324516594305,5.006421926441392,5.012711401223354,5.019000876005315,5.025290350787277,5.031579825569238,5.0378693003512,5.044158775133161,5.050448249915123,5.056737724697084,5.063027199479046,5.069316674261007,5.075606149042969,5.081895623824931,5.088185098606892,5.094474573388854,5.100764048170815,5.107053522952777,5.113342997734738,5.1196324725167,5.125921947298661,5.132211422080623,5.138500896862584,5.144790371644546,5.151079846426507,5.157369321208469,5.163658795990431,5.169948270772392,5.176237745554354,5.182527220336315,5.188816695118277,5.195106169900238,5.2013956446822,5.207685119464161,5.213974594246123,5.220264069028084,5.226553543810046,5.232843018592007,5.239132493373969,5.245421968155931,5.251711442937892,5.258000917719854,5.264290392501815,5.270579867283777,5.276869342065738,5.2831588168477,5.289448291629661,5.295737766411623,5.302027241193584,5.308316715975546,5.314606190757508,5.320895665539469,5.327185140321431,5.333474615103392,5.339764089885354,5.346053564667315,5.352343039449277,5.358632514231238,5.3649219890132,5.371211463795161,5.377500938577123,5.383790413359084,5.390079888141046,5.396369362923008,5.402658837704969,5.408948312486931,5.415237787268892,5.421527262050854,5.427816736832815,5.434106211614777,5.440395686396738,5.4466851611787,5.452974635960661,5.459264110742623,5.465553585524584,5.471843060306546,5.478132535088508,5.484422009870469,5.490711484652431,5.497000959434392,5.503290434216354,5.509579908998315,5.515869383780277,5.522158858562238,5.5284483333442,5.534737808126161,5.541027282908123,5.547316757690084,5.553606232472046,5.559895707254008,5.566185182035969,5.572474656817931,5.578764131599892,5.585053606381854,5.591343081163815,5.597632555945777,5.603922030727738,5.6102115055097,5.6165009802916614,5.622790455073623,5.6290799298555845,5.635369404637546,5.641658879419508,5.6479483542014695,5.654237828983431,5.6605273037653925,5.666816778547354,5.6731062533293155,5.6793957281112775,5.6856852028932385,5.6919746776752005,5.698264152457162,5.7045536272391235,5.710843102021085,5.7171325768030465,5.7234220515850085,5.72971152636697,5.7360010011489315,5.742290475930893,5.7485799507128545,5.754869425494816,5.761158900276778,5.767448375058739,5.773737849840701,5.780027324622662,5.786316799404624,5.792606274186585,5.798895748968547,5.805185223750509,5.81147469853247,5.817764173314432,5.824053648096393,5.830343122878355,5.836632597660316,5.842922072442278,5.849211547224239,5.855501022006201,5.861790496788162,5.868079971570124,5.874369446352085,5.880658921134047,5.886948395916009,5.89323787069797,5.899527345479932,5.905816820261893,5.912106295043855,5.918395769825816,5.924685244607778,5.930974719389739,5.937264194171701,5.943553668953662,5.949843143735624,5.956132618517585,5.962422093299547,5.968711568081509,5.97500104286347,5.981290517645432,5.987579992427393,5.993869467209355,6.000158941991316,6.006448416773278,6.012737891555239,6.019027366337201,6.025316841119162,6.031606315901124,6.037895790683086,6.044185265465047,6.050474740247009,6.05676421502897,6.063053689810932,6.069343164592893,6.075632639374855,6.081922114156816,6.088211588938778,6.094501063720739,6.100790538502701,6.107080013284662,6.113369488066624,6.119658962848586,6.125948437630547,6.132237912412509,6.13852738719447,6.144816861976432,6.151106336758393,6.157395811540355,6.163685286322316,6.169974761104278,6.176264235886239,6.182553710668201,6.188843185450162,6.195132660232124,6.201422135014086,6.207711609796047,6.214001084578009,6.22029055935997,6.226580034141932,6.232869508923893,6.239158983705855,6.245448458487816,6.251737933269778,6.258027408051739,6.264316882833701,6.270606357615662,6.276895832397624,6.283185307179586],\"xaxis\":\"x\",\"y\":[10.392304845413264,10.466954376233835,10.539947742993224,10.611273396105332,10.68092004986287,10.748876684223063,10.815132546551336,10.879677153322671,10.942500291780405,11.00359202155216,11.0629426762227,11.120542864863419,11.17638347351825,11.230455666645744,11.282750888517107,11.333260864569947,11.381977602717543,11.428893394613416,11.474000816871012,11.517292732238268,11.558762290726952,11.598402930696496,11.63620837989225,11.67217265643792,11.706290069782064,11.738555221598501,11.768963006640476,11.797508613548452,11.824187525611396,11.848995521481466,11.871928675841922,11.892983360028236,11.912156242602244,11.929444289879271,11.944844766408151,11.95835523540404,11.969973559133996,11.979697899255218,11.98752671710593,11.99345877394883,11.997493131167115,11.999629150412963,11.999866493708568,11.998205123499606,11.994645302661167,11.989187594456178,11.981832862446268,11.972582270355137,11.961437281884411,11.948399660482053,11.933471469063331,11.916655069684413,11.897953123168618,11.877368588685401,11.854904723282136,11.83056508136875,11.804353514155324,11.776274169042715,11.746331488966337,11.714530211693155,11.680875369072034,11.645372286237563,11.608026580767483,11.568844161793809,11.527831229067854,11.48499427197925,11.440340068529151,11.393875684257761,11.345608471126361,11.29554606635404,11.243696391209259,11.19006764975649,11.134668327558112,11.077507190331747,11.01859328256329,10.9579359260758,10.895544718554557,10.83142953202841,10.76560051130777,10.698068072379407,10.628842900758354,10.557935949797155,10.485358438952742,10.411121852011215,10.335237935270769,10.257718695683113,10.178576398953629,10.097823567600603,10.015472978973811,9.931537663232778,9.846030901285054,9.7589662226848,9.67035740349203,9.580218464092873,9.488563666981127,9.395407514501557,9.30076474655522,9.204650338267186,9.107079497617068,9.008067663032694,8.907630500947313,8.805783903320735,8.702543985124771,8.597927081793404,8.491949746638058,8.384628748228412,8.275981067739146,8.166023896263033,8.054774632090833,7.942250877958417,7.828470438261492,7.713451316238474,7.597211711121858,7.4797700152586035,7.361144811199946,7.2413548687611184,7.12041914205145,6.998356766475282,6.875187055704242,6.750929498621248,6.625603756236842,6.499229658578281,6.371827201551845,6.243416543778949,6.114018003406481,5.983652054891902,5.8523393257636185,5.7201005933571345,5.5869567815274905,5.4529289573385356,5.318038327729515,5.1823062361595715,5.045754159230576,4.9084037032889505,4.770276601006956,4.631394707943946,4.491779999088228,4.351454565380006,4.21044061021597,4.068760445936107,3.926436490293265,3.783491262906036,3.6399473816955266,3.4958275593065693,3.351154599513965,3.20595139361426,3.0602409168037252,2.9140462245430467,2.7673904489092838,2.620296794935748,2.4727885369403144,2.3248890148427757,2.1766216304718182,2.0280098438621947,1.8790771695426989,1.7298471728155072,1.5803434660274864,1.4305897048340843,1.280609584456312,1.1304268359315155,0.980065222358481,0.8295485351374167,0.6789005902055112,0.5281452242685838,0.37730629102945196,0.22640765741361063,0.07547319979281938,-0.0754731997928058,-0.22640765741359703,-0.3773062910294383,-0.5281452242685809,-0.6789005902055083,-0.8295485351374137,-0.980065222358478,-1.1304268359315126,-1.2806095844563037,-1.430589704834076,-1.5803434660274784,-1.7298471728154938,-1.8790771695426856,-2.0280098438621814,-2.1766216304718045,-2.3248890148427623,-2.4727885369403113,-2.620296794935745,-2.767390448909281,-2.914046224543044,-3.0602409168037226,-3.205951393614252,-3.351154599513957,-3.4958275593065613,-3.6399473816955137,-3.783491262906023,-3.926436490293252,-4.068760445936094,-4.210440610215957,-4.351454565380003,-4.491779999088227,-4.631394707943944,-4.7702766010069535,-4.908403703288948,-5.045754159230568,-5.182306236159564,-5.318038327729508,-5.452928957338523,-5.586956781527479,-5.720100593357122,-5.852339325763607,-5.9836520548918894,-6.114018003406478,-6.243416543778947,-6.371827201551842,-6.499229658578278,-6.625603756236839,-6.750929498621241,-6.8751870557042345,-6.9983567664752755,-7.120419142051439,-7.241354868761108,-7.361144811199935,-7.479770015258593,-7.597211711121856,-7.713451316238471,-7.8284704382614905,-7.942250877958415,-8.054774632090831,-8.166023896263026,-8.275981067739139,-8.384628748228405,-8.49194974663805,-8.597927081793394,-8.702543985124763,-8.805783903320727,-8.907630500947304,-9.008067663032692,-9.107079497617065,-9.204650338267184,-9.300764746555219,-9.395407514501555,-9.488563666981122,-9.580218464092868,-9.670357403492025,-9.75896622268479,-9.846030901285046,-9.931537663232769,-10.015472978973802,-10.097823567600596,-10.178576398953627,-10.257718695683112,-10.335237935270769,-10.411121852011213,-10.48535843895274,-10.557935949797152,-10.62884290075835,-10.698068072379403,-10.765600511307765,-10.831429532028405,-10.89554471855455,-10.957935926075795,-11.018593282563284,-11.077507190331747,-11.13466832755811,-11.19006764975649,-11.243696391209255,-11.295546066354039,-11.34560847112636,-11.393875684257758,-11.44034006852915,-11.484994271979247,-11.52783122906785,-11.568844161793805,-11.60802658076748,-11.64537228623756,-11.680875369072032,-11.714530211693154,-11.746331488966337,-11.776274169042713,-11.80435351415532,-11.830565081368748,-11.854904723282136,-11.8773685886854,-11.897953123168616,-11.916655069684412,-11.93347146906333,-11.948399660482051,-11.961437281884411,-11.972582270355137,-11.981832862446268,-11.989187594456176,-11.994645302661166,-11.998205123499606,-11.999866493708568,-11.999629150412964,-11.997493131167115,-11.993458773948833,-11.98752671710593,-11.97969789925522,-11.969973559133997,-11.958355235404042,-11.944844766408151,-11.929444289879271,-11.912156242602244,-11.892983360028236,-11.871928675841923,-11.848995521481468,-11.824187525611398,-11.797508613548452,-11.768963006640478,-11.738555221598503,-11.706290069782067,-11.672172656437922,-11.636208379892253,-11.598402930696496,-11.558762290726953,-11.51729273223827,-11.474000816871012,-11.42889339461342,-11.381977602717544,-11.333260864569949,-11.282750888517109,-11.230455666645748,-11.176383473518253,-11.120542864863424,-11.062942676222706,-11.003592021552166,-10.94250029178041,-10.879677153322678,-10.81513254655134,-10.748876684223067,-10.680920049862873,-10.611273396105336,-10.539947742993228,-10.46695437623384,-10.392304845413268,-10.316010962168948,-10.23808479832072,-10.158538683960733,-10.077385205502484,-9.994637203689289,-9.910307771562525,-9.824410252389939,-9.736958237554393,-9.64796556440329,-9.557446314059153,-9.465414809191582,-9.371885611751015,-9.27687352066462,-9.180393569494687,-9.082461024059908,-8.983091380019896,-8.882300360423331,-8.780103913220149,-8.676518208738115,-8.571559637124254,-8.465244805751441,-8.357590536590665,-8.248613863549329,-8.138332029776002,-8.02676248493208,-7.913922882430759,-7.799831076643768,-7.68450512007632,-7.567963260510696,-7.450223938118934,-7.331305782545087,-7.211227609957479,-7.090008420071501,-6.967667393143271,-6.844223886934822,-6.719697433651152,-6.59410773684968,-6.467474668322605,-6.339818264952626,-6.21115872554255,-6.08151640761928,-5.950911824212685,-5.819365640609865,-5.686898671085331,-5.553531875607593,-5.419286356522746,-5.284183355215438,-5.1482442487479245,-5.011490546477612,-4.873943886653678,-4.735626032993299,-4.596558871238022,-4.456764405690828,-4.316264755734441,-4.175082152331419,-4.033238934506606,-3.8907575458124657,-3.747660530777879,-3.6039705313410115,-3.459710283266669,-3.3149026125489005,-3.169570431799284,-3.0237367366215118,-2.877424601972842,-2.730657178513,-2.583457688941096,-2.435849424321149,-2.2878557403967883,-2.139500053895726,-1.9908058388245757,-1.841796622754601,-1.6924959830990387,-1.5429275433824314,-1.3931149695027711,-1.243081965986881,-1.0928522722396998,-0.9424496587880462,-0.7918979235194579,-0.6412208879167017,-0.49044239328855244,-0.3395862969974315,-0.18867646868450716,-0.03773678649285238,0.11320886671075484,0.26413660711472364,0.41502255374179986,0.5658428322276592,0.716573578598509,0.8671909430470335,1.0176710937060989,1.1679902204196195,1.3181245385099873,1.4680502925414727,1.6177437600789961,1.7671812554416784,1.9163391334505875,2.065193793170022,2.2137216816419008,2.3618992976124566,2.5097031952507995,2.6571099878587,2.804096351571019,2.950639029046192,3.0967148331461907,3.242300650605373,3.387373445687647,3.531910263831367,3.675888235281386,3.8192845787076966,3.9620766048100347,4.104241719908018,4.245757429516056,4.38660134190262,4.526751171633229,4.66618474309664,4.8048799940136355,4.942814978927901,5.0799678726784006,5.216316973852734,5.351840708220898,5.486517632148935,5.62032643599192,5.753245947465711,5.885255134997039,6.016333111051262,6.146459135437363,6.27561261858962,6.403773124825458,6.530920375578939,6.657034252609395,6.7820948011847015,6.906082233238668,7.0289769305020595,7.1507594476067595,7.2714105151625725,7.390911042806149,7.509242122221664,7.626385030132601,7.742321231264313,7.857032381276811,7.9705003296673596,8.082707122642383,8.193635005958258,8.303266427730543,8.411584041211158,8.518570707533131,8.624209498422456,8.72848369887658,8.831376809809235,8.93287255066102,9.032954861975451,9.131607907940005,9.228816078891795,9.324563993787454,9.418836502636847,9.511618688900208,9.602895871848377,9.692653608885673,9.780877697835137,9.86755417918571,9.952669338300987,10.03620970758931,10.118162068634664,10.198513454288232,10.277251150720144,10.354362699431167,10.42983589922398,10.50365880813375,10.575819745317677,10.646307292903241,10.715110297794816,10.7822178734384,10.84761940154419,10.911304533766659,10.973263193341985,11.033485576682462,11.091962154927696,11.148683675452348,11.20364116333015,11.256825922753986,11.308229538411819,11.357843876818224,11.405661087601334,11.45167360474498,11.495874147785862,11.538255722965504,11.578811624336867,11.617535434825424,11.654421027244513,11.689462565264833,11.722654504337909,11.753991592573396,11.783468871570077,11.811081677200422,11.836825640348573,11.86069668760167,11.88269104189438,11.90280522310652,11.921036048613727,11.937380633791022,11.951836392469252,11.964401037344281,11.975072580338917,11.983849332917476,11.990729906352954,11.995713211946759,11.998798461200987,11.999985165943169,11.999273138403524,11.996662491244665,11.99215363754377,11.985747290727229,11.977444464457756,11.967246472473994,11.955154928382653,11.941171745403194,11.925299136065092,11.907539611857766,11.887895982833182,11.866371357161228,11.842969140637923,11.817693036146498,11.790547043071538,11.76153545666612,11.730662867372233,11.697934160094412,11.663354513426803,11.626929398833797,11.588664579784256,11.548566110839605,11.506640336695797,11.462893891179446,11.417333696198122,11.369966960645163,11.320801179258977,11.26984413143722,11.217103880005816,11.16258876994325,11.10630742706014,11.048268756634357,10.988481942002034,10.926956443104428,10.863701994991166,10.79872860627982,10.732046557572334,10.663666399828273,10.593598952695444,10.521855302797846,10.44844680198154,10.373385065518384,10.29668197026825,10.218349652799741,10.138400507469814,10.056847184462725,9.973702587788324,9.88897987324038,9.802692446314866,9.714853960088938,9.62547831306053,9.534579646949336,9.442172344459085,9.348271027001905,9.252890552384702,9.156046012458328,9.057752730729593,8.958026259936624,8.856882379588075,8.754337093466262,8.65040662709503,8.54510742517231,8.438456148968218,8.330469673688675,8.221165085805382,8.110559680352155,7.9986709581884625,7.885516623230269,7.771114579648728,7.655482929037352,7.5386399675477085,7.420604182994595,7.301394251930606,7.181029036691133,7.0595275824096655,6.936909114004462,6.813193033136499,6.688398915139722,6.562546505923536,6.435655718848588,6.307746631575856,6.178839482889753,6.048954669495906,5.918112742793694,5.786334405624585,5.653640508996217,5.520052048783345,5.385590162405551,5.250276125482866,5.114131348469229,4.977177373264901,4.839435869807783,4.700928632644767,4.56167757748317,4.421704737722999,4.281032260970792,4.139682405535088,3.9976775369047033,3.8550401242097276,3.711792736666421,3.567958040006073,3.423558792888593,3.2786178433015976,3.1331581249450564,2.9872026536027083,2.8407745235001562,2.6938969036508813,2.5465930341900953,2.398886222697667,2.250799840510048,2.1023573190224414,1.953582145981136,1.804497861767235,1.6551280556718486,1.5054963621635487,1.3556264571488814,1.205542054226013,1.0552669009327442,0.9048247749888184,0.7542394805337942,0.6035348443603953,0.45273471214461863,0.3018629446725129,0.15094341406490694,4.408728476930472e-15,-0.1509434140648981,-0.3018629446725041,-0.4527347121446099,-0.6035348443603865,-0.7542394805337854,-0.9048247749888096,-1.0552669009327353,-1.2055420542260045,-1.3556264571488725,-1.5054963621635395,-1.65512805567184,-1.8044978617672263,-1.9535821459811273,-2.102357319022433,-2.250799840510039,-2.398886222697658,-2.546593034190087,-2.693896903650873,-2.8407745235001474,-2.9872026536027,-3.133158124945048,-3.278617843301589,-3.423558792888585,-3.5679580400060646,-3.711792736666413,-3.8550401242097196,-3.9976775369046953,-4.13968240553508,-4.281032260970783,-4.421704737722991,-4.561677577483162,-4.700928632644758,-4.839435869807774,-4.977177373264873,-5.114131348469222,-5.25027612548284,-5.385590162405543,-5.520052048783338,-5.65364050899621,-5.786334405624577,-5.918112742793686,-6.048954669495897,-6.178839482889744,-6.307746631575849,-6.43565571884858,-6.562546505923528,-6.688398915139696,-6.813193033136493,-6.936909114004438,-7.0595275824096575,-7.181029036691127,-7.3013942519306,-7.4206041829945875,-7.538639967547702,-7.655482929037344,-7.771114579648722,-7.885516623230264,-7.998670958188455,-8.110559680352148,-8.22116508580536,-8.330469673688668,-8.438456148968196,-8.545107425172302,-8.650406627095025,-8.754337093466257,-8.85688237958807,-8.95802625993662,-9.057752730729588,-9.15604601245832,-9.252890552384695,-9.348271027001887,-9.44217234445908,-9.534579646949316,-9.625478313060523,-9.714853960088918,-9.802692446314861,-9.888979873240375,-9.97370258778832,-10.056847184462718,-10.13840050746981,-10.218349652799738,-10.296681970268246,-10.373385065518379,-10.448446801981524,-10.521855302797842,-10.59359895269543,-10.66366639982827,-10.73204655757232,-10.798728606279816,-10.863701994991162,-10.926956443104423,-10.988481942002032,-11.048268756634354,-11.106307427060138,-11.162588769943248,-11.217103880005812,-11.269844131437209,-11.320801179258975,-11.369966960645154,-11.417333696198119,-11.462893891179437,-11.506640336695796,-11.548566110839602,-11.588664579784254,-11.626929398833795,-11.663354513426802,-11.69793416009441,-11.730662867372232,-11.761535456666119,-11.79054704307153,-11.817693036146496,-11.842969140637917,-11.866371357161228,-11.887895982833179,-11.907539611857764,-11.92529913606509,-11.94117174540319,-11.955154928382653,-11.967246472473992,-11.977444464457756,-11.985747290727229,-11.99215363754377,-11.996662491244665,-11.999273138403524,-11.999985165943169,-11.998798461200987,-11.995713211946759,-11.990729906352954,-11.983849332917476,-11.975072580338919,-11.964401037344283,-11.951836392469254,-11.937380633791024,-11.921036048613729,-11.902805223106522,-11.882691041894384,-11.860696687601674,-11.836825640348577,-11.811081677200425,-11.783468871570083,-11.7539915925734,-11.72265450433791,-11.689462565264837,-11.654421027244513,-11.617535434825427,-11.578811624336868,-11.53825572296551,-11.495874147785866,-11.45167360474499,-11.405661087601338,-11.357843876818235,-11.308229538411826,-11.256825922753997,-11.203641163330156,-11.148683675452354,-11.091962154927703,-11.033485576682464,-10.973263193341992,-10.91130453376666,-10.847619401544199,-10.782217873438409,-10.715110297794828,-10.64630729290325,-10.575819745317691,-10.503658808133759,-10.429835899223995,-10.354362699431178,-10.277251150720149,-10.198513454288243,-10.118162068634668,-10.03620970758932,-9.952669338300993,-9.86755417918572,-9.780877697835148,-9.69265360888569,-9.602895871848387,-9.511618688900228,-9.418836502636857,-9.324563993787459,-9.228816078891807,-9.13160790794001,-9.032954861975464,-8.932872550661028,-8.831376809809248,-8.728483698876584,-8.624209498422468,-8.518570707533145,-8.41158404121118,-8.30326642773056,-8.193635005958281,-8.082707122642395,-7.970500329667367,-7.8570323812768255,-7.742321231264319,-7.626385030132616,-7.509242122221671,-7.390911042806165,-7.271410515162579,-7.150759447606783,-7.0289769305020755,-6.906082233238692,-6.7820948011847175,-6.657034252609419,-6.530920375578955,-6.403773124825466,-6.275612618589637,-6.146459135437371,-6.01633311105128,-5.885255134997046,-5.753245947465728,-5.620326435991929,-5.486517632148962,-5.351840708220916,-5.216316973852762,-5.079967872678418,-4.942814978927927,-4.804879994013653,-4.666184743096648,-4.526751171633247,-4.386601341902628,-4.2457574295160745,-4.104241719908026,-3.9620766048100524,-3.8192845787077054,-3.675888235281415,-3.5319102638313855,-3.3873734456876754,-3.2423006506053915,-3.096714833146219,-2.9506390290462106,-2.8040963515710273,-2.657109987858719,-2.509703195250808,-2.3618992976124757,-2.2137216816419096,-2.065193793170041,-1.9163391334505961,-1.7671812554417083,-1.6177437600790154,-1.4680502925415027,-1.3181245385100067,-1.1679902204196493,-1.0176710937061184,-0.8671909430470424,-0.7165735785985285,-0.5658428322276681,-0.4150225537418193,-0.2641366071147325,-0.11320886671077429,0.0377367864928329,0.18867646868447707,0.339586296997412,0.49044239328852235,0.6412208879166823,0.7918979235194277,0.9424496587880269,1.0928522722396912,1.2430819659868615,1.3931149695027623,1.5429275433824121,1.6924959830990298,1.8417966227545817,1.9908058388245569,2.1395000538956963,2.287855740396769,2.4358494243211193,2.5834576889410767,2.7306571785129705,2.877424601972823,3.023736736621503,3.1695704317992655,3.3149026125488916,3.4597102832666504,3.603970531341003,3.7476605307778605,3.890757545812447,4.033238934506578,4.1750821523314015,4.316264755734412,4.4567644056908104,4.596558871237995,4.735626032993282,4.873943886653669,5.011490546477593,5.1482442487479165,5.28418335521542,5.419286356522738,5.553531875607575,5.686898671085315,5.819365640609838,5.950911824212668,6.0815164076192545,6.211158725542534,6.339818264952618,6.467474668322589,6.594107736849672,6.719697433651135,6.844223886934816,6.967667393143255,7.090008420071493,7.211227609957463,7.331305782545071,7.450223938118912,7.567963260510682,7.684505120076298,7.799831076643754,7.913922882430752,8.026762484932066,8.138332029775997,8.248613863549316,8.35759053659066,8.465244805751428,8.571559637124249,8.676518208738102,8.780103913220136,8.882300360423312,8.983091380019882,9.082461024059889,9.180393569494672,9.276873520664612,9.371885611751004,9.465414809191577,9.557446314059142,9.647965564403286,9.736958237554381,9.824410252389935,9.910307771562508,9.994637203689278,10.077385205502468,10.158538683960723,10.238084798320703,10.316010962168939,10.392304845413264],\"yaxis\":\"y\",\"type\":\"scatter\"}],                        {\"template\":{\"data\":{\"histogram2dcontour\":[{\"type\":\"histogram2dcontour\",\"colorbar\":{\"outlinewidth\":0,\"ticks\":\"\"},\"colorscale\":[[0.0,\"#0d0887\"],[0.1111111111111111,\"#46039f\"],[0.2222222222222222,\"#7201a8\"],[0.3333333333333333,\"#9c179e\"],[0.4444444444444444,\"#bd3786\"],[0.5555555555555556,\"#d8576b\"],[0.6666666666666666,\"#ed7953\"],[0.7777777777777778,\"#fb9f3a\"],[0.8888888888888888,\"#fdca26\"],[1.0,\"#f0f921\"]]}],\"choropleth\":[{\"type\":\"choropleth\",\"colorbar\":{\"outlinewidth\":0,\"ticks\":\"\"}}],\"histogram2d\":[{\"type\":\"histogram2d\",\"colorbar\":{\"outlinewidth\":0,\"ticks\":\"\"},\"colorscale\":[[0.0,\"#0d0887\"],[0.1111111111111111,\"#46039f\"],[0.2222222222222222,\"#7201a8\"],[0.3333333333333333,\"#9c179e\"],[0.4444444444444444,\"#bd3786\"],[0.5555555555555556,\"#d8576b\"],[0.6666666666666666,\"#ed7953\"],[0.7777777777777778,\"#fb9f3a\"],[0.8888888888888888,\"#fdca26\"],[1.0,\"#f0f921\"]]}],\"heatmap\":[{\"type\":\"heatmap\",\"colorbar\":{\"outlinewidth\":0,\"ticks\":\"\"},\"colorscale\":[[0.0,\"#0d0887\"],[0.1111111111111111,\"#46039f\"],[0.2222222222222222,\"#7201a8\"],[0.3333333333333333,\"#9c179e\"],[0.4444444444444444,\"#bd3786\"],[0.5555555555555556,\"#d8576b\"],[0.6666666666666666,\"#ed7953\"],[0.7777777777777778,\"#fb9f3a\"],[0.8888888888888888,\"#fdca26\"],[1.0,\"#f0f921\"]]}],\"heatmapgl\":[{\"type\":\"heatmapgl\",\"colorbar\":{\"outlinewidth\":0,\"ticks\":\"\"},\"colorscale\":[[0.0,\"#0d0887\"],[0.1111111111111111,\"#46039f\"],[0.2222222222222222,\"#7201a8\"],[0.3333333333333333,\"#9c179e\"],[0.4444444444444444,\"#bd3786\"],[0.5555555555555556,\"#d8576b\"],[0.6666666666666666,\"#ed7953\"],[0.7777777777777778,\"#fb9f3a\"],[0.8888888888888888,\"#fdca26\"],[1.0,\"#f0f921\"]]}],\"contourcarpet\":[{\"type\":\"contourcarpet\",\"colorbar\":{\"outlinewidth\":0,\"ticks\":\"\"}}],\"contour\":[{\"type\":\"contour\",\"colorbar\":{\"outlinewidth\":0,\"ticks\":\"\"},\"colorscale\":[[0.0,\"#0d0887\"],[0.1111111111111111,\"#46039f\"],[0.2222222222222222,\"#7201a8\"],[0.3333333333333333,\"#9c179e\"],[0.4444444444444444,\"#bd3786\"],[0.5555555555555556,\"#d8576b\"],[0.6666666666666666,\"#ed7953\"],[0.7777777777777778,\"#fb9f3a\"],[0.8888888888888888,\"#fdca26\"],[1.0,\"#f0f921\"]]}],\"surface\":[{\"type\":\"surface\",\"colorbar\":{\"outlinewidth\":0,\"ticks\":\"\"},\"colorscale\":[[0.0,\"#0d0887\"],[0.1111111111111111,\"#46039f\"],[0.2222222222222222,\"#7201a8\"],[0.3333333333333333,\"#9c179e\"],[0.4444444444444444,\"#bd3786\"],[0.5555555555555556,\"#d8576b\"],[0.6666666666666666,\"#ed7953\"],[0.7777777777777778,\"#fb9f3a\"],[0.8888888888888888,\"#fdca26\"],[1.0,\"#f0f921\"]]}],\"mesh3d\":[{\"type\":\"mesh3d\",\"colorbar\":{\"outlinewidth\":0,\"ticks\":\"\"}}],\"scatter\":[{\"marker\":{\"line\":{\"color\":\"#283442\"}},\"type\":\"scatter\"}],\"parcoords\":[{\"type\":\"parcoords\",\"line\":{\"colorbar\":{\"outlinewidth\":0,\"ticks\":\"\"}}}],\"scatterpolargl\":[{\"type\":\"scatterpolargl\",\"marker\":{\"colorbar\":{\"outlinewidth\":0,\"ticks\":\"\"}}}],\"bar\":[{\"error_x\":{\"color\":\"#f2f5fa\"},\"error_y\":{\"color\":\"#f2f5fa\"},\"marker\":{\"line\":{\"color\":\"rgb(17,17,17)\",\"width\":0.5},\"pattern\":{\"fillmode\":\"overlay\",\"size\":10,\"solidity\":0.2}},\"type\":\"bar\"}],\"scattergeo\":[{\"type\":\"scattergeo\",\"marker\":{\"colorbar\":{\"outlinewidth\":0,\"ticks\":\"\"}}}],\"scatterpolar\":[{\"type\":\"scatterpolar\",\"marker\":{\"colorbar\":{\"outlinewidth\":0,\"ticks\":\"\"}}}],\"histogram\":[{\"marker\":{\"pattern\":{\"fillmode\":\"overlay\",\"size\":10,\"solidity\":0.2}},\"type\":\"histogram\"}],\"scattergl\":[{\"marker\":{\"line\":{\"color\":\"#283442\"}},\"type\":\"scattergl\"}],\"scatter3d\":[{\"type\":\"scatter3d\",\"line\":{\"colorbar\":{\"outlinewidth\":0,\"ticks\":\"\"}},\"marker\":{\"colorbar\":{\"outlinewidth\":0,\"ticks\":\"\"}}}],\"scattermapbox\":[{\"type\":\"scattermapbox\",\"marker\":{\"colorbar\":{\"outlinewidth\":0,\"ticks\":\"\"}}}],\"scatterternary\":[{\"type\":\"scatterternary\",\"marker\":{\"colorbar\":{\"outlinewidth\":0,\"ticks\":\"\"}}}],\"scattercarpet\":[{\"type\":\"scattercarpet\",\"marker\":{\"colorbar\":{\"outlinewidth\":0,\"ticks\":\"\"}}}],\"carpet\":[{\"aaxis\":{\"endlinecolor\":\"#A2B1C6\",\"gridcolor\":\"#506784\",\"linecolor\":\"#506784\",\"minorgridcolor\":\"#506784\",\"startlinecolor\":\"#A2B1C6\"},\"baxis\":{\"endlinecolor\":\"#A2B1C6\",\"gridcolor\":\"#506784\",\"linecolor\":\"#506784\",\"minorgridcolor\":\"#506784\",\"startlinecolor\":\"#A2B1C6\"},\"type\":\"carpet\"}],\"table\":[{\"cells\":{\"fill\":{\"color\":\"#506784\"},\"line\":{\"color\":\"rgb(17,17,17)\"}},\"header\":{\"fill\":{\"color\":\"#2a3f5f\"},\"line\":{\"color\":\"rgb(17,17,17)\"}},\"type\":\"table\"}],\"barpolar\":[{\"marker\":{\"line\":{\"color\":\"rgb(17,17,17)\",\"width\":0.5},\"pattern\":{\"fillmode\":\"overlay\",\"size\":10,\"solidity\":0.2}},\"type\":\"barpolar\"}],\"pie\":[{\"automargin\":true,\"type\":\"pie\"}]},\"layout\":{\"autotypenumbers\":\"strict\",\"colorway\":[\"#636efa\",\"#EF553B\",\"#00cc96\",\"#ab63fa\",\"#FFA15A\",\"#19d3f3\",\"#FF6692\",\"#B6E880\",\"#FF97FF\",\"#FECB52\"],\"font\":{\"color\":\"#f2f5fa\"},\"hovermode\":\"closest\",\"hoverlabel\":{\"align\":\"left\"},\"paper_bgcolor\":\"rgb(17,17,17)\",\"plot_bgcolor\":\"rgb(17,17,17)\",\"polar\":{\"bgcolor\":\"rgb(17,17,17)\",\"angularaxis\":{\"gridcolor\":\"#506784\",\"linecolor\":\"#506784\",\"ticks\":\"\"},\"radialaxis\":{\"gridcolor\":\"#506784\",\"linecolor\":\"#506784\",\"ticks\":\"\"}},\"ternary\":{\"bgcolor\":\"rgb(17,17,17)\",\"aaxis\":{\"gridcolor\":\"#506784\",\"linecolor\":\"#506784\",\"ticks\":\"\"},\"baxis\":{\"gridcolor\":\"#506784\",\"linecolor\":\"#506784\",\"ticks\":\"\"},\"caxis\":{\"gridcolor\":\"#506784\",\"linecolor\":\"#506784\",\"ticks\":\"\"}},\"coloraxis\":{\"colorbar\":{\"outlinewidth\":0,\"ticks\":\"\"}},\"colorscale\":{\"sequential\":[[0.0,\"#0d0887\"],[0.1111111111111111,\"#46039f\"],[0.2222222222222222,\"#7201a8\"],[0.3333333333333333,\"#9c179e\"],[0.4444444444444444,\"#bd3786\"],[0.5555555555555556,\"#d8576b\"],[0.6666666666666666,\"#ed7953\"],[0.7777777777777778,\"#fb9f3a\"],[0.8888888888888888,\"#fdca26\"],[1.0,\"#f0f921\"]],\"sequentialminus\":[[0.0,\"#0d0887\"],[0.1111111111111111,\"#46039f\"],[0.2222222222222222,\"#7201a8\"],[0.3333333333333333,\"#9c179e\"],[0.4444444444444444,\"#bd3786\"],[0.5555555555555556,\"#d8576b\"],[0.6666666666666666,\"#ed7953\"],[0.7777777777777778,\"#fb9f3a\"],[0.8888888888888888,\"#fdca26\"],[1.0,\"#f0f921\"]],\"diverging\":[[0,\"#8e0152\"],[0.1,\"#c51b7d\"],[0.2,\"#de77ae\"],[0.3,\"#f1b6da\"],[0.4,\"#fde0ef\"],[0.5,\"#f7f7f7\"],[0.6,\"#e6f5d0\"],[0.7,\"#b8e186\"],[0.8,\"#7fbc41\"],[0.9,\"#4d9221\"],[1,\"#276419\"]]},\"xaxis\":{\"gridcolor\":\"#283442\",\"linecolor\":\"#506784\",\"ticks\":\"\",\"title\":{\"standoff\":15},\"zerolinecolor\":\"#283442\",\"automargin\":true,\"zerolinewidth\":2},\"yaxis\":{\"gridcolor\":\"#283442\",\"linecolor\":\"#506784\",\"ticks\":\"\",\"title\":{\"standoff\":15},\"zerolinecolor\":\"#283442\",\"automargin\":true,\"zerolinewidth\":2},\"scene\":{\"xaxis\":{\"backgroundcolor\":\"rgb(17,17,17)\",\"gridcolor\":\"#506784\",\"linecolor\":\"#506784\",\"showbackground\":true,\"ticks\":\"\",\"zerolinecolor\":\"#C8D4E3\",\"gridwidth\":2},\"yaxis\":{\"backgroundcolor\":\"rgb(17,17,17)\",\"gridcolor\":\"#506784\",\"linecolor\":\"#506784\",\"showbackground\":true,\"ticks\":\"\",\"zerolinecolor\":\"#C8D4E3\",\"gridwidth\":2},\"zaxis\":{\"backgroundcolor\":\"rgb(17,17,17)\",\"gridcolor\":\"#506784\",\"linecolor\":\"#506784\",\"showbackground\":true,\"ticks\":\"\",\"zerolinecolor\":\"#C8D4E3\",\"gridwidth\":2}},\"shapedefaults\":{\"line\":{\"color\":\"#f2f5fa\"}},\"annotationdefaults\":{\"arrowcolor\":\"#f2f5fa\",\"arrowhead\":0,\"arrowwidth\":1},\"geo\":{\"bgcolor\":\"rgb(17,17,17)\",\"landcolor\":\"rgb(17,17,17)\",\"subunitcolor\":\"#506784\",\"showland\":true,\"showlakes\":true,\"lakecolor\":\"rgb(17,17,17)\"},\"title\":{\"x\":0.05},\"updatemenudefaults\":{\"bgcolor\":\"#506784\",\"borderwidth\":0},\"sliderdefaults\":{\"bgcolor\":\"#C8D4E3\",\"borderwidth\":1,\"bordercolor\":\"rgb(17,17,17)\",\"tickwidth\":0},\"mapbox\":{\"style\":\"dark\"}}},\"xaxis\":{\"anchor\":\"y\",\"domain\":[0.0,1.0],\"title\":{\"text\":\"x\"}},\"yaxis\":{\"anchor\":\"x\",\"domain\":[0.0,1.0],\"title\":{\"text\":\"12sin(2x+\\u03c0/3)\"}},\"legend\":{\"tracegroupgap\":0},\"title\":{\"text\":\"\\u0413\\u0440\\u0430\\u0444\\u0456\\u043a \\u0444\\u0443\\u043d\\u043a\\u0446\\u0456\\u0457 y = 12sin(2x+\\u03c0/3)\",\"x\":0.5}},                        {\"responsive\": true}                    ).then(function(){\n                            \nvar gd = document.getElementById('f593d320-935e-4345-89e1-c97f9a01bfb0');\nvar x = new MutationObserver(function (mutations, observer) {{\n        var display = window.getComputedStyle(gd).display;\n        if (!display || display === 'none') {{\n            console.log([gd, 'removed!']);\n            Plotly.purge(gd);\n            observer.disconnect();\n        }}\n}});\n\n// Listen for the removal of the full notebook cells\nvar notebookContainer = gd.closest('#notebook-container');\nif (notebookContainer) {{\n    x.observe(notebookContainer, {childList: true});\n}}\n\n// Listen for the clearing of the current output cell\nvar outputEl = gd.closest('.output');\nif (outputEl) {{\n    x.observe(outputEl, {childList: true});\n}}\n\n                        })                };                });            </script>        </div>"
     },
     "metadata": {},
     "output_type": "display_data"
    }
   ],
   "source": [
    "x = np.linspace(0, 2 * np.pi, 1000)\n",
    "y = 12 * np.sin(2 * x + np.pi/3)\n",
    "\n",
    "fig = px.line(x=x,\n",
    "              y=y,\n",
    "              labels={'x':'x', 'y':'12sin(2x+π/3)'},\n",
    "              title='Графік функції y = 12sin(2x+π/3)')\n",
    "fig.update_layout(title_x=0.5)\n",
    "fig.show()"
   ],
   "metadata": {
    "collapsed": false
   }
  },
  {
   "cell_type": "markdown",
   "source": [
    "3. На проміжку [−2π;2π]\n",
    " функція\n",
    "y=2tg(12x+πy)\n",
    "y=2tg12x+𝜋y\n"
   ],
   "metadata": {
    "collapsed": false
   }
  },
  {
   "cell_type": "code",
   "execution_count": 62,
   "outputs": [
    {
     "data": {
      "application/vnd.plotly.v1+json": {
       "data": [
        {
         "hovertemplate": "x=%{x}<br>2tan(12x+π/y)=%{y}<extra></extra>",
         "legendgroup": "",
         "line": {
          "color": "#636efa",
          "dash": "solid"
         },
         "marker": {
          "symbol": "circle"
         },
         "mode": "lines",
         "name": "",
         "orientation": "v",
         "showlegend": false,
         "x": [
          -6.283185307179586,
          -6.270606357615663,
          -6.25802740805174,
          -6.245448458487817,
          -6.232869508923894,
          -6.220290559359971,
          -6.207711609796048,
          -6.195132660232124,
          -6.182553710668201,
          -6.169974761104278,
          -6.157395811540355,
          -6.144816861976432,
          -6.132237912412509,
          -6.119658962848586,
          -6.107080013284663,
          -6.09450106372074,
          -6.081922114156817,
          -6.069343164592894,
          -6.056764215028971,
          -6.044185265465048,
          -6.031606315901124,
          -6.019027366337201,
          -6.006448416773278,
          -5.993869467209355,
          -5.981290517645432,
          -5.968711568081509,
          -5.956132618517586,
          -5.943553668953663,
          -5.93097471938974,
          -5.918395769825817,
          -5.905816820261894,
          -5.893237870697971,
          -5.880658921134048,
          -5.868079971570124,
          -5.855501022006201,
          -5.842922072442278,
          -5.830343122878355,
          -5.817764173314432,
          -5.805185223750509,
          -5.792606274186586,
          -5.7800273246226626,
          -5.7674483750587395,
          -5.7548694254948165,
          -5.7422904759308935,
          -5.72971152636697,
          -5.717132576803047,
          -5.7045536272391235,
          -5.6919746776752005,
          -5.6793957281112775,
          -5.666816778547354,
          -5.654237828983431,
          -5.641658879419508,
          -5.629079929855585,
          -5.616500980291662,
          -5.603922030727739,
          -5.591343081163816,
          -5.578764131599893,
          -5.566185182035969,
          -5.553606232472047,
          -5.541027282908123,
          -5.5284483333442,
          -5.515869383780277,
          -5.503290434216354,
          -5.490711484652431,
          -5.478132535088508,
          -5.465553585524585,
          -5.452974635960662,
          -5.440395686396739,
          -5.427816736832816,
          -5.415237787268893,
          -5.402658837704969,
          -5.390079888141047,
          -5.377500938577123,
          -5.3649219890132,
          -5.352343039449277,
          -5.339764089885354,
          -5.327185140321431,
          -5.314606190757508,
          -5.302027241193585,
          -5.289448291629662,
          -5.276869342065739,
          -5.264290392501816,
          -5.251711442937893,
          -5.239132493373969,
          -5.226553543810047,
          -5.213974594246123,
          -5.2013956446822,
          -5.188816695118277,
          -5.176237745554354,
          -5.163658795990431,
          -5.151079846426508,
          -5.138500896862585,
          -5.125921947298662,
          -5.113342997734739,
          -5.100764048170816,
          -5.088185098606893,
          -5.075606149042969,
          -5.063027199479047,
          -5.050448249915123,
          -5.0378693003512,
          -5.025290350787277,
          -5.012711401223354,
          -5.0001324516594305,
          -4.9875535020955075,
          -4.9749745525315845,
          -4.9623956029676615,
          -4.949816653403738,
          -4.937237703839815,
          -4.924658754275892,
          -4.9120798047119685,
          -4.899500855148046,
          -4.886921905584122,
          -4.874342956020199,
          -4.861764006456276,
          -4.849185056892353,
          -4.83660610732843,
          -4.824027157764507,
          -4.811448208200584,
          -4.798869258636661,
          -4.786290309072738,
          -4.773711359508814,
          -4.761132409944892,
          -4.748553460380968,
          -4.735974510817046,
          -4.723395561253122,
          -4.710816611689199,
          -4.698237662125276,
          -4.685658712561353,
          -4.67307976299743,
          -4.660500813433507,
          -4.647921863869584,
          -4.635342914305661,
          -4.622763964741738,
          -4.610185015177814,
          -4.597606065613892,
          -4.585027116049968,
          -4.572448166486046,
          -4.559869216922122,
          -4.547290267358199,
          -4.534711317794276,
          -4.522132368230353,
          -4.50955341866643,
          -4.496974469102507,
          -4.484395519538584,
          -4.471816569974661,
          -4.459237620410738,
          -4.446658670846814,
          -4.434079721282892,
          -4.421500771718968,
          -4.408921822155045,
          -4.396342872591122,
          -4.383763923027199,
          -4.371184973463276,
          -4.358606023899353,
          -4.34602707433543,
          -4.333448124771507,
          -4.320869175207584,
          -4.308290225643661,
          -4.295711276079738,
          -4.283132326515814,
          -4.2705533769518915,
          -4.257974427387968,
          -4.2453954778240455,
          -4.232816528260122,
          -4.2202375786961985,
          -4.2076586291322755,
          -4.1950796795683525,
          -4.1825007300044295,
          -4.169921780440506,
          -4.157342830876583,
          -4.1447638813126595,
          -4.132184931748737,
          -4.119605982184813,
          -4.107027032620891,
          -4.094448083056967,
          -4.081869133493045,
          -4.069290183929121,
          -4.056711234365198,
          -4.044132284801275,
          -4.031553335237352,
          -4.018974385673429,
          -4.006395436109506,
          -3.993816486545583,
          -3.9812375369816597,
          -3.9686585874177367,
          -3.9560796378538137,
          -3.9435006882898906,
          -3.9309217387259676,
          -3.9183427891620446,
          -3.905763839598121,
          -3.893184890034198,
          -3.880605940470275,
          -3.868026990906352,
          -3.855448041342429,
          -3.842869091778506,
          -3.830290142214583,
          -3.8177111926506595,
          -3.8051322430867365,
          -3.7925532935228135,
          -3.7799743439588904,
          -3.7673953943949674,
          -3.7548164448310444,
          -3.742237495267121,
          -3.729658545703198,
          -3.717079596139275,
          -3.704500646575352,
          -3.691921697011429,
          -3.679342747447506,
          -3.6667637978835828,
          -3.6541848483196593,
          -3.6416058987557363,
          -3.6290269491918132,
          -3.61644799962789,
          -3.603869050063967,
          -3.591290100500044,
          -3.5787111509361207,
          -3.5661322013721977,
          -3.5535532518082746,
          -3.5409743022443516,
          -3.5283953526804286,
          -3.5158164031165056,
          -3.503237453552582,
          -3.490658503988659,
          -3.478079554424736,
          -3.465500604860813,
          -3.45292165529689,
          -3.440342705732967,
          -3.427763756169044,
          -3.4151848066051205,
          -3.4026058570411974,
          -3.3900269074772744,
          -3.3774479579133514,
          -3.3648690083494284,
          -3.3522900587855053,
          -3.339711109221582,
          -3.327132159657659,
          -3.314553210093736,
          -3.301974260529813,
          -3.2893953109658898,
          -3.2768163614019667,
          -3.2642374118380433,
          -3.2516584622741203,
          -3.2390795127101972,
          -3.226500563146274,
          -3.213921613582351,
          -3.201342664018428,
          -3.188763714454505,
          -3.1761847648905817,
          -3.1636058153266586,
          -3.1510268657627356,
          -3.1384479161988126,
          -3.1258689666348896,
          -3.1132900170709665,
          -3.100711067507043,
          -3.08813211794312,
          -3.075553168379197,
          -3.062974218815274,
          -3.050395269251351,
          -3.037816319687428,
          -3.025237370123505,
          -3.0126584205595814,
          -3.0000794709956584,
          -2.9875005214317354,
          -2.9749215718678124,
          -2.9623426223038893,
          -2.9497636727399663,
          -2.937184723176043,
          -2.92460577361212,
          -2.912026824048197,
          -2.8994478744842738,
          -2.8868689249203507,
          -2.8742899753564277,
          -2.8617110257925047,
          -2.8491320762285812,
          -2.836553126664658,
          -2.823974177100735,
          -2.811395227536812,
          -2.798816277972889,
          -2.786237328408966,
          -2.7736583788450426,
          -2.7610794292811196,
          -2.7485004797171966,
          -2.7359215301532736,
          -2.7233425805893505,
          -2.7107636310254275,
          -2.698184681461504,
          -2.685605731897581,
          -2.673026782333658,
          -2.660447832769735,
          -2.647868883205812,
          -2.635289933641889,
          -2.622710984077966,
          -2.6101320345140424,
          -2.5975530849501194,
          -2.5849741353861964,
          -2.5723951858222733,
          -2.5598162362583503,
          -2.5472372866944273,
          -2.534658337130504,
          -2.522079387566581,
          -2.5095004380026578,
          -2.4969214884387347,
          -2.4843425388748117,
          -2.4717635893108887,
          -2.459184639746965,
          -2.446605690183042,
          -2.434026740619119,
          -2.421447791055196,
          -2.408868841491273,
          -2.39628989192735,
          -2.383710942363427,
          -2.3711319927995036,
          -2.3585530432355806,
          -2.3459740936716575,
          -2.3333951441077345,
          -2.3208161945438115,
          -2.3082372449798885,
          -2.295658295415965,
          -2.283079345852042,
          -2.270500396288119,
          -2.257921446724196,
          -2.245342497160273,
          -2.23276354759635,
          -2.220184598032427,
          -2.207605648468504,
          -2.195026698904581,
          -2.1824477493406578,
          -2.169868799776734,
          -2.157289850212811,
          -2.144710900648888,
          -2.132131951084965,
          -2.1195530015210418,
          -2.1069740519571187,
          -2.0943951023931957,
          -2.0818161528292727,
          -2.0692372032653497,
          -2.0566582537014266,
          -2.0440793041375036,
          -2.0315003545735806,
          -2.0189214050096576,
          -2.0063424554457336,
          -1.9937635058818106,
          -1.9811845563178876,
          -1.9686056067539646,
          -1.9560266571900415,
          -1.9434477076261185,
          -1.9308687580621955,
          -1.9182898084982725,
          -1.9057108589343494,
          -1.8931319093704264,
          -1.8805529598065034,
          -1.8679740102425804,
          -1.8553950606786564,
          -1.8428161111147334,
          -1.8302371615508104,
          -1.8176582119868874,
          -1.8050792624229643,
          -1.7925003128590413,
          -1.7799213632951183,
          -1.7673424137311953,
          -1.7547634641672722,
          -1.7421845146033492,
          -1.7296055650394262,
          -1.7170266154755032,
          -1.7044476659115801,
          -1.6918687163476562,
          -1.6792897667837332,
          -1.6667108172198102,
          -1.6541318676558872,
          -1.6415529180919641,
          -1.628973968528041,
          -1.616395018964118,
          -1.603816069400195,
          -1.591237119836272,
          -1.578658170272349,
          -1.566079220708426,
          -1.553500271144503,
          -1.54092132158058,
          -1.528342372016656,
          -1.515763422452733,
          -1.50318447288881,
          -1.490605523324887,
          -1.478026573760964,
          -1.4654476241970409,
          -1.4528686746331179,
          -1.4402897250691948,
          -1.4277107755052718,
          -1.4151318259413488,
          -1.4025528763774258,
          -1.3899739268135027,
          -1.3773949772495797,
          -1.3648160276856558,
          -1.3522370781217328,
          -1.3396581285578097,
          -1.3270791789938867,
          -1.3145002294299637,
          -1.3019212798660407,
          -1.2893423303021176,
          -1.2767633807381946,
          -1.2641844311742716,
          -1.2516054816103486,
          -1.2390265320464255,
          -1.2264475824825025,
          -1.2138686329185795,
          -1.2012896833546556,
          -1.1887107337907326,
          -1.1761317842268095,
          -1.1635528346628865,
          -1.1509738850989635,
          -1.1383949355350405,
          -1.1258159859711174,
          -1.1132370364071944,
          -1.1006580868432714,
          -1.0880791372793484,
          -1.0755001877154253,
          -1.0629212381515023,
          -1.0503422885875793,
          -1.0377633390236554,
          -1.0251843894597323,
          -1.0126054398958093,
          -1.0000264903318863,
          -0.9874475407679633,
          -0.9748685912040402,
          -0.9622896416401172,
          -0.9497106920761942,
          -0.9371317425122712,
          -0.9245527929483481,
          -0.9119738433844251,
          -0.8993948938205021,
          -0.8868159442565782,
          -0.8742369946926551,
          -0.8616580451287321,
          -0.8490790955648091,
          -0.8365001460008861,
          -0.823921196436963,
          -0.81134224687304,
          -0.798763297309117,
          -0.786184347745194,
          -0.7736053981812709,
          -0.7610264486173479,
          -0.7484474990534249,
          -0.7358685494895019,
          -0.723289599925578,
          -0.7107106503616549,
          -0.6981317007977319,
          -0.6855527512338089,
          -0.6729738016698859,
          -0.6603948521059628,
          -0.6478159025420398,
          -0.6352369529781168,
          -0.6226580034141938,
          -0.6100790538502707,
          -0.5975001042863477,
          -0.5849211547224247,
          -0.5723422051585016,
          -0.5597632555945777,
          -0.5471843060306547,
          -0.5346053564667317,
          -0.5220264069028087,
          -0.5094474573388856,
          -0.4968685077749626,
          -0.4842895582110396,
          -0.47171060864711656,
          -0.45913165908319353,
          -0.4465527095192705,
          -0.4339737599553475,
          -0.42139481039142446,
          -0.40881586082750143,
          -0.3962369112635775,
          -0.3836579616996545,
          -0.37107901213573147,
          -0.35850006257180844,
          -0.3459211130078854,
          -0.3333421634439624,
          -0.32076321388003937,
          -0.30818426431611634,
          -0.2956053147521933,
          -0.2830263651882703,
          -0.27044741562434726,
          -0.25786846606042424,
          -0.24528951649650033,
          -0.2327105669325773,
          -0.22013161736865428,
          -0.20755266780473125,
          -0.19497371824080822,
          -0.1823947686768852,
          -0.16981581911296217,
          -0.15723686954903915,
          -0.14465791998511612,
          -0.1320789704211931,
          -0.11950002085727007,
          -0.10692107129334705,
          -0.09434212172942402,
          -0.08176317216550011,
          -0.06918422260157708,
          -0.05660527303765406,
          -0.04402632347373103,
          -0.03144737390980801,
          -0.018868424345884982,
          -0.006289474781961957,
          0.006289474781961069,
          0.018868424345884094,
          0.03144737390980712,
          0.044026323473730145,
          0.05660527303765317,
          0.0691842226015762,
          0.08176317216550011,
          0.09434212172942313,
          0.10692107129334616,
          0.11950002085726918,
          0.1320789704211922,
          0.14465791998511524,
          0.15723686954903826,
          0.16981581911296129,
          0.1823947686768843,
          0.19497371824080734,
          0.20755266780473036,
          0.2201316173686534,
          0.2327105669325764,
          0.24528951649650033,
          0.25786846606042335,
          0.2704474156243464,
          0.2830263651882694,
          0.2956053147521924,
          0.30818426431611545,
          0.3207632138800385,
          0.3333421634439615,
          0.34592111300788453,
          0.35850006257180755,
          0.3710790121357306,
          0.3836579616996536,
          0.39623691126357663,
          0.40881586082750054,
          0.42139481039142357,
          0.4339737599553466,
          0.4465527095192696,
          0.45913165908319264,
          0.47171060864711567,
          0.4842895582110387,
          0.4968685077749617,
          0.5094474573388847,
          0.5220264069028078,
          0.5346053564667308,
          0.5471843060306538,
          0.5597632555945768,
          0.5723422051585008,
          0.5849211547224238,
          0.5975001042863468,
          0.6100790538502698,
          0.6226580034141929,
          0.6352369529781159,
          0.6478159025420389,
          0.6603948521059619,
          0.672973801669885,
          0.685552751233808,
          0.698131700797731,
          0.710710650361654,
          0.723289599925578,
          0.735868549489501,
          0.748447499053424,
          0.761026448617347,
          0.77360539818127,
          0.7861843477451931,
          0.7987632973091161,
          0.8113422468730391,
          0.8239211964369622,
          0.8365001460008852,
          0.8490790955648082,
          0.8616580451287312,
          0.8742369946926543,
          0.8868159442565782,
          0.8993948938205012,
          0.9119738433844242,
          0.9245527929483472,
          0.9371317425122703,
          0.9497106920761933,
          0.9622896416401163,
          0.9748685912040393,
          0.9874475407679624,
          1.0000264903318854,
          1.0126054398958084,
          1.0251843894597314,
          1.0377633390236545,
          1.0503422885875784,
          1.0629212381515014,
          1.0755001877154244,
          1.0880791372793475,
          1.1006580868432705,
          1.1132370364071935,
          1.1258159859711165,
          1.1383949355350396,
          1.1509738850989626,
          1.1635528346628856,
          1.1761317842268086,
          1.1887107337907317,
          1.2012896833546547,
          1.2138686329185786,
          1.2264475824825016,
          1.2390265320464247,
          1.2516054816103477,
          1.2641844311742707,
          1.2767633807381937,
          1.2893423303021168,
          1.3019212798660398,
          1.3145002294299628,
          1.3270791789938858,
          1.3396581285578089,
          1.3522370781217319,
          1.3648160276856558,
          1.3773949772495788,
          1.3899739268135018,
          1.4025528763774249,
          1.415131825941348,
          1.427710775505271,
          1.440289725069194,
          1.452868674633117,
          1.46544762419704,
          1.478026573760963,
          1.490605523324886,
          1.503184472888809,
          1.515763422452732,
          1.528342372016656,
          1.540921321580579,
          1.553500271144502,
          1.566079220708425,
          1.5786581702723481,
          1.5912371198362711,
          1.6038160694001942,
          1.6163950189641172,
          1.6289739685280402,
          1.6415529180919632,
          1.6541318676558863,
          1.6667108172198093,
          1.6792897667837323,
          1.6918687163476562,
          1.7044476659115793,
          1.7170266154755023,
          1.7296055650394244,
          1.7421845146033483,
          1.7547634641672705,
          1.7673424137311944,
          1.7799213632951183,
          1.7925003128590404,
          1.8050792624229643,
          1.8176582119868865,
          1.8302371615508104,
          1.8428161111147325,
          1.8553950606786564,
          1.8679740102425786,
          1.8805529598065025,
          1.8931319093704246,
          1.9057108589343486,
          1.9182898084982707,
          1.9308687580621946,
          1.9434477076261185,
          1.9560266571900407,
          1.9686056067539646,
          1.9811845563178867,
          1.9937635058818106,
          2.0063424554457328,
          2.0189214050096567,
          2.031500354573579,
          2.0440793041375027,
          2.056658253701425,
          2.0692372032653488,
          2.081816152829271,
          2.094395102393195,
          2.1069740519571187,
          2.119553001521041,
          2.132131951084965,
          2.144710900648887,
          2.157289850212811,
          2.169868799776733,
          2.182447749340657,
          2.195026698904579,
          2.207605648468503,
          2.220184598032425,
          2.232763547596349,
          2.245342497160271,
          2.257921446724195,
          2.270500396288119,
          2.283079345852041,
          2.295658295415965,
          2.308237244979887,
          2.320816194543811,
          2.333395144107733,
          2.345974093671657,
          2.3585530432355792,
          2.371131992799503,
          2.3837109423634253,
          2.396289891927349,
          2.4088688414912713,
          2.4214477910551953,
          2.434026740619119,
          2.4466056901830413,
          2.459184639746965,
          2.4717635893108874,
          2.4843425388748113,
          2.4969214884387334,
          2.5095004380026573,
          2.5220793875665795,
          2.5346583371305034,
          2.5472372866944255,
          2.5598162362583494,
          2.5723951858222733,
          2.5849741353861955,
          2.5975530849501194,
          2.6101320345140415,
          2.6227109840779654,
          2.6352899336418876,
          2.6478688832058115,
          2.6604478327697336,
          2.6730267823336575,
          2.6856057318975797,
          2.6981846814615036,
          2.7107636310254257,
          2.7233425805893496,
          2.7359215301532736,
          2.7485004797171957,
          2.7610794292811196,
          2.7736583788450417,
          2.7862373284089657,
          2.798816277972888,
          2.8113952275368117,
          2.823974177100734,
          2.8365531266646578,
          2.84913207622858,
          2.861711025792504,
          2.874289975356426,
          2.88686892492035,
          2.8994478744842738,
          2.912026824048196,
          2.92460577361212,
          2.937184723176042,
          2.949763672739966,
          2.962342622303888,
          2.974921571867812,
          2.987500521431734,
          3.000079470995658,
          3.01265842055958,
          3.025237370123504,
          3.037816319687426,
          3.05039526925135,
          3.062974218815274,
          3.075553168379196,
          3.08813211794312,
          3.100711067507042,
          3.113290017070966,
          3.1258689666348882,
          3.138447916198812,
          3.1510268657627343,
          3.163605815326658,
          3.1761847648905803,
          3.1887637144545042,
          3.2013426640184264,
          3.2139216135823503,
          3.226500563146274,
          3.2390795127101963,
          3.2516584622741203,
          3.2642374118380424,
          3.2768163614019663,
          3.2893953109658884,
          3.3019742605298124,
          3.3145532100937345,
          3.3271321596576584,
          3.3397111092215805,
          3.3522900587855045,
          3.3648690083494266,
          3.3774479579133505,
          3.3900269074772744,
          3.4026058570411966,
          3.4151848066051205,
          3.4277637561690426,
          3.4403427057329665,
          3.4529216552968887,
          3.4655006048608126,
          3.4780795544247347,
          3.4906585039886586,
          3.5032374535525808,
          3.5158164031165047,
          3.528395352680427,
          3.5409743022443507,
          3.5535532518082746,
          3.5661322013721968,
          3.5787111509361207,
          3.591290100500043,
          3.6038690500639667,
          3.616447999627889,
          3.629026949191813,
          3.641605898755735,
          3.654184848319659,
          3.666763797883581,
          3.679342747447505,
          3.691921697011427,
          3.704500646575351,
          3.717079596139275,
          3.729658545703197,
          3.742237495267121,
          3.754816444831043,
          3.767395394394967,
          3.779974343958889,
          3.792553293522813,
          3.805132243086735,
          3.817711192650659,
          3.830290142214581,
          3.842869091778505,
          3.8554480413424272,
          3.868026990906351,
          3.880605940470275,
          3.893184890034197,
          3.905763839598121,
          3.9183427891620433,
          3.930921738725967,
          3.9435006882898893,
          3.9560796378538132,
          3.9686585874177354,
          3.9812375369816593,
          3.9938164865455814,
          4.006395436109505,
          4.0189743856734275,
          4.031553335237351,
          4.044132284801275,
          4.056711234365197,
          4.069290183929121,
          4.0818691334930435,
          4.094448083056967,
          4.1070270326208895,
          4.119605982184813,
          4.132184931748736,
          4.1447638813126595,
          4.157342830876582,
          4.1699217804405055,
          4.182500730004428,
          4.195079679568352,
          4.2076586291322755,
          4.220237578696198,
          4.232816528260122,
          4.245395477824044,
          4.257974427387968,
          4.27055337695189,
          4.283132326515814,
          4.295711276079736,
          4.30829022564366,
          4.320869175207582,
          4.333448124771506,
          4.34602707433543,
          4.358606023899352,
          4.371184973463276,
          4.383763923027198,
          4.396342872591122,
          4.408921822155044,
          4.421500771718968,
          4.43407972128289,
          4.446658670846814,
          4.459237620410736,
          4.47181656997466,
          4.484395519538582,
          4.496974469102506,
          4.50955341866643,
          4.522132368230352,
          4.534711317794276,
          4.547290267358198,
          4.559869216922122,
          4.572448166486044,
          4.585027116049968,
          4.59760606561389,
          4.610185015177814,
          4.622763964741736,
          4.63534291430566,
          4.647921863869582,
          4.660500813433506,
          4.67307976299743,
          4.685658712561352,
          4.698237662125276,
          4.710816611689198,
          4.723395561253122,
          4.735974510817044,
          4.748553460380968,
          4.76113240994489,
          4.773711359508814,
          4.7862903090727364,
          4.79886925863666,
          4.8114482082005825,
          4.824027157764506,
          4.83660610732843,
          4.8491850568923525,
          4.861764006456276,
          4.8743429560201985,
          4.886921905584122,
          4.899500855148045,
          4.9120798047119685,
          4.924658754275891,
          4.9372377038398145,
          4.949816653403737,
          4.962395602967661,
          4.974974552531583,
          4.987553502095507,
          5.0001324516594305,
          5.012711401223353,
          5.025290350787277,
          5.037869300351199,
          5.050448249915123,
          5.063027199479045,
          5.075606149042969,
          5.088185098606891,
          5.100764048170815,
          5.113342997734737,
          5.125921947298661,
          5.138500896862583,
          5.151079846426507,
          5.163658795990431,
          5.176237745554353,
          5.188816695118277,
          5.201395644682199,
          5.213974594246123,
          5.226553543810045,
          5.239132493373969,
          5.251711442937891,
          5.264290392501815,
          5.276869342065737,
          5.289448291629661,
          5.302027241193583,
          5.314606190757507,
          5.327185140321431,
          5.339764089885353,
          5.352343039449277,
          5.364921989013199,
          5.377500938577123,
          5.390079888141045,
          5.402658837704969,
          5.415237787268891,
          5.427816736832815,
          5.440395686396737,
          5.452974635960661,
          5.465553585524583,
          5.478132535088507,
          5.490711484652431,
          5.503290434216353,
          5.515869383780277,
          5.528448333344199,
          5.541027282908123,
          5.553606232472045,
          5.566185182035969,
          5.5787641315998915,
          5.591343081163815,
          5.6039220307277375,
          5.6165009802916614,
          5.629079929855584,
          5.6416588794195075,
          5.654237828983431,
          5.6668167785473536,
          5.6793957281112775,
          5.6919746776752,
          5.7045536272391235,
          5.717132576803046,
          5.72971152636697,
          5.742290475930892,
          5.754869425494816,
          5.767448375058738,
          5.780027324622662,
          5.792606274186586,
          5.805185223750508,
          5.817764173314432,
          5.830343122878354,
          5.842922072442278,
          5.8555010220062,
          5.868079971570124,
          5.880658921134046,
          5.89323787069797,
          5.905816820261892,
          5.918395769825816,
          5.930974719389738,
          5.943553668953662,
          5.956132618517586,
          5.968711568081508,
          5.981290517645432,
          5.993869467209354,
          6.006448416773278,
          6.0190273663372,
          6.031606315901124,
          6.044185265465046,
          6.05676421502897,
          6.069343164592892,
          6.081922114156816,
          6.094501063720738,
          6.107080013284662,
          6.119658962848586,
          6.132237912412508,
          6.144816861976432,
          6.157395811540354,
          6.169974761104278,
          6.1825537106682,
          6.195132660232124,
          6.207711609796046,
          6.22029055935997,
          6.232869508923892,
          6.245448458487816,
          6.258027408051738,
          6.270606357615662,
          6.283185307179586
         ],
         "xaxis": "x",
         "y": [
          1.2738802633678827E-14,
          0.30420878427866344,
          0.6228271391171466,
          0.9731305603627629,
          1.379429123100769,
          1.8809676128778685,
          2.549951312440514,
          3.5408313945956555,
          5.2620460552734905,
          9.280032524961385,
          32.573628807322194,
          -22.255416305045884,
          -8.152501418472722,
          -4.844578322679119,
          -3.317914425292406,
          -2.4064698462464085,
          -1.7770332120250238,
          -1.2974743065937564,
          -0.9040570012655031,
          -0.561258590559748,
          -0.24652682162686404,
          0.056620392230309104,
          0.3623896645174146,
          0.6854909423538026,
          1.044133641349339,
          1.464648168835672,
          1.9905879691487522,
          2.7041785167920733,
          3.78727299838906,
          5.746708774180617,
          10.748584510240452,
          60.547809294711655,
          -16.880859315011882,
          -7.258279511869336,
          -4.480692299854239,
          -3.11499694305843,
          -2.2724414259435783,
          -1.6781992623545605,
          -1.2184755435760055,
          -0.8367289753660154,
          -0.5006606147703354,
          -0.18924603429040274,
          0.11333161603401343,
          0.4211705188320044,
          0.7493827388105154,
          1.117267032597402,
          1.5534755873690709,
          2.106564975050901,
          2.8706826469648474,
          4.061634447994325,
          6.317203515362796,
          12.744200131839873,
          423.98562365519086,
          -13.57943092961328,
          -6.53068564695901,
          -4.1602119660534544,
          -2.929218274104636,
          -2.146766778447788,
          -1.5839519720438275,
          -1.1421556607709602,
          -0.7709771447182233,
          -0.44091549845189143,
          -0.13227131417001967,
          0.17022508677647824,
          0.4806564453960308,
          0.8146445432149799,
          1.1927508079622124,
          1.6462973996967174,
          2.2296711136844216,
          3.0512916478371923,
          4.369467934341197,
          6.999745605985304,
          15.618287847099781,
          -84.78202940921791,
          -11.342563639234921,
          -5.926229783368274,
          -3.8753775342675585,
          -2.7582322714126875,
          -2.0285048024835217,
          -1.4938382393960903,
          -1.0682642921429275,
          -0.7066449544333744,
          -0.381911519239739,
          -0.07550954440622124,
          0.22739339539823317,
          0.5409573704480194,
          0.8814290226230499,
          1.2708272174207687,
          1.743548578179427,
          2.360801257855509,
          3.2482064027644837,
          4.717891053904792,
          7.832418341453193,
          20.123858624758395,
          -38.509835168710616,
          -9.724607855135059,
          -5.415336503659588,
          -3.6201679457394995,
          -2.6000961978306543,
          -1.9168447354947198,
          -1.40745657719373,
          -0.996574315207345,
          -0.6435870004517122,
          -0.32354206024810717,
          -0.018868984156481604,
          0.28493091636952034,
          0.6021889065769328,
          0.9499010589275435,
          1.3517640661123715,
          1.8457215652277337,
          2.5009984488729136,
          3.4641016151377624,
          5.116181345682696,
          8.872748363432219,
          28.218731080633308,
          -24.887032319593242,
          -8.49818824504004,
          -4.977191399867401,
          -3.3898392020611574,
          -2.4531871914735173,
          -1.8110839750364562,
          -1.3244495918059314,
          -0.9268788077571879,
          -0.5816675948524882,
          -0.26570480124954243,
          0.03774132765501444,
          0.34293444037898,
          0.664473297784367,
          1.0202395333969134,
          1.4358586851481934,
          1.9533765966694507,
          2.6514864413768495,
          3.7022612708635276,
          5.576664017224822,
          10.211932579337137,
          47.08155711738004,
          -18.36190849631926,
          -7.535145006151322,
          -4.5967199846938485,
          -3.1806023566005432,
          -2.316138641157983,
          -1.710610256380443,
          -1.244497712580261,
          -0.8589884353623716,
          -0.5207594970980005,
          -0.20830097291347757,
          0.09441215789951646,
          0.4015038409123749,
          0.7279404685324243,
          1.0926393762128308,
          1.523442622863216,
          2.0671542956464726,
          2.813711184074122,
          3.966763352940095,
          6.116076650296839,
          12.003698473477407,
          141.32015512749345,
          -14.528990998236289,
          -6.757739298796305,
          -4.262736051482272,
          -2.9893942394271904,
          -2.187791145224718,
          -1.6148872177371263,
          -1.1673139330998312,
          -0.7927291968774182,
          -0.46074278470018426,
          -0.15123466215171125,
          0.15123466215170434,
          0.46074278470020696,
          0.792729196877443,
          1.16731393309986,
          1.6148872177370681,
          2.187791145224765,
          2.989394239427168,
          4.262736051482392,
          6.757739298795866,
          14.528990998235919,
          -141.3201551273858,
          -12.003698473476609,
          -6.11607665029691,
          -3.9667633529401294,
          -2.8137111840740574,
          -2.067154295646428,
          -1.523442622863227,
          -1.0926393762128028,
          -0.7279404685323999,
          -0.40150384091238206,
          -0.09441215789952334,
          0.20830097291347063,
          0.5207594970979932,
          0.8589884353623971,
          1.244497712580291,
          1.7106102563804313,
          2.316138641157967,
          3.180602356600619,
          4.5967199846939835,
          7.535145006151218,
          18.361908496318673,
          -47.081557117368064,
          -10.211932579337324,
          -5.576664017224881,
          -3.702261270863558,
          -2.651486441376868,
          -1.9533765966694085,
          -1.4358586851481607,
          -1.020239533396922,
          -0.6644732977843747,
          -0.3429344403789578,
          -0.03774132765499287,
          0.26570480124953544,
          0.5816675948524808,
          0.9268788077572141,
          1.3244495918059216,
          1.8110839750364436,
          2.4531871914735,
          3.389839202061131,
          4.977191399867555,
          8.498188245040451,
          24.887032319592173,
          -28.21873108063468,
          -8.872748363431773,
          -5.116181345682533,
          -3.46410161513779,
          -2.5009984488729313,
          -1.8457215652276937,
          -1.3517640661123815,
          -0.949901058927552,
          -0.6021889065769404,
          -0.28493091636952733,
          0.018868984156503163,
          0.3235420602481293,
          0.6435870004517047,
          0.9965743152073364,
          1.4074565771937622,
          1.916844735494761,
          2.600096197830636,
          3.62016794573947,
          5.415336503659768,
          9.72460785513489,
          38.509835168708065,
          -20.123858624759094,
          -7.832418341453305,
          -4.71789105390465,
          -3.248206402764405,
          -2.3608012578555253,
          -1.7435485781794393,
          -1.2708272174207385,
          -0.8814290226230241,
          -0.5409573704480268,
          -0.22739339539824013,
          0.07550954440624283,
          0.3819115192397319,
          0.7066449544333666,
          1.0682642921429188,
          1.4938382393960796,
          2.0285048024835652,
          2.75823227141275,
          3.875377534267526,
          5.926229783368207,
          11.342563639235635,
          84.78202940925667,
          -15.618287847100206,
          -6.999745605985394,
          -4.369467934341072,
          -3.051291647837215,
          -2.229671113684437,
          -1.6462973996966812,
          -1.1927508079622122,
          -0.814644543214963,
          -0.4806564453960155,
          -0.1702250867764923,
          0.13227131417001992,
          0.4409154984519066,
          0.7709771447182563,
          1.1421556607709982,
          1.583951972043851,
          2.146766778447819,
          2.929218274104637,
          4.160211966053455,
          6.5306856469588475,
          13.57943092961329,
          -423.9856236545413,
          -12.744200131839271,
          -6.317203515362637,
          -4.061634447994324,
          -2.870682646964803,
          -2.1065649750508406,
          -1.5534755873690704,
          -1.1172670325974203,
          -0.749382738810499,
          -0.4211705188320041,
          -0.11333161603401318,
          0.1892460342904245,
          0.5006606147703356,
          0.8367289753660241,
          1.2184755435760253,
          1.678199262354549,
          2.272441425943579,
          3.1149969430584794,
          4.480692299854412,
          7.258279511869742,
          16.880859315012927,
          -60.54780929472447,
          -10.748584510240445,
          -5.746708774180484,
          -3.7872729983890916,
          -2.7041785167920724,
          -1.9905879691487376,
          -1.4646481688356499,
          -1.0441336413493114,
          -0.6854909423538023,
          -0.3623896645173997,
          -0.05662039223028041,
          0.2465268216268643,
          0.561258590559733,
          0.9040570012654863,
          1.2974743065937566,
          1.7770332120250498,
          2.4064698462464613,
          3.317914425292407,
          4.844578322679169,
          8.152501418472976,
          22.255416305045028,
          -32.57362880732213,
          -9.28003252496122,
          -5.262046055273376,
          -3.5408313945955663,
          -2.549951312440457,
          -1.880967612877868,
          -1.3794291231007583,
          -0.973130560362745,
          -0.6228271391171541,
          -0.3042087842786632,
          -5.3909218387947074E-15,
          0.30420878427865217,
          0.6228271391171424,
          0.9731305603627317,
          1.3794291231007423,
          1.8809676128778476,
          2.5499513124404287,
          3.540831394595522,
          5.26204605527329,
          9.280032524960976,
          32.57362880731926,
          -22.255416305046374,
          -8.152501418473166,
          -4.844578322679244,
          -3.3179144252924475,
          -2.406469846246488,
          -1.777033212025069,
          -1.2974743065937822,
          -0.9040570012655164,
          -0.5612585905597293,
          -0.246526821626868,
          0.056620392230283846,
          0.3623896645173959,
          0.6854909423537903,
          1.0441336413492976,
          1.4646481688356334,
          1.990587969148716,
          2.7041785167920422,
          3.787272998389042,
          5.746708774180384,
          10.74858451023991,
          60.547809294701544,
          -16.880859315012678,
          -7.2582795118697945,
          -4.4806922998543905,
          -3.1149969430584923,
          -2.2724414259436037,
          -1.6781992623545672,
          -1.2184755435760402,
          -0.8367289753660367,
          -0.5006606147703471,
          -0.18924603429043538,
          0.1133316160339881,
          0.4211705188319855,
          0.7493827388104705,
          1.1172670325974248,
          1.5534755873690647,
          2.106564975050848,
          2.870682646964792,
          4.061634447994269,
          6.317203515362441,
          12.744200131838824,
          423.98562365437607,
          -13.579430929613798,
          -6.530685646959056,
          -4.160211966053589,
          -2.9292182741046933,
          -2.146766778447873,
          -1.5839519720438455,
          -1.142155660771003,
          -0.7709771447182523,
          -0.4409154984519104,
          -0.13227131417003074,
          0.17022508677647427,
          0.4806564453960041,
          0.8146445432149588,
          1.1927508079621976,
          1.6462973996966632,
          2.2296711136843648,
          3.051291647837132,
          4.369467934340969,
          6.999745605985534,
          15.618287847099538,
          -84.78202940926327,
          -11.342563639235522,
          -5.926229783368382,
          -3.875377534267577,
          -2.7582322714127607,
          -2.0285048024835586,
          -1.4938382393961076,
          -1.0682642921429326,
          -0.7066449544334028,
          -0.3819115192397578,
          -0.07550954440626075,
          0.2273933953982508,
          0.5409573704480153,
          0.8814290226230197,
          1.2708272174207433,
          1.7435485781794078,
          2.360801257855499,
          3.2482064027643918,
          4.717891053904673,
          7.832418341453013,
          20.123858624757993,
          -38.509835168719995,
          -9.724607855135504,
          -5.41533650365974,
          -3.620167945739425,
          -2.600096197830665,
          -1.9168447354947682,
          -1.407456577193757,
          -0.9965743152073587,
          -0.6435870004517166,
          -0.3235420602481331,
          -0.018868984156499735,
          0.28493091636950907,
          0.6021889065769286,
          0.9499010589275125,
          1.3517640661123451,
          1.8457215652277001,
          2.5009984488729584,
          3.464101615137747,
          5.116181345682506,
          8.872748363431844,
          28.218731080631102,
          -24.887032319593853,
          -8.498188245040522,
          -4.9771913998675315,
          -3.3898392020612005,
          -2.453187191473527,
          -1.8110839750365022,
          -1.3244495918059576,
          -0.92687880775721,
          -0.5816675948524693,
          -0.26570480124954643,
          0.03774132765498919,
          0.34293444037896137,
          0.6644732977843548,
          1.0202395333969085,
          1.435858685148155,
          1.9533765966694152,
          2.651486441376819,
          3.7022612708635103,
          5.5766640172246,
          10.211932579336647,
          47.08155711736997,
          -18.361908496317774,
          -7.535145006151382,
          -4.596719984694007,
          -3.180602356600607,
          -2.316138641158009,
          -1.71061025638045,
          -1.244497712580296,
          -0.858988435362393,
          -0.5207594970980123,
          -0.20830097291348154,
          0.09441215789949117,
          0.40150384091237823,
          0.7279404685324038,
          1.0926393762128166,
          1.5234426228632099,
          2.0671542956464206,
          2.8137111840740676,
          3.966763352940041,
          6.116076650296798,
          12.003698473476472,
          141.32015512740293,
          -14.528990998236882,
          -6.757739298796353,
          -4.262736051482412,
          -2.98939423942718,
          -2.1877911452247574,
          -1.6148872177370976,
          -1.1673139330998366,
          -0.7927291968774474,
          -0.46074278470020336,
          -0.15123466215172232,
          0.1512346621517004,
          0.4607427847001804,
          0.7927291968774222,
          1.1673139330998072,
          1.6148872177370617,
          2.1877911452247094,
          2.9893942394271784,
          4.262736051482292,
          6.757739298796083,
          14.52899099823571,
          -141.3201551275118,
          -12.00369847347728,
          -6.116076650297025,
          -3.9667633529401485,
          -2.8137111840741325,
          -2.0671542956464655,
          -1.5234426228632443,
          -1.0926393762128448,
          -0.7279404685324284,
          -0.40150384091237873,
          -0.09441215789951302,
          0.20830097291345948,
          0.520759497097989,
          0.8589884353623672,
          1.2444977125802656,
          1.7106102563804122,
          2.316138641157958,
          3.1806023566005304,
          4.59671998469387,
          7.53514500615105,
          18.361908496315916,
          -47.081557117382076,
          -10.211932579337237,
          -5.576664017224791,
          -3.7022612708636067,
          -2.651486441376879,
          -1.9533765966694578,
          -1.435858685148188,
          -1.020239533396936,
          -0.664473297784379,
          -0.3429344403789838,
          -0.03774132765501101,
          0.2657048012495242,
          0.5816675948524457,
          0.9268788077571835,
          1.3244495918059263,
          1.8110839750364625,
          2.4531871914734724,
          3.3898392020611157,
          4.977191399867374,
          8.498188245040106,
          24.887032319590457,
          -28.218731080635465,
          -8.872748363432295,
          -5.11618134568267,
          -3.464101615137834,
          -2.500998448873014,
          -1.845721565227701,
          -1.3517640661123769,
          -0.9499010589275393,
          -0.6021889065769523,
          -0.28493091636953133,
          0.018868984156477926,
          0.3235420602481107,
          0.6435870004516925,
          0.9965743152073315,
          1.4074565771937246,
          1.9168447354947262,
          2.6000961978306063,
          3.620167945739332,
          5.415336503659735,
          9.724607855134968,
          38.50983516871189,
          -20.123858624760224,
          -7.832418341453369,
          -4.717891053904816,
          -3.2482064027644713,
          -2.3608012578555515,
          -1.7435485781794462,
          -1.270827217420774,
          -0.8814290226230458,
          -0.5409573704480386,
          -0.22739339539827289,
          0.0755095444062389,
          0.3819115192397352,
          0.7066449544333783,
          1.0682642921429046,
          1.4938382393960736,
          2.028504802483514,
          2.7582322714126977,
          3.8753775342674737,
          5.926229783368169,
          11.342563639234799,
          84.78202940922408,
          -15.61828784710089,
          -6.999745605985823,
          -4.3694679343410945,
          -3.0512916478372043,
          -2.229671113684414,
          -1.6462973996966999,
          -1.192750807962227,
          -0.8146445432149843,
          -0.48065644539602714,
          -0.17022508677649625,
          0.13227131417000884,
          0.44091549845188754,
          0.7709771447182273,
          1.1421556607709742,
          1.5839519720438449,
          2.1467667784478257,
          2.929218274104625,
          4.160211966053472,
          6.530685646958802,
          13.579430929612771,
          -423.9856236553561,
          -12.74420013183973,
          -6.317203515362681,
          -4.061634447994381,
          -2.8706826469648585,
          -2.106564975050894,
          -1.5534755873690995,
          -1.1172670325974254,
          -0.7493827388104953,
          -0.42117051883200823,
          -0.11333161603400999,
          0.18924603429041337,
          0.500660614770324,
          0.8367289753660111,
          1.2184755435760102,
          1.67819926235453,
          2.272441425943554,
          3.1149969430584172,
          4.48069229985426,
          7.258279511869485,
          16.880859315012643,
          -60.547809294721546,
          -10.748584510240562,
          -5.7467087741807825,
          -3.787272998389142,
          -2.704178516792164,
          -1.9905879691487596,
          -1.464648168835634,
          -1.0441336413493254,
          -0.6854909423537908,
          -0.3623896645174184,
          -0.05662039223028434,
          0.24652682162684586,
          0.5612585905597288,
          0.9040570012654645,
          1.297474306593751,
          1.7770332120249919,
          2.4064698462464342,
          3.317914425292286,
          4.8445783226790935,
          8.152501418473157,
          22.25541630504365,
          -32.57362880731939,
          -9.280032524961468,
          -5.262046055273294,
          -3.540831394595612,
          -2.549951312440486,
          -1.880967612877929,
          -1.3794291231007745,
          -0.973130560362785,
          -0.6228271391171663,
          -0.3042087842786963,
          -1.641521895366724E-14,
          0.3042087842786627,
          0.6228271391171303,
          0.9731305603627445,
          1.379429123100726,
          1.8809676128778672,
          2.5499513124404,
          3.540831394595476,
          5.262046055273034,
          9.280032524960728,
          32.57362880731065,
          -22.25541630504775,
          -8.152501418473735,
          -4.844578322679319,
          -3.317914425292409,
          -2.4064698462465146,
          -1.7770332120250507,
          -1.2974743065937977,
          -0.904057001265504,
          -0.5612585905597642,
          -0.2465268216268792,
          0.056620392230251476,
          0.3623896645173845,
          0.6854909423537541,
          1.0441336413492837,
          1.4646481688355728,
          1.99058796914868,
          2.704178516792051,
          3.787272998389024,
          5.7467087741805445,
          10.748584510239368,
          60.547809294704464,
          -16.8808593150145,
          -7.2582795118698495,
          -4.480692299854629,
          -3.114996943058554,
          -2.2724414259436614,
          -1.678199262354574,
          -1.2184755435760162,
          -0.8367289753660581,
          -0.5006606147703437,
          -0.18924603429043932,
          0.11333161603400556,
          0.4211705188319665,
          0.7493827388104741,
          1.1172670325973917,
          1.5534755873690584,
          2.1065649750507647,
          2.8706826469647364,
          4.061634447994139,
          6.317203515362398,
          12.744200131839547,
          423.9856236535613,
          -13.579430929613649,
          -6.5306856469591015,
          -4.160211966053496,
          -2.92921827410475,
          -2.1467667784478657,
          -1.5839519720438866,
          -1.1421556607710082,
          -0.7709771447182976,
          -0.44091549845192946,
          -0.13227131417005608,
          0.17022508677647033,
          0.4806564453960225,
          0.8146445432149376,
          1.192750807962202,
          1.6462973996966568,
          2.229671113684404,
          3.0512916478370715,
          4.369467934340988,
          6.9997456059852,
          15.618287847099294,
          -84.7820294093342,
          -11.342563639236124,
          -5.926229783368629,
          -3.8753775342675962,
          -2.7582322714127105,
          -2.028504802483595,
          -1.4938382393961025,
          -1.0682642921429377,
          -0.7066449544333832,
          -0.38191151923977656,
          -0.07550954440625755,
          0.22739339539822523,
          0.5409573704480111,
          0.8814290226229726,
          1.2708272174207178,
          1.7435485781793634,
          2.3608012578554898,
          3.2482064027644553,
          4.7178910539045535,
          7.8324183414530655,
          20.12385862475759,
          -38.50983516871353,
          -9.724607855135952,
          -5.415336503659891,
          -3.6201679457395333,
          -2.6000961978306756,
          -1.916844735494844,
          -1.4074565771937841,
          -0.9965743152073903,
          -0.6435870004517209,
          -0.3235420602481152,
          -0.018868984156517866,
          0.28493091636951234,
          0.6021889065769243,
          0.9499010589275338,
          1.3517640661123187,
          1.8457215652276666,
          2.5009984488728936,
          3.464101615137731,
          5.116181345682208,
          8.87274836343147,
          28.218731080626053,
          -24.887032319594464,
          -8.49818824504019,
          -4.977191399867661,
          -3.389839202061188,
          -2.453187191473537,
          -1.8110839750364705,
          -1.3244495918059835,
          -0.926878807757232,
          -0.5816675948524967,
          -0.2657048012495504,
          0.03774132765494973,
          0.3429344403789427,
          0.6644732977843267,
          1.0202395333969037,
          1.4358586851481814,
          1.95337659666938,
          2.6514864413768278,
          3.702261270863493,
          5.576664017224752,
          10.211932579336157,
          47.08155711735991,
          -18.361908496319927,
          -7.535145006151441,
          -4.596719984694255,
          -3.180602356600671,
          -2.316138641158068,
          -1.7106102563804568,
          -1.2444977125802719,
          -0.8589884353624145,
          -0.5207594970980088,
          -0.20830097291348548,
          0.0944121578995086,
          0.4015038409123372,
          0.7279404685323833,
          1.0926393762127837,
          1.5234426228632036,
          2.067154295646339,
          2.813711184074014,
          3.9667633529399167,
          6.116076650296758,
          12.003698473477117,
          141.32015512731238,
          -14.52899099823671,
          -6.757739298796402,
          -4.262736051482316,
          -2.9893942394273076,
          -2.1877911452247973,
          -1.6148872177371394,
          -1.1673139330998417,
          -0.792729196877493,
          -0.46074278470022245,
          -0.15123466215174772,
          0.15123466215169645,
          0.4607427847001987,
          0.7927291968774012,
          1.1673139330998115,
          1.614887217737055,
          2.187791145224748,
          2.989394239427051,
          4.262736051482191,
          6.757739298795769,
          14.528990998235498,
          -141.3201551277088,
          -12.00369847347795,
          -6.116076650296991,
          -3.966763352940168,
          -2.813711184074081,
          -2.067154295646503,
          -1.5234426228632394,
          -1.09263937621285,
          -0.7279404685324088,
          -0.40150384091241975,
          -0.0944121578995312,
          0.20830097291343397,
          0.5207594970979847,
          0.8589884353623205,
          1.2444977125802406,
          1.7106102563804177,
          2.316138641157949,
          3.1806023566005917,
          4.596719984693756,
          7.535145006151099,
          18.361908496315582,
          -47.08155711737242,
          -10.211932579338304,
          -5.57666401722495,
          -3.7022612708637186,
          -2.65148644137689,
          -1.953376596669535,
          -1.4358586851482156,
          -1.020239533396932,
          -0.6644732977843834,
          -0.3429344403789659,
          -0.03774132765502914,
          0.2657048012495275,
          0.5816675948524415,
          0.9268788077572045,
          1.3244495918058694,
          1.8110839750364294,
          2.4531871914734094,
          3.3898392020611006,
          4.977191399867091,
          8.49818824503976,
          24.887032319590954,
          -28.21873108063625,
          -8.872748363431935,
          -5.116181345682807,
          -3.4641016151378214,
          -2.500998448873024,
          -1.8457215652277084,
          -1.3517640661124344,
          -0.9499010589275615,
          -0.6021889065769799,
          -0.2849309163695353,
          0.01886898415643848,
          0.32354206024809207,
          0.643587000451696,
          0.9965743152073266,
          1.4074565771937504,
          1.9168447354946916,
          2.6000961978306147,
          3.620167945739315,
          5.415336503659702,
          9.724607855133996,
          38.50983516870515,
          -20.123858624762804,
          -7.832418341453433,
          -4.717891053905075,
          -3.2482064027645374,
          -2.360801257855544,
          -1.743548578179453,
          -1.2708272174207496,
          -0.8814290226230674,
          -0.5409573704480353,
          -0.22739339539827685,
          0.07550954440623497,
          0.3819115192396943,
          0.7066449544333578,
          1.0682642921428722,
          1.4938382393960674,
          2.0285048024834342,
          2.758232271412645,
          3.8753775342674888,
          5.9262297833681306,
          11.342563639235376,
          84.78202940924258,
          -15.61828784709893,
          -6.999745605985875,
          -4.369467934341118,
          -3.0512916478373358,
          -2.2296711136844545,
          -1.646297399696742,
          -1.1927508079622324,
          -0.814644543214997,
          -0.48065644539601626,
          -0.17022508677646442,
          0.1322713141700049,
          0.4409154984519058,
          0.7709771447182064,
          1.1421556607709784,
          1.5839519720438038,
          2.1467667784478173,
          2.92921827410459,
          4.160211966053527,
          6.530685646958507,
          13.579430929612586,
          -423.9856236571289,
          -12.744200131840485,
          -6.317203515362645,
          -4.0616344479944,
          -2.8706826469648052,
          -2.106564975050872,
          -1.553475587369049,
          -1.1172670325974585,
          -0.7493827388104999,
          -0.4211705188320494,
          -0.11333161603402817,
          0.18924603429038792,
          0.5006606147703198,
          0.8367289753660315,
          1.2184755435760244,
          1.678199262354584,
          2.2724414259435446,
          3.1149969430584767,
          4.480692299854151,
          7.258279511869531,
          16.88085931501082,
          -60.54780929472514,
          -10.748584510240892,
          -5.74670877418049,
          -3.7872729983892577,
          -2.704178516792115,
          -1.990587969148725,
          -1.4646481688356947,
          -1.0441336413493214,
          -0.685490942353819,
          -0.36238966451740046,
          -0.05662039223029537,
          0.24652682162687797,
          0.5612585905597015,
          0.9040570012654854,
          1.2974743065936951,
          1.7770332120249976,
          2.4064698462463725,
          3.317914425292351,
          4.844578322679213,
          8.152501418472964,
          22.255416305047596,
          -32.57362880732611,
          -9.280032524961076,
          -5.262046055273607,
          -3.5408313945955987,
          -2.5499513124405526,
          -1.8809676128778963,
          -1.3794291231007907,
          -0.9731305603627459,
          -0.622827139117194,
          -0.3042087842786785,
          9.82193361864236E-16
         ],
         "yaxis": "y",
         "type": "scatter"
        }
       ],
       "layout": {
        "template": {
         "data": {
          "histogram2dcontour": [
           {
            "type": "histogram2dcontour",
            "colorbar": {
             "outlinewidth": 0,
             "ticks": ""
            },
            "colorscale": [
             [
              0.0,
              "#0d0887"
             ],
             [
              0.1111111111111111,
              "#46039f"
             ],
             [
              0.2222222222222222,
              "#7201a8"
             ],
             [
              0.3333333333333333,
              "#9c179e"
             ],
             [
              0.4444444444444444,
              "#bd3786"
             ],
             [
              0.5555555555555556,
              "#d8576b"
             ],
             [
              0.6666666666666666,
              "#ed7953"
             ],
             [
              0.7777777777777778,
              "#fb9f3a"
             ],
             [
              0.8888888888888888,
              "#fdca26"
             ],
             [
              1.0,
              "#f0f921"
             ]
            ]
           }
          ],
          "choropleth": [
           {
            "type": "choropleth",
            "colorbar": {
             "outlinewidth": 0,
             "ticks": ""
            }
           }
          ],
          "histogram2d": [
           {
            "type": "histogram2d",
            "colorbar": {
             "outlinewidth": 0,
             "ticks": ""
            },
            "colorscale": [
             [
              0.0,
              "#0d0887"
             ],
             [
              0.1111111111111111,
              "#46039f"
             ],
             [
              0.2222222222222222,
              "#7201a8"
             ],
             [
              0.3333333333333333,
              "#9c179e"
             ],
             [
              0.4444444444444444,
              "#bd3786"
             ],
             [
              0.5555555555555556,
              "#d8576b"
             ],
             [
              0.6666666666666666,
              "#ed7953"
             ],
             [
              0.7777777777777778,
              "#fb9f3a"
             ],
             [
              0.8888888888888888,
              "#fdca26"
             ],
             [
              1.0,
              "#f0f921"
             ]
            ]
           }
          ],
          "heatmap": [
           {
            "type": "heatmap",
            "colorbar": {
             "outlinewidth": 0,
             "ticks": ""
            },
            "colorscale": [
             [
              0.0,
              "#0d0887"
             ],
             [
              0.1111111111111111,
              "#46039f"
             ],
             [
              0.2222222222222222,
              "#7201a8"
             ],
             [
              0.3333333333333333,
              "#9c179e"
             ],
             [
              0.4444444444444444,
              "#bd3786"
             ],
             [
              0.5555555555555556,
              "#d8576b"
             ],
             [
              0.6666666666666666,
              "#ed7953"
             ],
             [
              0.7777777777777778,
              "#fb9f3a"
             ],
             [
              0.8888888888888888,
              "#fdca26"
             ],
             [
              1.0,
              "#f0f921"
             ]
            ]
           }
          ],
          "heatmapgl": [
           {
            "type": "heatmapgl",
            "colorbar": {
             "outlinewidth": 0,
             "ticks": ""
            },
            "colorscale": [
             [
              0.0,
              "#0d0887"
             ],
             [
              0.1111111111111111,
              "#46039f"
             ],
             [
              0.2222222222222222,
              "#7201a8"
             ],
             [
              0.3333333333333333,
              "#9c179e"
             ],
             [
              0.4444444444444444,
              "#bd3786"
             ],
             [
              0.5555555555555556,
              "#d8576b"
             ],
             [
              0.6666666666666666,
              "#ed7953"
             ],
             [
              0.7777777777777778,
              "#fb9f3a"
             ],
             [
              0.8888888888888888,
              "#fdca26"
             ],
             [
              1.0,
              "#f0f921"
             ]
            ]
           }
          ],
          "contourcarpet": [
           {
            "type": "contourcarpet",
            "colorbar": {
             "outlinewidth": 0,
             "ticks": ""
            }
           }
          ],
          "contour": [
           {
            "type": "contour",
            "colorbar": {
             "outlinewidth": 0,
             "ticks": ""
            },
            "colorscale": [
             [
              0.0,
              "#0d0887"
             ],
             [
              0.1111111111111111,
              "#46039f"
             ],
             [
              0.2222222222222222,
              "#7201a8"
             ],
             [
              0.3333333333333333,
              "#9c179e"
             ],
             [
              0.4444444444444444,
              "#bd3786"
             ],
             [
              0.5555555555555556,
              "#d8576b"
             ],
             [
              0.6666666666666666,
              "#ed7953"
             ],
             [
              0.7777777777777778,
              "#fb9f3a"
             ],
             [
              0.8888888888888888,
              "#fdca26"
             ],
             [
              1.0,
              "#f0f921"
             ]
            ]
           }
          ],
          "surface": [
           {
            "type": "surface",
            "colorbar": {
             "outlinewidth": 0,
             "ticks": ""
            },
            "colorscale": [
             [
              0.0,
              "#0d0887"
             ],
             [
              0.1111111111111111,
              "#46039f"
             ],
             [
              0.2222222222222222,
              "#7201a8"
             ],
             [
              0.3333333333333333,
              "#9c179e"
             ],
             [
              0.4444444444444444,
              "#bd3786"
             ],
             [
              0.5555555555555556,
              "#d8576b"
             ],
             [
              0.6666666666666666,
              "#ed7953"
             ],
             [
              0.7777777777777778,
              "#fb9f3a"
             ],
             [
              0.8888888888888888,
              "#fdca26"
             ],
             [
              1.0,
              "#f0f921"
             ]
            ]
           }
          ],
          "mesh3d": [
           {
            "type": "mesh3d",
            "colorbar": {
             "outlinewidth": 0,
             "ticks": ""
            }
           }
          ],
          "scatter": [
           {
            "marker": {
             "line": {
              "color": "#283442"
             }
            },
            "type": "scatter"
           }
          ],
          "parcoords": [
           {
            "type": "parcoords",
            "line": {
             "colorbar": {
              "outlinewidth": 0,
              "ticks": ""
             }
            }
           }
          ],
          "scatterpolargl": [
           {
            "type": "scatterpolargl",
            "marker": {
             "colorbar": {
              "outlinewidth": 0,
              "ticks": ""
             }
            }
           }
          ],
          "bar": [
           {
            "error_x": {
             "color": "#f2f5fa"
            },
            "error_y": {
             "color": "#f2f5fa"
            },
            "marker": {
             "line": {
              "color": "rgb(17,17,17)",
              "width": 0.5
             },
             "pattern": {
              "fillmode": "overlay",
              "size": 10,
              "solidity": 0.2
             }
            },
            "type": "bar"
           }
          ],
          "scattergeo": [
           {
            "type": "scattergeo",
            "marker": {
             "colorbar": {
              "outlinewidth": 0,
              "ticks": ""
             }
            }
           }
          ],
          "scatterpolar": [
           {
            "type": "scatterpolar",
            "marker": {
             "colorbar": {
              "outlinewidth": 0,
              "ticks": ""
             }
            }
           }
          ],
          "histogram": [
           {
            "marker": {
             "pattern": {
              "fillmode": "overlay",
              "size": 10,
              "solidity": 0.2
             }
            },
            "type": "histogram"
           }
          ],
          "scattergl": [
           {
            "marker": {
             "line": {
              "color": "#283442"
             }
            },
            "type": "scattergl"
           }
          ],
          "scatter3d": [
           {
            "type": "scatter3d",
            "line": {
             "colorbar": {
              "outlinewidth": 0,
              "ticks": ""
             }
            },
            "marker": {
             "colorbar": {
              "outlinewidth": 0,
              "ticks": ""
             }
            }
           }
          ],
          "scattermapbox": [
           {
            "type": "scattermapbox",
            "marker": {
             "colorbar": {
              "outlinewidth": 0,
              "ticks": ""
             }
            }
           }
          ],
          "scatterternary": [
           {
            "type": "scatterternary",
            "marker": {
             "colorbar": {
              "outlinewidth": 0,
              "ticks": ""
             }
            }
           }
          ],
          "scattercarpet": [
           {
            "type": "scattercarpet",
            "marker": {
             "colorbar": {
              "outlinewidth": 0,
              "ticks": ""
             }
            }
           }
          ],
          "carpet": [
           {
            "aaxis": {
             "endlinecolor": "#A2B1C6",
             "gridcolor": "#506784",
             "linecolor": "#506784",
             "minorgridcolor": "#506784",
             "startlinecolor": "#A2B1C6"
            },
            "baxis": {
             "endlinecolor": "#A2B1C6",
             "gridcolor": "#506784",
             "linecolor": "#506784",
             "minorgridcolor": "#506784",
             "startlinecolor": "#A2B1C6"
            },
            "type": "carpet"
           }
          ],
          "table": [
           {
            "cells": {
             "fill": {
              "color": "#506784"
             },
             "line": {
              "color": "rgb(17,17,17)"
             }
            },
            "header": {
             "fill": {
              "color": "#2a3f5f"
             },
             "line": {
              "color": "rgb(17,17,17)"
             }
            },
            "type": "table"
           }
          ],
          "barpolar": [
           {
            "marker": {
             "line": {
              "color": "rgb(17,17,17)",
              "width": 0.5
             },
             "pattern": {
              "fillmode": "overlay",
              "size": 10,
              "solidity": 0.2
             }
            },
            "type": "barpolar"
           }
          ],
          "pie": [
           {
            "automargin": true,
            "type": "pie"
           }
          ]
         },
         "layout": {
          "autotypenumbers": "strict",
          "colorway": [
           "#636efa",
           "#EF553B",
           "#00cc96",
           "#ab63fa",
           "#FFA15A",
           "#19d3f3",
           "#FF6692",
           "#B6E880",
           "#FF97FF",
           "#FECB52"
          ],
          "font": {
           "color": "#f2f5fa"
          },
          "hovermode": "closest",
          "hoverlabel": {
           "align": "left"
          },
          "paper_bgcolor": "rgb(17,17,17)",
          "plot_bgcolor": "rgb(17,17,17)",
          "polar": {
           "bgcolor": "rgb(17,17,17)",
           "angularaxis": {
            "gridcolor": "#506784",
            "linecolor": "#506784",
            "ticks": ""
           },
           "radialaxis": {
            "gridcolor": "#506784",
            "linecolor": "#506784",
            "ticks": ""
           }
          },
          "ternary": {
           "bgcolor": "rgb(17,17,17)",
           "aaxis": {
            "gridcolor": "#506784",
            "linecolor": "#506784",
            "ticks": ""
           },
           "baxis": {
            "gridcolor": "#506784",
            "linecolor": "#506784",
            "ticks": ""
           },
           "caxis": {
            "gridcolor": "#506784",
            "linecolor": "#506784",
            "ticks": ""
           }
          },
          "coloraxis": {
           "colorbar": {
            "outlinewidth": 0,
            "ticks": ""
           }
          },
          "colorscale": {
           "sequential": [
            [
             0.0,
             "#0d0887"
            ],
            [
             0.1111111111111111,
             "#46039f"
            ],
            [
             0.2222222222222222,
             "#7201a8"
            ],
            [
             0.3333333333333333,
             "#9c179e"
            ],
            [
             0.4444444444444444,
             "#bd3786"
            ],
            [
             0.5555555555555556,
             "#d8576b"
            ],
            [
             0.6666666666666666,
             "#ed7953"
            ],
            [
             0.7777777777777778,
             "#fb9f3a"
            ],
            [
             0.8888888888888888,
             "#fdca26"
            ],
            [
             1.0,
             "#f0f921"
            ]
           ],
           "sequentialminus": [
            [
             0.0,
             "#0d0887"
            ],
            [
             0.1111111111111111,
             "#46039f"
            ],
            [
             0.2222222222222222,
             "#7201a8"
            ],
            [
             0.3333333333333333,
             "#9c179e"
            ],
            [
             0.4444444444444444,
             "#bd3786"
            ],
            [
             0.5555555555555556,
             "#d8576b"
            ],
            [
             0.6666666666666666,
             "#ed7953"
            ],
            [
             0.7777777777777778,
             "#fb9f3a"
            ],
            [
             0.8888888888888888,
             "#fdca26"
            ],
            [
             1.0,
             "#f0f921"
            ]
           ],
           "diverging": [
            [
             0,
             "#8e0152"
            ],
            [
             0.1,
             "#c51b7d"
            ],
            [
             0.2,
             "#de77ae"
            ],
            [
             0.3,
             "#f1b6da"
            ],
            [
             0.4,
             "#fde0ef"
            ],
            [
             0.5,
             "#f7f7f7"
            ],
            [
             0.6,
             "#e6f5d0"
            ],
            [
             0.7,
             "#b8e186"
            ],
            [
             0.8,
             "#7fbc41"
            ],
            [
             0.9,
             "#4d9221"
            ],
            [
             1,
             "#276419"
            ]
           ]
          },
          "xaxis": {
           "gridcolor": "#283442",
           "linecolor": "#506784",
           "ticks": "",
           "title": {
            "standoff": 15
           },
           "zerolinecolor": "#283442",
           "automargin": true,
           "zerolinewidth": 2
          },
          "yaxis": {
           "gridcolor": "#283442",
           "linecolor": "#506784",
           "ticks": "",
           "title": {
            "standoff": 15
           },
           "zerolinecolor": "#283442",
           "automargin": true,
           "zerolinewidth": 2
          },
          "scene": {
           "xaxis": {
            "backgroundcolor": "rgb(17,17,17)",
            "gridcolor": "#506784",
            "linecolor": "#506784",
            "showbackground": true,
            "ticks": "",
            "zerolinecolor": "#C8D4E3",
            "gridwidth": 2
           },
           "yaxis": {
            "backgroundcolor": "rgb(17,17,17)",
            "gridcolor": "#506784",
            "linecolor": "#506784",
            "showbackground": true,
            "ticks": "",
            "zerolinecolor": "#C8D4E3",
            "gridwidth": 2
           },
           "zaxis": {
            "backgroundcolor": "rgb(17,17,17)",
            "gridcolor": "#506784",
            "linecolor": "#506784",
            "showbackground": true,
            "ticks": "",
            "zerolinecolor": "#C8D4E3",
            "gridwidth": 2
           }
          },
          "shapedefaults": {
           "line": {
            "color": "#f2f5fa"
           }
          },
          "annotationdefaults": {
           "arrowcolor": "#f2f5fa",
           "arrowhead": 0,
           "arrowwidth": 1
          },
          "geo": {
           "bgcolor": "rgb(17,17,17)",
           "landcolor": "rgb(17,17,17)",
           "subunitcolor": "#506784",
           "showland": true,
           "showlakes": true,
           "lakecolor": "rgb(17,17,17)"
          },
          "title": {
           "x": 0.05
          },
          "updatemenudefaults": {
           "bgcolor": "#506784",
           "borderwidth": 0
          },
          "sliderdefaults": {
           "bgcolor": "#C8D4E3",
           "borderwidth": 1,
           "bordercolor": "rgb(17,17,17)",
           "tickwidth": 0
          },
          "mapbox": {
           "style": "dark"
          }
         }
        },
        "xaxis": {
         "anchor": "y",
         "domain": [
          0.0,
          1.0
         ],
         "title": {
          "text": "x"
         }
        },
        "yaxis": {
         "anchor": "x",
         "domain": [
          0.0,
          1.0
         ],
         "title": {
          "text": "2tan(12x+π/y)"
         }
        },
        "legend": {
         "tracegroupgap": 0
        },
        "title": {
         "text": "Графік функції y = 2tan(12x+π/y) (y = 1)",
         "x": 0.5
        }
       },
       "config": {
        "plotlyServerURL": "https://plot.ly"
       }
      },
      "text/html": "<div>                            <div id=\"2c54d89a-4ba3-4b5f-9e38-8c5fba6f6d66\" class=\"plotly-graph-div\" style=\"height:525px; width:100%;\"></div>            <script type=\"text/javascript\">                require([\"plotly\"], function(Plotly) {                    window.PLOTLYENV=window.PLOTLYENV || {};                                    if (document.getElementById(\"2c54d89a-4ba3-4b5f-9e38-8c5fba6f6d66\")) {                    Plotly.newPlot(                        \"2c54d89a-4ba3-4b5f-9e38-8c5fba6f6d66\",                        [{\"hovertemplate\":\"x=%{x}<br>2tan(12x+\\u03c0/y)=%{y}<extra></extra>\",\"legendgroup\":\"\",\"line\":{\"color\":\"#636efa\",\"dash\":\"solid\"},\"marker\":{\"symbol\":\"circle\"},\"mode\":\"lines\",\"name\":\"\",\"orientation\":\"v\",\"showlegend\":false,\"x\":[-6.283185307179586,-6.270606357615663,-6.25802740805174,-6.245448458487817,-6.232869508923894,-6.220290559359971,-6.207711609796048,-6.195132660232124,-6.182553710668201,-6.169974761104278,-6.157395811540355,-6.144816861976432,-6.132237912412509,-6.119658962848586,-6.107080013284663,-6.09450106372074,-6.081922114156817,-6.069343164592894,-6.056764215028971,-6.044185265465048,-6.031606315901124,-6.019027366337201,-6.006448416773278,-5.993869467209355,-5.981290517645432,-5.968711568081509,-5.956132618517586,-5.943553668953663,-5.93097471938974,-5.918395769825817,-5.905816820261894,-5.893237870697971,-5.880658921134048,-5.868079971570124,-5.855501022006201,-5.842922072442278,-5.830343122878355,-5.817764173314432,-5.805185223750509,-5.792606274186586,-5.7800273246226626,-5.7674483750587395,-5.7548694254948165,-5.7422904759308935,-5.72971152636697,-5.717132576803047,-5.7045536272391235,-5.6919746776752005,-5.6793957281112775,-5.666816778547354,-5.654237828983431,-5.641658879419508,-5.629079929855585,-5.616500980291662,-5.603922030727739,-5.591343081163816,-5.578764131599893,-5.566185182035969,-5.553606232472047,-5.541027282908123,-5.5284483333442,-5.515869383780277,-5.503290434216354,-5.490711484652431,-5.478132535088508,-5.465553585524585,-5.452974635960662,-5.440395686396739,-5.427816736832816,-5.415237787268893,-5.402658837704969,-5.390079888141047,-5.377500938577123,-5.3649219890132,-5.352343039449277,-5.339764089885354,-5.327185140321431,-5.314606190757508,-5.302027241193585,-5.289448291629662,-5.276869342065739,-5.264290392501816,-5.251711442937893,-5.239132493373969,-5.226553543810047,-5.213974594246123,-5.2013956446822,-5.188816695118277,-5.176237745554354,-5.163658795990431,-5.151079846426508,-5.138500896862585,-5.125921947298662,-5.113342997734739,-5.100764048170816,-5.088185098606893,-5.075606149042969,-5.063027199479047,-5.050448249915123,-5.0378693003512,-5.025290350787277,-5.012711401223354,-5.0001324516594305,-4.9875535020955075,-4.9749745525315845,-4.9623956029676615,-4.949816653403738,-4.937237703839815,-4.924658754275892,-4.9120798047119685,-4.899500855148046,-4.886921905584122,-4.874342956020199,-4.861764006456276,-4.849185056892353,-4.83660610732843,-4.824027157764507,-4.811448208200584,-4.798869258636661,-4.786290309072738,-4.773711359508814,-4.761132409944892,-4.748553460380968,-4.735974510817046,-4.723395561253122,-4.710816611689199,-4.698237662125276,-4.685658712561353,-4.67307976299743,-4.660500813433507,-4.647921863869584,-4.635342914305661,-4.622763964741738,-4.610185015177814,-4.597606065613892,-4.585027116049968,-4.572448166486046,-4.559869216922122,-4.547290267358199,-4.534711317794276,-4.522132368230353,-4.50955341866643,-4.496974469102507,-4.484395519538584,-4.471816569974661,-4.459237620410738,-4.446658670846814,-4.434079721282892,-4.421500771718968,-4.408921822155045,-4.396342872591122,-4.383763923027199,-4.371184973463276,-4.358606023899353,-4.34602707433543,-4.333448124771507,-4.320869175207584,-4.308290225643661,-4.295711276079738,-4.283132326515814,-4.2705533769518915,-4.257974427387968,-4.2453954778240455,-4.232816528260122,-4.2202375786961985,-4.2076586291322755,-4.1950796795683525,-4.1825007300044295,-4.169921780440506,-4.157342830876583,-4.1447638813126595,-4.132184931748737,-4.119605982184813,-4.107027032620891,-4.094448083056967,-4.081869133493045,-4.069290183929121,-4.056711234365198,-4.044132284801275,-4.031553335237352,-4.018974385673429,-4.006395436109506,-3.993816486545583,-3.9812375369816597,-3.9686585874177367,-3.9560796378538137,-3.9435006882898906,-3.9309217387259676,-3.9183427891620446,-3.905763839598121,-3.893184890034198,-3.880605940470275,-3.868026990906352,-3.855448041342429,-3.842869091778506,-3.830290142214583,-3.8177111926506595,-3.8051322430867365,-3.7925532935228135,-3.7799743439588904,-3.7673953943949674,-3.7548164448310444,-3.742237495267121,-3.729658545703198,-3.717079596139275,-3.704500646575352,-3.691921697011429,-3.679342747447506,-3.6667637978835828,-3.6541848483196593,-3.6416058987557363,-3.6290269491918132,-3.61644799962789,-3.603869050063967,-3.591290100500044,-3.5787111509361207,-3.5661322013721977,-3.5535532518082746,-3.5409743022443516,-3.5283953526804286,-3.5158164031165056,-3.503237453552582,-3.490658503988659,-3.478079554424736,-3.465500604860813,-3.45292165529689,-3.440342705732967,-3.427763756169044,-3.4151848066051205,-3.4026058570411974,-3.3900269074772744,-3.3774479579133514,-3.3648690083494284,-3.3522900587855053,-3.339711109221582,-3.327132159657659,-3.314553210093736,-3.301974260529813,-3.2893953109658898,-3.2768163614019667,-3.2642374118380433,-3.2516584622741203,-3.2390795127101972,-3.226500563146274,-3.213921613582351,-3.201342664018428,-3.188763714454505,-3.1761847648905817,-3.1636058153266586,-3.1510268657627356,-3.1384479161988126,-3.1258689666348896,-3.1132900170709665,-3.100711067507043,-3.08813211794312,-3.075553168379197,-3.062974218815274,-3.050395269251351,-3.037816319687428,-3.025237370123505,-3.0126584205595814,-3.0000794709956584,-2.9875005214317354,-2.9749215718678124,-2.9623426223038893,-2.9497636727399663,-2.937184723176043,-2.92460577361212,-2.912026824048197,-2.8994478744842738,-2.8868689249203507,-2.8742899753564277,-2.8617110257925047,-2.8491320762285812,-2.836553126664658,-2.823974177100735,-2.811395227536812,-2.798816277972889,-2.786237328408966,-2.7736583788450426,-2.7610794292811196,-2.7485004797171966,-2.7359215301532736,-2.7233425805893505,-2.7107636310254275,-2.698184681461504,-2.685605731897581,-2.673026782333658,-2.660447832769735,-2.647868883205812,-2.635289933641889,-2.622710984077966,-2.6101320345140424,-2.5975530849501194,-2.5849741353861964,-2.5723951858222733,-2.5598162362583503,-2.5472372866944273,-2.534658337130504,-2.522079387566581,-2.5095004380026578,-2.4969214884387347,-2.4843425388748117,-2.4717635893108887,-2.459184639746965,-2.446605690183042,-2.434026740619119,-2.421447791055196,-2.408868841491273,-2.39628989192735,-2.383710942363427,-2.3711319927995036,-2.3585530432355806,-2.3459740936716575,-2.3333951441077345,-2.3208161945438115,-2.3082372449798885,-2.295658295415965,-2.283079345852042,-2.270500396288119,-2.257921446724196,-2.245342497160273,-2.23276354759635,-2.220184598032427,-2.207605648468504,-2.195026698904581,-2.1824477493406578,-2.169868799776734,-2.157289850212811,-2.144710900648888,-2.132131951084965,-2.1195530015210418,-2.1069740519571187,-2.0943951023931957,-2.0818161528292727,-2.0692372032653497,-2.0566582537014266,-2.0440793041375036,-2.0315003545735806,-2.0189214050096576,-2.0063424554457336,-1.9937635058818106,-1.9811845563178876,-1.9686056067539646,-1.9560266571900415,-1.9434477076261185,-1.9308687580621955,-1.9182898084982725,-1.9057108589343494,-1.8931319093704264,-1.8805529598065034,-1.8679740102425804,-1.8553950606786564,-1.8428161111147334,-1.8302371615508104,-1.8176582119868874,-1.8050792624229643,-1.7925003128590413,-1.7799213632951183,-1.7673424137311953,-1.7547634641672722,-1.7421845146033492,-1.7296055650394262,-1.7170266154755032,-1.7044476659115801,-1.6918687163476562,-1.6792897667837332,-1.6667108172198102,-1.6541318676558872,-1.6415529180919641,-1.628973968528041,-1.616395018964118,-1.603816069400195,-1.591237119836272,-1.578658170272349,-1.566079220708426,-1.553500271144503,-1.54092132158058,-1.528342372016656,-1.515763422452733,-1.50318447288881,-1.490605523324887,-1.478026573760964,-1.4654476241970409,-1.4528686746331179,-1.4402897250691948,-1.4277107755052718,-1.4151318259413488,-1.4025528763774258,-1.3899739268135027,-1.3773949772495797,-1.3648160276856558,-1.3522370781217328,-1.3396581285578097,-1.3270791789938867,-1.3145002294299637,-1.3019212798660407,-1.2893423303021176,-1.2767633807381946,-1.2641844311742716,-1.2516054816103486,-1.2390265320464255,-1.2264475824825025,-1.2138686329185795,-1.2012896833546556,-1.1887107337907326,-1.1761317842268095,-1.1635528346628865,-1.1509738850989635,-1.1383949355350405,-1.1258159859711174,-1.1132370364071944,-1.1006580868432714,-1.0880791372793484,-1.0755001877154253,-1.0629212381515023,-1.0503422885875793,-1.0377633390236554,-1.0251843894597323,-1.0126054398958093,-1.0000264903318863,-0.9874475407679633,-0.9748685912040402,-0.9622896416401172,-0.9497106920761942,-0.9371317425122712,-0.9245527929483481,-0.9119738433844251,-0.8993948938205021,-0.8868159442565782,-0.8742369946926551,-0.8616580451287321,-0.8490790955648091,-0.8365001460008861,-0.823921196436963,-0.81134224687304,-0.798763297309117,-0.786184347745194,-0.7736053981812709,-0.7610264486173479,-0.7484474990534249,-0.7358685494895019,-0.723289599925578,-0.7107106503616549,-0.6981317007977319,-0.6855527512338089,-0.6729738016698859,-0.6603948521059628,-0.6478159025420398,-0.6352369529781168,-0.6226580034141938,-0.6100790538502707,-0.5975001042863477,-0.5849211547224247,-0.5723422051585016,-0.5597632555945777,-0.5471843060306547,-0.5346053564667317,-0.5220264069028087,-0.5094474573388856,-0.4968685077749626,-0.4842895582110396,-0.47171060864711656,-0.45913165908319353,-0.4465527095192705,-0.4339737599553475,-0.42139481039142446,-0.40881586082750143,-0.3962369112635775,-0.3836579616996545,-0.37107901213573147,-0.35850006257180844,-0.3459211130078854,-0.3333421634439624,-0.32076321388003937,-0.30818426431611634,-0.2956053147521933,-0.2830263651882703,-0.27044741562434726,-0.25786846606042424,-0.24528951649650033,-0.2327105669325773,-0.22013161736865428,-0.20755266780473125,-0.19497371824080822,-0.1823947686768852,-0.16981581911296217,-0.15723686954903915,-0.14465791998511612,-0.1320789704211931,-0.11950002085727007,-0.10692107129334705,-0.09434212172942402,-0.08176317216550011,-0.06918422260157708,-0.05660527303765406,-0.04402632347373103,-0.03144737390980801,-0.018868424345884982,-0.006289474781961957,0.006289474781961069,0.018868424345884094,0.03144737390980712,0.044026323473730145,0.05660527303765317,0.0691842226015762,0.08176317216550011,0.09434212172942313,0.10692107129334616,0.11950002085726918,0.1320789704211922,0.14465791998511524,0.15723686954903826,0.16981581911296129,0.1823947686768843,0.19497371824080734,0.20755266780473036,0.2201316173686534,0.2327105669325764,0.24528951649650033,0.25786846606042335,0.2704474156243464,0.2830263651882694,0.2956053147521924,0.30818426431611545,0.3207632138800385,0.3333421634439615,0.34592111300788453,0.35850006257180755,0.3710790121357306,0.3836579616996536,0.39623691126357663,0.40881586082750054,0.42139481039142357,0.4339737599553466,0.4465527095192696,0.45913165908319264,0.47171060864711567,0.4842895582110387,0.4968685077749617,0.5094474573388847,0.5220264069028078,0.5346053564667308,0.5471843060306538,0.5597632555945768,0.5723422051585008,0.5849211547224238,0.5975001042863468,0.6100790538502698,0.6226580034141929,0.6352369529781159,0.6478159025420389,0.6603948521059619,0.672973801669885,0.685552751233808,0.698131700797731,0.710710650361654,0.723289599925578,0.735868549489501,0.748447499053424,0.761026448617347,0.77360539818127,0.7861843477451931,0.7987632973091161,0.8113422468730391,0.8239211964369622,0.8365001460008852,0.8490790955648082,0.8616580451287312,0.8742369946926543,0.8868159442565782,0.8993948938205012,0.9119738433844242,0.9245527929483472,0.9371317425122703,0.9497106920761933,0.9622896416401163,0.9748685912040393,0.9874475407679624,1.0000264903318854,1.0126054398958084,1.0251843894597314,1.0377633390236545,1.0503422885875784,1.0629212381515014,1.0755001877154244,1.0880791372793475,1.1006580868432705,1.1132370364071935,1.1258159859711165,1.1383949355350396,1.1509738850989626,1.1635528346628856,1.1761317842268086,1.1887107337907317,1.2012896833546547,1.2138686329185786,1.2264475824825016,1.2390265320464247,1.2516054816103477,1.2641844311742707,1.2767633807381937,1.2893423303021168,1.3019212798660398,1.3145002294299628,1.3270791789938858,1.3396581285578089,1.3522370781217319,1.3648160276856558,1.3773949772495788,1.3899739268135018,1.4025528763774249,1.415131825941348,1.427710775505271,1.440289725069194,1.452868674633117,1.46544762419704,1.478026573760963,1.490605523324886,1.503184472888809,1.515763422452732,1.528342372016656,1.540921321580579,1.553500271144502,1.566079220708425,1.5786581702723481,1.5912371198362711,1.6038160694001942,1.6163950189641172,1.6289739685280402,1.6415529180919632,1.6541318676558863,1.6667108172198093,1.6792897667837323,1.6918687163476562,1.7044476659115793,1.7170266154755023,1.7296055650394244,1.7421845146033483,1.7547634641672705,1.7673424137311944,1.7799213632951183,1.7925003128590404,1.8050792624229643,1.8176582119868865,1.8302371615508104,1.8428161111147325,1.8553950606786564,1.8679740102425786,1.8805529598065025,1.8931319093704246,1.9057108589343486,1.9182898084982707,1.9308687580621946,1.9434477076261185,1.9560266571900407,1.9686056067539646,1.9811845563178867,1.9937635058818106,2.0063424554457328,2.0189214050096567,2.031500354573579,2.0440793041375027,2.056658253701425,2.0692372032653488,2.081816152829271,2.094395102393195,2.1069740519571187,2.119553001521041,2.132131951084965,2.144710900648887,2.157289850212811,2.169868799776733,2.182447749340657,2.195026698904579,2.207605648468503,2.220184598032425,2.232763547596349,2.245342497160271,2.257921446724195,2.270500396288119,2.283079345852041,2.295658295415965,2.308237244979887,2.320816194543811,2.333395144107733,2.345974093671657,2.3585530432355792,2.371131992799503,2.3837109423634253,2.396289891927349,2.4088688414912713,2.4214477910551953,2.434026740619119,2.4466056901830413,2.459184639746965,2.4717635893108874,2.4843425388748113,2.4969214884387334,2.5095004380026573,2.5220793875665795,2.5346583371305034,2.5472372866944255,2.5598162362583494,2.5723951858222733,2.5849741353861955,2.5975530849501194,2.6101320345140415,2.6227109840779654,2.6352899336418876,2.6478688832058115,2.6604478327697336,2.6730267823336575,2.6856057318975797,2.6981846814615036,2.7107636310254257,2.7233425805893496,2.7359215301532736,2.7485004797171957,2.7610794292811196,2.7736583788450417,2.7862373284089657,2.798816277972888,2.8113952275368117,2.823974177100734,2.8365531266646578,2.84913207622858,2.861711025792504,2.874289975356426,2.88686892492035,2.8994478744842738,2.912026824048196,2.92460577361212,2.937184723176042,2.949763672739966,2.962342622303888,2.974921571867812,2.987500521431734,3.000079470995658,3.01265842055958,3.025237370123504,3.037816319687426,3.05039526925135,3.062974218815274,3.075553168379196,3.08813211794312,3.100711067507042,3.113290017070966,3.1258689666348882,3.138447916198812,3.1510268657627343,3.163605815326658,3.1761847648905803,3.1887637144545042,3.2013426640184264,3.2139216135823503,3.226500563146274,3.2390795127101963,3.2516584622741203,3.2642374118380424,3.2768163614019663,3.2893953109658884,3.3019742605298124,3.3145532100937345,3.3271321596576584,3.3397111092215805,3.3522900587855045,3.3648690083494266,3.3774479579133505,3.3900269074772744,3.4026058570411966,3.4151848066051205,3.4277637561690426,3.4403427057329665,3.4529216552968887,3.4655006048608126,3.4780795544247347,3.4906585039886586,3.5032374535525808,3.5158164031165047,3.528395352680427,3.5409743022443507,3.5535532518082746,3.5661322013721968,3.5787111509361207,3.591290100500043,3.6038690500639667,3.616447999627889,3.629026949191813,3.641605898755735,3.654184848319659,3.666763797883581,3.679342747447505,3.691921697011427,3.704500646575351,3.717079596139275,3.729658545703197,3.742237495267121,3.754816444831043,3.767395394394967,3.779974343958889,3.792553293522813,3.805132243086735,3.817711192650659,3.830290142214581,3.842869091778505,3.8554480413424272,3.868026990906351,3.880605940470275,3.893184890034197,3.905763839598121,3.9183427891620433,3.930921738725967,3.9435006882898893,3.9560796378538132,3.9686585874177354,3.9812375369816593,3.9938164865455814,4.006395436109505,4.0189743856734275,4.031553335237351,4.044132284801275,4.056711234365197,4.069290183929121,4.0818691334930435,4.094448083056967,4.1070270326208895,4.119605982184813,4.132184931748736,4.1447638813126595,4.157342830876582,4.1699217804405055,4.182500730004428,4.195079679568352,4.2076586291322755,4.220237578696198,4.232816528260122,4.245395477824044,4.257974427387968,4.27055337695189,4.283132326515814,4.295711276079736,4.30829022564366,4.320869175207582,4.333448124771506,4.34602707433543,4.358606023899352,4.371184973463276,4.383763923027198,4.396342872591122,4.408921822155044,4.421500771718968,4.43407972128289,4.446658670846814,4.459237620410736,4.47181656997466,4.484395519538582,4.496974469102506,4.50955341866643,4.522132368230352,4.534711317794276,4.547290267358198,4.559869216922122,4.572448166486044,4.585027116049968,4.59760606561389,4.610185015177814,4.622763964741736,4.63534291430566,4.647921863869582,4.660500813433506,4.67307976299743,4.685658712561352,4.698237662125276,4.710816611689198,4.723395561253122,4.735974510817044,4.748553460380968,4.76113240994489,4.773711359508814,4.7862903090727364,4.79886925863666,4.8114482082005825,4.824027157764506,4.83660610732843,4.8491850568923525,4.861764006456276,4.8743429560201985,4.886921905584122,4.899500855148045,4.9120798047119685,4.924658754275891,4.9372377038398145,4.949816653403737,4.962395602967661,4.974974552531583,4.987553502095507,5.0001324516594305,5.012711401223353,5.025290350787277,5.037869300351199,5.050448249915123,5.063027199479045,5.075606149042969,5.088185098606891,5.100764048170815,5.113342997734737,5.125921947298661,5.138500896862583,5.151079846426507,5.163658795990431,5.176237745554353,5.188816695118277,5.201395644682199,5.213974594246123,5.226553543810045,5.239132493373969,5.251711442937891,5.264290392501815,5.276869342065737,5.289448291629661,5.302027241193583,5.314606190757507,5.327185140321431,5.339764089885353,5.352343039449277,5.364921989013199,5.377500938577123,5.390079888141045,5.402658837704969,5.415237787268891,5.427816736832815,5.440395686396737,5.452974635960661,5.465553585524583,5.478132535088507,5.490711484652431,5.503290434216353,5.515869383780277,5.528448333344199,5.541027282908123,5.553606232472045,5.566185182035969,5.5787641315998915,5.591343081163815,5.6039220307277375,5.6165009802916614,5.629079929855584,5.6416588794195075,5.654237828983431,5.6668167785473536,5.6793957281112775,5.6919746776752,5.7045536272391235,5.717132576803046,5.72971152636697,5.742290475930892,5.754869425494816,5.767448375058738,5.780027324622662,5.792606274186586,5.805185223750508,5.817764173314432,5.830343122878354,5.842922072442278,5.8555010220062,5.868079971570124,5.880658921134046,5.89323787069797,5.905816820261892,5.918395769825816,5.930974719389738,5.943553668953662,5.956132618517586,5.968711568081508,5.981290517645432,5.993869467209354,6.006448416773278,6.0190273663372,6.031606315901124,6.044185265465046,6.05676421502897,6.069343164592892,6.081922114156816,6.094501063720738,6.107080013284662,6.119658962848586,6.132237912412508,6.144816861976432,6.157395811540354,6.169974761104278,6.1825537106682,6.195132660232124,6.207711609796046,6.22029055935997,6.232869508923892,6.245448458487816,6.258027408051738,6.270606357615662,6.283185307179586],\"xaxis\":\"x\",\"y\":[1.2738802633678827e-14,0.30420878427866344,0.6228271391171466,0.9731305603627629,1.379429123100769,1.8809676128778685,2.549951312440514,3.5408313945956555,5.2620460552734905,9.280032524961385,32.573628807322194,-22.255416305045884,-8.152501418472722,-4.844578322679119,-3.317914425292406,-2.4064698462464085,-1.7770332120250238,-1.2974743065937564,-0.9040570012655031,-0.561258590559748,-0.24652682162686404,0.056620392230309104,0.3623896645174146,0.6854909423538026,1.044133641349339,1.464648168835672,1.9905879691487522,2.7041785167920733,3.78727299838906,5.746708774180617,10.748584510240452,60.547809294711655,-16.880859315011882,-7.258279511869336,-4.480692299854239,-3.11499694305843,-2.2724414259435783,-1.6781992623545605,-1.2184755435760055,-0.8367289753660154,-0.5006606147703354,-0.18924603429040274,0.11333161603401343,0.4211705188320044,0.7493827388105154,1.117267032597402,1.5534755873690709,2.106564975050901,2.8706826469648474,4.061634447994325,6.317203515362796,12.744200131839873,423.98562365519086,-13.57943092961328,-6.53068564695901,-4.1602119660534544,-2.929218274104636,-2.146766778447788,-1.5839519720438275,-1.1421556607709602,-0.7709771447182233,-0.44091549845189143,-0.13227131417001967,0.17022508677647824,0.4806564453960308,0.8146445432149799,1.1927508079622124,1.6462973996967174,2.2296711136844216,3.0512916478371923,4.369467934341197,6.999745605985304,15.618287847099781,-84.78202940921791,-11.342563639234921,-5.926229783368274,-3.8753775342675585,-2.7582322714126875,-2.0285048024835217,-1.4938382393960903,-1.0682642921429275,-0.7066449544333744,-0.381911519239739,-0.07550954440622124,0.22739339539823317,0.5409573704480194,0.8814290226230499,1.2708272174207687,1.743548578179427,2.360801257855509,3.2482064027644837,4.717891053904792,7.832418341453193,20.123858624758395,-38.509835168710616,-9.724607855135059,-5.415336503659588,-3.6201679457394995,-2.6000961978306543,-1.9168447354947198,-1.40745657719373,-0.996574315207345,-0.6435870004517122,-0.32354206024810717,-0.018868984156481604,0.28493091636952034,0.6021889065769328,0.9499010589275435,1.3517640661123715,1.8457215652277337,2.5009984488729136,3.4641016151377624,5.116181345682696,8.872748363432219,28.218731080633308,-24.887032319593242,-8.49818824504004,-4.977191399867401,-3.3898392020611574,-2.4531871914735173,-1.8110839750364562,-1.3244495918059314,-0.9268788077571879,-0.5816675948524882,-0.26570480124954243,0.03774132765501444,0.34293444037898,0.664473297784367,1.0202395333969134,1.4358586851481934,1.9533765966694507,2.6514864413768495,3.7022612708635276,5.576664017224822,10.211932579337137,47.08155711738004,-18.36190849631926,-7.535145006151322,-4.5967199846938485,-3.1806023566005432,-2.316138641157983,-1.710610256380443,-1.244497712580261,-0.8589884353623716,-0.5207594970980005,-0.20830097291347757,0.09441215789951646,0.4015038409123749,0.7279404685324243,1.0926393762128308,1.523442622863216,2.0671542956464726,2.813711184074122,3.966763352940095,6.116076650296839,12.003698473477407,141.32015512749345,-14.528990998236289,-6.757739298796305,-4.262736051482272,-2.9893942394271904,-2.187791145224718,-1.6148872177371263,-1.1673139330998312,-0.7927291968774182,-0.46074278470018426,-0.15123466215171125,0.15123466215170434,0.46074278470020696,0.792729196877443,1.16731393309986,1.6148872177370681,2.187791145224765,2.989394239427168,4.262736051482392,6.757739298795866,14.528990998235919,-141.3201551273858,-12.003698473476609,-6.11607665029691,-3.9667633529401294,-2.8137111840740574,-2.067154295646428,-1.523442622863227,-1.0926393762128028,-0.7279404685323999,-0.40150384091238206,-0.09441215789952334,0.20830097291347063,0.5207594970979932,0.8589884353623971,1.244497712580291,1.7106102563804313,2.316138641157967,3.180602356600619,4.5967199846939835,7.535145006151218,18.361908496318673,-47.081557117368064,-10.211932579337324,-5.576664017224881,-3.702261270863558,-2.651486441376868,-1.9533765966694085,-1.4358586851481607,-1.020239533396922,-0.6644732977843747,-0.3429344403789578,-0.03774132765499287,0.26570480124953544,0.5816675948524808,0.9268788077572141,1.3244495918059216,1.8110839750364436,2.4531871914735,3.389839202061131,4.977191399867555,8.498188245040451,24.887032319592173,-28.21873108063468,-8.872748363431773,-5.116181345682533,-3.46410161513779,-2.5009984488729313,-1.8457215652276937,-1.3517640661123815,-0.949901058927552,-0.6021889065769404,-0.28493091636952733,0.018868984156503163,0.3235420602481293,0.6435870004517047,0.9965743152073364,1.4074565771937622,1.916844735494761,2.600096197830636,3.62016794573947,5.415336503659768,9.72460785513489,38.509835168708065,-20.123858624759094,-7.832418341453305,-4.71789105390465,-3.248206402764405,-2.3608012578555253,-1.7435485781794393,-1.2708272174207385,-0.8814290226230241,-0.5409573704480268,-0.22739339539824013,0.07550954440624283,0.3819115192397319,0.7066449544333666,1.0682642921429188,1.4938382393960796,2.0285048024835652,2.75823227141275,3.875377534267526,5.926229783368207,11.342563639235635,84.78202940925667,-15.618287847100206,-6.999745605985394,-4.369467934341072,-3.051291647837215,-2.229671113684437,-1.6462973996966812,-1.1927508079622122,-0.814644543214963,-0.4806564453960155,-0.1702250867764923,0.13227131417001992,0.4409154984519066,0.7709771447182563,1.1421556607709982,1.583951972043851,2.146766778447819,2.929218274104637,4.160211966053455,6.5306856469588475,13.57943092961329,-423.9856236545413,-12.744200131839271,-6.317203515362637,-4.061634447994324,-2.870682646964803,-2.1065649750508406,-1.5534755873690704,-1.1172670325974203,-0.749382738810499,-0.4211705188320041,-0.11333161603401318,0.1892460342904245,0.5006606147703356,0.8367289753660241,1.2184755435760253,1.678199262354549,2.272441425943579,3.1149969430584794,4.480692299854412,7.258279511869742,16.880859315012927,-60.54780929472447,-10.748584510240445,-5.746708774180484,-3.7872729983890916,-2.7041785167920724,-1.9905879691487376,-1.4646481688356499,-1.0441336413493114,-0.6854909423538023,-0.3623896645173997,-0.05662039223028041,0.2465268216268643,0.561258590559733,0.9040570012654863,1.2974743065937566,1.7770332120250498,2.4064698462464613,3.317914425292407,4.844578322679169,8.152501418472976,22.255416305045028,-32.57362880732213,-9.28003252496122,-5.262046055273376,-3.5408313945955663,-2.549951312440457,-1.880967612877868,-1.3794291231007583,-0.973130560362745,-0.6228271391171541,-0.3042087842786632,-5.3909218387947074e-15,0.30420878427865217,0.6228271391171424,0.9731305603627317,1.3794291231007423,1.8809676128778476,2.5499513124404287,3.540831394595522,5.26204605527329,9.280032524960976,32.57362880731926,-22.255416305046374,-8.152501418473166,-4.844578322679244,-3.3179144252924475,-2.406469846246488,-1.777033212025069,-1.2974743065937822,-0.9040570012655164,-0.5612585905597293,-0.246526821626868,0.056620392230283846,0.3623896645173959,0.6854909423537903,1.0441336413492976,1.4646481688356334,1.990587969148716,2.7041785167920422,3.787272998389042,5.746708774180384,10.74858451023991,60.547809294701544,-16.880859315012678,-7.2582795118697945,-4.4806922998543905,-3.1149969430584923,-2.2724414259436037,-1.6781992623545672,-1.2184755435760402,-0.8367289753660367,-0.5006606147703471,-0.18924603429043538,0.1133316160339881,0.4211705188319855,0.7493827388104705,1.1172670325974248,1.5534755873690647,2.106564975050848,2.870682646964792,4.061634447994269,6.317203515362441,12.744200131838824,423.98562365437607,-13.579430929613798,-6.530685646959056,-4.160211966053589,-2.9292182741046933,-2.146766778447873,-1.5839519720438455,-1.142155660771003,-0.7709771447182523,-0.4409154984519104,-0.13227131417003074,0.17022508677647427,0.4806564453960041,0.8146445432149588,1.1927508079621976,1.6462973996966632,2.2296711136843648,3.051291647837132,4.369467934340969,6.999745605985534,15.618287847099538,-84.78202940926327,-11.342563639235522,-5.926229783368382,-3.875377534267577,-2.7582322714127607,-2.0285048024835586,-1.4938382393961076,-1.0682642921429326,-0.7066449544334028,-0.3819115192397578,-0.07550954440626075,0.2273933953982508,0.5409573704480153,0.8814290226230197,1.2708272174207433,1.7435485781794078,2.360801257855499,3.2482064027643918,4.717891053904673,7.832418341453013,20.123858624757993,-38.509835168719995,-9.724607855135504,-5.41533650365974,-3.620167945739425,-2.600096197830665,-1.9168447354947682,-1.407456577193757,-0.9965743152073587,-0.6435870004517166,-0.3235420602481331,-0.018868984156499735,0.28493091636950907,0.6021889065769286,0.9499010589275125,1.3517640661123451,1.8457215652277001,2.5009984488729584,3.464101615137747,5.116181345682506,8.872748363431844,28.218731080631102,-24.887032319593853,-8.498188245040522,-4.9771913998675315,-3.3898392020612005,-2.453187191473527,-1.8110839750365022,-1.3244495918059576,-0.92687880775721,-0.5816675948524693,-0.26570480124954643,0.03774132765498919,0.34293444037896137,0.6644732977843548,1.0202395333969085,1.435858685148155,1.9533765966694152,2.651486441376819,3.7022612708635103,5.5766640172246,10.211932579336647,47.08155711736997,-18.361908496317774,-7.535145006151382,-4.596719984694007,-3.180602356600607,-2.316138641158009,-1.71061025638045,-1.244497712580296,-0.858988435362393,-0.5207594970980123,-0.20830097291348154,0.09441215789949117,0.40150384091237823,0.7279404685324038,1.0926393762128166,1.5234426228632099,2.0671542956464206,2.8137111840740676,3.966763352940041,6.116076650296798,12.003698473476472,141.32015512740293,-14.528990998236882,-6.757739298796353,-4.262736051482412,-2.98939423942718,-2.1877911452247574,-1.6148872177370976,-1.1673139330998366,-0.7927291968774474,-0.46074278470020336,-0.15123466215172232,0.1512346621517004,0.4607427847001804,0.7927291968774222,1.1673139330998072,1.6148872177370617,2.1877911452247094,2.9893942394271784,4.262736051482292,6.757739298796083,14.52899099823571,-141.3201551275118,-12.00369847347728,-6.116076650297025,-3.9667633529401485,-2.8137111840741325,-2.0671542956464655,-1.5234426228632443,-1.0926393762128448,-0.7279404685324284,-0.40150384091237873,-0.09441215789951302,0.20830097291345948,0.520759497097989,0.8589884353623672,1.2444977125802656,1.7106102563804122,2.316138641157958,3.1806023566005304,4.59671998469387,7.53514500615105,18.361908496315916,-47.081557117382076,-10.211932579337237,-5.576664017224791,-3.7022612708636067,-2.651486441376879,-1.9533765966694578,-1.435858685148188,-1.020239533396936,-0.664473297784379,-0.3429344403789838,-0.03774132765501101,0.2657048012495242,0.5816675948524457,0.9268788077571835,1.3244495918059263,1.8110839750364625,2.4531871914734724,3.3898392020611157,4.977191399867374,8.498188245040106,24.887032319590457,-28.218731080635465,-8.872748363432295,-5.11618134568267,-3.464101615137834,-2.500998448873014,-1.845721565227701,-1.3517640661123769,-0.9499010589275393,-0.6021889065769523,-0.28493091636953133,0.018868984156477926,0.3235420602481107,0.6435870004516925,0.9965743152073315,1.4074565771937246,1.9168447354947262,2.6000961978306063,3.620167945739332,5.415336503659735,9.724607855134968,38.50983516871189,-20.123858624760224,-7.832418341453369,-4.717891053904816,-3.2482064027644713,-2.3608012578555515,-1.7435485781794462,-1.270827217420774,-0.8814290226230458,-0.5409573704480386,-0.22739339539827289,0.0755095444062389,0.3819115192397352,0.7066449544333783,1.0682642921429046,1.4938382393960736,2.028504802483514,2.7582322714126977,3.8753775342674737,5.926229783368169,11.342563639234799,84.78202940922408,-15.61828784710089,-6.999745605985823,-4.3694679343410945,-3.0512916478372043,-2.229671113684414,-1.6462973996966999,-1.192750807962227,-0.8146445432149843,-0.48065644539602714,-0.17022508677649625,0.13227131417000884,0.44091549845188754,0.7709771447182273,1.1421556607709742,1.5839519720438449,2.1467667784478257,2.929218274104625,4.160211966053472,6.530685646958802,13.579430929612771,-423.9856236553561,-12.74420013183973,-6.317203515362681,-4.061634447994381,-2.8706826469648585,-2.106564975050894,-1.5534755873690995,-1.1172670325974254,-0.7493827388104953,-0.42117051883200823,-0.11333161603400999,0.18924603429041337,0.500660614770324,0.8367289753660111,1.2184755435760102,1.67819926235453,2.272441425943554,3.1149969430584172,4.48069229985426,7.258279511869485,16.880859315012643,-60.547809294721546,-10.748584510240562,-5.7467087741807825,-3.787272998389142,-2.704178516792164,-1.9905879691487596,-1.464648168835634,-1.0441336413493254,-0.6854909423537908,-0.3623896645174184,-0.05662039223028434,0.24652682162684586,0.5612585905597288,0.9040570012654645,1.297474306593751,1.7770332120249919,2.4064698462464342,3.317914425292286,4.8445783226790935,8.152501418473157,22.25541630504365,-32.57362880731939,-9.280032524961468,-5.262046055273294,-3.540831394595612,-2.549951312440486,-1.880967612877929,-1.3794291231007745,-0.973130560362785,-0.6228271391171663,-0.3042087842786963,-1.641521895366724e-14,0.3042087842786627,0.6228271391171303,0.9731305603627445,1.379429123100726,1.8809676128778672,2.5499513124404,3.540831394595476,5.262046055273034,9.280032524960728,32.57362880731065,-22.25541630504775,-8.152501418473735,-4.844578322679319,-3.317914425292409,-2.4064698462465146,-1.7770332120250507,-1.2974743065937977,-0.904057001265504,-0.5612585905597642,-0.2465268216268792,0.056620392230251476,0.3623896645173845,0.6854909423537541,1.0441336413492837,1.4646481688355728,1.99058796914868,2.704178516792051,3.787272998389024,5.7467087741805445,10.748584510239368,60.547809294704464,-16.8808593150145,-7.2582795118698495,-4.480692299854629,-3.114996943058554,-2.2724414259436614,-1.678199262354574,-1.2184755435760162,-0.8367289753660581,-0.5006606147703437,-0.18924603429043932,0.11333161603400556,0.4211705188319665,0.7493827388104741,1.1172670325973917,1.5534755873690584,2.1065649750507647,2.8706826469647364,4.061634447994139,6.317203515362398,12.744200131839547,423.9856236535613,-13.579430929613649,-6.5306856469591015,-4.160211966053496,-2.92921827410475,-2.1467667784478657,-1.5839519720438866,-1.1421556607710082,-0.7709771447182976,-0.44091549845192946,-0.13227131417005608,0.17022508677647033,0.4806564453960225,0.8146445432149376,1.192750807962202,1.6462973996966568,2.229671113684404,3.0512916478370715,4.369467934340988,6.9997456059852,15.618287847099294,-84.7820294093342,-11.342563639236124,-5.926229783368629,-3.8753775342675962,-2.7582322714127105,-2.028504802483595,-1.4938382393961025,-1.0682642921429377,-0.7066449544333832,-0.38191151923977656,-0.07550954440625755,0.22739339539822523,0.5409573704480111,0.8814290226229726,1.2708272174207178,1.7435485781793634,2.3608012578554898,3.2482064027644553,4.7178910539045535,7.8324183414530655,20.12385862475759,-38.50983516871353,-9.724607855135952,-5.415336503659891,-3.6201679457395333,-2.6000961978306756,-1.916844735494844,-1.4074565771937841,-0.9965743152073903,-0.6435870004517209,-0.3235420602481152,-0.018868984156517866,0.28493091636951234,0.6021889065769243,0.9499010589275338,1.3517640661123187,1.8457215652276666,2.5009984488728936,3.464101615137731,5.116181345682208,8.87274836343147,28.218731080626053,-24.887032319594464,-8.49818824504019,-4.977191399867661,-3.389839202061188,-2.453187191473537,-1.8110839750364705,-1.3244495918059835,-0.926878807757232,-0.5816675948524967,-0.2657048012495504,0.03774132765494973,0.3429344403789427,0.6644732977843267,1.0202395333969037,1.4358586851481814,1.95337659666938,2.6514864413768278,3.702261270863493,5.576664017224752,10.211932579336157,47.08155711735991,-18.361908496319927,-7.535145006151441,-4.596719984694255,-3.180602356600671,-2.316138641158068,-1.7106102563804568,-1.2444977125802719,-0.8589884353624145,-0.5207594970980088,-0.20830097291348548,0.0944121578995086,0.4015038409123372,0.7279404685323833,1.0926393762127837,1.5234426228632036,2.067154295646339,2.813711184074014,3.9667633529399167,6.116076650296758,12.003698473477117,141.32015512731238,-14.52899099823671,-6.757739298796402,-4.262736051482316,-2.9893942394273076,-2.1877911452247973,-1.6148872177371394,-1.1673139330998417,-0.792729196877493,-0.46074278470022245,-0.15123466215174772,0.15123466215169645,0.4607427847001987,0.7927291968774012,1.1673139330998115,1.614887217737055,2.187791145224748,2.989394239427051,4.262736051482191,6.757739298795769,14.528990998235498,-141.3201551277088,-12.00369847347795,-6.116076650296991,-3.966763352940168,-2.813711184074081,-2.067154295646503,-1.5234426228632394,-1.09263937621285,-0.7279404685324088,-0.40150384091241975,-0.0944121578995312,0.20830097291343397,0.5207594970979847,0.8589884353623205,1.2444977125802406,1.7106102563804177,2.316138641157949,3.1806023566005917,4.596719984693756,7.535145006151099,18.361908496315582,-47.08155711737242,-10.211932579338304,-5.57666401722495,-3.7022612708637186,-2.65148644137689,-1.953376596669535,-1.4358586851482156,-1.020239533396932,-0.6644732977843834,-0.3429344403789659,-0.03774132765502914,0.2657048012495275,0.5816675948524415,0.9268788077572045,1.3244495918058694,1.8110839750364294,2.4531871914734094,3.3898392020611006,4.977191399867091,8.49818824503976,24.887032319590954,-28.21873108063625,-8.872748363431935,-5.116181345682807,-3.4641016151378214,-2.500998448873024,-1.8457215652277084,-1.3517640661124344,-0.9499010589275615,-0.6021889065769799,-0.2849309163695353,0.01886898415643848,0.32354206024809207,0.643587000451696,0.9965743152073266,1.4074565771937504,1.9168447354946916,2.6000961978306147,3.620167945739315,5.415336503659702,9.724607855133996,38.50983516870515,-20.123858624762804,-7.832418341453433,-4.717891053905075,-3.2482064027645374,-2.360801257855544,-1.743548578179453,-1.2708272174207496,-0.8814290226230674,-0.5409573704480353,-0.22739339539827685,0.07550954440623497,0.3819115192396943,0.7066449544333578,1.0682642921428722,1.4938382393960674,2.0285048024834342,2.758232271412645,3.8753775342674888,5.9262297833681306,11.342563639235376,84.78202940924258,-15.61828784709893,-6.999745605985875,-4.369467934341118,-3.0512916478373358,-2.2296711136844545,-1.646297399696742,-1.1927508079622324,-0.814644543214997,-0.48065644539601626,-0.17022508677646442,0.1322713141700049,0.4409154984519058,0.7709771447182064,1.1421556607709784,1.5839519720438038,2.1467667784478173,2.92921827410459,4.160211966053527,6.530685646958507,13.579430929612586,-423.9856236571289,-12.744200131840485,-6.317203515362645,-4.0616344479944,-2.8706826469648052,-2.106564975050872,-1.553475587369049,-1.1172670325974585,-0.7493827388104999,-0.4211705188320494,-0.11333161603402817,0.18924603429038792,0.5006606147703198,0.8367289753660315,1.2184755435760244,1.678199262354584,2.2724414259435446,3.1149969430584767,4.480692299854151,7.258279511869531,16.88085931501082,-60.54780929472514,-10.748584510240892,-5.74670877418049,-3.7872729983892577,-2.704178516792115,-1.990587969148725,-1.4646481688356947,-1.0441336413493214,-0.685490942353819,-0.36238966451740046,-0.05662039223029537,0.24652682162687797,0.5612585905597015,0.9040570012654854,1.2974743065936951,1.7770332120249976,2.4064698462463725,3.317914425292351,4.844578322679213,8.152501418472964,22.255416305047596,-32.57362880732611,-9.280032524961076,-5.262046055273607,-3.5408313945955987,-2.5499513124405526,-1.8809676128778963,-1.3794291231007907,-0.9731305603627459,-0.622827139117194,-0.3042087842786785,9.82193361864236e-16],\"yaxis\":\"y\",\"type\":\"scatter\"}],                        {\"template\":{\"data\":{\"histogram2dcontour\":[{\"type\":\"histogram2dcontour\",\"colorbar\":{\"outlinewidth\":0,\"ticks\":\"\"},\"colorscale\":[[0.0,\"#0d0887\"],[0.1111111111111111,\"#46039f\"],[0.2222222222222222,\"#7201a8\"],[0.3333333333333333,\"#9c179e\"],[0.4444444444444444,\"#bd3786\"],[0.5555555555555556,\"#d8576b\"],[0.6666666666666666,\"#ed7953\"],[0.7777777777777778,\"#fb9f3a\"],[0.8888888888888888,\"#fdca26\"],[1.0,\"#f0f921\"]]}],\"choropleth\":[{\"type\":\"choropleth\",\"colorbar\":{\"outlinewidth\":0,\"ticks\":\"\"}}],\"histogram2d\":[{\"type\":\"histogram2d\",\"colorbar\":{\"outlinewidth\":0,\"ticks\":\"\"},\"colorscale\":[[0.0,\"#0d0887\"],[0.1111111111111111,\"#46039f\"],[0.2222222222222222,\"#7201a8\"],[0.3333333333333333,\"#9c179e\"],[0.4444444444444444,\"#bd3786\"],[0.5555555555555556,\"#d8576b\"],[0.6666666666666666,\"#ed7953\"],[0.7777777777777778,\"#fb9f3a\"],[0.8888888888888888,\"#fdca26\"],[1.0,\"#f0f921\"]]}],\"heatmap\":[{\"type\":\"heatmap\",\"colorbar\":{\"outlinewidth\":0,\"ticks\":\"\"},\"colorscale\":[[0.0,\"#0d0887\"],[0.1111111111111111,\"#46039f\"],[0.2222222222222222,\"#7201a8\"],[0.3333333333333333,\"#9c179e\"],[0.4444444444444444,\"#bd3786\"],[0.5555555555555556,\"#d8576b\"],[0.6666666666666666,\"#ed7953\"],[0.7777777777777778,\"#fb9f3a\"],[0.8888888888888888,\"#fdca26\"],[1.0,\"#f0f921\"]]}],\"heatmapgl\":[{\"type\":\"heatmapgl\",\"colorbar\":{\"outlinewidth\":0,\"ticks\":\"\"},\"colorscale\":[[0.0,\"#0d0887\"],[0.1111111111111111,\"#46039f\"],[0.2222222222222222,\"#7201a8\"],[0.3333333333333333,\"#9c179e\"],[0.4444444444444444,\"#bd3786\"],[0.5555555555555556,\"#d8576b\"],[0.6666666666666666,\"#ed7953\"],[0.7777777777777778,\"#fb9f3a\"],[0.8888888888888888,\"#fdca26\"],[1.0,\"#f0f921\"]]}],\"contourcarpet\":[{\"type\":\"contourcarpet\",\"colorbar\":{\"outlinewidth\":0,\"ticks\":\"\"}}],\"contour\":[{\"type\":\"contour\",\"colorbar\":{\"outlinewidth\":0,\"ticks\":\"\"},\"colorscale\":[[0.0,\"#0d0887\"],[0.1111111111111111,\"#46039f\"],[0.2222222222222222,\"#7201a8\"],[0.3333333333333333,\"#9c179e\"],[0.4444444444444444,\"#bd3786\"],[0.5555555555555556,\"#d8576b\"],[0.6666666666666666,\"#ed7953\"],[0.7777777777777778,\"#fb9f3a\"],[0.8888888888888888,\"#fdca26\"],[1.0,\"#f0f921\"]]}],\"surface\":[{\"type\":\"surface\",\"colorbar\":{\"outlinewidth\":0,\"ticks\":\"\"},\"colorscale\":[[0.0,\"#0d0887\"],[0.1111111111111111,\"#46039f\"],[0.2222222222222222,\"#7201a8\"],[0.3333333333333333,\"#9c179e\"],[0.4444444444444444,\"#bd3786\"],[0.5555555555555556,\"#d8576b\"],[0.6666666666666666,\"#ed7953\"],[0.7777777777777778,\"#fb9f3a\"],[0.8888888888888888,\"#fdca26\"],[1.0,\"#f0f921\"]]}],\"mesh3d\":[{\"type\":\"mesh3d\",\"colorbar\":{\"outlinewidth\":0,\"ticks\":\"\"}}],\"scatter\":[{\"marker\":{\"line\":{\"color\":\"#283442\"}},\"type\":\"scatter\"}],\"parcoords\":[{\"type\":\"parcoords\",\"line\":{\"colorbar\":{\"outlinewidth\":0,\"ticks\":\"\"}}}],\"scatterpolargl\":[{\"type\":\"scatterpolargl\",\"marker\":{\"colorbar\":{\"outlinewidth\":0,\"ticks\":\"\"}}}],\"bar\":[{\"error_x\":{\"color\":\"#f2f5fa\"},\"error_y\":{\"color\":\"#f2f5fa\"},\"marker\":{\"line\":{\"color\":\"rgb(17,17,17)\",\"width\":0.5},\"pattern\":{\"fillmode\":\"overlay\",\"size\":10,\"solidity\":0.2}},\"type\":\"bar\"}],\"scattergeo\":[{\"type\":\"scattergeo\",\"marker\":{\"colorbar\":{\"outlinewidth\":0,\"ticks\":\"\"}}}],\"scatterpolar\":[{\"type\":\"scatterpolar\",\"marker\":{\"colorbar\":{\"outlinewidth\":0,\"ticks\":\"\"}}}],\"histogram\":[{\"marker\":{\"pattern\":{\"fillmode\":\"overlay\",\"size\":10,\"solidity\":0.2}},\"type\":\"histogram\"}],\"scattergl\":[{\"marker\":{\"line\":{\"color\":\"#283442\"}},\"type\":\"scattergl\"}],\"scatter3d\":[{\"type\":\"scatter3d\",\"line\":{\"colorbar\":{\"outlinewidth\":0,\"ticks\":\"\"}},\"marker\":{\"colorbar\":{\"outlinewidth\":0,\"ticks\":\"\"}}}],\"scattermapbox\":[{\"type\":\"scattermapbox\",\"marker\":{\"colorbar\":{\"outlinewidth\":0,\"ticks\":\"\"}}}],\"scatterternary\":[{\"type\":\"scatterternary\",\"marker\":{\"colorbar\":{\"outlinewidth\":0,\"ticks\":\"\"}}}],\"scattercarpet\":[{\"type\":\"scattercarpet\",\"marker\":{\"colorbar\":{\"outlinewidth\":0,\"ticks\":\"\"}}}],\"carpet\":[{\"aaxis\":{\"endlinecolor\":\"#A2B1C6\",\"gridcolor\":\"#506784\",\"linecolor\":\"#506784\",\"minorgridcolor\":\"#506784\",\"startlinecolor\":\"#A2B1C6\"},\"baxis\":{\"endlinecolor\":\"#A2B1C6\",\"gridcolor\":\"#506784\",\"linecolor\":\"#506784\",\"minorgridcolor\":\"#506784\",\"startlinecolor\":\"#A2B1C6\"},\"type\":\"carpet\"}],\"table\":[{\"cells\":{\"fill\":{\"color\":\"#506784\"},\"line\":{\"color\":\"rgb(17,17,17)\"}},\"header\":{\"fill\":{\"color\":\"#2a3f5f\"},\"line\":{\"color\":\"rgb(17,17,17)\"}},\"type\":\"table\"}],\"barpolar\":[{\"marker\":{\"line\":{\"color\":\"rgb(17,17,17)\",\"width\":0.5},\"pattern\":{\"fillmode\":\"overlay\",\"size\":10,\"solidity\":0.2}},\"type\":\"barpolar\"}],\"pie\":[{\"automargin\":true,\"type\":\"pie\"}]},\"layout\":{\"autotypenumbers\":\"strict\",\"colorway\":[\"#636efa\",\"#EF553B\",\"#00cc96\",\"#ab63fa\",\"#FFA15A\",\"#19d3f3\",\"#FF6692\",\"#B6E880\",\"#FF97FF\",\"#FECB52\"],\"font\":{\"color\":\"#f2f5fa\"},\"hovermode\":\"closest\",\"hoverlabel\":{\"align\":\"left\"},\"paper_bgcolor\":\"rgb(17,17,17)\",\"plot_bgcolor\":\"rgb(17,17,17)\",\"polar\":{\"bgcolor\":\"rgb(17,17,17)\",\"angularaxis\":{\"gridcolor\":\"#506784\",\"linecolor\":\"#506784\",\"ticks\":\"\"},\"radialaxis\":{\"gridcolor\":\"#506784\",\"linecolor\":\"#506784\",\"ticks\":\"\"}},\"ternary\":{\"bgcolor\":\"rgb(17,17,17)\",\"aaxis\":{\"gridcolor\":\"#506784\",\"linecolor\":\"#506784\",\"ticks\":\"\"},\"baxis\":{\"gridcolor\":\"#506784\",\"linecolor\":\"#506784\",\"ticks\":\"\"},\"caxis\":{\"gridcolor\":\"#506784\",\"linecolor\":\"#506784\",\"ticks\":\"\"}},\"coloraxis\":{\"colorbar\":{\"outlinewidth\":0,\"ticks\":\"\"}},\"colorscale\":{\"sequential\":[[0.0,\"#0d0887\"],[0.1111111111111111,\"#46039f\"],[0.2222222222222222,\"#7201a8\"],[0.3333333333333333,\"#9c179e\"],[0.4444444444444444,\"#bd3786\"],[0.5555555555555556,\"#d8576b\"],[0.6666666666666666,\"#ed7953\"],[0.7777777777777778,\"#fb9f3a\"],[0.8888888888888888,\"#fdca26\"],[1.0,\"#f0f921\"]],\"sequentialminus\":[[0.0,\"#0d0887\"],[0.1111111111111111,\"#46039f\"],[0.2222222222222222,\"#7201a8\"],[0.3333333333333333,\"#9c179e\"],[0.4444444444444444,\"#bd3786\"],[0.5555555555555556,\"#d8576b\"],[0.6666666666666666,\"#ed7953\"],[0.7777777777777778,\"#fb9f3a\"],[0.8888888888888888,\"#fdca26\"],[1.0,\"#f0f921\"]],\"diverging\":[[0,\"#8e0152\"],[0.1,\"#c51b7d\"],[0.2,\"#de77ae\"],[0.3,\"#f1b6da\"],[0.4,\"#fde0ef\"],[0.5,\"#f7f7f7\"],[0.6,\"#e6f5d0\"],[0.7,\"#b8e186\"],[0.8,\"#7fbc41\"],[0.9,\"#4d9221\"],[1,\"#276419\"]]},\"xaxis\":{\"gridcolor\":\"#283442\",\"linecolor\":\"#506784\",\"ticks\":\"\",\"title\":{\"standoff\":15},\"zerolinecolor\":\"#283442\",\"automargin\":true,\"zerolinewidth\":2},\"yaxis\":{\"gridcolor\":\"#283442\",\"linecolor\":\"#506784\",\"ticks\":\"\",\"title\":{\"standoff\":15},\"zerolinecolor\":\"#283442\",\"automargin\":true,\"zerolinewidth\":2},\"scene\":{\"xaxis\":{\"backgroundcolor\":\"rgb(17,17,17)\",\"gridcolor\":\"#506784\",\"linecolor\":\"#506784\",\"showbackground\":true,\"ticks\":\"\",\"zerolinecolor\":\"#C8D4E3\",\"gridwidth\":2},\"yaxis\":{\"backgroundcolor\":\"rgb(17,17,17)\",\"gridcolor\":\"#506784\",\"linecolor\":\"#506784\",\"showbackground\":true,\"ticks\":\"\",\"zerolinecolor\":\"#C8D4E3\",\"gridwidth\":2},\"zaxis\":{\"backgroundcolor\":\"rgb(17,17,17)\",\"gridcolor\":\"#506784\",\"linecolor\":\"#506784\",\"showbackground\":true,\"ticks\":\"\",\"zerolinecolor\":\"#C8D4E3\",\"gridwidth\":2}},\"shapedefaults\":{\"line\":{\"color\":\"#f2f5fa\"}},\"annotationdefaults\":{\"arrowcolor\":\"#f2f5fa\",\"arrowhead\":0,\"arrowwidth\":1},\"geo\":{\"bgcolor\":\"rgb(17,17,17)\",\"landcolor\":\"rgb(17,17,17)\",\"subunitcolor\":\"#506784\",\"showland\":true,\"showlakes\":true,\"lakecolor\":\"rgb(17,17,17)\"},\"title\":{\"x\":0.05},\"updatemenudefaults\":{\"bgcolor\":\"#506784\",\"borderwidth\":0},\"sliderdefaults\":{\"bgcolor\":\"#C8D4E3\",\"borderwidth\":1,\"bordercolor\":\"rgb(17,17,17)\",\"tickwidth\":0},\"mapbox\":{\"style\":\"dark\"}}},\"xaxis\":{\"anchor\":\"y\",\"domain\":[0.0,1.0],\"title\":{\"text\":\"x\"}},\"yaxis\":{\"anchor\":\"x\",\"domain\":[0.0,1.0],\"title\":{\"text\":\"2tan(12x+\\u03c0/y)\"}},\"legend\":{\"tracegroupgap\":0},\"title\":{\"text\":\"\\u0413\\u0440\\u0430\\u0444\\u0456\\u043a \\u0444\\u0443\\u043d\\u043a\\u0446\\u0456\\u0457 y = 2tan(12x+\\u03c0/y) (y = 1)\",\"x\":0.5}},                        {\"responsive\": true}                    ).then(function(){\n                            \nvar gd = document.getElementById('2c54d89a-4ba3-4b5f-9e38-8c5fba6f6d66');\nvar x = new MutationObserver(function (mutations, observer) {{\n        var display = window.getComputedStyle(gd).display;\n        if (!display || display === 'none') {{\n            console.log([gd, 'removed!']);\n            Plotly.purge(gd);\n            observer.disconnect();\n        }}\n}});\n\n// Listen for the removal of the full notebook cells\nvar notebookContainer = gd.closest('#notebook-container');\nif (notebookContainer) {{\n    x.observe(notebookContainer, {childList: true});\n}}\n\n// Listen for the clearing of the current output cell\nvar outputEl = gd.closest('.output');\nif (outputEl) {{\n    x.observe(outputEl, {childList: true});\n}}\n\n                        })                };                });            </script>        </div>"
     },
     "metadata": {},
     "output_type": "display_data"
    }
   ],
   "source": [
    "x = np.linspace(-2 * np.pi, 2 * np.pi, 1000)\n",
    "y = 2 * np.tan(12 * x + np.pi / 1)\n",
    "\n",
    "fig = px.line(x=x,\n",
    "              y=y,\n",
    "              labels={'x': 'x', 'y': '2tan(12x+π/y)'},\n",
    "              title='Графік функції y = 2tan(12x+π/y) (y = 1)')\n",
    "\n",
    "fig.update_layout(title_x=0.5)\n",
    "fig.show()\n"
   ],
   "metadata": {
    "collapsed": false
   }
  }
 ],
 "metadata": {
  "kernelspec": {
   "display_name": "Python 3",
   "language": "python",
   "name": "python3"
  },
  "language_info": {
   "codemirror_mode": {
    "name": "ipython",
    "version": 2
   },
   "file_extension": ".py",
   "mimetype": "text/x-python",
   "name": "python",
   "nbconvert_exporter": "python",
   "pygments_lexer": "ipython2",
   "version": "2.7.6"
  }
 },
 "nbformat": 4,
 "nbformat_minor": 0
}
